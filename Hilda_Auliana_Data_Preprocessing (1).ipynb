{
  "nbformat": 4,
  "nbformat_minor": 0,
  "metadata": {
    "kernelspec": {
      "display_name": "Python 3",
      "language": "python",
      "name": "python3"
    },
    "language_info": {
      "codemirror_mode": {
        "name": "ipython",
        "version": 3
      },
      "file_extension": ".py",
      "mimetype": "text/x-python",
      "name": "python",
      "nbconvert_exporter": "python",
      "pygments_lexer": "ipython3",
      "version": "3.7.6"
    },
    "colab": {
      "name": "Hilda Auliana_Data Preprocessing.ipynb",
      "provenance": [],
      "collapsed_sections": []
    }
  },
  "cells": [
    {
      "cell_type": "markdown",
      "metadata": {
        "id": "fXyErK3La9VY"
      },
      "source": [
        "## Import Library yg dibutuhkan"
      ]
    },
    {
      "cell_type": "code",
      "metadata": {
        "id": "o-sY0DCpa9Vi"
      },
      "source": [
        "import pandas as pd\n",
        "import matplotlib.pyplot as plt\n",
        "import seaborn as sns\n",
        "#tambahkan library sesuai kebutuhan"
      ],
      "execution_count": 1,
      "outputs": []
    },
    {
      "cell_type": "code",
      "metadata": {
        "colab": {
          "base_uri": "https://localhost:8080/"
        },
        "id": "Th7ZBwEwpCA4",
        "outputId": "1a4e2515-c9c1-4515-8b08-f5a3ff143362"
      },
      "source": [
        "from google.colab import drive\n",
        "drive.mount('/content/drive')"
      ],
      "execution_count": 2,
      "outputs": [
        {
          "output_type": "stream",
          "name": "stdout",
          "text": [
            "Drive already mounted at /content/drive; to attempt to forcibly remount, call drive.mount(\"/content/drive\", force_remount=True).\n"
          ]
        }
      ]
    },
    {
      "cell_type": "markdown",
      "metadata": {
        "id": "uLNZYwquyKKa"
      },
      "source": [
        ""
      ]
    },
    {
      "cell_type": "code",
      "metadata": {
        "id": "mdVVIvqIa9Vm"
      },
      "source": [
        "data = pd.read_csv('/content/drive/MyDrive/Colab Notebooks/Studi/activity_km_07_01.csv')"
      ],
      "execution_count": 3,
      "outputs": []
    },
    {
      "cell_type": "code",
      "metadata": {
        "id": "Kwh2UjUMa9Vo",
        "colab": {
          "base_uri": "https://localhost:8080/",
          "height": 419
        },
        "outputId": "8c8af4e2-58b6-470b-d03b-616490263857"
      },
      "source": [
        "data"
      ],
      "execution_count": 4,
      "outputs": [
        {
          "output_type": "execute_result",
          "data": {
            "text/html": [
              "<div>\n",
              "<style scoped>\n",
              "    .dataframe tbody tr th:only-of-type {\n",
              "        vertical-align: middle;\n",
              "    }\n",
              "\n",
              "    .dataframe tbody tr th {\n",
              "        vertical-align: top;\n",
              "    }\n",
              "\n",
              "    .dataframe thead th {\n",
              "        text-align: right;\n",
              "    }\n",
              "</style>\n",
              "<table border=\"1\" class=\"dataframe\">\n",
              "  <thead>\n",
              "    <tr style=\"text-align: right;\">\n",
              "      <th></th>\n",
              "      <th>PH</th>\n",
              "      <th>cahaya</th>\n",
              "      <th>intensitas air</th>\n",
              "      <th>suhu</th>\n",
              "      <th>PPM</th>\n",
              "      <th>tinggi air</th>\n",
              "      <th>aksi</th>\n",
              "    </tr>\n",
              "  </thead>\n",
              "  <tbody>\n",
              "    <tr>\n",
              "      <th>0</th>\n",
              "      <td>6.5</td>\n",
              "      <td>Ada</td>\n",
              "      <td>Tinggi</td>\n",
              "      <td>27.0</td>\n",
              "      <td>188.0</td>\n",
              "      <td>622</td>\n",
              "      <td>Hidupkan Lampu dan Pompa nutrisi TDS</td>\n",
              "    </tr>\n",
              "    <tr>\n",
              "      <th>1</th>\n",
              "      <td>5.7</td>\n",
              "      <td>Ada</td>\n",
              "      <td>Tinggi</td>\n",
              "      <td>26.9</td>\n",
              "      <td>79.0</td>\n",
              "      <td>557</td>\n",
              "      <td>Hidupkan Lampu dan Pompa nutrisi TDS</td>\n",
              "    </tr>\n",
              "    <tr>\n",
              "      <th>2</th>\n",
              "      <td>6.0</td>\n",
              "      <td>Ada</td>\n",
              "      <td>Tinggi</td>\n",
              "      <td>27.0</td>\n",
              "      <td>11.0</td>\n",
              "      <td>491</td>\n",
              "      <td>Hidupkan Lampu dan Pompa nutrisi TDS</td>\n",
              "    </tr>\n",
              "    <tr>\n",
              "      <th>3</th>\n",
              "      <td>6.5</td>\n",
              "      <td>Ada</td>\n",
              "      <td>Tinggi</td>\n",
              "      <td>27.1</td>\n",
              "      <td>345.0</td>\n",
              "      <td>12000</td>\n",
              "      <td>Tidak melakukan apa-apa</td>\n",
              "    </tr>\n",
              "    <tr>\n",
              "      <th>4</th>\n",
              "      <td>6.2</td>\n",
              "      <td>NaN</td>\n",
              "      <td>Tinggi</td>\n",
              "      <td>27.1</td>\n",
              "      <td>602.0</td>\n",
              "      <td>444</td>\n",
              "      <td>Tidak melakukan apa-apa</td>\n",
              "    </tr>\n",
              "    <tr>\n",
              "      <th>...</th>\n",
              "      <td>...</td>\n",
              "      <td>...</td>\n",
              "      <td>...</td>\n",
              "      <td>...</td>\n",
              "      <td>...</td>\n",
              "      <td>...</td>\n",
              "      <td>...</td>\n",
              "    </tr>\n",
              "    <tr>\n",
              "      <th>611</th>\n",
              "      <td>4.6</td>\n",
              "      <td>Ada</td>\n",
              "      <td>Rendah sekali</td>\n",
              "      <td>25.3</td>\n",
              "      <td>904.0</td>\n",
              "      <td>47</td>\n",
              "      <td>Hidupkan Lampu</td>\n",
              "    </tr>\n",
              "    <tr>\n",
              "      <th>612</th>\n",
              "      <td>2.1</td>\n",
              "      <td>Ada</td>\n",
              "      <td>Rendah sekali</td>\n",
              "      <td>25.0</td>\n",
              "      <td>388.0</td>\n",
              "      <td>18</td>\n",
              "      <td>Hidupkan Lampu dan Pompa nutrisi TDS</td>\n",
              "    </tr>\n",
              "    <tr>\n",
              "      <th>613</th>\n",
              "      <td>3.2</td>\n",
              "      <td>Ada</td>\n",
              "      <td>Rendah sekali</td>\n",
              "      <td>25.3</td>\n",
              "      <td>793.0</td>\n",
              "      <td>19</td>\n",
              "      <td>Hidupkan Lampu</td>\n",
              "    </tr>\n",
              "    <tr>\n",
              "      <th>614</th>\n",
              "      <td>1.4</td>\n",
              "      <td>Ada</td>\n",
              "      <td>Rendah sekali</td>\n",
              "      <td>25.4</td>\n",
              "      <td>1052.0</td>\n",
              "      <td>3</td>\n",
              "      <td>Hidupkan Lampu</td>\n",
              "    </tr>\n",
              "    <tr>\n",
              "      <th>615</th>\n",
              "      <td>5.0</td>\n",
              "      <td>Ada</td>\n",
              "      <td>Rendah sekali</td>\n",
              "      <td>25.3</td>\n",
              "      <td>977.0</td>\n",
              "      <td>19</td>\n",
              "      <td>Hidupkan Lampu</td>\n",
              "    </tr>\n",
              "  </tbody>\n",
              "</table>\n",
              "<p>616 rows × 7 columns</p>\n",
              "</div>"
            ],
            "text/plain": [
              "      PH cahaya  ... tinggi air                                  aksi\n",
              "0    6.5    Ada  ...        622  Hidupkan Lampu dan Pompa nutrisi TDS\n",
              "1    5.7    Ada  ...        557  Hidupkan Lampu dan Pompa nutrisi TDS\n",
              "2    6.0    Ada  ...        491  Hidupkan Lampu dan Pompa nutrisi TDS\n",
              "3    6.5    Ada  ...      12000               Tidak melakukan apa-apa\n",
              "4    6.2    NaN  ...        444               Tidak melakukan apa-apa\n",
              "..   ...    ...  ...        ...                                   ...\n",
              "611  4.6    Ada  ...         47                        Hidupkan Lampu\n",
              "612  2.1    Ada  ...         18  Hidupkan Lampu dan Pompa nutrisi TDS\n",
              "613  3.2    Ada  ...         19                        Hidupkan Lampu\n",
              "614  1.4    Ada  ...          3                        Hidupkan Lampu\n",
              "615  5.0    Ada  ...         19                        Hidupkan Lampu\n",
              "\n",
              "[616 rows x 7 columns]"
            ]
          },
          "metadata": {},
          "execution_count": 4
        }
      ]
    },
    {
      "cell_type": "markdown",
      "metadata": {
        "id": "WZ3GE8pya9Vr"
      },
      "source": [
        "## 1. Mengganti nama kolom yang menggunakan spasi"
      ]
    },
    {
      "cell_type": "code",
      "metadata": {
        "id": "v0csWHwRa9Vs",
        "colab": {
          "base_uri": "https://localhost:8080/",
          "height": 419
        },
        "outputId": "72b2478c-213a-49d4-843d-709f05306174"
      },
      "source": [
        "#isi code\n",
        "data = data.rename(columns = {'intensitas air':'intensitas_air', 'tinggi air':'tinggi_air'})\n",
        "data"
      ],
      "execution_count": 5,
      "outputs": [
        {
          "output_type": "execute_result",
          "data": {
            "text/html": [
              "<div>\n",
              "<style scoped>\n",
              "    .dataframe tbody tr th:only-of-type {\n",
              "        vertical-align: middle;\n",
              "    }\n",
              "\n",
              "    .dataframe tbody tr th {\n",
              "        vertical-align: top;\n",
              "    }\n",
              "\n",
              "    .dataframe thead th {\n",
              "        text-align: right;\n",
              "    }\n",
              "</style>\n",
              "<table border=\"1\" class=\"dataframe\">\n",
              "  <thead>\n",
              "    <tr style=\"text-align: right;\">\n",
              "      <th></th>\n",
              "      <th>PH</th>\n",
              "      <th>cahaya</th>\n",
              "      <th>intensitas_air</th>\n",
              "      <th>suhu</th>\n",
              "      <th>PPM</th>\n",
              "      <th>tinggi_air</th>\n",
              "      <th>aksi</th>\n",
              "    </tr>\n",
              "  </thead>\n",
              "  <tbody>\n",
              "    <tr>\n",
              "      <th>0</th>\n",
              "      <td>6.5</td>\n",
              "      <td>Ada</td>\n",
              "      <td>Tinggi</td>\n",
              "      <td>27.0</td>\n",
              "      <td>188.0</td>\n",
              "      <td>622</td>\n",
              "      <td>Hidupkan Lampu dan Pompa nutrisi TDS</td>\n",
              "    </tr>\n",
              "    <tr>\n",
              "      <th>1</th>\n",
              "      <td>5.7</td>\n",
              "      <td>Ada</td>\n",
              "      <td>Tinggi</td>\n",
              "      <td>26.9</td>\n",
              "      <td>79.0</td>\n",
              "      <td>557</td>\n",
              "      <td>Hidupkan Lampu dan Pompa nutrisi TDS</td>\n",
              "    </tr>\n",
              "    <tr>\n",
              "      <th>2</th>\n",
              "      <td>6.0</td>\n",
              "      <td>Ada</td>\n",
              "      <td>Tinggi</td>\n",
              "      <td>27.0</td>\n",
              "      <td>11.0</td>\n",
              "      <td>491</td>\n",
              "      <td>Hidupkan Lampu dan Pompa nutrisi TDS</td>\n",
              "    </tr>\n",
              "    <tr>\n",
              "      <th>3</th>\n",
              "      <td>6.5</td>\n",
              "      <td>Ada</td>\n",
              "      <td>Tinggi</td>\n",
              "      <td>27.1</td>\n",
              "      <td>345.0</td>\n",
              "      <td>12000</td>\n",
              "      <td>Tidak melakukan apa-apa</td>\n",
              "    </tr>\n",
              "    <tr>\n",
              "      <th>4</th>\n",
              "      <td>6.2</td>\n",
              "      <td>NaN</td>\n",
              "      <td>Tinggi</td>\n",
              "      <td>27.1</td>\n",
              "      <td>602.0</td>\n",
              "      <td>444</td>\n",
              "      <td>Tidak melakukan apa-apa</td>\n",
              "    </tr>\n",
              "    <tr>\n",
              "      <th>...</th>\n",
              "      <td>...</td>\n",
              "      <td>...</td>\n",
              "      <td>...</td>\n",
              "      <td>...</td>\n",
              "      <td>...</td>\n",
              "      <td>...</td>\n",
              "      <td>...</td>\n",
              "    </tr>\n",
              "    <tr>\n",
              "      <th>611</th>\n",
              "      <td>4.6</td>\n",
              "      <td>Ada</td>\n",
              "      <td>Rendah sekali</td>\n",
              "      <td>25.3</td>\n",
              "      <td>904.0</td>\n",
              "      <td>47</td>\n",
              "      <td>Hidupkan Lampu</td>\n",
              "    </tr>\n",
              "    <tr>\n",
              "      <th>612</th>\n",
              "      <td>2.1</td>\n",
              "      <td>Ada</td>\n",
              "      <td>Rendah sekali</td>\n",
              "      <td>25.0</td>\n",
              "      <td>388.0</td>\n",
              "      <td>18</td>\n",
              "      <td>Hidupkan Lampu dan Pompa nutrisi TDS</td>\n",
              "    </tr>\n",
              "    <tr>\n",
              "      <th>613</th>\n",
              "      <td>3.2</td>\n",
              "      <td>Ada</td>\n",
              "      <td>Rendah sekali</td>\n",
              "      <td>25.3</td>\n",
              "      <td>793.0</td>\n",
              "      <td>19</td>\n",
              "      <td>Hidupkan Lampu</td>\n",
              "    </tr>\n",
              "    <tr>\n",
              "      <th>614</th>\n",
              "      <td>1.4</td>\n",
              "      <td>Ada</td>\n",
              "      <td>Rendah sekali</td>\n",
              "      <td>25.4</td>\n",
              "      <td>1052.0</td>\n",
              "      <td>3</td>\n",
              "      <td>Hidupkan Lampu</td>\n",
              "    </tr>\n",
              "    <tr>\n",
              "      <th>615</th>\n",
              "      <td>5.0</td>\n",
              "      <td>Ada</td>\n",
              "      <td>Rendah sekali</td>\n",
              "      <td>25.3</td>\n",
              "      <td>977.0</td>\n",
              "      <td>19</td>\n",
              "      <td>Hidupkan Lampu</td>\n",
              "    </tr>\n",
              "  </tbody>\n",
              "</table>\n",
              "<p>616 rows × 7 columns</p>\n",
              "</div>"
            ],
            "text/plain": [
              "      PH cahaya  ... tinggi_air                                  aksi\n",
              "0    6.5    Ada  ...        622  Hidupkan Lampu dan Pompa nutrisi TDS\n",
              "1    5.7    Ada  ...        557  Hidupkan Lampu dan Pompa nutrisi TDS\n",
              "2    6.0    Ada  ...        491  Hidupkan Lampu dan Pompa nutrisi TDS\n",
              "3    6.5    Ada  ...      12000               Tidak melakukan apa-apa\n",
              "4    6.2    NaN  ...        444               Tidak melakukan apa-apa\n",
              "..   ...    ...  ...        ...                                   ...\n",
              "611  4.6    Ada  ...         47                        Hidupkan Lampu\n",
              "612  2.1    Ada  ...         18  Hidupkan Lampu dan Pompa nutrisi TDS\n",
              "613  3.2    Ada  ...         19                        Hidupkan Lampu\n",
              "614  1.4    Ada  ...          3                        Hidupkan Lampu\n",
              "615  5.0    Ada  ...         19                        Hidupkan Lampu\n",
              "\n",
              "[616 rows x 7 columns]"
            ]
          },
          "metadata": {},
          "execution_count": 5
        }
      ]
    },
    {
      "cell_type": "markdown",
      "metadata": {
        "id": "vCYDhpdfa9Vt"
      },
      "source": [
        "## 2. Mengganti data kategorikal menjadi bentuk numerical (Clue : Labelencoder tidak bekerja ketika ada missing value, gunakan metode lain)"
      ]
    },
    {
      "cell_type": "code",
      "metadata": {
        "colab": {
          "base_uri": "https://localhost:8080/"
        },
        "id": "6QtA1NmIrDPT",
        "outputId": "093e1fbb-8b51-4a44-d610-55a4c05d050c"
      },
      "source": [
        "data.info()"
      ],
      "execution_count": 6,
      "outputs": [
        {
          "output_type": "stream",
          "name": "stdout",
          "text": [
            "<class 'pandas.core.frame.DataFrame'>\n",
            "RangeIndex: 616 entries, 0 to 615\n",
            "Data columns (total 7 columns):\n",
            " #   Column          Non-Null Count  Dtype  \n",
            "---  ------          --------------  -----  \n",
            " 0   PH              600 non-null    float64\n",
            " 1   cahaya          590 non-null    object \n",
            " 2   intensitas_air  616 non-null    object \n",
            " 3   suhu            589 non-null    float64\n",
            " 4   PPM             611 non-null    float64\n",
            " 5   tinggi_air      616 non-null    int64  \n",
            " 6   aksi            616 non-null    object \n",
            "dtypes: float64(3), int64(1), object(3)\n",
            "memory usage: 33.8+ KB\n"
          ]
        }
      ]
    },
    {
      "cell_type": "code",
      "metadata": {
        "colab": {
          "base_uri": "https://localhost:8080/"
        },
        "id": "AnKHkj6gYSo6",
        "outputId": "f1181229-394c-4b20-a8b0-dfa5b1debb34"
      },
      "source": [
        "#Isi Code\n",
        "data.isna().sum()"
      ],
      "execution_count": 7,
      "outputs": [
        {
          "output_type": "execute_result",
          "data": {
            "text/plain": [
              "PH                16\n",
              "cahaya            26\n",
              "intensitas_air     0\n",
              "suhu              27\n",
              "PPM                5\n",
              "tinggi_air         0\n",
              "aksi               0\n",
              "dtype: int64"
            ]
          },
          "metadata": {},
          "execution_count": 7
        }
      ]
    },
    {
      "cell_type": "code",
      "metadata": {
        "id": "HNAJfwlCa9Vu",
        "colab": {
          "base_uri": "https://localhost:8080/",
          "height": 419
        },
        "outputId": "975249aa-4eb0-4a39-a542-647d1dc802c6"
      },
      "source": [
        "data2 = data.dropna(subset=['cahaya'])\n",
        "data2"
      ],
      "execution_count": 8,
      "outputs": [
        {
          "output_type": "execute_result",
          "data": {
            "text/html": [
              "<div>\n",
              "<style scoped>\n",
              "    .dataframe tbody tr th:only-of-type {\n",
              "        vertical-align: middle;\n",
              "    }\n",
              "\n",
              "    .dataframe tbody tr th {\n",
              "        vertical-align: top;\n",
              "    }\n",
              "\n",
              "    .dataframe thead th {\n",
              "        text-align: right;\n",
              "    }\n",
              "</style>\n",
              "<table border=\"1\" class=\"dataframe\">\n",
              "  <thead>\n",
              "    <tr style=\"text-align: right;\">\n",
              "      <th></th>\n",
              "      <th>PH</th>\n",
              "      <th>cahaya</th>\n",
              "      <th>intensitas_air</th>\n",
              "      <th>suhu</th>\n",
              "      <th>PPM</th>\n",
              "      <th>tinggi_air</th>\n",
              "      <th>aksi</th>\n",
              "    </tr>\n",
              "  </thead>\n",
              "  <tbody>\n",
              "    <tr>\n",
              "      <th>0</th>\n",
              "      <td>6.5</td>\n",
              "      <td>Ada</td>\n",
              "      <td>Tinggi</td>\n",
              "      <td>27.0</td>\n",
              "      <td>188.0</td>\n",
              "      <td>622</td>\n",
              "      <td>Hidupkan Lampu dan Pompa nutrisi TDS</td>\n",
              "    </tr>\n",
              "    <tr>\n",
              "      <th>1</th>\n",
              "      <td>5.7</td>\n",
              "      <td>Ada</td>\n",
              "      <td>Tinggi</td>\n",
              "      <td>26.9</td>\n",
              "      <td>79.0</td>\n",
              "      <td>557</td>\n",
              "      <td>Hidupkan Lampu dan Pompa nutrisi TDS</td>\n",
              "    </tr>\n",
              "    <tr>\n",
              "      <th>2</th>\n",
              "      <td>6.0</td>\n",
              "      <td>Ada</td>\n",
              "      <td>Tinggi</td>\n",
              "      <td>27.0</td>\n",
              "      <td>11.0</td>\n",
              "      <td>491</td>\n",
              "      <td>Hidupkan Lampu dan Pompa nutrisi TDS</td>\n",
              "    </tr>\n",
              "    <tr>\n",
              "      <th>3</th>\n",
              "      <td>6.5</td>\n",
              "      <td>Ada</td>\n",
              "      <td>Tinggi</td>\n",
              "      <td>27.1</td>\n",
              "      <td>345.0</td>\n",
              "      <td>12000</td>\n",
              "      <td>Tidak melakukan apa-apa</td>\n",
              "    </tr>\n",
              "    <tr>\n",
              "      <th>10</th>\n",
              "      <td>NaN</td>\n",
              "      <td>Ada</td>\n",
              "      <td>Tinggi</td>\n",
              "      <td>26.5</td>\n",
              "      <td>NaN</td>\n",
              "      <td>219</td>\n",
              "      <td>Hidupkan Lampu</td>\n",
              "    </tr>\n",
              "    <tr>\n",
              "      <th>...</th>\n",
              "      <td>...</td>\n",
              "      <td>...</td>\n",
              "      <td>...</td>\n",
              "      <td>...</td>\n",
              "      <td>...</td>\n",
              "      <td>...</td>\n",
              "      <td>...</td>\n",
              "    </tr>\n",
              "    <tr>\n",
              "      <th>611</th>\n",
              "      <td>4.6</td>\n",
              "      <td>Ada</td>\n",
              "      <td>Rendah sekali</td>\n",
              "      <td>25.3</td>\n",
              "      <td>904.0</td>\n",
              "      <td>47</td>\n",
              "      <td>Hidupkan Lampu</td>\n",
              "    </tr>\n",
              "    <tr>\n",
              "      <th>612</th>\n",
              "      <td>2.1</td>\n",
              "      <td>Ada</td>\n",
              "      <td>Rendah sekali</td>\n",
              "      <td>25.0</td>\n",
              "      <td>388.0</td>\n",
              "      <td>18</td>\n",
              "      <td>Hidupkan Lampu dan Pompa nutrisi TDS</td>\n",
              "    </tr>\n",
              "    <tr>\n",
              "      <th>613</th>\n",
              "      <td>3.2</td>\n",
              "      <td>Ada</td>\n",
              "      <td>Rendah sekali</td>\n",
              "      <td>25.3</td>\n",
              "      <td>793.0</td>\n",
              "      <td>19</td>\n",
              "      <td>Hidupkan Lampu</td>\n",
              "    </tr>\n",
              "    <tr>\n",
              "      <th>614</th>\n",
              "      <td>1.4</td>\n",
              "      <td>Ada</td>\n",
              "      <td>Rendah sekali</td>\n",
              "      <td>25.4</td>\n",
              "      <td>1052.0</td>\n",
              "      <td>3</td>\n",
              "      <td>Hidupkan Lampu</td>\n",
              "    </tr>\n",
              "    <tr>\n",
              "      <th>615</th>\n",
              "      <td>5.0</td>\n",
              "      <td>Ada</td>\n",
              "      <td>Rendah sekali</td>\n",
              "      <td>25.3</td>\n",
              "      <td>977.0</td>\n",
              "      <td>19</td>\n",
              "      <td>Hidupkan Lampu</td>\n",
              "    </tr>\n",
              "  </tbody>\n",
              "</table>\n",
              "<p>590 rows × 7 columns</p>\n",
              "</div>"
            ],
            "text/plain": [
              "      PH cahaya  ... tinggi_air                                  aksi\n",
              "0    6.5    Ada  ...        622  Hidupkan Lampu dan Pompa nutrisi TDS\n",
              "1    5.7    Ada  ...        557  Hidupkan Lampu dan Pompa nutrisi TDS\n",
              "2    6.0    Ada  ...        491  Hidupkan Lampu dan Pompa nutrisi TDS\n",
              "3    6.5    Ada  ...      12000               Tidak melakukan apa-apa\n",
              "10   NaN    Ada  ...        219                        Hidupkan Lampu\n",
              "..   ...    ...  ...        ...                                   ...\n",
              "611  4.6    Ada  ...         47                        Hidupkan Lampu\n",
              "612  2.1    Ada  ...         18  Hidupkan Lampu dan Pompa nutrisi TDS\n",
              "613  3.2    Ada  ...         19                        Hidupkan Lampu\n",
              "614  1.4    Ada  ...          3                        Hidupkan Lampu\n",
              "615  5.0    Ada  ...         19                        Hidupkan Lampu\n",
              "\n",
              "[590 rows x 7 columns]"
            ]
          },
          "metadata": {},
          "execution_count": 8
        }
      ]
    },
    {
      "cell_type": "code",
      "metadata": {
        "colab": {
          "base_uri": "https://localhost:8080/"
        },
        "id": "lrdtJrfdcyRW",
        "outputId": "3e864285-cfbc-44b8-8078-5174b8ecc676"
      },
      "source": [
        "data2['aksi'].value_counts()"
      ],
      "execution_count": 9,
      "outputs": [
        {
          "output_type": "execute_result",
          "data": {
            "text/plain": [
              "Tidak melakukan apa-apa                 451\n",
              "Hidupkan Lampu                           88\n",
              "Hidupkan Lampu dan Pompa nutrisi TDS     39\n",
              "Hidupkan Pompa nutrisi TDS               12\n",
              "Name: aksi, dtype: int64"
            ]
          },
          "metadata": {},
          "execution_count": 9
        }
      ]
    },
    {
      "cell_type": "code",
      "metadata": {
        "id": "6IxEnEDT_xmQ",
        "colab": {
          "base_uri": "https://localhost:8080/"
        },
        "outputId": "af54ec2b-cd1a-4b38-ed57-179660e0c907"
      },
      "source": [
        "data2.isna().sum()"
      ],
      "execution_count": 10,
      "outputs": [
        {
          "output_type": "execute_result",
          "data": {
            "text/plain": [
              "PH                13\n",
              "cahaya             0\n",
              "intensitas_air     0\n",
              "suhu              27\n",
              "PPM                1\n",
              "tinggi_air         0\n",
              "aksi               0\n",
              "dtype: int64"
            ]
          },
          "metadata": {},
          "execution_count": 10
        }
      ]
    },
    {
      "cell_type": "code",
      "metadata": {
        "colab": {
          "base_uri": "https://localhost:8080/",
          "height": 257
        },
        "id": "1QC6G-8hD53C",
        "outputId": "21c18f5e-c414-438c-9052-9ea298f377c8"
      },
      "source": [
        "labels = data2['cahaya'].astype('category').cat.categories.tolist()\n",
        "counts = data2['cahaya'].value_counts()\n",
        "sizes = [counts[var_cat] for var_cat in labels]\n",
        "palette = sns.color_palette(\"RdBu_r\")\n",
        "fig1, ax1 = plt.subplots()\n",
        "ax1.pie(sizes, labels=labels, autopct=lambda p : '{:.2f}%\\n({:,.0f})'.format(p,p * sum(sizes)/100), shadow=True, colors=palette) #autopct is show the % on plot\n",
        "ax1.axis('equal')\n",
        "plt.show()"
      ],
      "execution_count": 11,
      "outputs": [
        {
          "output_type": "display_data",
          "data": {
            "image/png": "[encoded data removed]",
            "text/plain": [
              "<Figure size 432x288 with 1 Axes>"
            ]
          },
          "metadata": {}
        }
      ]
    },
    {
      "cell_type": "code",
      "metadata": {
        "colab": {
          "base_uri": "https://localhost:8080/",
          "height": 248
        },
        "id": "mD3866YZEblX",
        "outputId": "abddd4e2-5ee1-4822-bd62-d310cc4c849f"
      },
      "source": [
        "labels_ia2 = data2['intensitas_air'].astype('category').cat.categories.tolist()\n",
        "counts_ia2 = data2['intensitas_air'].value_counts()\n",
        "sizes_ia2 = [counts_ia2[var_cat2] for var_cat2 in labels_ia2]\n",
        "palette2 = sns.color_palette(\"PuBuGn\")\n",
        "fig2, ax2 = plt.subplots()\n",
        "ax2.pie(sizes_ia2, labels=labels_ia2, autopct=lambda p : '{:.2f}%\\n({:,.0f})'.format(p,p * sum(sizes)/100), shadow=True, colors=palette2) #autopct is show the % on plot\n",
        "ax2.axis('equal')\n",
        "plt.show()"
      ],
      "execution_count": 12,
      "outputs": [
        {
          "output_type": "display_data",
          "data": {
            "image/png": "[encoded data removed]",
            "text/plain": [
              "<Figure size 432x288 with 1 Axes>"
            ]
          },
          "metadata": {}
        }
      ]
    },
    {
      "cell_type": "code",
      "metadata": {
        "id": "-SPCxg-Nlhde"
      },
      "source": [
        "encode = {'cahaya': {\"Ada\": 5. , \"Tidak ada\": 6.},\n",
        "          'intensitas_air': {\"Rendah sekali\": 1., \"Rendah\": 2., \"Cukup\": 3., \"Tinggi\": 4.}}\n",
        "\n",
        "data2_encode = data2.replace(encode)"
      ],
      "execution_count": 13,
      "outputs": []
    },
    {
      "cell_type": "code",
      "metadata": {
        "colab": {
          "base_uri": "https://localhost:8080/",
          "height": 419
        },
        "id": "NBgQ7p7j3E87",
        "outputId": "e2b35109-2464-42c6-c4d5-bea607db1ea5"
      },
      "source": [
        "data2_encode['tinggi_air'] = data2_encode['tinggi_air'].astype('float')\n",
        "data2_encode"
      ],
      "execution_count": 14,
      "outputs": [
        {
          "output_type": "execute_result",
          "data": {
            "text/html": [
              "<div>\n",
              "<style scoped>\n",
              "    .dataframe tbody tr th:only-of-type {\n",
              "        vertical-align: middle;\n",
              "    }\n",
              "\n",
              "    .dataframe tbody tr th {\n",
              "        vertical-align: top;\n",
              "    }\n",
              "\n",
              "    .dataframe thead th {\n",
              "        text-align: right;\n",
              "    }\n",
              "</style>\n",
              "<table border=\"1\" class=\"dataframe\">\n",
              "  <thead>\n",
              "    <tr style=\"text-align: right;\">\n",
              "      <th></th>\n",
              "      <th>PH</th>\n",
              "      <th>cahaya</th>\n",
              "      <th>intensitas_air</th>\n",
              "      <th>suhu</th>\n",
              "      <th>PPM</th>\n",
              "      <th>tinggi_air</th>\n",
              "      <th>aksi</th>\n",
              "    </tr>\n",
              "  </thead>\n",
              "  <tbody>\n",
              "    <tr>\n",
              "      <th>0</th>\n",
              "      <td>6.5</td>\n",
              "      <td>5.0</td>\n",
              "      <td>4.0</td>\n",
              "      <td>27.0</td>\n",
              "      <td>188.0</td>\n",
              "      <td>622.0</td>\n",
              "      <td>Hidupkan Lampu dan Pompa nutrisi TDS</td>\n",
              "    </tr>\n",
              "    <tr>\n",
              "      <th>1</th>\n",
              "      <td>5.7</td>\n",
              "      <td>5.0</td>\n",
              "      <td>4.0</td>\n",
              "      <td>26.9</td>\n",
              "      <td>79.0</td>\n",
              "      <td>557.0</td>\n",
              "      <td>Hidupkan Lampu dan Pompa nutrisi TDS</td>\n",
              "    </tr>\n",
              "    <tr>\n",
              "      <th>2</th>\n",
              "      <td>6.0</td>\n",
              "      <td>5.0</td>\n",
              "      <td>4.0</td>\n",
              "      <td>27.0</td>\n",
              "      <td>11.0</td>\n",
              "      <td>491.0</td>\n",
              "      <td>Hidupkan Lampu dan Pompa nutrisi TDS</td>\n",
              "    </tr>\n",
              "    <tr>\n",
              "      <th>3</th>\n",
              "      <td>6.5</td>\n",
              "      <td>5.0</td>\n",
              "      <td>4.0</td>\n",
              "      <td>27.1</td>\n",
              "      <td>345.0</td>\n",
              "      <td>12000.0</td>\n",
              "      <td>Tidak melakukan apa-apa</td>\n",
              "    </tr>\n",
              "    <tr>\n",
              "      <th>10</th>\n",
              "      <td>NaN</td>\n",
              "      <td>5.0</td>\n",
              "      <td>4.0</td>\n",
              "      <td>26.5</td>\n",
              "      <td>NaN</td>\n",
              "      <td>219.0</td>\n",
              "      <td>Hidupkan Lampu</td>\n",
              "    </tr>\n",
              "    <tr>\n",
              "      <th>...</th>\n",
              "      <td>...</td>\n",
              "      <td>...</td>\n",
              "      <td>...</td>\n",
              "      <td>...</td>\n",
              "      <td>...</td>\n",
              "      <td>...</td>\n",
              "      <td>...</td>\n",
              "    </tr>\n",
              "    <tr>\n",
              "      <th>611</th>\n",
              "      <td>4.6</td>\n",
              "      <td>5.0</td>\n",
              "      <td>1.0</td>\n",
              "      <td>25.3</td>\n",
              "      <td>904.0</td>\n",
              "      <td>47.0</td>\n",
              "      <td>Hidupkan Lampu</td>\n",
              "    </tr>\n",
              "    <tr>\n",
              "      <th>612</th>\n",
              "      <td>2.1</td>\n",
              "      <td>5.0</td>\n",
              "      <td>1.0</td>\n",
              "      <td>25.0</td>\n",
              "      <td>388.0</td>\n",
              "      <td>18.0</td>\n",
              "      <td>Hidupkan Lampu dan Pompa nutrisi TDS</td>\n",
              "    </tr>\n",
              "    <tr>\n",
              "      <th>613</th>\n",
              "      <td>3.2</td>\n",
              "      <td>5.0</td>\n",
              "      <td>1.0</td>\n",
              "      <td>25.3</td>\n",
              "      <td>793.0</td>\n",
              "      <td>19.0</td>\n",
              "      <td>Hidupkan Lampu</td>\n",
              "    </tr>\n",
              "    <tr>\n",
              "      <th>614</th>\n",
              "      <td>1.4</td>\n",
              "      <td>5.0</td>\n",
              "      <td>1.0</td>\n",
              "      <td>25.4</td>\n",
              "      <td>1052.0</td>\n",
              "      <td>3.0</td>\n",
              "      <td>Hidupkan Lampu</td>\n",
              "    </tr>\n",
              "    <tr>\n",
              "      <th>615</th>\n",
              "      <td>5.0</td>\n",
              "      <td>5.0</td>\n",
              "      <td>1.0</td>\n",
              "      <td>25.3</td>\n",
              "      <td>977.0</td>\n",
              "      <td>19.0</td>\n",
              "      <td>Hidupkan Lampu</td>\n",
              "    </tr>\n",
              "  </tbody>\n",
              "</table>\n",
              "<p>590 rows × 7 columns</p>\n",
              "</div>"
            ],
            "text/plain": [
              "      PH  cahaya  ...  tinggi_air                                  aksi\n",
              "0    6.5     5.0  ...       622.0  Hidupkan Lampu dan Pompa nutrisi TDS\n",
              "1    5.7     5.0  ...       557.0  Hidupkan Lampu dan Pompa nutrisi TDS\n",
              "2    6.0     5.0  ...       491.0  Hidupkan Lampu dan Pompa nutrisi TDS\n",
              "3    6.5     5.0  ...     12000.0               Tidak melakukan apa-apa\n",
              "10   NaN     5.0  ...       219.0                        Hidupkan Lampu\n",
              "..   ...     ...  ...         ...                                   ...\n",
              "611  4.6     5.0  ...        47.0                        Hidupkan Lampu\n",
              "612  2.1     5.0  ...        18.0  Hidupkan Lampu dan Pompa nutrisi TDS\n",
              "613  3.2     5.0  ...        19.0                        Hidupkan Lampu\n",
              "614  1.4     5.0  ...         3.0                        Hidupkan Lampu\n",
              "615  5.0     5.0  ...        19.0                        Hidupkan Lampu\n",
              "\n",
              "[590 rows x 7 columns]"
            ]
          },
          "metadata": {},
          "execution_count": 14
        }
      ]
    },
    {
      "cell_type": "markdown",
      "metadata": {
        "id": "W5Ka60uYa9Vv"
      },
      "source": [
        "## 3. Handle Missing Value"
      ]
    },
    {
      "cell_type": "code",
      "metadata": {
        "colab": {
          "base_uri": "https://localhost:8080/",
          "height": 266
        },
        "id": "auG91NePwcbm",
        "outputId": "4bf338a9-031d-4879-afdf-1f0cbc374046"
      },
      "source": [
        "#Melihat presentase missing value tiap kolom\n",
        "missing_data = pd.DataFrame({'total_missing': data.isna().sum(), 'perc_missing': (data.isna().sum()/616)*100})\n",
        "missing_data"
      ],
      "execution_count": 15,
      "outputs": [
        {
          "output_type": "execute_result",
          "data": {
            "text/html": [
              "<div>\n",
              "<style scoped>\n",
              "    .dataframe tbody tr th:only-of-type {\n",
              "        vertical-align: middle;\n",
              "    }\n",
              "\n",
              "    .dataframe tbody tr th {\n",
              "        vertical-align: top;\n",
              "    }\n",
              "\n",
              "    .dataframe thead th {\n",
              "        text-align: right;\n",
              "    }\n",
              "</style>\n",
              "<table border=\"1\" class=\"dataframe\">\n",
              "  <thead>\n",
              "    <tr style=\"text-align: right;\">\n",
              "      <th></th>\n",
              "      <th>total_missing</th>\n",
              "      <th>perc_missing</th>\n",
              "    </tr>\n",
              "  </thead>\n",
              "  <tbody>\n",
              "    <tr>\n",
              "      <th>PH</th>\n",
              "      <td>16</td>\n",
              "      <td>2.597403</td>\n",
              "    </tr>\n",
              "    <tr>\n",
              "      <th>cahaya</th>\n",
              "      <td>26</td>\n",
              "      <td>4.220779</td>\n",
              "    </tr>\n",
              "    <tr>\n",
              "      <th>intensitas_air</th>\n",
              "      <td>0</td>\n",
              "      <td>0.000000</td>\n",
              "    </tr>\n",
              "    <tr>\n",
              "      <th>suhu</th>\n",
              "      <td>27</td>\n",
              "      <td>4.383117</td>\n",
              "    </tr>\n",
              "    <tr>\n",
              "      <th>PPM</th>\n",
              "      <td>5</td>\n",
              "      <td>0.811688</td>\n",
              "    </tr>\n",
              "    <tr>\n",
              "      <th>tinggi_air</th>\n",
              "      <td>0</td>\n",
              "      <td>0.000000</td>\n",
              "    </tr>\n",
              "    <tr>\n",
              "      <th>aksi</th>\n",
              "      <td>0</td>\n",
              "      <td>0.000000</td>\n",
              "    </tr>\n",
              "  </tbody>\n",
              "</table>\n",
              "</div>"
            ],
            "text/plain": [
              "                total_missing  perc_missing\n",
              "PH                         16      2.597403\n",
              "cahaya                     26      4.220779\n",
              "intensitas_air              0      0.000000\n",
              "suhu                       27      4.383117\n",
              "PPM                         5      0.811688\n",
              "tinggi_air                  0      0.000000\n",
              "aksi                        0      0.000000"
            ]
          },
          "metadata": {},
          "execution_count": 15
        }
      ]
    },
    {
      "cell_type": "code",
      "metadata": {
        "id": "mj3yjpP39RaG"
      },
      "source": [
        "#Isi Code\n",
        "from sklearn.impute import SimpleImputer\n",
        "import numpy as np\n",
        "\n",
        "imputer = SimpleImputer(missing_values = np.nan ,strategy = 'median')\n",
        "\n",
        "\n",
        "# Fit imputer kedalam data X untuk kolom Age (index ke-1) dan Salary (index ke-2).\n",
        "imputer = imputer.fit(data2_encode[['PH','suhu','PPM']])\n",
        "\n",
        "#Replace missing value dengan mean pada kolom tersebut\n",
        "data2_encode[['PH','suhu','PPM']] = imputer.transform(data2_encode[['PH','suhu','PPM']])\n"
      ],
      "execution_count": 16,
      "outputs": []
    },
    {
      "cell_type": "code",
      "metadata": {
        "id": "8YZO-Zz_87Pj",
        "colab": {
          "base_uri": "https://localhost:8080/",
          "height": 419
        },
        "outputId": "a937f5d5-abee-4d54-aeea-7b3a654a8c2a"
      },
      "source": [
        "data2_encode"
      ],
      "execution_count": 17,
      "outputs": [
        {
          "output_type": "execute_result",
          "data": {
            "text/html": [
              "<div>\n",
              "<style scoped>\n",
              "    .dataframe tbody tr th:only-of-type {\n",
              "        vertical-align: middle;\n",
              "    }\n",
              "\n",
              "    .dataframe tbody tr th {\n",
              "        vertical-align: top;\n",
              "    }\n",
              "\n",
              "    .dataframe thead th {\n",
              "        text-align: right;\n",
              "    }\n",
              "</style>\n",
              "<table border=\"1\" class=\"dataframe\">\n",
              "  <thead>\n",
              "    <tr style=\"text-align: right;\">\n",
              "      <th></th>\n",
              "      <th>PH</th>\n",
              "      <th>cahaya</th>\n",
              "      <th>intensitas_air</th>\n",
              "      <th>suhu</th>\n",
              "      <th>PPM</th>\n",
              "      <th>tinggi_air</th>\n",
              "      <th>aksi</th>\n",
              "    </tr>\n",
              "  </thead>\n",
              "  <tbody>\n",
              "    <tr>\n",
              "      <th>0</th>\n",
              "      <td>6.5</td>\n",
              "      <td>5.0</td>\n",
              "      <td>4.0</td>\n",
              "      <td>27.0</td>\n",
              "      <td>188.0</td>\n",
              "      <td>622.0</td>\n",
              "      <td>Hidupkan Lampu dan Pompa nutrisi TDS</td>\n",
              "    </tr>\n",
              "    <tr>\n",
              "      <th>1</th>\n",
              "      <td>5.7</td>\n",
              "      <td>5.0</td>\n",
              "      <td>4.0</td>\n",
              "      <td>26.9</td>\n",
              "      <td>79.0</td>\n",
              "      <td>557.0</td>\n",
              "      <td>Hidupkan Lampu dan Pompa nutrisi TDS</td>\n",
              "    </tr>\n",
              "    <tr>\n",
              "      <th>2</th>\n",
              "      <td>6.0</td>\n",
              "      <td>5.0</td>\n",
              "      <td>4.0</td>\n",
              "      <td>27.0</td>\n",
              "      <td>11.0</td>\n",
              "      <td>491.0</td>\n",
              "      <td>Hidupkan Lampu dan Pompa nutrisi TDS</td>\n",
              "    </tr>\n",
              "    <tr>\n",
              "      <th>3</th>\n",
              "      <td>6.5</td>\n",
              "      <td>5.0</td>\n",
              "      <td>4.0</td>\n",
              "      <td>27.1</td>\n",
              "      <td>345.0</td>\n",
              "      <td>12000.0</td>\n",
              "      <td>Tidak melakukan apa-apa</td>\n",
              "    </tr>\n",
              "    <tr>\n",
              "      <th>10</th>\n",
              "      <td>6.5</td>\n",
              "      <td>5.0</td>\n",
              "      <td>4.0</td>\n",
              "      <td>26.5</td>\n",
              "      <td>994.0</td>\n",
              "      <td>219.0</td>\n",
              "      <td>Hidupkan Lampu</td>\n",
              "    </tr>\n",
              "    <tr>\n",
              "      <th>...</th>\n",
              "      <td>...</td>\n",
              "      <td>...</td>\n",
              "      <td>...</td>\n",
              "      <td>...</td>\n",
              "      <td>...</td>\n",
              "      <td>...</td>\n",
              "      <td>...</td>\n",
              "    </tr>\n",
              "    <tr>\n",
              "      <th>611</th>\n",
              "      <td>4.6</td>\n",
              "      <td>5.0</td>\n",
              "      <td>1.0</td>\n",
              "      <td>25.3</td>\n",
              "      <td>904.0</td>\n",
              "      <td>47.0</td>\n",
              "      <td>Hidupkan Lampu</td>\n",
              "    </tr>\n",
              "    <tr>\n",
              "      <th>612</th>\n",
              "      <td>2.1</td>\n",
              "      <td>5.0</td>\n",
              "      <td>1.0</td>\n",
              "      <td>25.0</td>\n",
              "      <td>388.0</td>\n",
              "      <td>18.0</td>\n",
              "      <td>Hidupkan Lampu dan Pompa nutrisi TDS</td>\n",
              "    </tr>\n",
              "    <tr>\n",
              "      <th>613</th>\n",
              "      <td>3.2</td>\n",
              "      <td>5.0</td>\n",
              "      <td>1.0</td>\n",
              "      <td>25.3</td>\n",
              "      <td>793.0</td>\n",
              "      <td>19.0</td>\n",
              "      <td>Hidupkan Lampu</td>\n",
              "    </tr>\n",
              "    <tr>\n",
              "      <th>614</th>\n",
              "      <td>1.4</td>\n",
              "      <td>5.0</td>\n",
              "      <td>1.0</td>\n",
              "      <td>25.4</td>\n",
              "      <td>1052.0</td>\n",
              "      <td>3.0</td>\n",
              "      <td>Hidupkan Lampu</td>\n",
              "    </tr>\n",
              "    <tr>\n",
              "      <th>615</th>\n",
              "      <td>5.0</td>\n",
              "      <td>5.0</td>\n",
              "      <td>1.0</td>\n",
              "      <td>25.3</td>\n",
              "      <td>977.0</td>\n",
              "      <td>19.0</td>\n",
              "      <td>Hidupkan Lampu</td>\n",
              "    </tr>\n",
              "  </tbody>\n",
              "</table>\n",
              "<p>590 rows × 7 columns</p>\n",
              "</div>"
            ],
            "text/plain": [
              "      PH  cahaya  ...  tinggi_air                                  aksi\n",
              "0    6.5     5.0  ...       622.0  Hidupkan Lampu dan Pompa nutrisi TDS\n",
              "1    5.7     5.0  ...       557.0  Hidupkan Lampu dan Pompa nutrisi TDS\n",
              "2    6.0     5.0  ...       491.0  Hidupkan Lampu dan Pompa nutrisi TDS\n",
              "3    6.5     5.0  ...     12000.0               Tidak melakukan apa-apa\n",
              "10   6.5     5.0  ...       219.0                        Hidupkan Lampu\n",
              "..   ...     ...  ...         ...                                   ...\n",
              "611  4.6     5.0  ...        47.0                        Hidupkan Lampu\n",
              "612  2.1     5.0  ...        18.0  Hidupkan Lampu dan Pompa nutrisi TDS\n",
              "613  3.2     5.0  ...        19.0                        Hidupkan Lampu\n",
              "614  1.4     5.0  ...         3.0                        Hidupkan Lampu\n",
              "615  5.0     5.0  ...        19.0                        Hidupkan Lampu\n",
              "\n",
              "[590 rows x 7 columns]"
            ]
          },
          "metadata": {},
          "execution_count": 17
        }
      ]
    },
    {
      "cell_type": "code",
      "metadata": {
        "id": "Lg1zXKsi9Gjd",
        "colab": {
          "base_uri": "https://localhost:8080/"
        },
        "outputId": "c432f3e4-4e7b-435b-e8f8-2dc4d5628b0c"
      },
      "source": [
        "data2_encode.isna().sum()"
      ],
      "execution_count": 18,
      "outputs": [
        {
          "output_type": "execute_result",
          "data": {
            "text/plain": [
              "PH                0\n",
              "cahaya            0\n",
              "intensitas_air    0\n",
              "suhu              0\n",
              "PPM               0\n",
              "tinggi_air        0\n",
              "aksi              0\n",
              "dtype: int64"
            ]
          },
          "metadata": {},
          "execution_count": 18
        }
      ]
    },
    {
      "cell_type": "code",
      "metadata": {
        "id": "Ksmxdkj9_1Km",
        "colab": {
          "base_uri": "https://localhost:8080/"
        },
        "outputId": "0f2754e6-b29d-46f4-ae99-ff33b0a73df1"
      },
      "source": [
        "data2_encode.info()"
      ],
      "execution_count": 19,
      "outputs": [
        {
          "output_type": "stream",
          "name": "stdout",
          "text": [
            "<class 'pandas.core.frame.DataFrame'>\n",
            "Int64Index: 590 entries, 0 to 615\n",
            "Data columns (total 7 columns):\n",
            " #   Column          Non-Null Count  Dtype  \n",
            "---  ------          --------------  -----  \n",
            " 0   PH              590 non-null    float64\n",
            " 1   cahaya          590 non-null    float64\n",
            " 2   intensitas_air  590 non-null    float64\n",
            " 3   suhu            590 non-null    float64\n",
            " 4   PPM             590 non-null    float64\n",
            " 5   tinggi_air      590 non-null    float64\n",
            " 6   aksi            590 non-null    object \n",
            "dtypes: float64(6), object(1)\n",
            "memory usage: 36.9+ KB\n"
          ]
        }
      ]
    },
    {
      "cell_type": "markdown",
      "metadata": {
        "id": "GELQ5uyda9Vw"
      },
      "source": [
        "## 4. Detect outliers dan handling (bisa dihapus atau diganti nilainya dengan mean/modus/median)"
      ]
    },
    {
      "cell_type": "code",
      "metadata": {
        "id": "vlUcLIt-C1uu",
        "colab": {
          "base_uri": "https://localhost:8080/",
          "height": 297
        },
        "outputId": "85c49d90-f39a-43ce-dae5-c538380a5a7e"
      },
      "source": [
        "data2_encode.describe()"
      ],
      "execution_count": 20,
      "outputs": [
        {
          "output_type": "execute_result",
          "data": {
            "text/html": [
              "<div>\n",
              "<style scoped>\n",
              "    .dataframe tbody tr th:only-of-type {\n",
              "        vertical-align: middle;\n",
              "    }\n",
              "\n",
              "    .dataframe tbody tr th {\n",
              "        vertical-align: top;\n",
              "    }\n",
              "\n",
              "    .dataframe thead th {\n",
              "        text-align: right;\n",
              "    }\n",
              "</style>\n",
              "<table border=\"1\" class=\"dataframe\">\n",
              "  <thead>\n",
              "    <tr style=\"text-align: right;\">\n",
              "      <th></th>\n",
              "      <th>PH</th>\n",
              "      <th>cahaya</th>\n",
              "      <th>intensitas_air</th>\n",
              "      <th>suhu</th>\n",
              "      <th>PPM</th>\n",
              "      <th>tinggi_air</th>\n",
              "    </tr>\n",
              "  </thead>\n",
              "  <tbody>\n",
              "    <tr>\n",
              "      <th>count</th>\n",
              "      <td>590.000000</td>\n",
              "      <td>590.000000</td>\n",
              "      <td>590.000000</td>\n",
              "      <td>590.000000</td>\n",
              "      <td>590.000000</td>\n",
              "      <td>590.000000</td>\n",
              "    </tr>\n",
              "    <tr>\n",
              "      <th>mean</th>\n",
              "      <td>6.636610</td>\n",
              "      <td>5.488136</td>\n",
              "      <td>2.489831</td>\n",
              "      <td>29.324746</td>\n",
              "      <td>1037.313559</td>\n",
              "      <td>288.252542</td>\n",
              "    </tr>\n",
              "    <tr>\n",
              "      <th>std</th>\n",
              "      <td>2.976293</td>\n",
              "      <td>0.500283</td>\n",
              "      <td>1.099034</td>\n",
              "      <td>14.910422</td>\n",
              "      <td>631.358165</td>\n",
              "      <td>634.984586</td>\n",
              "    </tr>\n",
              "    <tr>\n",
              "      <th>min</th>\n",
              "      <td>0.000000</td>\n",
              "      <td>5.000000</td>\n",
              "      <td>1.000000</td>\n",
              "      <td>-300.000000</td>\n",
              "      <td>1.000000</td>\n",
              "      <td>0.000000</td>\n",
              "    </tr>\n",
              "    <tr>\n",
              "      <th>25%</th>\n",
              "      <td>5.600000</td>\n",
              "      <td>5.000000</td>\n",
              "      <td>2.000000</td>\n",
              "      <td>27.100000</td>\n",
              "      <td>497.750000</td>\n",
              "      <td>50.000000</td>\n",
              "    </tr>\n",
              "    <tr>\n",
              "      <th>50%</th>\n",
              "      <td>6.500000</td>\n",
              "      <td>5.000000</td>\n",
              "      <td>2.000000</td>\n",
              "      <td>29.900000</td>\n",
              "      <td>994.000000</td>\n",
              "      <td>226.500000</td>\n",
              "    </tr>\n",
              "    <tr>\n",
              "      <th>75%</th>\n",
              "      <td>7.500000</td>\n",
              "      <td>6.000000</td>\n",
              "      <td>3.000000</td>\n",
              "      <td>33.000000</td>\n",
              "      <td>1603.750000</td>\n",
              "      <td>430.500000</td>\n",
              "    </tr>\n",
              "    <tr>\n",
              "      <th>max</th>\n",
              "      <td>14.000000</td>\n",
              "      <td>6.000000</td>\n",
              "      <td>4.000000</td>\n",
              "      <td>40.600000</td>\n",
              "      <td>2149.000000</td>\n",
              "      <td>12000.000000</td>\n",
              "    </tr>\n",
              "  </tbody>\n",
              "</table>\n",
              "</div>"
            ],
            "text/plain": [
              "               PH      cahaya  ...          PPM    tinggi_air\n",
              "count  590.000000  590.000000  ...   590.000000    590.000000\n",
              "mean     6.636610    5.488136  ...  1037.313559    288.252542\n",
              "std      2.976293    0.500283  ...   631.358165    634.984586\n",
              "min      0.000000    5.000000  ...     1.000000      0.000000\n",
              "25%      5.600000    5.000000  ...   497.750000     50.000000\n",
              "50%      6.500000    5.000000  ...   994.000000    226.500000\n",
              "75%      7.500000    6.000000  ...  1603.750000    430.500000\n",
              "max     14.000000    6.000000  ...  2149.000000  12000.000000\n",
              "\n",
              "[8 rows x 6 columns]"
            ]
          },
          "metadata": {},
          "execution_count": 20
        }
      ]
    },
    {
      "cell_type": "code",
      "metadata": {
        "id": "szqSHIG1ApXC",
        "colab": {
          "base_uri": "https://localhost:8080/",
          "height": 450
        },
        "outputId": "25334a34-d931-4966-c980-5e3e4c402485"
      },
      "source": [
        "#Isi Code\n",
        "\n",
        "num_cols = ['PH', 'cahaya', 'intensitas_air', 'suhu', 'PPM', 'tinggi_air']\n",
        "plt.figure(figsize=(15,7))\n",
        "data2_encode[num_cols].boxplot()\n",
        "plt.title(\"Numerical variables in Titanic dataset\", fontsize=20)\n",
        "plt.show()"
      ],
      "execution_count": 21,
      "outputs": [
        {
          "output_type": "display_data",
          "data": {
            "image/png": "[encoded data removed]",
            "text/plain": [
              "<Figure size 1080x504 with 1 Axes>"
            ]
          },
          "metadata": {
            "needs_background": "light"
          }
        }
      ]
    },
    {
      "cell_type": "code",
      "metadata": {
        "id": "c5CrQb7uGWTB",
        "colab": {
          "base_uri": "https://localhost:8080/"
        },
        "outputId": "6526d256-4f5a-4a52-cb86-44f7549ca45d"
      },
      "source": [
        "import numpy as np\n",
        "outliers = []\n",
        "TA = np.asarray(data2[['tinggi_air']], dtype='float64')\n",
        "def detect_outliers_zscore(data):\n",
        "    thres = 3\n",
        "    mean = np.mean(data)\n",
        "    std = np.std(data)\n",
        "    # print(mean, std)\n",
        "    for i in data:\n",
        "        z_score = (i-mean)/std\n",
        "        if (np.abs(z_score) > thres):\n",
        "            outliers.append(i)\n",
        "    return outliers# Driver code\n",
        "sample_outliers = detect_outliers_zscore(TA)\n",
        "print(\"Outliers from Z-scores method: \", sample_outliers)"
      ],
      "execution_count": 23,
      "outputs": [
        {
          "output_type": "stream",
          "name": "stdout",
          "text": [
            "Outliers from Z-scores method:  [array([12000.]), array([9000.])]\n"
          ]
        }
      ]
    },
    {
      "cell_type": "code",
      "metadata": {
        "colab": {
          "base_uri": "https://localhost:8080/",
          "height": 419
        },
        "id": "VGTBWQsWl6kG",
        "outputId": "6a49cfed-ce2e-4465-fd7c-b9e4e6b9134a"
      },
      "source": [
        "data2_encode.iloc[:,:6]"
      ],
      "execution_count": 24,
      "outputs": [
        {
          "output_type": "execute_result",
          "data": {
            "text/html": [
              "<div>\n",
              "<style scoped>\n",
              "    .dataframe tbody tr th:only-of-type {\n",
              "        vertical-align: middle;\n",
              "    }\n",
              "\n",
              "    .dataframe tbody tr th {\n",
              "        vertical-align: top;\n",
              "    }\n",
              "\n",
              "    .dataframe thead th {\n",
              "        text-align: right;\n",
              "    }\n",
              "</style>\n",
              "<table border=\"1\" class=\"dataframe\">\n",
              "  <thead>\n",
              "    <tr style=\"text-align: right;\">\n",
              "      <th></th>\n",
              "      <th>PH</th>\n",
              "      <th>cahaya</th>\n",
              "      <th>intensitas_air</th>\n",
              "      <th>suhu</th>\n",
              "      <th>PPM</th>\n",
              "      <th>tinggi_air</th>\n",
              "    </tr>\n",
              "  </thead>\n",
              "  <tbody>\n",
              "    <tr>\n",
              "      <th>0</th>\n",
              "      <td>6.5</td>\n",
              "      <td>5.0</td>\n",
              "      <td>4.0</td>\n",
              "      <td>27.0</td>\n",
              "      <td>188.0</td>\n",
              "      <td>622.0</td>\n",
              "    </tr>\n",
              "    <tr>\n",
              "      <th>1</th>\n",
              "      <td>5.7</td>\n",
              "      <td>5.0</td>\n",
              "      <td>4.0</td>\n",
              "      <td>26.9</td>\n",
              "      <td>79.0</td>\n",
              "      <td>557.0</td>\n",
              "    </tr>\n",
              "    <tr>\n",
              "      <th>2</th>\n",
              "      <td>6.0</td>\n",
              "      <td>5.0</td>\n",
              "      <td>4.0</td>\n",
              "      <td>27.0</td>\n",
              "      <td>11.0</td>\n",
              "      <td>491.0</td>\n",
              "    </tr>\n",
              "    <tr>\n",
              "      <th>3</th>\n",
              "      <td>6.5</td>\n",
              "      <td>5.0</td>\n",
              "      <td>4.0</td>\n",
              "      <td>27.1</td>\n",
              "      <td>345.0</td>\n",
              "      <td>12000.0</td>\n",
              "    </tr>\n",
              "    <tr>\n",
              "      <th>10</th>\n",
              "      <td>6.5</td>\n",
              "      <td>5.0</td>\n",
              "      <td>4.0</td>\n",
              "      <td>26.5</td>\n",
              "      <td>994.0</td>\n",
              "      <td>219.0</td>\n",
              "    </tr>\n",
              "    <tr>\n",
              "      <th>...</th>\n",
              "      <td>...</td>\n",
              "      <td>...</td>\n",
              "      <td>...</td>\n",
              "      <td>...</td>\n",
              "      <td>...</td>\n",
              "      <td>...</td>\n",
              "    </tr>\n",
              "    <tr>\n",
              "      <th>611</th>\n",
              "      <td>4.6</td>\n",
              "      <td>5.0</td>\n",
              "      <td>1.0</td>\n",
              "      <td>25.3</td>\n",
              "      <td>904.0</td>\n",
              "      <td>47.0</td>\n",
              "    </tr>\n",
              "    <tr>\n",
              "      <th>612</th>\n",
              "      <td>2.1</td>\n",
              "      <td>5.0</td>\n",
              "      <td>1.0</td>\n",
              "      <td>25.0</td>\n",
              "      <td>388.0</td>\n",
              "      <td>18.0</td>\n",
              "    </tr>\n",
              "    <tr>\n",
              "      <th>613</th>\n",
              "      <td>3.2</td>\n",
              "      <td>5.0</td>\n",
              "      <td>1.0</td>\n",
              "      <td>25.3</td>\n",
              "      <td>793.0</td>\n",
              "      <td>19.0</td>\n",
              "    </tr>\n",
              "    <tr>\n",
              "      <th>614</th>\n",
              "      <td>1.4</td>\n",
              "      <td>5.0</td>\n",
              "      <td>1.0</td>\n",
              "      <td>25.4</td>\n",
              "      <td>1052.0</td>\n",
              "      <td>3.0</td>\n",
              "    </tr>\n",
              "    <tr>\n",
              "      <th>615</th>\n",
              "      <td>5.0</td>\n",
              "      <td>5.0</td>\n",
              "      <td>1.0</td>\n",
              "      <td>25.3</td>\n",
              "      <td>977.0</td>\n",
              "      <td>19.0</td>\n",
              "    </tr>\n",
              "  </tbody>\n",
              "</table>\n",
              "<p>590 rows × 6 columns</p>\n",
              "</div>"
            ],
            "text/plain": [
              "      PH  cahaya  intensitas_air  suhu     PPM  tinggi_air\n",
              "0    6.5     5.0             4.0  27.0   188.0       622.0\n",
              "1    5.7     5.0             4.0  26.9    79.0       557.0\n",
              "2    6.0     5.0             4.0  27.0    11.0       491.0\n",
              "3    6.5     5.0             4.0  27.1   345.0     12000.0\n",
              "10   6.5     5.0             4.0  26.5   994.0       219.0\n",
              "..   ...     ...             ...   ...     ...         ...\n",
              "611  4.6     5.0             1.0  25.3   904.0        47.0\n",
              "612  2.1     5.0             1.0  25.0   388.0        18.0\n",
              "613  3.2     5.0             1.0  25.3   793.0        19.0\n",
              "614  1.4     5.0             1.0  25.4  1052.0         3.0\n",
              "615  5.0     5.0             1.0  25.3   977.0        19.0\n",
              "\n",
              "[590 rows x 6 columns]"
            ]
          },
          "metadata": {},
          "execution_count": 24
        }
      ]
    },
    {
      "cell_type": "code",
      "metadata": {
        "id": "gr9viudkwCmG",
        "colab": {
          "base_uri": "https://localhost:8080/",
          "height": 419
        },
        "outputId": "8c5acc73-6caa-4fe8-d870-ef85026c0e6a"
      },
      "source": [
        "from scipy import stats\n",
        "\n",
        "z_scores = stats.zscore(data2_encode.iloc[:,:6])\n",
        "\n",
        "abs_z_scores = np.abs(z_scores)\n",
        "filtered_entries = (abs_z_scores < 3).all(axis=1)\n",
        "data2_encode = data2_encode[filtered_entries]\n",
        "\n",
        "data2_encode"
      ],
      "execution_count": 25,
      "outputs": [
        {
          "output_type": "execute_result",
          "data": {
            "text/html": [
              "<div>\n",
              "<style scoped>\n",
              "    .dataframe tbody tr th:only-of-type {\n",
              "        vertical-align: middle;\n",
              "    }\n",
              "\n",
              "    .dataframe tbody tr th {\n",
              "        vertical-align: top;\n",
              "    }\n",
              "\n",
              "    .dataframe thead th {\n",
              "        text-align: right;\n",
              "    }\n",
              "</style>\n",
              "<table border=\"1\" class=\"dataframe\">\n",
              "  <thead>\n",
              "    <tr style=\"text-align: right;\">\n",
              "      <th></th>\n",
              "      <th>PH</th>\n",
              "      <th>cahaya</th>\n",
              "      <th>intensitas_air</th>\n",
              "      <th>suhu</th>\n",
              "      <th>PPM</th>\n",
              "      <th>tinggi_air</th>\n",
              "      <th>aksi</th>\n",
              "    </tr>\n",
              "  </thead>\n",
              "  <tbody>\n",
              "    <tr>\n",
              "      <th>0</th>\n",
              "      <td>6.5</td>\n",
              "      <td>5.0</td>\n",
              "      <td>4.0</td>\n",
              "      <td>27.0</td>\n",
              "      <td>188.0</td>\n",
              "      <td>622.0</td>\n",
              "      <td>Hidupkan Lampu dan Pompa nutrisi TDS</td>\n",
              "    </tr>\n",
              "    <tr>\n",
              "      <th>1</th>\n",
              "      <td>5.7</td>\n",
              "      <td>5.0</td>\n",
              "      <td>4.0</td>\n",
              "      <td>26.9</td>\n",
              "      <td>79.0</td>\n",
              "      <td>557.0</td>\n",
              "      <td>Hidupkan Lampu dan Pompa nutrisi TDS</td>\n",
              "    </tr>\n",
              "    <tr>\n",
              "      <th>2</th>\n",
              "      <td>6.0</td>\n",
              "      <td>5.0</td>\n",
              "      <td>4.0</td>\n",
              "      <td>27.0</td>\n",
              "      <td>11.0</td>\n",
              "      <td>491.0</td>\n",
              "      <td>Hidupkan Lampu dan Pompa nutrisi TDS</td>\n",
              "    </tr>\n",
              "    <tr>\n",
              "      <th>10</th>\n",
              "      <td>6.5</td>\n",
              "      <td>5.0</td>\n",
              "      <td>4.0</td>\n",
              "      <td>26.5</td>\n",
              "      <td>994.0</td>\n",
              "      <td>219.0</td>\n",
              "      <td>Hidupkan Lampu</td>\n",
              "    </tr>\n",
              "    <tr>\n",
              "      <th>11</th>\n",
              "      <td>6.5</td>\n",
              "      <td>5.0</td>\n",
              "      <td>4.0</td>\n",
              "      <td>29.9</td>\n",
              "      <td>1604.0</td>\n",
              "      <td>103.0</td>\n",
              "      <td>Hidupkan Lampu</td>\n",
              "    </tr>\n",
              "    <tr>\n",
              "      <th>...</th>\n",
              "      <td>...</td>\n",
              "      <td>...</td>\n",
              "      <td>...</td>\n",
              "      <td>...</td>\n",
              "      <td>...</td>\n",
              "      <td>...</td>\n",
              "      <td>...</td>\n",
              "    </tr>\n",
              "    <tr>\n",
              "      <th>611</th>\n",
              "      <td>4.6</td>\n",
              "      <td>5.0</td>\n",
              "      <td>1.0</td>\n",
              "      <td>25.3</td>\n",
              "      <td>904.0</td>\n",
              "      <td>47.0</td>\n",
              "      <td>Hidupkan Lampu</td>\n",
              "    </tr>\n",
              "    <tr>\n",
              "      <th>612</th>\n",
              "      <td>2.1</td>\n",
              "      <td>5.0</td>\n",
              "      <td>1.0</td>\n",
              "      <td>25.0</td>\n",
              "      <td>388.0</td>\n",
              "      <td>18.0</td>\n",
              "      <td>Hidupkan Lampu dan Pompa nutrisi TDS</td>\n",
              "    </tr>\n",
              "    <tr>\n",
              "      <th>613</th>\n",
              "      <td>3.2</td>\n",
              "      <td>5.0</td>\n",
              "      <td>1.0</td>\n",
              "      <td>25.3</td>\n",
              "      <td>793.0</td>\n",
              "      <td>19.0</td>\n",
              "      <td>Hidupkan Lampu</td>\n",
              "    </tr>\n",
              "    <tr>\n",
              "      <th>614</th>\n",
              "      <td>1.4</td>\n",
              "      <td>5.0</td>\n",
              "      <td>1.0</td>\n",
              "      <td>25.4</td>\n",
              "      <td>1052.0</td>\n",
              "      <td>3.0</td>\n",
              "      <td>Hidupkan Lampu</td>\n",
              "    </tr>\n",
              "    <tr>\n",
              "      <th>615</th>\n",
              "      <td>5.0</td>\n",
              "      <td>5.0</td>\n",
              "      <td>1.0</td>\n",
              "      <td>25.3</td>\n",
              "      <td>977.0</td>\n",
              "      <td>19.0</td>\n",
              "      <td>Hidupkan Lampu</td>\n",
              "    </tr>\n",
              "  </tbody>\n",
              "</table>\n",
              "<p>586 rows × 7 columns</p>\n",
              "</div>"
            ],
            "text/plain": [
              "      PH  cahaya  ...  tinggi_air                                  aksi\n",
              "0    6.5     5.0  ...       622.0  Hidupkan Lampu dan Pompa nutrisi TDS\n",
              "1    5.7     5.0  ...       557.0  Hidupkan Lampu dan Pompa nutrisi TDS\n",
              "2    6.0     5.0  ...       491.0  Hidupkan Lampu dan Pompa nutrisi TDS\n",
              "10   6.5     5.0  ...       219.0                        Hidupkan Lampu\n",
              "11   6.5     5.0  ...       103.0                        Hidupkan Lampu\n",
              "..   ...     ...  ...         ...                                   ...\n",
              "611  4.6     5.0  ...        47.0                        Hidupkan Lampu\n",
              "612  2.1     5.0  ...        18.0  Hidupkan Lampu dan Pompa nutrisi TDS\n",
              "613  3.2     5.0  ...        19.0                        Hidupkan Lampu\n",
              "614  1.4     5.0  ...         3.0                        Hidupkan Lampu\n",
              "615  5.0     5.0  ...        19.0                        Hidupkan Lampu\n",
              "\n",
              "[586 rows x 7 columns]"
            ]
          },
          "metadata": {},
          "execution_count": 25
        }
      ]
    },
    {
      "cell_type": "code",
      "metadata": {
        "colab": {
          "base_uri": "https://localhost:8080/"
        },
        "id": "YKqEpJPHLsLd",
        "outputId": "3f929bf4-d5d4-47b2-fd38-bed746c18892"
      },
      "source": [
        "data2_encode.info()"
      ],
      "execution_count": 26,
      "outputs": [
        {
          "output_type": "stream",
          "name": "stdout",
          "text": [
            "<class 'pandas.core.frame.DataFrame'>\n",
            "Int64Index: 586 entries, 0 to 615\n",
            "Data columns (total 7 columns):\n",
            " #   Column          Non-Null Count  Dtype  \n",
            "---  ------          --------------  -----  \n",
            " 0   PH              586 non-null    float64\n",
            " 1   cahaya          586 non-null    float64\n",
            " 2   intensitas_air  586 non-null    float64\n",
            " 3   suhu            586 non-null    float64\n",
            " 4   PPM             586 non-null    float64\n",
            " 5   tinggi_air      586 non-null    float64\n",
            " 6   aksi            586 non-null    object \n",
            "dtypes: float64(6), object(1)\n",
            "memory usage: 36.6+ KB\n"
          ]
        }
      ]
    },
    {
      "cell_type": "code",
      "metadata": {
        "colab": {
          "base_uri": "https://localhost:8080/",
          "height": 450
        },
        "id": "XW3RWYuuhH0J",
        "outputId": "ddf92da9-cc82-406e-d80c-7d6c1a745e9e"
      },
      "source": [
        "num_cols = ['PH', 'cahaya', 'intensitas_air', 'suhu', 'PPM', 'tinggi_air']\n",
        "plt.figure(figsize=(15,7))\n",
        "data2_encode[num_cols].boxplot()\n",
        "plt.title(\"Numerical variables in Titanic dataset\", fontsize=20)\n",
        "plt.show()"
      ],
      "execution_count": 27,
      "outputs": [
        {
          "output_type": "display_data",
          "data": {
            "image/png": "[encoded data removed]",
            "text/plain": [
              "<Figure size 1080x504 with 1 Axes>"
            ]
          },
          "metadata": {
            "needs_background": "light"
          }
        }
      ]
    },
    {
      "cell_type": "code",
      "metadata": {
        "id": "QDPY6ShI7I2R"
      },
      "source": [
        ""
      ],
      "execution_count": null,
      "outputs": []
    },
    {
      "cell_type": "markdown",
      "metadata": {
        "id": "EFQ0YfYLa9Vy"
      },
      "source": [
        "## 5. Pisahkan data feature dengan label"
      ]
    },
    {
      "cell_type": "code",
      "metadata": {
        "id": "Jjxt06KTa9Vy",
        "colab": {
          "base_uri": "https://localhost:8080/",
          "height": 419
        },
        "outputId": "12de0dc8-a977-4a9f-99a8-764d78478ece"
      },
      "source": [
        "#Isi Code\n",
        "# Data Feature\n",
        "X = data2_encode.iloc[:, :-1]\n",
        "X"
      ],
      "execution_count": 28,
      "outputs": [
        {
          "output_type": "execute_result",
          "data": {
            "text/html": [
              "<div>\n",
              "<style scoped>\n",
              "    .dataframe tbody tr th:only-of-type {\n",
              "        vertical-align: middle;\n",
              "    }\n",
              "\n",
              "    .dataframe tbody tr th {\n",
              "        vertical-align: top;\n",
              "    }\n",
              "\n",
              "    .dataframe thead th {\n",
              "        text-align: right;\n",
              "    }\n",
              "</style>\n",
              "<table border=\"1\" class=\"dataframe\">\n",
              "  <thead>\n",
              "    <tr style=\"text-align: right;\">\n",
              "      <th></th>\n",
              "      <th>PH</th>\n",
              "      <th>cahaya</th>\n",
              "      <th>intensitas_air</th>\n",
              "      <th>suhu</th>\n",
              "      <th>PPM</th>\n",
              "      <th>tinggi_air</th>\n",
              "    </tr>\n",
              "  </thead>\n",
              "  <tbody>\n",
              "    <tr>\n",
              "      <th>0</th>\n",
              "      <td>6.5</td>\n",
              "      <td>5.0</td>\n",
              "      <td>4.0</td>\n",
              "      <td>27.0</td>\n",
              "      <td>188.0</td>\n",
              "      <td>622.0</td>\n",
              "    </tr>\n",
              "    <tr>\n",
              "      <th>1</th>\n",
              "      <td>5.7</td>\n",
              "      <td>5.0</td>\n",
              "      <td>4.0</td>\n",
              "      <td>26.9</td>\n",
              "      <td>79.0</td>\n",
              "      <td>557.0</td>\n",
              "    </tr>\n",
              "    <tr>\n",
              "      <th>2</th>\n",
              "      <td>6.0</td>\n",
              "      <td>5.0</td>\n",
              "      <td>4.0</td>\n",
              "      <td>27.0</td>\n",
              "      <td>11.0</td>\n",
              "      <td>491.0</td>\n",
              "    </tr>\n",
              "    <tr>\n",
              "      <th>10</th>\n",
              "      <td>6.5</td>\n",
              "      <td>5.0</td>\n",
              "      <td>4.0</td>\n",
              "      <td>26.5</td>\n",
              "      <td>994.0</td>\n",
              "      <td>219.0</td>\n",
              "    </tr>\n",
              "    <tr>\n",
              "      <th>11</th>\n",
              "      <td>6.5</td>\n",
              "      <td>5.0</td>\n",
              "      <td>4.0</td>\n",
              "      <td>29.9</td>\n",
              "      <td>1604.0</td>\n",
              "      <td>103.0</td>\n",
              "    </tr>\n",
              "    <tr>\n",
              "      <th>...</th>\n",
              "      <td>...</td>\n",
              "      <td>...</td>\n",
              "      <td>...</td>\n",
              "      <td>...</td>\n",
              "      <td>...</td>\n",
              "      <td>...</td>\n",
              "    </tr>\n",
              "    <tr>\n",
              "      <th>611</th>\n",
              "      <td>4.6</td>\n",
              "      <td>5.0</td>\n",
              "      <td>1.0</td>\n",
              "      <td>25.3</td>\n",
              "      <td>904.0</td>\n",
              "      <td>47.0</td>\n",
              "    </tr>\n",
              "    <tr>\n",
              "      <th>612</th>\n",
              "      <td>2.1</td>\n",
              "      <td>5.0</td>\n",
              "      <td>1.0</td>\n",
              "      <td>25.0</td>\n",
              "      <td>388.0</td>\n",
              "      <td>18.0</td>\n",
              "    </tr>\n",
              "    <tr>\n",
              "      <th>613</th>\n",
              "      <td>3.2</td>\n",
              "      <td>5.0</td>\n",
              "      <td>1.0</td>\n",
              "      <td>25.3</td>\n",
              "      <td>793.0</td>\n",
              "      <td>19.0</td>\n",
              "    </tr>\n",
              "    <tr>\n",
              "      <th>614</th>\n",
              "      <td>1.4</td>\n",
              "      <td>5.0</td>\n",
              "      <td>1.0</td>\n",
              "      <td>25.4</td>\n",
              "      <td>1052.0</td>\n",
              "      <td>3.0</td>\n",
              "    </tr>\n",
              "    <tr>\n",
              "      <th>615</th>\n",
              "      <td>5.0</td>\n",
              "      <td>5.0</td>\n",
              "      <td>1.0</td>\n",
              "      <td>25.3</td>\n",
              "      <td>977.0</td>\n",
              "      <td>19.0</td>\n",
              "    </tr>\n",
              "  </tbody>\n",
              "</table>\n",
              "<p>586 rows × 6 columns</p>\n",
              "</div>"
            ],
            "text/plain": [
              "      PH  cahaya  intensitas_air  suhu     PPM  tinggi_air\n",
              "0    6.5     5.0             4.0  27.0   188.0       622.0\n",
              "1    5.7     5.0             4.0  26.9    79.0       557.0\n",
              "2    6.0     5.0             4.0  27.0    11.0       491.0\n",
              "10   6.5     5.0             4.0  26.5   994.0       219.0\n",
              "11   6.5     5.0             4.0  29.9  1604.0       103.0\n",
              "..   ...     ...             ...   ...     ...         ...\n",
              "611  4.6     5.0             1.0  25.3   904.0        47.0\n",
              "612  2.1     5.0             1.0  25.0   388.0        18.0\n",
              "613  3.2     5.0             1.0  25.3   793.0        19.0\n",
              "614  1.4     5.0             1.0  25.4  1052.0         3.0\n",
              "615  5.0     5.0             1.0  25.3   977.0        19.0\n",
              "\n",
              "[586 rows x 6 columns]"
            ]
          },
          "metadata": {},
          "execution_count": 28
        }
      ]
    },
    {
      "cell_type": "code",
      "metadata": {
        "colab": {
          "base_uri": "https://localhost:8080/"
        },
        "id": "vnvqqvSSon0a",
        "outputId": "63fd991b-5741-4641-a4f4-8695a285fd2b"
      },
      "source": [
        "# Label\n",
        "Y = data2_encode.iloc[:, -1]\n",
        "Y"
      ],
      "execution_count": 29,
      "outputs": [
        {
          "output_type": "execute_result",
          "data": {
            "text/plain": [
              "0      Hidupkan Lampu dan Pompa nutrisi TDS\n",
              "1      Hidupkan Lampu dan Pompa nutrisi TDS\n",
              "2      Hidupkan Lampu dan Pompa nutrisi TDS\n",
              "10                           Hidupkan Lampu\n",
              "11                           Hidupkan Lampu\n",
              "                       ...                 \n",
              "611                          Hidupkan Lampu\n",
              "612    Hidupkan Lampu dan Pompa nutrisi TDS\n",
              "613                          Hidupkan Lampu\n",
              "614                          Hidupkan Lampu\n",
              "615                          Hidupkan Lampu\n",
              "Name: aksi, Length: 586, dtype: object"
            ]
          },
          "metadata": {},
          "execution_count": 29
        }
      ]
    },
    {
      "cell_type": "markdown",
      "metadata": {
        "id": "YCGKwPFra9Vz"
      },
      "source": [
        "## 6. Check Imbalanced Dataset, jika imbalanced, gunakan smote"
      ]
    },
    {
      "cell_type": "code",
      "metadata": {
        "colab": {
          "base_uri": "https://localhost:8080/",
          "height": 173
        },
        "id": "s6qdjeJdr0dd",
        "outputId": "ee9620fa-ec16-429a-88c4-ff2808aa0286"
      },
      "source": [
        "from collections import Counter\n",
        "\n",
        "train = Counter(Y)\n",
        "train = pd.DataFrame.from_dict(train, orient='index')\n",
        "train.sort_index()"
      ],
      "execution_count": 30,
      "outputs": [
        {
          "output_type": "execute_result",
          "data": {
            "text/html": [
              "<div>\n",
              "<style scoped>\n",
              "    .dataframe tbody tr th:only-of-type {\n",
              "        vertical-align: middle;\n",
              "    }\n",
              "\n",
              "    .dataframe tbody tr th {\n",
              "        vertical-align: top;\n",
              "    }\n",
              "\n",
              "    .dataframe thead th {\n",
              "        text-align: right;\n",
              "    }\n",
              "</style>\n",
              "<table border=\"1\" class=\"dataframe\">\n",
              "  <thead>\n",
              "    <tr style=\"text-align: right;\">\n",
              "      <th></th>\n",
              "      <th>0</th>\n",
              "    </tr>\n",
              "  </thead>\n",
              "  <tbody>\n",
              "    <tr>\n",
              "      <th>Hidupkan Lampu</th>\n",
              "      <td>88</td>\n",
              "    </tr>\n",
              "    <tr>\n",
              "      <th>Hidupkan Lampu dan Pompa nutrisi TDS</th>\n",
              "      <td>39</td>\n",
              "    </tr>\n",
              "    <tr>\n",
              "      <th>Hidupkan Pompa nutrisi TDS</th>\n",
              "      <td>12</td>\n",
              "    </tr>\n",
              "    <tr>\n",
              "      <th>Tidak melakukan apa-apa</th>\n",
              "      <td>447</td>\n",
              "    </tr>\n",
              "  </tbody>\n",
              "</table>\n",
              "</div>"
            ],
            "text/plain": [
              "                                        0\n",
              "Hidupkan Lampu                         88\n",
              "Hidupkan Lampu dan Pompa nutrisi TDS   39\n",
              "Hidupkan Pompa nutrisi TDS             12\n",
              "Tidak melakukan apa-apa               447"
            ]
          },
          "metadata": {},
          "execution_count": 30
        }
      ]
    },
    {
      "cell_type": "code",
      "metadata": {
        "id": "5YI-izdXa9V0"
      },
      "source": [
        "# !pip install imbalanced-learn"
      ],
      "execution_count": 31,
      "outputs": []
    },
    {
      "cell_type": "code",
      "metadata": {
        "id": "DIfkA5_da9V0",
        "colab": {
          "base_uri": "https://localhost:8080/",
          "height": 173
        },
        "outputId": "50be3834-f113-461d-e03f-a6a634b82407"
      },
      "source": [
        "#Isi Code\n",
        "from imblearn.over_sampling import SMOTE\n",
        "import warnings\n",
        "warnings.filterwarnings(\"ignore\")\n",
        "\n",
        "over_sampler = SMOTE(k_neighbors=7)\n",
        "X_res, Y_res = over_sampler.fit_resample(X, Y)\n",
        "df_res = Counter(Y_res)\n",
        "df_res = pd.DataFrame.from_dict(df_res, orient='index')\n",
        "df_res.sort_index()"
      ],
      "execution_count": 60,
      "outputs": [
        {
          "output_type": "execute_result",
          "data": {
            "text/html": [
              "<div>\n",
              "<style scoped>\n",
              "    .dataframe tbody tr th:only-of-type {\n",
              "        vertical-align: middle;\n",
              "    }\n",
              "\n",
              "    .dataframe tbody tr th {\n",
              "        vertical-align: top;\n",
              "    }\n",
              "\n",
              "    .dataframe thead th {\n",
              "        text-align: right;\n",
              "    }\n",
              "</style>\n",
              "<table border=\"1\" class=\"dataframe\">\n",
              "  <thead>\n",
              "    <tr style=\"text-align: right;\">\n",
              "      <th></th>\n",
              "      <th>0</th>\n",
              "    </tr>\n",
              "  </thead>\n",
              "  <tbody>\n",
              "    <tr>\n",
              "      <th>Hidupkan Lampu</th>\n",
              "      <td>447</td>\n",
              "    </tr>\n",
              "    <tr>\n",
              "      <th>Hidupkan Lampu dan Pompa nutrisi TDS</th>\n",
              "      <td>447</td>\n",
              "    </tr>\n",
              "    <tr>\n",
              "      <th>Hidupkan Pompa nutrisi TDS</th>\n",
              "      <td>447</td>\n",
              "    </tr>\n",
              "    <tr>\n",
              "      <th>Tidak melakukan apa-apa</th>\n",
              "      <td>447</td>\n",
              "    </tr>\n",
              "  </tbody>\n",
              "</table>\n",
              "</div>"
            ],
            "text/plain": [
              "                                        0\n",
              "Hidupkan Lampu                        447\n",
              "Hidupkan Lampu dan Pompa nutrisi TDS  447\n",
              "Hidupkan Pompa nutrisi TDS            447\n",
              "Tidak melakukan apa-apa               447"
            ]
          },
          "metadata": {},
          "execution_count": 60
        }
      ]
    },
    {
      "cell_type": "markdown",
      "metadata": {
        "id": "2gLiWKVza9V1"
      },
      "source": [
        "## 7. Visualisasikan Data sehingga kita bisa mengetahui sebuah informasi"
      ]
    },
    {
      "cell_type": "code",
      "metadata": {
        "id": "hJMzN-gMa9V2",
        "colab": {
          "base_uri": "https://localhost:8080/",
          "height": 608
        },
        "outputId": "db5fde0a-b7ca-44c5-f6b8-d5999d7cef60"
      },
      "source": [
        "#Isi Code\n",
        "hist = data2_encode.hist(figsize=(20,10), layout=(2,3), bins=50, color=\"darkturquoise\")"
      ],
      "execution_count": 33,
      "outputs": [
        {
          "output_type": "display_data",
          "data": {
            "image/png": "[encoded data removed]",
            "text/plain": [
              "<Figure size 1440x720 with 6 Axes>"
            ]
          },
          "metadata": {
            "needs_background": "light"
          }
        }
      ]
    },
    {
      "cell_type": "code",
      "metadata": {
        "id": "FaMLEiNqxZaI",
        "colab": {
          "base_uri": "https://localhost:8080/",
          "height": 297
        },
        "outputId": "25fb3a83-2a83-41cd-a26b-f5013e386158"
      },
      "source": [
        "data2_encode.describe()"
      ],
      "execution_count": 61,
      "outputs": [
        {
          "output_type": "execute_result",
          "data": {
            "text/html": [
              "<div>\n",
              "<style scoped>\n",
              "    .dataframe tbody tr th:only-of-type {\n",
              "        vertical-align: middle;\n",
              "    }\n",
              "\n",
              "    .dataframe tbody tr th {\n",
              "        vertical-align: top;\n",
              "    }\n",
              "\n",
              "    .dataframe thead th {\n",
              "        text-align: right;\n",
              "    }\n",
              "</style>\n",
              "<table border=\"1\" class=\"dataframe\">\n",
              "  <thead>\n",
              "    <tr style=\"text-align: right;\">\n",
              "      <th></th>\n",
              "      <th>PH</th>\n",
              "      <th>cahaya</th>\n",
              "      <th>intensitas_air</th>\n",
              "      <th>suhu</th>\n",
              "      <th>PPM</th>\n",
              "      <th>tinggi_air</th>\n",
              "    </tr>\n",
              "  </thead>\n",
              "  <tbody>\n",
              "    <tr>\n",
              "      <th>count</th>\n",
              "      <td>586.000000</td>\n",
              "      <td>586.000000</td>\n",
              "      <td>586.000000</td>\n",
              "      <td>586.000000</td>\n",
              "      <td>586.000000</td>\n",
              "      <td>586.000000</td>\n",
              "    </tr>\n",
              "    <tr>\n",
              "      <th>mean</th>\n",
              "      <td>6.639932</td>\n",
              "      <td>5.486348</td>\n",
              "      <td>2.482935</td>\n",
              "      <td>30.112628</td>\n",
              "      <td>1035.460751</td>\n",
              "      <td>252.634812</td>\n",
              "    </tr>\n",
              "    <tr>\n",
              "      <th>std</th>\n",
              "      <td>2.986032</td>\n",
              "      <td>0.500241</td>\n",
              "      <td>1.098818</td>\n",
              "      <td>3.037601</td>\n",
              "      <td>631.173683</td>\n",
              "      <td>200.680772</td>\n",
              "    </tr>\n",
              "    <tr>\n",
              "      <th>min</th>\n",
              "      <td>0.000000</td>\n",
              "      <td>5.000000</td>\n",
              "      <td>1.000000</td>\n",
              "      <td>25.000000</td>\n",
              "      <td>1.000000</td>\n",
              "      <td>0.000000</td>\n",
              "    </tr>\n",
              "    <tr>\n",
              "      <th>25%</th>\n",
              "      <td>5.600000</td>\n",
              "      <td>5.000000</td>\n",
              "      <td>2.000000</td>\n",
              "      <td>27.100000</td>\n",
              "      <td>497.750000</td>\n",
              "      <td>50.000000</td>\n",
              "    </tr>\n",
              "    <tr>\n",
              "      <th>50%</th>\n",
              "      <td>6.500000</td>\n",
              "      <td>5.000000</td>\n",
              "      <td>2.000000</td>\n",
              "      <td>29.900000</td>\n",
              "      <td>992.500000</td>\n",
              "      <td>222.500000</td>\n",
              "    </tr>\n",
              "    <tr>\n",
              "      <th>75%</th>\n",
              "      <td>7.500000</td>\n",
              "      <td>6.000000</td>\n",
              "      <td>3.000000</td>\n",
              "      <td>33.000000</td>\n",
              "      <td>1603.750000</td>\n",
              "      <td>429.000000</td>\n",
              "    </tr>\n",
              "    <tr>\n",
              "      <th>max</th>\n",
              "      <td>14.000000</td>\n",
              "      <td>6.000000</td>\n",
              "      <td>4.000000</td>\n",
              "      <td>40.600000</td>\n",
              "      <td>2149.000000</td>\n",
              "      <td>629.000000</td>\n",
              "    </tr>\n",
              "  </tbody>\n",
              "</table>\n",
              "</div>"
            ],
            "text/plain": [
              "               PH      cahaya  ...          PPM  tinggi_air\n",
              "count  586.000000  586.000000  ...   586.000000  586.000000\n",
              "mean     6.639932    5.486348  ...  1035.460751  252.634812\n",
              "std      2.986032    0.500241  ...   631.173683  200.680772\n",
              "min      0.000000    5.000000  ...     1.000000    0.000000\n",
              "25%      5.600000    5.000000  ...   497.750000   50.000000\n",
              "50%      6.500000    5.000000  ...   992.500000  222.500000\n",
              "75%      7.500000    6.000000  ...  1603.750000  429.000000\n",
              "max     14.000000    6.000000  ...  2149.000000  629.000000\n",
              "\n",
              "[8 rows x 6 columns]"
            ]
          },
          "metadata": {},
          "execution_count": 61
        }
      ]
    },
    {
      "cell_type": "markdown",
      "metadata": {
        "id": "byMOPkmra9V2"
      },
      "source": [
        "## 8. Lakukan Normalization menggunakan MinMaxScaler atau Standardization menggunakan StandarScaler"
      ]
    },
    {
      "cell_type": "code",
      "metadata": {
        "id": "i0XxulQra9V3",
        "colab": {
          "base_uri": "https://localhost:8080/"
        },
        "outputId": "b307fcdc-1195-4f5c-dcd3-73d678ef6da9"
      },
      "source": [
        "#Isi Kode\n",
        "from sklearn.preprocessing import MinMaxScaler\n",
        "\n",
        "scaler =  MinMaxScaler()\n",
        "X_scaled = scaler.fit_transform(X_res.astype(float))\n",
        "print(len(X_scaled), len(X_res))"
      ],
      "execution_count": 35,
      "outputs": [
        {
          "output_type": "stream",
          "name": "stdout",
          "text": [
            "1788 1788\n"
          ]
        }
      ]
    },
    {
      "cell_type": "code",
      "metadata": {
        "colab": {
          "base_uri": "https://localhost:8080/"
        },
        "id": "sVomyz4uZMi_",
        "outputId": "f812302f-21c8-49aa-f691-a50b98891f25"
      },
      "source": [
        "from sklearn import preprocessing\n",
        "\n",
        "standard_scaler = preprocessing.StandardScaler()\n",
        "X_std = preprocessing.StandardScaler().fit(X_res).transform(X_res.astype(float))\n",
        "print(len(X_std), len(X_res), len(Y_res))"
      ],
      "execution_count": 36,
      "outputs": [
        {
          "output_type": "stream",
          "name": "stdout",
          "text": [
            "1788 1788 1788\n"
          ]
        }
      ]
    },
    {
      "cell_type": "markdown",
      "metadata": {
        "id": "FJpwBxZfa9V3"
      },
      "source": [
        "## 9. Buat model ANN"
      ]
    },
    {
      "cell_type": "code",
      "metadata": {
        "id": "g5o_R7WbJXJp"
      },
      "source": [
        "from sklearn.preprocessing import LabelEncoder\n",
        "from sklearn.model_selection import train_test_split"
      ],
      "execution_count": 37,
      "outputs": []
    },
    {
      "cell_type": "code",
      "metadata": {
        "id": "1Zo0ODA8a9V4",
        "colab": {
          "base_uri": "https://localhost:8080/"
        },
        "outputId": "db73b3bc-0bf1-4cf1-c77d-dd4d2e2face6"
      },
      "source": [
        "#Isi Code\n",
        "\n",
        "# encode string menjadi integer\n",
        "y = LabelEncoder().fit_transform(Y_res)\n",
        "\n",
        "# split dataset menjadi 80% data training dan 20% data testing\n",
        "X_train_ANN, X_test_ANN, y_train_ANN, y_test_ANN = train_test_split(X_std, y, test_size=0.2, random_state=4)\n",
        "print('Train set:', X_train_ANN.shape,  y_train_ANN.shape)\n",
        "print('Test set:', X_test_ANN.shape,  y_test_ANN.shape)\n",
        "\n",
        "\n",
        "# memperoleh banyaknya jumlah fitur pada input\n",
        "n_features = X_train_ANN.shape[1]"
      ],
      "execution_count": 38,
      "outputs": [
        {
          "output_type": "stream",
          "name": "stdout",
          "text": [
            "Train set: (1430, 6) (1430,)\n",
            "Test set: (358, 6) (358,)\n"
          ]
        }
      ]
    },
    {
      "cell_type": "code",
      "metadata": {
        "colab": {
          "base_uri": "https://localhost:8080/"
        },
        "id": "laDoovc8JvTL",
        "outputId": "70f52983-61c3-4258-82e4-e5cb29fea9e4"
      },
      "source": [
        "y"
      ],
      "execution_count": 39,
      "outputs": [
        {
          "output_type": "execute_result",
          "data": {
            "text/plain": [
              "array([1, 1, 1, ..., 2, 2, 2])"
            ]
          },
          "metadata": {},
          "execution_count": 39
        }
      ]
    },
    {
      "cell_type": "code",
      "metadata": {
        "id": "6B8kqU-RJbmA"
      },
      "source": [
        "from tensorflow.keras.layers import Dense, Dropout, BatchNormalization\n",
        "from tensorflow.keras import Sequential\n",
        "from tensorflow.keras.optimizers import SGD"
      ],
      "execution_count": 40,
      "outputs": []
    },
    {
      "cell_type": "code",
      "metadata": {
        "id": "MZHGSlcZLyTh"
      },
      "source": [
        "# from tensorflow.keras.optimizers import Adam\n",
        "# from tensorflow.keras.losses import MeanSquaredError"
      ],
      "execution_count": 42,
      "outputs": []
    },
    {
      "cell_type": "code",
      "metadata": {
        "id": "uJ8B5Eu9EYsL"
      },
      "source": [
        "# # define model\n",
        "# model = Sequential()\n",
        "# model.add(Dense(16, input_shape=(n_features,)))\n",
        "# model.add(Dropout(0.5))\n",
        "# model.add(BatchNormalization())\n",
        "# model.add(Dense(32, activation = 'relu'))\n",
        "# model.add(Dense(32, activation = 'relu'))\n",
        "# model.add(Dropout(0.15))\n",
        "# model.add(Dense(28))\n",
        "# model.add(Dense(10))\n",
        "# model.add(BatchNormalization())\n",
        "# model.add(Dense(6))\n",
        "# model.add(Dense(1, activation='sigmoid'))\n",
        "\n",
        "# # compile model \n",
        "# model.compile(loss='mean_squared_error', optimizer='adam', metrics=['accuracy'])\n",
        "\n",
        "# # fit model \n",
        "# history = model.fit(X_train_ANN, y_train_ANN, epochs=100, batch_size=10, verbose=1, validation_split=0.2)"
      ],
      "execution_count": 41,
      "outputs": []
    },
    {
      "cell_type": "code",
      "metadata": {
        "id": "t2hCSBr0S9ML"
      },
      "source": [
        "# # define model \n",
        "# model = Sequential()\n",
        "# model.add(Dense(16, activation='relu', input_shape=(n_features, )))\n",
        "# model.add(Dense(8, activation='relu'))\n",
        "# model.add(Dense(8, activation='relu'))\n",
        "# model.add(Dense(1, activation='sigmoid'))\n",
        "\n",
        "# # compile model \n",
        "# model.compile(loss='mean_squared_error', optimizer='adam', metrics=['accuracy'])\n",
        "\n",
        "# # fit model \n",
        "# history = model.fit(X_train_ANN, y_train_ANN, epochs=100, batch_size=10, validation_split=0.2, verbose=2)"
      ],
      "execution_count": 43,
      "outputs": []
    },
    {
      "cell_type": "code",
      "metadata": {
        "colab": {
          "base_uri": "https://localhost:8080/"
        },
        "id": "jZ4QO2hxeL33",
        "outputId": "6472b328-8af9-4516-fc80-02d57826a45b"
      },
      "source": [
        "model = Sequential()\n",
        "model.add(Dense(10, activation='relu', input_shape=(n_features, )))\n",
        "model.add(Dense(10, activation='relu', kernel_initializer='uniform'))\n",
        "model.add(Dropout(0.1))\n",
        "model.add(Dense(1, activation='relu'))\n",
        "sdg = SGD(lr=0.001, momentum=0.9)\n",
        "model.compile(loss='mean_absolute_error', optimizer=sdg, metrics=['accuracy'])\n",
        "history = model.fit(X_train_ANN, y_train_ANN, epochs=100, batch_size=10, validation_split=0.2, verbose=2)"
      ],
      "execution_count": 44,
      "outputs": [
        {
          "output_type": "stream",
          "name": "stdout",
          "text": [
            "Epoch 1/100\n",
            "115/115 - 1s - loss: 1.3507 - accuracy: 0.2605 - val_loss: 1.0708 - val_accuracy: 0.2622\n",
            "Epoch 2/100\n",
            "115/115 - 0s - loss: 0.9515 - accuracy: 0.2448 - val_loss: 0.7845 - val_accuracy: 0.2622\n",
            "Epoch 3/100\n",
            "115/115 - 0s - loss: 0.6604 - accuracy: 0.2797 - val_loss: 0.4355 - val_accuracy: 0.3427\n",
            "Epoch 4/100\n",
            "115/115 - 0s - loss: 0.4549 - accuracy: 0.3759 - val_loss: 0.3488 - val_accuracy: 0.4126\n",
            "Epoch 5/100\n",
            "115/115 - 0s - loss: 0.4100 - accuracy: 0.3942 - val_loss: 0.3325 - val_accuracy: 0.4196\n",
            "Epoch 6/100\n",
            "115/115 - 0s - loss: 0.3964 - accuracy: 0.3995 - val_loss: 0.3179 - val_accuracy: 0.4266\n",
            "Epoch 7/100\n",
            "115/115 - 0s - loss: 0.3840 - accuracy: 0.3977 - val_loss: 0.3225 - val_accuracy: 0.4301\n",
            "Epoch 8/100\n",
            "115/115 - 0s - loss: 0.3741 - accuracy: 0.3995 - val_loss: 0.2982 - val_accuracy: 0.4266\n",
            "Epoch 9/100\n",
            "115/115 - 0s - loss: 0.3687 - accuracy: 0.4030 - val_loss: 0.2914 - val_accuracy: 0.4266\n",
            "Epoch 10/100\n",
            "115/115 - 0s - loss: 0.3551 - accuracy: 0.4108 - val_loss: 0.2856 - val_accuracy: 0.4266\n",
            "Epoch 11/100\n",
            "115/115 - 0s - loss: 0.3599 - accuracy: 0.4135 - val_loss: 0.2875 - val_accuracy: 0.4266\n",
            "Epoch 12/100\n",
            "115/115 - 0s - loss: 0.3506 - accuracy: 0.4126 - val_loss: 0.2822 - val_accuracy: 0.4371\n",
            "Epoch 13/100\n",
            "115/115 - 0s - loss: 0.3517 - accuracy: 0.4091 - val_loss: 0.2820 - val_accuracy: 0.4406\n",
            "Epoch 14/100\n",
            "115/115 - 0s - loss: 0.3411 - accuracy: 0.4108 - val_loss: 0.2848 - val_accuracy: 0.4476\n",
            "Epoch 15/100\n",
            "115/115 - 0s - loss: 0.3383 - accuracy: 0.4248 - val_loss: 0.2686 - val_accuracy: 0.4476\n",
            "Epoch 16/100\n",
            "115/115 - 0s - loss: 0.3427 - accuracy: 0.4283 - val_loss: 0.2654 - val_accuracy: 0.4510\n",
            "Epoch 17/100\n",
            "115/115 - 0s - loss: 0.3321 - accuracy: 0.4301 - val_loss: 0.2647 - val_accuracy: 0.4510\n",
            "Epoch 18/100\n",
            "115/115 - 0s - loss: 0.3138 - accuracy: 0.4371 - val_loss: 0.2595 - val_accuracy: 0.4545\n",
            "Epoch 19/100\n",
            "115/115 - 0s - loss: 0.3208 - accuracy: 0.4423 - val_loss: 0.2630 - val_accuracy: 0.4545\n",
            "Epoch 20/100\n",
            "115/115 - 0s - loss: 0.3111 - accuracy: 0.4423 - val_loss: 0.2537 - val_accuracy: 0.4545\n",
            "Epoch 21/100\n",
            "115/115 - 0s - loss: 0.3070 - accuracy: 0.4476 - val_loss: 0.2485 - val_accuracy: 0.4580\n",
            "Epoch 22/100\n",
            "115/115 - 0s - loss: 0.3095 - accuracy: 0.4414 - val_loss: 0.2556 - val_accuracy: 0.4615\n",
            "Epoch 23/100\n",
            "115/115 - 0s - loss: 0.2944 - accuracy: 0.4519 - val_loss: 0.2456 - val_accuracy: 0.4580\n",
            "Epoch 24/100\n",
            "115/115 - 0s - loss: 0.2946 - accuracy: 0.4537 - val_loss: 0.2384 - val_accuracy: 0.4580\n",
            "Epoch 25/100\n",
            "115/115 - 0s - loss: 0.2858 - accuracy: 0.4537 - val_loss: 0.2387 - val_accuracy: 0.4685\n",
            "Epoch 26/100\n",
            "115/115 - 0s - loss: 0.2809 - accuracy: 0.4554 - val_loss: 0.2329 - val_accuracy: 0.4650\n",
            "Epoch 27/100\n",
            "115/115 - 0s - loss: 0.2844 - accuracy: 0.4563 - val_loss: 0.2289 - val_accuracy: 0.4650\n",
            "Epoch 28/100\n",
            "115/115 - 0s - loss: 0.2788 - accuracy: 0.4537 - val_loss: 0.2366 - val_accuracy: 0.4685\n",
            "Epoch 29/100\n",
            "115/115 - 0s - loss: 0.2725 - accuracy: 0.4563 - val_loss: 0.2354 - val_accuracy: 0.4650\n",
            "Epoch 30/100\n",
            "115/115 - 0s - loss: 0.2635 - accuracy: 0.4537 - val_loss: 0.2170 - val_accuracy: 0.4650\n",
            "Epoch 31/100\n",
            "115/115 - 0s - loss: 0.2738 - accuracy: 0.4580 - val_loss: 0.2177 - val_accuracy: 0.4650\n",
            "Epoch 32/100\n",
            "115/115 - 0s - loss: 0.2706 - accuracy: 0.4519 - val_loss: 0.2149 - val_accuracy: 0.4650\n",
            "Epoch 33/100\n",
            "115/115 - 0s - loss: 0.2687 - accuracy: 0.4563 - val_loss: 0.2170 - val_accuracy: 0.4650\n",
            "Epoch 34/100\n",
            "115/115 - 0s - loss: 0.2648 - accuracy: 0.4572 - val_loss: 0.2175 - val_accuracy: 0.4650\n",
            "Epoch 35/100\n",
            "115/115 - 0s - loss: 0.2722 - accuracy: 0.4510 - val_loss: 0.2120 - val_accuracy: 0.4650\n",
            "Epoch 36/100\n",
            "115/115 - 0s - loss: 0.2553 - accuracy: 0.4633 - val_loss: 0.2140 - val_accuracy: 0.4650\n",
            "Epoch 37/100\n",
            "115/115 - 0s - loss: 0.2615 - accuracy: 0.4607 - val_loss: 0.2087 - val_accuracy: 0.4650\n",
            "Epoch 38/100\n",
            "115/115 - 0s - loss: 0.2606 - accuracy: 0.4598 - val_loss: 0.2175 - val_accuracy: 0.4685\n",
            "Epoch 39/100\n",
            "115/115 - 0s - loss: 0.2532 - accuracy: 0.4580 - val_loss: 0.2147 - val_accuracy: 0.4650\n",
            "Epoch 40/100\n",
            "115/115 - 0s - loss: 0.2530 - accuracy: 0.4572 - val_loss: 0.2061 - val_accuracy: 0.4720\n",
            "Epoch 41/100\n",
            "115/115 - 0s - loss: 0.2487 - accuracy: 0.4624 - val_loss: 0.2082 - val_accuracy: 0.4650\n",
            "Epoch 42/100\n",
            "115/115 - 0s - loss: 0.2556 - accuracy: 0.4580 - val_loss: 0.2016 - val_accuracy: 0.4650\n",
            "Epoch 43/100\n",
            "115/115 - 0s - loss: 0.2451 - accuracy: 0.4642 - val_loss: 0.2077 - val_accuracy: 0.4685\n",
            "Epoch 44/100\n",
            "115/115 - 0s - loss: 0.2423 - accuracy: 0.4642 - val_loss: 0.2036 - val_accuracy: 0.4650\n",
            "Epoch 45/100\n",
            "115/115 - 0s - loss: 0.2476 - accuracy: 0.4633 - val_loss: 0.1978 - val_accuracy: 0.4720\n",
            "Epoch 46/100\n",
            "115/115 - 0s - loss: 0.2479 - accuracy: 0.4659 - val_loss: 0.2037 - val_accuracy: 0.4685\n",
            "Epoch 47/100\n",
            "115/115 - 0s - loss: 0.2557 - accuracy: 0.4607 - val_loss: 0.2028 - val_accuracy: 0.4755\n",
            "Epoch 48/100\n",
            "115/115 - 0s - loss: 0.2380 - accuracy: 0.4659 - val_loss: 0.2042 - val_accuracy: 0.4685\n",
            "Epoch 49/100\n",
            "115/115 - 0s - loss: 0.2440 - accuracy: 0.4607 - val_loss: 0.2015 - val_accuracy: 0.4685\n",
            "Epoch 50/100\n",
            "115/115 - 0s - loss: 0.2372 - accuracy: 0.4598 - val_loss: 0.2099 - val_accuracy: 0.4755\n",
            "Epoch 51/100\n",
            "115/115 - 0s - loss: 0.2432 - accuracy: 0.4668 - val_loss: 0.1994 - val_accuracy: 0.4755\n",
            "Epoch 52/100\n",
            "115/115 - 0s - loss: 0.2368 - accuracy: 0.4703 - val_loss: 0.2005 - val_accuracy: 0.4720\n",
            "Epoch 53/100\n",
            "115/115 - 0s - loss: 0.2408 - accuracy: 0.4677 - val_loss: 0.2016 - val_accuracy: 0.4720\n",
            "Epoch 54/100\n",
            "115/115 - 0s - loss: 0.2416 - accuracy: 0.4633 - val_loss: 0.2107 - val_accuracy: 0.4755\n",
            "Epoch 55/100\n",
            "115/115 - 0s - loss: 0.2379 - accuracy: 0.4685 - val_loss: 0.1967 - val_accuracy: 0.4755\n",
            "Epoch 56/100\n",
            "115/115 - 0s - loss: 0.2392 - accuracy: 0.4615 - val_loss: 0.2116 - val_accuracy: 0.4755\n",
            "Epoch 57/100\n",
            "115/115 - 0s - loss: 0.2376 - accuracy: 0.4677 - val_loss: 0.1954 - val_accuracy: 0.4720\n",
            "Epoch 58/100\n",
            "115/115 - 0s - loss: 0.2314 - accuracy: 0.4694 - val_loss: 0.2025 - val_accuracy: 0.4755\n",
            "Epoch 59/100\n",
            "115/115 - 0s - loss: 0.2355 - accuracy: 0.4677 - val_loss: 0.2002 - val_accuracy: 0.4755\n",
            "Epoch 60/100\n",
            "115/115 - 0s - loss: 0.2372 - accuracy: 0.4685 - val_loss: 0.2012 - val_accuracy: 0.4755\n",
            "Epoch 61/100\n",
            "115/115 - 0s - loss: 0.2334 - accuracy: 0.4694 - val_loss: 0.1994 - val_accuracy: 0.4720\n",
            "Epoch 62/100\n",
            "115/115 - 0s - loss: 0.2275 - accuracy: 0.4677 - val_loss: 0.1958 - val_accuracy: 0.4755\n",
            "Epoch 63/100\n",
            "115/115 - 0s - loss: 0.2316 - accuracy: 0.4677 - val_loss: 0.1987 - val_accuracy: 0.4720\n",
            "Epoch 64/100\n",
            "115/115 - 0s - loss: 0.2359 - accuracy: 0.4712 - val_loss: 0.2002 - val_accuracy: 0.4755\n",
            "Epoch 65/100\n",
            "115/115 - 0s - loss: 0.2374 - accuracy: 0.4668 - val_loss: 0.1904 - val_accuracy: 0.4755\n",
            "Epoch 66/100\n",
            "115/115 - 0s - loss: 0.2304 - accuracy: 0.4685 - val_loss: 0.1947 - val_accuracy: 0.4720\n",
            "Epoch 67/100\n",
            "115/115 - 0s - loss: 0.2286 - accuracy: 0.4642 - val_loss: 0.1953 - val_accuracy: 0.4755\n",
            "Epoch 68/100\n",
            "115/115 - 0s - loss: 0.2285 - accuracy: 0.4668 - val_loss: 0.1977 - val_accuracy: 0.4755\n",
            "Epoch 69/100\n",
            "115/115 - 0s - loss: 0.2292 - accuracy: 0.4659 - val_loss: 0.1985 - val_accuracy: 0.4755\n",
            "Epoch 70/100\n",
            "115/115 - 0s - loss: 0.2217 - accuracy: 0.4720 - val_loss: 0.1953 - val_accuracy: 0.4755\n",
            "Epoch 71/100\n",
            "115/115 - 0s - loss: 0.2314 - accuracy: 0.4659 - val_loss: 0.1949 - val_accuracy: 0.4755\n",
            "Epoch 72/100\n",
            "115/115 - 0s - loss: 0.2304 - accuracy: 0.4694 - val_loss: 0.1908 - val_accuracy: 0.4755\n",
            "Epoch 73/100\n",
            "115/115 - 0s - loss: 0.2257 - accuracy: 0.4677 - val_loss: 0.2014 - val_accuracy: 0.4755\n",
            "Epoch 74/100\n",
            "115/115 - 0s - loss: 0.2168 - accuracy: 0.4720 - val_loss: 0.2037 - val_accuracy: 0.4790\n",
            "Epoch 75/100\n",
            "115/115 - 0s - loss: 0.2238 - accuracy: 0.4747 - val_loss: 0.2002 - val_accuracy: 0.4755\n",
            "Epoch 76/100\n",
            "115/115 - 0s - loss: 0.2304 - accuracy: 0.4685 - val_loss: 0.1981 - val_accuracy: 0.4755\n",
            "Epoch 77/100\n",
            "115/115 - 0s - loss: 0.2237 - accuracy: 0.4633 - val_loss: 0.1982 - val_accuracy: 0.4755\n",
            "Epoch 78/100\n",
            "115/115 - 0s - loss: 0.2205 - accuracy: 0.4712 - val_loss: 0.1933 - val_accuracy: 0.4755\n",
            "Epoch 79/100\n",
            "115/115 - 0s - loss: 0.2312 - accuracy: 0.4642 - val_loss: 0.2003 - val_accuracy: 0.4755\n",
            "Epoch 80/100\n",
            "115/115 - 0s - loss: 0.2213 - accuracy: 0.4712 - val_loss: 0.1883 - val_accuracy: 0.4755\n",
            "Epoch 81/100\n",
            "115/115 - 0s - loss: 0.2301 - accuracy: 0.4668 - val_loss: 0.1836 - val_accuracy: 0.4755\n",
            "Epoch 82/100\n",
            "115/115 - 0s - loss: 0.2348 - accuracy: 0.4633 - val_loss: 0.1930 - val_accuracy: 0.4755\n",
            "Epoch 83/100\n",
            "115/115 - 0s - loss: 0.2198 - accuracy: 0.4703 - val_loss: 0.1956 - val_accuracy: 0.4755\n",
            "Epoch 84/100\n",
            "115/115 - 0s - loss: 0.2171 - accuracy: 0.4729 - val_loss: 0.1971 - val_accuracy: 0.4755\n",
            "Epoch 85/100\n",
            "115/115 - 0s - loss: 0.2238 - accuracy: 0.4659 - val_loss: 0.1864 - val_accuracy: 0.4755\n",
            "Epoch 86/100\n",
            "115/115 - 0s - loss: 0.2176 - accuracy: 0.4685 - val_loss: 0.1943 - val_accuracy: 0.4790\n",
            "Epoch 87/100\n",
            "115/115 - 0s - loss: 0.2340 - accuracy: 0.4685 - val_loss: 0.1957 - val_accuracy: 0.4790\n",
            "Epoch 88/100\n",
            "115/115 - 0s - loss: 0.2268 - accuracy: 0.4668 - val_loss: 0.1995 - val_accuracy: 0.4790\n",
            "Epoch 89/100\n",
            "115/115 - 0s - loss: 0.2197 - accuracy: 0.4703 - val_loss: 0.1941 - val_accuracy: 0.4790\n",
            "Epoch 90/100\n",
            "115/115 - 0s - loss: 0.2270 - accuracy: 0.4659 - val_loss: 0.1985 - val_accuracy: 0.4755\n",
            "Epoch 91/100\n",
            "115/115 - 0s - loss: 0.2158 - accuracy: 0.4694 - val_loss: 0.1945 - val_accuracy: 0.4755\n",
            "Epoch 92/100\n",
            "115/115 - 0s - loss: 0.2243 - accuracy: 0.4650 - val_loss: 0.1906 - val_accuracy: 0.4755\n",
            "Epoch 93/100\n",
            "115/115 - 0s - loss: 0.2131 - accuracy: 0.4712 - val_loss: 0.1951 - val_accuracy: 0.4755\n",
            "Epoch 94/100\n",
            "115/115 - 0s - loss: 0.2275 - accuracy: 0.4677 - val_loss: 0.1967 - val_accuracy: 0.4755\n",
            "Epoch 95/100\n",
            "115/115 - 0s - loss: 0.2246 - accuracy: 0.4659 - val_loss: 0.1925 - val_accuracy: 0.4755\n",
            "Epoch 96/100\n",
            "115/115 - 0s - loss: 0.2152 - accuracy: 0.4685 - val_loss: 0.1969 - val_accuracy: 0.4755\n",
            "Epoch 97/100\n",
            "115/115 - 0s - loss: 0.2136 - accuracy: 0.4712 - val_loss: 0.1934 - val_accuracy: 0.4755\n",
            "Epoch 98/100\n",
            "115/115 - 0s - loss: 0.2242 - accuracy: 0.4703 - val_loss: 0.1942 - val_accuracy: 0.4755\n",
            "Epoch 99/100\n",
            "115/115 - 0s - loss: 0.2148 - accuracy: 0.4781 - val_loss: 0.1979 - val_accuracy: 0.4790\n",
            "Epoch 100/100\n",
            "115/115 - 0s - loss: 0.2173 - accuracy: 0.4729 - val_loss: 0.1902 - val_accuracy: 0.4790\n"
          ]
        }
      ]
    },
    {
      "cell_type": "code",
      "metadata": {
        "colab": {
          "base_uri": "https://localhost:8080/"
        },
        "id": "Q5A7PlKtSkE8",
        "outputId": "0ac3ac3a-a6e5-4328-9b6e-2c3982d5a5ff"
      },
      "source": [
        "model.summary()"
      ],
      "execution_count": 45,
      "outputs": [
        {
          "output_type": "stream",
          "name": "stdout",
          "text": [
            "Model: \"sequential\"\n",
            "_________________________________________________________________\n",
            "Layer (type)                 Output Shape              Param #   \n",
            "=================================================================\n",
            "dense (Dense)                (None, 10)                70        \n",
            "_________________________________________________________________\n",
            "dense_1 (Dense)              (None, 10)                110       \n",
            "_________________________________________________________________\n",
            "dropout (Dropout)            (None, 10)                0         \n",
            "_________________________________________________________________\n",
            "dense_2 (Dense)              (None, 1)                 11        \n",
            "=================================================================\n",
            "Total params: 191\n",
            "Trainable params: 191\n",
            "Non-trainable params: 0\n",
            "_________________________________________________________________\n"
          ]
        }
      ]
    },
    {
      "cell_type": "code",
      "metadata": {
        "id": "iv-hLLV_IreO"
      },
      "source": [
        "# Contoh model architecture plot\n",
        "from tensorflow.keras.utils import plot_model"
      ],
      "execution_count": 46,
      "outputs": []
    },
    {
      "cell_type": "code",
      "metadata": {
        "colab": {
          "base_uri": "https://localhost:8080/",
          "height": 533
        },
        "id": "cLhJjMY3FBPe",
        "outputId": "c6b61fed-6cf0-4963-8269-f682764e961f"
      },
      "source": [
        "# summarize model 1\n",
        "plot_model(model, 'model_summary.png', show_shapes=True)"
      ],
      "execution_count": 47,
      "outputs": [
        {
          "output_type": "execute_result",
          "data": {
            "image/png": "[encoded data removed]",
            "text/plain": [
              "<IPython.core.display.Image object>"
            ]
          },
          "metadata": {},
          "execution_count": 47
        }
      ]
    },
    {
      "cell_type": "code",
      "metadata": {
        "colab": {
          "base_uri": "https://localhost:8080/"
        },
        "id": "qG3fy-IYF74r",
        "outputId": "f0616f56-0849-4f8e-9611-318383c5cd67"
      },
      "source": [
        "model.evaluate(X_test_ANN, y_test_ANN, verbose=1)"
      ],
      "execution_count": 48,
      "outputs": [
        {
          "output_type": "stream",
          "name": "stdout",
          "text": [
            "12/12 [==============================] - 0s 1ms/step - loss: 0.1637 - accuracy: 0.5223\n"
          ]
        },
        {
          "output_type": "execute_result",
          "data": {
            "text/plain": [
              "[0.16372862458229065, 0.5223463773727417]"
            ]
          },
          "metadata": {},
          "execution_count": 48
        }
      ]
    },
    {
      "cell_type": "code",
      "metadata": {
        "id": "iiC5BS1_FSY9"
      },
      "source": [
        "from matplotlib import pyplot\n",
        "# plot learning curves"
      ],
      "execution_count": 49,
      "outputs": []
    },
    {
      "cell_type": "code",
      "metadata": {
        "colab": {
          "base_uri": "https://localhost:8080/",
          "height": 295
        },
        "id": "PWC0aYGQE6Sy",
        "outputId": "fd632762-1b55-4842-8031-ac2196bcfed2"
      },
      "source": [
        "pyplot.title('Learning Curves')\n",
        "pyplot.xlabel('Epoch')\n",
        "pyplot.ylabel('Accuracy')\n",
        "pyplot.plot(history.history['accuracy'], label='train')\n",
        "pyplot.plot(history.history['val_accuracy'], label='val')\n",
        "pyplot.legend()\n",
        "pyplot.show()"
      ],
      "execution_count": 50,
      "outputs": [
        {
          "output_type": "display_data",
          "data": {
            "image/png": "[encoded data removed]",
            "text/plain": [
              "<Figure size 432x288 with 1 Axes>"
            ]
          },
          "metadata": {
            "needs_background": "light"
          }
        }
      ]
    },
    {
      "cell_type": "code",
      "metadata": {
        "colab": {
          "base_uri": "https://localhost:8080/",
          "height": 295
        },
        "id": "M8HdDsCzFKZr",
        "outputId": "019bcada-c65b-4f31-f656-99bb1ab6595b"
      },
      "source": [
        "pyplot.title('Learning Curves')\n",
        "pyplot.xlabel('Epoch')\n",
        "pyplot.ylabel('Loss function')\n",
        "pyplot.plot(history.history['loss'], label='train')\n",
        "pyplot.plot(history.history['val_loss'], label='val')\n",
        "pyplot.legend()\n",
        "pyplot.show()"
      ],
      "execution_count": 51,
      "outputs": [
        {
          "output_type": "display_data",
          "data": {
            "image/png": "[encoded data removed]",
            "text/plain": [
              "<Figure size 432x288 with 1 Axes>"
            ]
          },
          "metadata": {
            "needs_background": "light"
          }
        }
      ]
    },
    {
      "cell_type": "markdown",
      "metadata": {
        "id": "ZVuY2QdwW6dO"
      },
      "source": [
        "## 10. Build Model KNN"
      ]
    },
    {
      "cell_type": "code",
      "metadata": {
        "id": "Myhdcwq1IoAu"
      },
      "source": [
        "#Isi Code\n",
        "import sklearn.metrics as metrics\n",
        "from sklearn.neighbors import KNeighborsClassifier\n",
        "from sklearn.model_selection import train_test_split"
      ],
      "execution_count": 52,
      "outputs": []
    },
    {
      "cell_type": "code",
      "metadata": {
        "colab": {
          "base_uri": "https://localhost:8080/"
        },
        "id": "lMdwF4EprnvP",
        "outputId": "f393c293-7b14-4b6a-ffe6-b0c77dcc08b1"
      },
      "source": [
        "X_train, X_test, Y_train, Y_test = train_test_split(X_scaled, Y_res, test_size=0.2, random_state=4)\n",
        "print ('Train set:', X_train.shape,  Y_train.shape)\n",
        "print ('Test set:', X_test.shape,  Y_test.shape)"
      ],
      "execution_count": 53,
      "outputs": [
        {
          "output_type": "stream",
          "name": "stdout",
          "text": [
            "Train set: (1430, 6) (1430,)\n",
            "Test set: (358, 6) (358,)\n"
          ]
        }
      ]
    },
    {
      "cell_type": "code",
      "metadata": {
        "id": "Dks_OpdeW9fY"
      },
      "source": [
        "#Isi Code\n",
        "from sklearn.neighbors import KNeighborsClassifier\n",
        "import sklearn.metrics as metrics"
      ],
      "execution_count": 54,
      "outputs": []
    },
    {
      "cell_type": "code",
      "metadata": {
        "colab": {
          "base_uri": "https://localhost:8080/"
        },
        "id": "e49w2ecXy4EI",
        "outputId": "5e5ddce3-cf44-478a-c8c9-99bf1c1a6f68"
      },
      "source": [
        "Ks = 50\n",
        "mean_acc_norm = np.zeros((Ks))\n",
        "\n",
        "for n in range(1,Ks+1):\n",
        "    \n",
        "    #Train Model and Predict  \n",
        "    neigh = KNeighborsClassifier(n_neighbors = n).fit(X_train,Y_train) #buat model\n",
        "    yhat_1 = neigh.predict(X_test) #memprediksi\n",
        "    mean_acc_norm[n-1] = metrics.accuracy_score(Y_test, yhat_1)\n",
        "\n",
        "print( \"The best accuracy was with\", max(mean_acc_norm))"
      ],
      "execution_count": 55,
      "outputs": [
        {
          "output_type": "stream",
          "name": "stdout",
          "text": [
            "The best accuracy was with 0.9664804469273743\n"
          ]
        }
      ]
    },
    {
      "cell_type": "code",
      "metadata": {
        "colab": {
          "base_uri": "https://localhost:8080/",
          "height": 334
        },
        "id": "dLpUSfJD-dYU",
        "outputId": "bbb249be-b06f-462a-dee4-40f189a07dcf"
      },
      "source": [
        "Ks = 50\n",
        "mean_acc2 =  []\n",
        "mean_acc3 = []\n",
        "\n",
        "for n in range(1,Ks+1):\n",
        "    \n",
        "    #Train Model and Predict  \n",
        "    neigh = KNeighborsClassifier(n_neighbors = n).fit(X_train, Y_train) #buat model\n",
        "    yhat2 = neigh.predict(X_train) #memprediksi\n",
        "    acc2 = metrics.accuracy_score(Y_train, yhat2)\n",
        "    mean_acc2.append(acc2)\n",
        "\n",
        "    #Train Model and Predict  \n",
        "    yhat3 = neigh.predict(X_test) #memprediksi\n",
        "    acc3 = metrics.accuracy_score(Y_test, yhat3)\n",
        "    mean_acc3.append(acc3)\n",
        "\n",
        "\n",
        "# plot of train and test scores vs tree depth\n",
        "fig = plt.figure(figsize =(10, 5))\n",
        "plt.plot(range(1,Ks+1),mean_acc2, '-o', label='Train')\n",
        "plt.plot(range(1,Ks+1),mean_acc3, '-o', label='Test')\n",
        "plt.ylabel('Accuracy ')\n",
        "plt.xlabel('Number of Nabors (K)')\n",
        "plt.legend()\n",
        "plt.show()"
      ],
      "execution_count": 56,
      "outputs": [
        {
          "output_type": "display_data",
          "data": {
            "image/png": "[encoded data removed]",
            "text/plain": [
              "<Figure size 720x360 with 1 Axes>"
            ]
          },
          "metadata": {
            "needs_background": "light"
          }
        }
      ]
    },
    {
      "cell_type": "code",
      "metadata": {
        "colab": {
          "base_uri": "https://localhost:8080/"
        },
        "id": "dZ-iY6FflPv9",
        "outputId": "0600391b-d982-446d-bc9a-564adfd57ebd"
      },
      "source": [
        "X_train2, X_test2, Y_train2, Y_test2 = train_test_split(X_std, Y_res, test_size=0.2, random_state=4)\n",
        "print ('Train set:', X_train2.shape,  Y_train2.shape)\n",
        "print ('Test set:', X_test2.shape,  Y_test2.shape)"
      ],
      "execution_count": 57,
      "outputs": [
        {
          "output_type": "stream",
          "name": "stdout",
          "text": [
            "Train set: (1430, 6) (1430,)\n",
            "Test set: (358, 6) (358,)\n"
          ]
        }
      ]
    },
    {
      "cell_type": "code",
      "metadata": {
        "colab": {
          "base_uri": "https://localhost:8080/"
        },
        "id": "76k57x30zH0t",
        "outputId": "abf20f15-326b-48e6-a4cc-5d0c2cf760e7"
      },
      "source": [
        "Ks = 50\n",
        "mean_acc_norm2 = np.zeros((Ks))\n",
        "\n",
        "for n in range(1,Ks+1):\n",
        "    \n",
        "    #Train Model and Predict  \n",
        "    neigh2 = KNeighborsClassifier(n_neighbors = n).fit(X_train2,Y_train2) #buat model\n",
        "    yhat_2 = neigh2.predict(X_test2) #memprediksi\n",
        "    mean_acc_norm2[n-1] = metrics.accuracy_score(Y_test2, yhat_2)\n",
        "\n",
        "print( \"The best accuracy was with\", max(mean_acc_norm2))"
      ],
      "execution_count": 58,
      "outputs": [
        {
          "output_type": "stream",
          "name": "stdout",
          "text": [
            "The best accuracy was with 0.9692737430167597\n"
          ]
        }
      ]
    },
    {
      "cell_type": "code",
      "metadata": {
        "colab": {
          "base_uri": "https://localhost:8080/",
          "height": 334
        },
        "id": "CLVguSHhzZqH",
        "outputId": "eafb95b9-0571-4aeb-85ea-7a21efa7af86"
      },
      "source": [
        "Ks = 50\n",
        "mean_acc4 =  []\n",
        "mean_acc5 = []\n",
        "\n",
        "for n in range(1,Ks+1):\n",
        "    \n",
        "    #Train Model and Predict  \n",
        "    neigh = KNeighborsClassifier(n_neighbors = n).fit(X_train2, Y_train2) #buat model\n",
        "    yhat4 = neigh.predict(X_train2) #memprediksi\n",
        "    acc4 = metrics.accuracy_score(Y_train2, yhat4)\n",
        "    mean_acc4.append(acc4)\n",
        "\n",
        "    #Train Model and Predict  \n",
        "    yhat5 = neigh.predict(X_test2) #memprediksi\n",
        "    acc5 = metrics.accuracy_score(Y_test2, yhat5)\n",
        "    mean_acc5.append(acc5)\n",
        "\n",
        "\n",
        "# plot of train and test scores vs tree depth\n",
        "fig = plt.figure(figsize =(10, 5))\n",
        "plt.plot(range(1,Ks+1),mean_acc4, '-o', label='Train')\n",
        "plt.plot(range(1,Ks+1),mean_acc5, '-o', label='Test')\n",
        "plt.ylabel('Accuracy ')\n",
        "plt.xlabel('Number of Nabors (K)')\n",
        "plt.legend()\n",
        "plt.show()"
      ],
      "execution_count": 59,
      "outputs": [
        {
          "output_type": "display_data",
          "data": {
            "image/png": "[encoded data removed]",
            "text/plain": [
              "<Figure size 720x360 with 1 Axes>"
            ]
          },
          "metadata": {
            "needs_background": "light"
          }
        }
      ]
    }
  ]
}