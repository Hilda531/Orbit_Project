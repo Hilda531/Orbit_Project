{
  "nbformat": 4,
  "nbformat_minor": 0,
  "metadata": {
    "kernelspec": {
      "display_name": "Python 3",
      "language": "python",
      "name": "python3"
    },
    "language_info": {
      "codemirror_mode": {
        "name": "ipython",
        "version": 3
      },
      "file_extension": ".py",
      "mimetype": "text/x-python",
      "name": "python",
      "nbconvert_exporter": "python",
      "pygments_lexer": "ipython3",
      "version": "3.7.6"
    },
    "colab": {
      "name": "Hilda Auliana_Data Preprocessing.ipynb",
      "provenance": [],
      "collapsed_sections": [],
      "include_colab_link": true
    }
  },
  "cells": [
    {
      "cell_type": "markdown",
      "metadata": {
        "id": "view-in-github",
        "colab_type": "text"
      },
      "source": [
        "<a href=\"https://colab.research.google.com/github/Hilda531/Orbit_Project/blob/main/Tugas%20Preprocessing.ipynb\" target=\"_parent\"><img src=\"https://colab.research.google.com/assets/colab-badge.svg\" alt=\"Open In Colab\"/></a>"
      ]
    },
    {
      "cell_type": "markdown",
      "metadata": {
        "id": "fXyErK3La9VY"
      },
      "source": [
        "## Import Library yg dibutuhkan"
      ]
    },
    {
      "cell_type": "code",
      "metadata": {
        "id": "o-sY0DCpa9Vi"
      },
      "source": [
        "import pandas as pd\n",
        "import matplotlib.pyplot as plt\n",
        "import seaborn as sns\n",
        "#tambahkan library sesuai kebutuhan"
      ],
      "execution_count": 1,
      "outputs": []
    },
    {
      "cell_type": "code",
      "metadata": {
        "colab": {
          "base_uri": "https://localhost:8080/"
        },
        "id": "Th7ZBwEwpCA4",
        "outputId": "2c2dc4fb-d547-4541-c0e7-67bf85353fac"
      },
      "source": [
        "from google.colab import drive\n",
        "drive.mount('/content/drive')"
      ],
      "execution_count": 2,
      "outputs": [
        {
          "output_type": "stream",
          "name": "stdout",
          "text": [
            "Mounted at /content/drive\n"
          ]
        }
      ]
    },
    {
      "cell_type": "markdown",
      "metadata": {
        "id": "uLNZYwquyKKa"
      },
      "source": [
        ""
      ]
    },
    {
      "cell_type": "code",
      "metadata": {
        "id": "mdVVIvqIa9Vm"
      },
      "source": [
        "data = pd.read_csv('/content/drive/MyDrive/Colab Notebooks/Studi/activity_km_07_01.csv')"
      ],
      "execution_count": 3,
      "outputs": []
    },
    {
      "cell_type": "code",
      "metadata": {
        "id": "Kwh2UjUMa9Vo",
        "colab": {
          "base_uri": "https://localhost:8080/",
          "height": 419
        },
        "outputId": "78222725-0869-48fb-cabb-9c9455e84eef"
      },
      "source": [
        "data"
      ],
      "execution_count": 4,
      "outputs": [
        {
          "output_type": "execute_result",
          "data": {
            "text/html": [
              "<div>\n",
              "<style scoped>\n",
              "    .dataframe tbody tr th:only-of-type {\n",
              "        vertical-align: middle;\n",
              "    }\n",
              "\n",
              "    .dataframe tbody tr th {\n",
              "        vertical-align: top;\n",
              "    }\n",
              "\n",
              "    .dataframe thead th {\n",
              "        text-align: right;\n",
              "    }\n",
              "</style>\n",
              "<table border=\"1\" class=\"dataframe\">\n",
              "  <thead>\n",
              "    <tr style=\"text-align: right;\">\n",
              "      <th></th>\n",
              "      <th>PH</th>\n",
              "      <th>cahaya</th>\n",
              "      <th>intensitas air</th>\n",
              "      <th>suhu</th>\n",
              "      <th>PPM</th>\n",
              "      <th>tinggi air</th>\n",
              "      <th>aksi</th>\n",
              "    </tr>\n",
              "  </thead>\n",
              "  <tbody>\n",
              "    <tr>\n",
              "      <th>0</th>\n",
              "      <td>6.5</td>\n",
              "      <td>Ada</td>\n",
              "      <td>Tinggi</td>\n",
              "      <td>27.0</td>\n",
              "      <td>188.0</td>\n",
              "      <td>622</td>\n",
              "      <td>Hidupkan Lampu dan Pompa nutrisi TDS</td>\n",
              "    </tr>\n",
              "    <tr>\n",
              "      <th>1</th>\n",
              "      <td>5.7</td>\n",
              "      <td>Ada</td>\n",
              "      <td>Tinggi</td>\n",
              "      <td>26.9</td>\n",
              "      <td>79.0</td>\n",
              "      <td>557</td>\n",
              "      <td>Hidupkan Lampu dan Pompa nutrisi TDS</td>\n",
              "    </tr>\n",
              "    <tr>\n",
              "      <th>2</th>\n",
              "      <td>6.0</td>\n",
              "      <td>Ada</td>\n",
              "      <td>Tinggi</td>\n",
              "      <td>27.0</td>\n",
              "      <td>11.0</td>\n",
              "      <td>491</td>\n",
              "      <td>Hidupkan Lampu dan Pompa nutrisi TDS</td>\n",
              "    </tr>\n",
              "    <tr>\n",
              "      <th>3</th>\n",
              "      <td>6.5</td>\n",
              "      <td>Ada</td>\n",
              "      <td>Tinggi</td>\n",
              "      <td>27.1</td>\n",
              "      <td>345.0</td>\n",
              "      <td>12000</td>\n",
              "      <td>Tidak melakukan apa-apa</td>\n",
              "    </tr>\n",
              "    <tr>\n",
              "      <th>4</th>\n",
              "      <td>6.2</td>\n",
              "      <td>NaN</td>\n",
              "      <td>Tinggi</td>\n",
              "      <td>27.1</td>\n",
              "      <td>602.0</td>\n",
              "      <td>444</td>\n",
              "      <td>Tidak melakukan apa-apa</td>\n",
              "    </tr>\n",
              "    <tr>\n",
              "      <th>...</th>\n",
              "      <td>...</td>\n",
              "      <td>...</td>\n",
              "      <td>...</td>\n",
              "      <td>...</td>\n",
              "      <td>...</td>\n",
              "      <td>...</td>\n",
              "      <td>...</td>\n",
              "    </tr>\n",
              "    <tr>\n",
              "      <th>611</th>\n",
              "      <td>4.6</td>\n",
              "      <td>Ada</td>\n",
              "      <td>Rendah sekali</td>\n",
              "      <td>25.3</td>\n",
              "      <td>904.0</td>\n",
              "      <td>47</td>\n",
              "      <td>Hidupkan Lampu</td>\n",
              "    </tr>\n",
              "    <tr>\n",
              "      <th>612</th>\n",
              "      <td>2.1</td>\n",
              "      <td>Ada</td>\n",
              "      <td>Rendah sekali</td>\n",
              "      <td>25.0</td>\n",
              "      <td>388.0</td>\n",
              "      <td>18</td>\n",
              "      <td>Hidupkan Lampu dan Pompa nutrisi TDS</td>\n",
              "    </tr>\n",
              "    <tr>\n",
              "      <th>613</th>\n",
              "      <td>3.2</td>\n",
              "      <td>Ada</td>\n",
              "      <td>Rendah sekali</td>\n",
              "      <td>25.3</td>\n",
              "      <td>793.0</td>\n",
              "      <td>19</td>\n",
              "      <td>Hidupkan Lampu</td>\n",
              "    </tr>\n",
              "    <tr>\n",
              "      <th>614</th>\n",
              "      <td>1.4</td>\n",
              "      <td>Ada</td>\n",
              "      <td>Rendah sekali</td>\n",
              "      <td>25.4</td>\n",
              "      <td>1052.0</td>\n",
              "      <td>3</td>\n",
              "      <td>Hidupkan Lampu</td>\n",
              "    </tr>\n",
              "    <tr>\n",
              "      <th>615</th>\n",
              "      <td>5.0</td>\n",
              "      <td>Ada</td>\n",
              "      <td>Rendah sekali</td>\n",
              "      <td>25.3</td>\n",
              "      <td>977.0</td>\n",
              "      <td>19</td>\n",
              "      <td>Hidupkan Lampu</td>\n",
              "    </tr>\n",
              "  </tbody>\n",
              "</table>\n",
              "<p>616 rows × 7 columns</p>\n",
              "</div>"
            ],
            "text/plain": [
              "      PH cahaya  ... tinggi air                                  aksi\n",
              "0    6.5    Ada  ...        622  Hidupkan Lampu dan Pompa nutrisi TDS\n",
              "1    5.7    Ada  ...        557  Hidupkan Lampu dan Pompa nutrisi TDS\n",
              "2    6.0    Ada  ...        491  Hidupkan Lampu dan Pompa nutrisi TDS\n",
              "3    6.5    Ada  ...      12000               Tidak melakukan apa-apa\n",
              "4    6.2    NaN  ...        444               Tidak melakukan apa-apa\n",
              "..   ...    ...  ...        ...                                   ...\n",
              "611  4.6    Ada  ...         47                        Hidupkan Lampu\n",
              "612  2.1    Ada  ...         18  Hidupkan Lampu dan Pompa nutrisi TDS\n",
              "613  3.2    Ada  ...         19                        Hidupkan Lampu\n",
              "614  1.4    Ada  ...          3                        Hidupkan Lampu\n",
              "615  5.0    Ada  ...         19                        Hidupkan Lampu\n",
              "\n",
              "[616 rows x 7 columns]"
            ]
          },
          "metadata": {},
          "execution_count": 4
        }
      ]
    },
    {
      "cell_type": "markdown",
      "metadata": {
        "id": "WZ3GE8pya9Vr"
      },
      "source": [
        "## 1. Mengganti nama kolom yang menggunakan spasi"
      ]
    },
    {
      "cell_type": "code",
      "metadata": {
        "id": "v0csWHwRa9Vs",
        "colab": {
          "base_uri": "https://localhost:8080/",
          "height": 419
        },
        "outputId": "0e0fe4ae-af55-4cdb-be08-e9f22ec4bceb"
      },
      "source": [
        "#isi code\n",
        "data = data.rename(columns = {'intensitas air':'intensitas_air', 'tinggi air':'tinggi_air'})\n",
        "data"
      ],
      "execution_count": 5,
      "outputs": [
        {
          "output_type": "execute_result",
          "data": {
            "text/html": [
              "<div>\n",
              "<style scoped>\n",
              "    .dataframe tbody tr th:only-of-type {\n",
              "        vertical-align: middle;\n",
              "    }\n",
              "\n",
              "    .dataframe tbody tr th {\n",
              "        vertical-align: top;\n",
              "    }\n",
              "\n",
              "    .dataframe thead th {\n",
              "        text-align: right;\n",
              "    }\n",
              "</style>\n",
              "<table border=\"1\" class=\"dataframe\">\n",
              "  <thead>\n",
              "    <tr style=\"text-align: right;\">\n",
              "      <th></th>\n",
              "      <th>PH</th>\n",
              "      <th>cahaya</th>\n",
              "      <th>intensitas_air</th>\n",
              "      <th>suhu</th>\n",
              "      <th>PPM</th>\n",
              "      <th>tinggi_air</th>\n",
              "      <th>aksi</th>\n",
              "    </tr>\n",
              "  </thead>\n",
              "  <tbody>\n",
              "    <tr>\n",
              "      <th>0</th>\n",
              "      <td>6.5</td>\n",
              "      <td>Ada</td>\n",
              "      <td>Tinggi</td>\n",
              "      <td>27.0</td>\n",
              "      <td>188.0</td>\n",
              "      <td>622</td>\n",
              "      <td>Hidupkan Lampu dan Pompa nutrisi TDS</td>\n",
              "    </tr>\n",
              "    <tr>\n",
              "      <th>1</th>\n",
              "      <td>5.7</td>\n",
              "      <td>Ada</td>\n",
              "      <td>Tinggi</td>\n",
              "      <td>26.9</td>\n",
              "      <td>79.0</td>\n",
              "      <td>557</td>\n",
              "      <td>Hidupkan Lampu dan Pompa nutrisi TDS</td>\n",
              "    </tr>\n",
              "    <tr>\n",
              "      <th>2</th>\n",
              "      <td>6.0</td>\n",
              "      <td>Ada</td>\n",
              "      <td>Tinggi</td>\n",
              "      <td>27.0</td>\n",
              "      <td>11.0</td>\n",
              "      <td>491</td>\n",
              "      <td>Hidupkan Lampu dan Pompa nutrisi TDS</td>\n",
              "    </tr>\n",
              "    <tr>\n",
              "      <th>3</th>\n",
              "      <td>6.5</td>\n",
              "      <td>Ada</td>\n",
              "      <td>Tinggi</td>\n",
              "      <td>27.1</td>\n",
              "      <td>345.0</td>\n",
              "      <td>12000</td>\n",
              "      <td>Tidak melakukan apa-apa</td>\n",
              "    </tr>\n",
              "    <tr>\n",
              "      <th>4</th>\n",
              "      <td>6.2</td>\n",
              "      <td>NaN</td>\n",
              "      <td>Tinggi</td>\n",
              "      <td>27.1</td>\n",
              "      <td>602.0</td>\n",
              "      <td>444</td>\n",
              "      <td>Tidak melakukan apa-apa</td>\n",
              "    </tr>\n",
              "    <tr>\n",
              "      <th>...</th>\n",
              "      <td>...</td>\n",
              "      <td>...</td>\n",
              "      <td>...</td>\n",
              "      <td>...</td>\n",
              "      <td>...</td>\n",
              "      <td>...</td>\n",
              "      <td>...</td>\n",
              "    </tr>\n",
              "    <tr>\n",
              "      <th>611</th>\n",
              "      <td>4.6</td>\n",
              "      <td>Ada</td>\n",
              "      <td>Rendah sekali</td>\n",
              "      <td>25.3</td>\n",
              "      <td>904.0</td>\n",
              "      <td>47</td>\n",
              "      <td>Hidupkan Lampu</td>\n",
              "    </tr>\n",
              "    <tr>\n",
              "      <th>612</th>\n",
              "      <td>2.1</td>\n",
              "      <td>Ada</td>\n",
              "      <td>Rendah sekali</td>\n",
              "      <td>25.0</td>\n",
              "      <td>388.0</td>\n",
              "      <td>18</td>\n",
              "      <td>Hidupkan Lampu dan Pompa nutrisi TDS</td>\n",
              "    </tr>\n",
              "    <tr>\n",
              "      <th>613</th>\n",
              "      <td>3.2</td>\n",
              "      <td>Ada</td>\n",
              "      <td>Rendah sekali</td>\n",
              "      <td>25.3</td>\n",
              "      <td>793.0</td>\n",
              "      <td>19</td>\n",
              "      <td>Hidupkan Lampu</td>\n",
              "    </tr>\n",
              "    <tr>\n",
              "      <th>614</th>\n",
              "      <td>1.4</td>\n",
              "      <td>Ada</td>\n",
              "      <td>Rendah sekali</td>\n",
              "      <td>25.4</td>\n",
              "      <td>1052.0</td>\n",
              "      <td>3</td>\n",
              "      <td>Hidupkan Lampu</td>\n",
              "    </tr>\n",
              "    <tr>\n",
              "      <th>615</th>\n",
              "      <td>5.0</td>\n",
              "      <td>Ada</td>\n",
              "      <td>Rendah sekali</td>\n",
              "      <td>25.3</td>\n",
              "      <td>977.0</td>\n",
              "      <td>19</td>\n",
              "      <td>Hidupkan Lampu</td>\n",
              "    </tr>\n",
              "  </tbody>\n",
              "</table>\n",
              "<p>616 rows × 7 columns</p>\n",
              "</div>"
            ],
            "text/plain": [
              "      PH cahaya  ... tinggi_air                                  aksi\n",
              "0    6.5    Ada  ...        622  Hidupkan Lampu dan Pompa nutrisi TDS\n",
              "1    5.7    Ada  ...        557  Hidupkan Lampu dan Pompa nutrisi TDS\n",
              "2    6.0    Ada  ...        491  Hidupkan Lampu dan Pompa nutrisi TDS\n",
              "3    6.5    Ada  ...      12000               Tidak melakukan apa-apa\n",
              "4    6.2    NaN  ...        444               Tidak melakukan apa-apa\n",
              "..   ...    ...  ...        ...                                   ...\n",
              "611  4.6    Ada  ...         47                        Hidupkan Lampu\n",
              "612  2.1    Ada  ...         18  Hidupkan Lampu dan Pompa nutrisi TDS\n",
              "613  3.2    Ada  ...         19                        Hidupkan Lampu\n",
              "614  1.4    Ada  ...          3                        Hidupkan Lampu\n",
              "615  5.0    Ada  ...         19                        Hidupkan Lampu\n",
              "\n",
              "[616 rows x 7 columns]"
            ]
          },
          "metadata": {},
          "execution_count": 5
        }
      ]
    },
    {
      "cell_type": "markdown",
      "metadata": {
        "id": "vCYDhpdfa9Vt"
      },
      "source": [
        "## 2. Mengganti data kategorikal menjadi bentuk numerical (Clue : Labelencoder tidak bekerja ketika ada missing value, gunakan metode lain)"
      ]
    },
    {
      "cell_type": "code",
      "metadata": {
        "colab": {
          "base_uri": "https://localhost:8080/"
        },
        "id": "6QtA1NmIrDPT",
        "outputId": "b731cecb-ea70-4245-d12b-27f47a6ea027"
      },
      "source": [
        "data.info()"
      ],
      "execution_count": 6,
      "outputs": [
        {
          "output_type": "stream",
          "name": "stdout",
          "text": [
            "<class 'pandas.core.frame.DataFrame'>\n",
            "RangeIndex: 616 entries, 0 to 615\n",
            "Data columns (total 7 columns):\n",
            " #   Column          Non-Null Count  Dtype  \n",
            "---  ------          --------------  -----  \n",
            " 0   PH              600 non-null    float64\n",
            " 1   cahaya          590 non-null    object \n",
            " 2   intensitas_air  616 non-null    object \n",
            " 3   suhu            589 non-null    float64\n",
            " 4   PPM             611 non-null    float64\n",
            " 5   tinggi_air      616 non-null    int64  \n",
            " 6   aksi            616 non-null    object \n",
            "dtypes: float64(3), int64(1), object(3)\n",
            "memory usage: 33.8+ KB\n"
          ]
        }
      ]
    },
    {
      "cell_type": "code",
      "metadata": {
        "colab": {
          "base_uri": "https://localhost:8080/"
        },
        "id": "AnKHkj6gYSo6",
        "outputId": "c7a614e6-8462-4e2d-98c9-a4e97720faa4"
      },
      "source": [
        "#Isi Code\n",
        "data.isna().sum()"
      ],
      "execution_count": 7,
      "outputs": [
        {
          "output_type": "execute_result",
          "data": {
            "text/plain": [
              "PH                16\n",
              "cahaya            26\n",
              "intensitas_air     0\n",
              "suhu              27\n",
              "PPM                5\n",
              "tinggi_air         0\n",
              "aksi               0\n",
              "dtype: int64"
            ]
          },
          "metadata": {},
          "execution_count": 7
        }
      ]
    },
    {
      "cell_type": "code",
      "metadata": {
        "id": "HNAJfwlCa9Vu",
        "colab": {
          "base_uri": "https://localhost:8080/",
          "height": 419
        },
        "outputId": "c2470774-5a8e-49ac-8903-1e896bda5b95"
      },
      "source": [
        "data2 = data.dropna(subset=['cahaya'])\n",
        "data2"
      ],
      "execution_count": 8,
      "outputs": [
        {
          "output_type": "execute_result",
          "data": {
            "text/html": [
              "<div>\n",
              "<style scoped>\n",
              "    .dataframe tbody tr th:only-of-type {\n",
              "        vertical-align: middle;\n",
              "    }\n",
              "\n",
              "    .dataframe tbody tr th {\n",
              "        vertical-align: top;\n",
              "    }\n",
              "\n",
              "    .dataframe thead th {\n",
              "        text-align: right;\n",
              "    }\n",
              "</style>\n",
              "<table border=\"1\" class=\"dataframe\">\n",
              "  <thead>\n",
              "    <tr style=\"text-align: right;\">\n",
              "      <th></th>\n",
              "      <th>PH</th>\n",
              "      <th>cahaya</th>\n",
              "      <th>intensitas_air</th>\n",
              "      <th>suhu</th>\n",
              "      <th>PPM</th>\n",
              "      <th>tinggi_air</th>\n",
              "      <th>aksi</th>\n",
              "    </tr>\n",
              "  </thead>\n",
              "  <tbody>\n",
              "    <tr>\n",
              "      <th>0</th>\n",
              "      <td>6.5</td>\n",
              "      <td>Ada</td>\n",
              "      <td>Tinggi</td>\n",
              "      <td>27.0</td>\n",
              "      <td>188.0</td>\n",
              "      <td>622</td>\n",
              "      <td>Hidupkan Lampu dan Pompa nutrisi TDS</td>\n",
              "    </tr>\n",
              "    <tr>\n",
              "      <th>1</th>\n",
              "      <td>5.7</td>\n",
              "      <td>Ada</td>\n",
              "      <td>Tinggi</td>\n",
              "      <td>26.9</td>\n",
              "      <td>79.0</td>\n",
              "      <td>557</td>\n",
              "      <td>Hidupkan Lampu dan Pompa nutrisi TDS</td>\n",
              "    </tr>\n",
              "    <tr>\n",
              "      <th>2</th>\n",
              "      <td>6.0</td>\n",
              "      <td>Ada</td>\n",
              "      <td>Tinggi</td>\n",
              "      <td>27.0</td>\n",
              "      <td>11.0</td>\n",
              "      <td>491</td>\n",
              "      <td>Hidupkan Lampu dan Pompa nutrisi TDS</td>\n",
              "    </tr>\n",
              "    <tr>\n",
              "      <th>3</th>\n",
              "      <td>6.5</td>\n",
              "      <td>Ada</td>\n",
              "      <td>Tinggi</td>\n",
              "      <td>27.1</td>\n",
              "      <td>345.0</td>\n",
              "      <td>12000</td>\n",
              "      <td>Tidak melakukan apa-apa</td>\n",
              "    </tr>\n",
              "    <tr>\n",
              "      <th>10</th>\n",
              "      <td>NaN</td>\n",
              "      <td>Ada</td>\n",
              "      <td>Tinggi</td>\n",
              "      <td>26.5</td>\n",
              "      <td>NaN</td>\n",
              "      <td>219</td>\n",
              "      <td>Hidupkan Lampu</td>\n",
              "    </tr>\n",
              "    <tr>\n",
              "      <th>...</th>\n",
              "      <td>...</td>\n",
              "      <td>...</td>\n",
              "      <td>...</td>\n",
              "      <td>...</td>\n",
              "      <td>...</td>\n",
              "      <td>...</td>\n",
              "      <td>...</td>\n",
              "    </tr>\n",
              "    <tr>\n",
              "      <th>611</th>\n",
              "      <td>4.6</td>\n",
              "      <td>Ada</td>\n",
              "      <td>Rendah sekali</td>\n",
              "      <td>25.3</td>\n",
              "      <td>904.0</td>\n",
              "      <td>47</td>\n",
              "      <td>Hidupkan Lampu</td>\n",
              "    </tr>\n",
              "    <tr>\n",
              "      <th>612</th>\n",
              "      <td>2.1</td>\n",
              "      <td>Ada</td>\n",
              "      <td>Rendah sekali</td>\n",
              "      <td>25.0</td>\n",
              "      <td>388.0</td>\n",
              "      <td>18</td>\n",
              "      <td>Hidupkan Lampu dan Pompa nutrisi TDS</td>\n",
              "    </tr>\n",
              "    <tr>\n",
              "      <th>613</th>\n",
              "      <td>3.2</td>\n",
              "      <td>Ada</td>\n",
              "      <td>Rendah sekali</td>\n",
              "      <td>25.3</td>\n",
              "      <td>793.0</td>\n",
              "      <td>19</td>\n",
              "      <td>Hidupkan Lampu</td>\n",
              "    </tr>\n",
              "    <tr>\n",
              "      <th>614</th>\n",
              "      <td>1.4</td>\n",
              "      <td>Ada</td>\n",
              "      <td>Rendah sekali</td>\n",
              "      <td>25.4</td>\n",
              "      <td>1052.0</td>\n",
              "      <td>3</td>\n",
              "      <td>Hidupkan Lampu</td>\n",
              "    </tr>\n",
              "    <tr>\n",
              "      <th>615</th>\n",
              "      <td>5.0</td>\n",
              "      <td>Ada</td>\n",
              "      <td>Rendah sekali</td>\n",
              "      <td>25.3</td>\n",
              "      <td>977.0</td>\n",
              "      <td>19</td>\n",
              "      <td>Hidupkan Lampu</td>\n",
              "    </tr>\n",
              "  </tbody>\n",
              "</table>\n",
              "<p>590 rows × 7 columns</p>\n",
              "</div>"
            ],
            "text/plain": [
              "      PH cahaya  ... tinggi_air                                  aksi\n",
              "0    6.5    Ada  ...        622  Hidupkan Lampu dan Pompa nutrisi TDS\n",
              "1    5.7    Ada  ...        557  Hidupkan Lampu dan Pompa nutrisi TDS\n",
              "2    6.0    Ada  ...        491  Hidupkan Lampu dan Pompa nutrisi TDS\n",
              "3    6.5    Ada  ...      12000               Tidak melakukan apa-apa\n",
              "10   NaN    Ada  ...        219                        Hidupkan Lampu\n",
              "..   ...    ...  ...        ...                                   ...\n",
              "611  4.6    Ada  ...         47                        Hidupkan Lampu\n",
              "612  2.1    Ada  ...         18  Hidupkan Lampu dan Pompa nutrisi TDS\n",
              "613  3.2    Ada  ...         19                        Hidupkan Lampu\n",
              "614  1.4    Ada  ...          3                        Hidupkan Lampu\n",
              "615  5.0    Ada  ...         19                        Hidupkan Lampu\n",
              "\n",
              "[590 rows x 7 columns]"
            ]
          },
          "metadata": {},
          "execution_count": 8
        }
      ]
    },
    {
      "cell_type": "code",
      "metadata": {
        "colab": {
          "base_uri": "https://localhost:8080/"
        },
        "id": "lrdtJrfdcyRW",
        "outputId": "58ebccfb-5bb1-4f76-f410-4f88083bde9f"
      },
      "source": [
        "data2['aksi'].value_counts()"
      ],
      "execution_count": 9,
      "outputs": [
        {
          "output_type": "execute_result",
          "data": {
            "text/plain": [
              "Tidak melakukan apa-apa                 451\n",
              "Hidupkan Lampu                           88\n",
              "Hidupkan Lampu dan Pompa nutrisi TDS     39\n",
              "Hidupkan Pompa nutrisi TDS               12\n",
              "Name: aksi, dtype: int64"
            ]
          },
          "metadata": {},
          "execution_count": 9
        }
      ]
    },
    {
      "cell_type": "code",
      "metadata": {
        "id": "6IxEnEDT_xmQ",
        "colab": {
          "base_uri": "https://localhost:8080/"
        },
        "outputId": "95365e6c-9919-476a-e87a-bb2a2d46ea6d"
      },
      "source": [
        "data2.isna().sum()"
      ],
      "execution_count": 10,
      "outputs": [
        {
          "output_type": "execute_result",
          "data": {
            "text/plain": [
              "PH                13\n",
              "cahaya             0\n",
              "intensitas_air     0\n",
              "suhu              27\n",
              "PPM                1\n",
              "tinggi_air         0\n",
              "aksi               0\n",
              "dtype: int64"
            ]
          },
          "metadata": {},
          "execution_count": 10
        }
      ]
    },
    {
      "cell_type": "code",
      "metadata": {
        "colab": {
          "base_uri": "https://localhost:8080/",
          "height": 257
        },
        "id": "1QC6G-8hD53C",
        "outputId": "bef1158b-ad44-4953-ca84-5c3289bb6e03"
      },
      "source": [
        "labels = data2['cahaya'].astype('category').cat.categories.tolist()\n",
        "counts = data2['cahaya'].value_counts()\n",
        "sizes = [counts[var_cat] for var_cat in labels]\n",
        "palette = sns.color_palette(\"RdBu_r\")\n",
        "fig1, ax1 = plt.subplots()\n",
        "ax1.pie(sizes, labels=labels, autopct=lambda p : '{:.2f}%\\n({:,.0f})'.format(p,p * sum(sizes)/100), shadow=True, colors=palette) #autopct is show the % on plot\n",
        "ax1.axis('equal')\n",
        "plt.show()"
      ],
      "execution_count": 11,
      "outputs": [
        {
          "output_type": "display_data",
          "data": {
            "image/png": "[encoded data removed]",
            "text/plain": [
              "<Figure size 432x288 with 1 Axes>"
            ]
          },
          "metadata": {}
        }
      ]
    },
    {
      "cell_type": "code",
      "metadata": {
        "colab": {
          "base_uri": "https://localhost:8080/",
          "height": 248
        },
        "id": "mD3866YZEblX",
        "outputId": "cfdf26d8-ce88-4afb-d9fe-7d16a586eea2"
      },
      "source": [
        "labels_ia2 = data2['intensitas_air'].astype('category').cat.categories.tolist()\n",
        "counts_ia2 = data2['intensitas_air'].value_counts()\n",
        "sizes_ia2 = [counts_ia2[var_cat2] for var_cat2 in labels_ia2]\n",
        "palette2 = sns.color_palette(\"PuBuGn\")\n",
        "fig2, ax2 = plt.subplots()\n",
        "ax2.pie(sizes_ia2, labels=labels_ia2, autopct=lambda p : '{:.2f}%\\n({:,.0f})'.format(p,p * sum(sizes)/100), shadow=True, colors=palette2) #autopct is show the % on plot\n",
        "ax2.axis('equal')\n",
        "plt.show()"
      ],
      "execution_count": 12,
      "outputs": [
        {
          "output_type": "display_data",
          "data": {
            "image/png": "[encoded data removed]",
            "text/plain": [
              "<Figure size 432x288 with 1 Axes>"
            ]
          },
          "metadata": {}
        }
      ]
    },
    {
      "cell_type": "code",
      "metadata": {
        "id": "-SPCxg-Nlhde"
      },
      "source": [
        "encode = {'cahaya': {\"Ada\": 5. , \"Tidak ada\": 6.},\n",
        "          'intensitas_air': {\"Rendah sekali\": 1., \"Rendah\": 2., \"Cukup\": 3., \"Tinggi\": 4.}}\n",
        "\n",
        "data2_encode = data2.replace(encode)"
      ],
      "execution_count": 13,
      "outputs": []
    },
    {
      "cell_type": "code",
      "metadata": {
        "colab": {
          "base_uri": "https://localhost:8080/",
          "height": 419
        },
        "id": "NBgQ7p7j3E87",
        "outputId": "0fdcade4-2652-409b-870c-21ab669fa3e0"
      },
      "source": [
        "data2_encode['tinggi_air'] = data2_encode['tinggi_air'].astype('float')\n",
        "data2_encode"
      ],
      "execution_count": 14,
      "outputs": [
        {
          "output_type": "execute_result",
          "data": {
            "text/html": [
              "<div>\n",
              "<style scoped>\n",
              "    .dataframe tbody tr th:only-of-type {\n",
              "        vertical-align: middle;\n",
              "    }\n",
              "\n",
              "    .dataframe tbody tr th {\n",
              "        vertical-align: top;\n",
              "    }\n",
              "\n",
              "    .dataframe thead th {\n",
              "        text-align: right;\n",
              "    }\n",
              "</style>\n",
              "<table border=\"1\" class=\"dataframe\">\n",
              "  <thead>\n",
              "    <tr style=\"text-align: right;\">\n",
              "      <th></th>\n",
              "      <th>PH</th>\n",
              "      <th>cahaya</th>\n",
              "      <th>intensitas_air</th>\n",
              "      <th>suhu</th>\n",
              "      <th>PPM</th>\n",
              "      <th>tinggi_air</th>\n",
              "      <th>aksi</th>\n",
              "    </tr>\n",
              "  </thead>\n",
              "  <tbody>\n",
              "    <tr>\n",
              "      <th>0</th>\n",
              "      <td>6.5</td>\n",
              "      <td>5.0</td>\n",
              "      <td>4.0</td>\n",
              "      <td>27.0</td>\n",
              "      <td>188.0</td>\n",
              "      <td>622.0</td>\n",
              "      <td>Hidupkan Lampu dan Pompa nutrisi TDS</td>\n",
              "    </tr>\n",
              "    <tr>\n",
              "      <th>1</th>\n",
              "      <td>5.7</td>\n",
              "      <td>5.0</td>\n",
              "      <td>4.0</td>\n",
              "      <td>26.9</td>\n",
              "      <td>79.0</td>\n",
              "      <td>557.0</td>\n",
              "      <td>Hidupkan Lampu dan Pompa nutrisi TDS</td>\n",
              "    </tr>\n",
              "    <tr>\n",
              "      <th>2</th>\n",
              "      <td>6.0</td>\n",
              "      <td>5.0</td>\n",
              "      <td>4.0</td>\n",
              "      <td>27.0</td>\n",
              "      <td>11.0</td>\n",
              "      <td>491.0</td>\n",
              "      <td>Hidupkan Lampu dan Pompa nutrisi TDS</td>\n",
              "    </tr>\n",
              "    <tr>\n",
              "      <th>3</th>\n",
              "      <td>6.5</td>\n",
              "      <td>5.0</td>\n",
              "      <td>4.0</td>\n",
              "      <td>27.1</td>\n",
              "      <td>345.0</td>\n",
              "      <td>12000.0</td>\n",
              "      <td>Tidak melakukan apa-apa</td>\n",
              "    </tr>\n",
              "    <tr>\n",
              "      <th>10</th>\n",
              "      <td>NaN</td>\n",
              "      <td>5.0</td>\n",
              "      <td>4.0</td>\n",
              "      <td>26.5</td>\n",
              "      <td>NaN</td>\n",
              "      <td>219.0</td>\n",
              "      <td>Hidupkan Lampu</td>\n",
              "    </tr>\n",
              "    <tr>\n",
              "      <th>...</th>\n",
              "      <td>...</td>\n",
              "      <td>...</td>\n",
              "      <td>...</td>\n",
              "      <td>...</td>\n",
              "      <td>...</td>\n",
              "      <td>...</td>\n",
              "      <td>...</td>\n",
              "    </tr>\n",
              "    <tr>\n",
              "      <th>611</th>\n",
              "      <td>4.6</td>\n",
              "      <td>5.0</td>\n",
              "      <td>1.0</td>\n",
              "      <td>25.3</td>\n",
              "      <td>904.0</td>\n",
              "      <td>47.0</td>\n",
              "      <td>Hidupkan Lampu</td>\n",
              "    </tr>\n",
              "    <tr>\n",
              "      <th>612</th>\n",
              "      <td>2.1</td>\n",
              "      <td>5.0</td>\n",
              "      <td>1.0</td>\n",
              "      <td>25.0</td>\n",
              "      <td>388.0</td>\n",
              "      <td>18.0</td>\n",
              "      <td>Hidupkan Lampu dan Pompa nutrisi TDS</td>\n",
              "    </tr>\n",
              "    <tr>\n",
              "      <th>613</th>\n",
              "      <td>3.2</td>\n",
              "      <td>5.0</td>\n",
              "      <td>1.0</td>\n",
              "      <td>25.3</td>\n",
              "      <td>793.0</td>\n",
              "      <td>19.0</td>\n",
              "      <td>Hidupkan Lampu</td>\n",
              "    </tr>\n",
              "    <tr>\n",
              "      <th>614</th>\n",
              "      <td>1.4</td>\n",
              "      <td>5.0</td>\n",
              "      <td>1.0</td>\n",
              "      <td>25.4</td>\n",
              "      <td>1052.0</td>\n",
              "      <td>3.0</td>\n",
              "      <td>Hidupkan Lampu</td>\n",
              "    </tr>\n",
              "    <tr>\n",
              "      <th>615</th>\n",
              "      <td>5.0</td>\n",
              "      <td>5.0</td>\n",
              "      <td>1.0</td>\n",
              "      <td>25.3</td>\n",
              "      <td>977.0</td>\n",
              "      <td>19.0</td>\n",
              "      <td>Hidupkan Lampu</td>\n",
              "    </tr>\n",
              "  </tbody>\n",
              "</table>\n",
              "<p>590 rows × 7 columns</p>\n",
              "</div>"
            ],
            "text/plain": [
              "      PH  cahaya  ...  tinggi_air                                  aksi\n",
              "0    6.5     5.0  ...       622.0  Hidupkan Lampu dan Pompa nutrisi TDS\n",
              "1    5.7     5.0  ...       557.0  Hidupkan Lampu dan Pompa nutrisi TDS\n",
              "2    6.0     5.0  ...       491.0  Hidupkan Lampu dan Pompa nutrisi TDS\n",
              "3    6.5     5.0  ...     12000.0               Tidak melakukan apa-apa\n",
              "10   NaN     5.0  ...       219.0                        Hidupkan Lampu\n",
              "..   ...     ...  ...         ...                                   ...\n",
              "611  4.6     5.0  ...        47.0                        Hidupkan Lampu\n",
              "612  2.1     5.0  ...        18.0  Hidupkan Lampu dan Pompa nutrisi TDS\n",
              "613  3.2     5.0  ...        19.0                        Hidupkan Lampu\n",
              "614  1.4     5.0  ...         3.0                        Hidupkan Lampu\n",
              "615  5.0     5.0  ...        19.0                        Hidupkan Lampu\n",
              "\n",
              "[590 rows x 7 columns]"
            ]
          },
          "metadata": {},
          "execution_count": 14
        }
      ]
    },
    {
      "cell_type": "markdown",
      "metadata": {
        "id": "W5Ka60uYa9Vv"
      },
      "source": [
        "## 3. Handle Missing Value"
      ]
    },
    {
      "cell_type": "code",
      "metadata": {
        "colab": {
          "base_uri": "https://localhost:8080/",
          "height": 266
        },
        "id": "auG91NePwcbm",
        "outputId": "96bee707-b9c6-41a4-b03a-132f85829c04"
      },
      "source": [
        "#Melihat presentase missing value tiap kolom\n",
        "missing_data = pd.DataFrame({'total_missing': data.isna().sum(), 'perc_missing': (data.isna().sum()/616)*100})\n",
        "missing_data"
      ],
      "execution_count": 15,
      "outputs": [
        {
          "output_type": "execute_result",
          "data": {
            "text/html": [
              "<div>\n",
              "<style scoped>\n",
              "    .dataframe tbody tr th:only-of-type {\n",
              "        vertical-align: middle;\n",
              "    }\n",
              "\n",
              "    .dataframe tbody tr th {\n",
              "        vertical-align: top;\n",
              "    }\n",
              "\n",
              "    .dataframe thead th {\n",
              "        text-align: right;\n",
              "    }\n",
              "</style>\n",
              "<table border=\"1\" class=\"dataframe\">\n",
              "  <thead>\n",
              "    <tr style=\"text-align: right;\">\n",
              "      <th></th>\n",
              "      <th>total_missing</th>\n",
              "      <th>perc_missing</th>\n",
              "    </tr>\n",
              "  </thead>\n",
              "  <tbody>\n",
              "    <tr>\n",
              "      <th>PH</th>\n",
              "      <td>16</td>\n",
              "      <td>2.597403</td>\n",
              "    </tr>\n",
              "    <tr>\n",
              "      <th>cahaya</th>\n",
              "      <td>26</td>\n",
              "      <td>4.220779</td>\n",
              "    </tr>\n",
              "    <tr>\n",
              "      <th>intensitas_air</th>\n",
              "      <td>0</td>\n",
              "      <td>0.000000</td>\n",
              "    </tr>\n",
              "    <tr>\n",
              "      <th>suhu</th>\n",
              "      <td>27</td>\n",
              "      <td>4.383117</td>\n",
              "    </tr>\n",
              "    <tr>\n",
              "      <th>PPM</th>\n",
              "      <td>5</td>\n",
              "      <td>0.811688</td>\n",
              "    </tr>\n",
              "    <tr>\n",
              "      <th>tinggi_air</th>\n",
              "      <td>0</td>\n",
              "      <td>0.000000</td>\n",
              "    </tr>\n",
              "    <tr>\n",
              "      <th>aksi</th>\n",
              "      <td>0</td>\n",
              "      <td>0.000000</td>\n",
              "    </tr>\n",
              "  </tbody>\n",
              "</table>\n",
              "</div>"
            ],
            "text/plain": [
              "                total_missing  perc_missing\n",
              "PH                         16      2.597403\n",
              "cahaya                     26      4.220779\n",
              "intensitas_air              0      0.000000\n",
              "suhu                       27      4.383117\n",
              "PPM                         5      0.811688\n",
              "tinggi_air                  0      0.000000\n",
              "aksi                        0      0.000000"
            ]
          },
          "metadata": {},
          "execution_count": 15
        }
      ]
    },
    {
      "cell_type": "code",
      "metadata": {
        "id": "mj3yjpP39RaG"
      },
      "source": [
        "#Isi Code\n",
        "from sklearn.impute import SimpleImputer\n",
        "import numpy as np\n",
        "\n",
        "imputer = SimpleImputer(missing_values = np.nan ,strategy = 'median')\n",
        "\n",
        "\n",
        "# Fit imputer kedalam data X untuk kolom Age (index ke-1) dan Salary (index ke-2).\n",
        "imputer = imputer.fit(data2_encode[['PH','suhu','PPM']])\n",
        "\n",
        "#Replace missing value dengan mean pada kolom tersebut\n",
        "data2_encode[['PH','suhu','PPM']] = imputer.transform(data2_encode[['PH','suhu','PPM']])\n"
      ],
      "execution_count": 16,
      "outputs": []
    },
    {
      "cell_type": "code",
      "metadata": {
        "id": "8YZO-Zz_87Pj",
        "colab": {
          "base_uri": "https://localhost:8080/",
          "height": 419
        },
        "outputId": "12dd4505-0e52-43fd-81ab-29435c822fe7"
      },
      "source": [
        "data2_encode"
      ],
      "execution_count": 17,
      "outputs": [
        {
          "output_type": "execute_result",
          "data": {
            "text/html": [
              "<div>\n",
              "<style scoped>\n",
              "    .dataframe tbody tr th:only-of-type {\n",
              "        vertical-align: middle;\n",
              "    }\n",
              "\n",
              "    .dataframe tbody tr th {\n",
              "        vertical-align: top;\n",
              "    }\n",
              "\n",
              "    .dataframe thead th {\n",
              "        text-align: right;\n",
              "    }\n",
              "</style>\n",
              "<table border=\"1\" class=\"dataframe\">\n",
              "  <thead>\n",
              "    <tr style=\"text-align: right;\">\n",
              "      <th></th>\n",
              "      <th>PH</th>\n",
              "      <th>cahaya</th>\n",
              "      <th>intensitas_air</th>\n",
              "      <th>suhu</th>\n",
              "      <th>PPM</th>\n",
              "      <th>tinggi_air</th>\n",
              "      <th>aksi</th>\n",
              "    </tr>\n",
              "  </thead>\n",
              "  <tbody>\n",
              "    <tr>\n",
              "      <th>0</th>\n",
              "      <td>6.5</td>\n",
              "      <td>5.0</td>\n",
              "      <td>4.0</td>\n",
              "      <td>27.0</td>\n",
              "      <td>188.0</td>\n",
              "      <td>622.0</td>\n",
              "      <td>Hidupkan Lampu dan Pompa nutrisi TDS</td>\n",
              "    </tr>\n",
              "    <tr>\n",
              "      <th>1</th>\n",
              "      <td>5.7</td>\n",
              "      <td>5.0</td>\n",
              "      <td>4.0</td>\n",
              "      <td>26.9</td>\n",
              "      <td>79.0</td>\n",
              "      <td>557.0</td>\n",
              "      <td>Hidupkan Lampu dan Pompa nutrisi TDS</td>\n",
              "    </tr>\n",
              "    <tr>\n",
              "      <th>2</th>\n",
              "      <td>6.0</td>\n",
              "      <td>5.0</td>\n",
              "      <td>4.0</td>\n",
              "      <td>27.0</td>\n",
              "      <td>11.0</td>\n",
              "      <td>491.0</td>\n",
              "      <td>Hidupkan Lampu dan Pompa nutrisi TDS</td>\n",
              "    </tr>\n",
              "    <tr>\n",
              "      <th>3</th>\n",
              "      <td>6.5</td>\n",
              "      <td>5.0</td>\n",
              "      <td>4.0</td>\n",
              "      <td>27.1</td>\n",
              "      <td>345.0</td>\n",
              "      <td>12000.0</td>\n",
              "      <td>Tidak melakukan apa-apa</td>\n",
              "    </tr>\n",
              "    <tr>\n",
              "      <th>10</th>\n",
              "      <td>6.5</td>\n",
              "      <td>5.0</td>\n",
              "      <td>4.0</td>\n",
              "      <td>26.5</td>\n",
              "      <td>994.0</td>\n",
              "      <td>219.0</td>\n",
              "      <td>Hidupkan Lampu</td>\n",
              "    </tr>\n",
              "    <tr>\n",
              "      <th>...</th>\n",
              "      <td>...</td>\n",
              "      <td>...</td>\n",
              "      <td>...</td>\n",
              "      <td>...</td>\n",
              "      <td>...</td>\n",
              "      <td>...</td>\n",
              "      <td>...</td>\n",
              "    </tr>\n",
              "    <tr>\n",
              "      <th>611</th>\n",
              "      <td>4.6</td>\n",
              "      <td>5.0</td>\n",
              "      <td>1.0</td>\n",
              "      <td>25.3</td>\n",
              "      <td>904.0</td>\n",
              "      <td>47.0</td>\n",
              "      <td>Hidupkan Lampu</td>\n",
              "    </tr>\n",
              "    <tr>\n",
              "      <th>612</th>\n",
              "      <td>2.1</td>\n",
              "      <td>5.0</td>\n",
              "      <td>1.0</td>\n",
              "      <td>25.0</td>\n",
              "      <td>388.0</td>\n",
              "      <td>18.0</td>\n",
              "      <td>Hidupkan Lampu dan Pompa nutrisi TDS</td>\n",
              "    </tr>\n",
              "    <tr>\n",
              "      <th>613</th>\n",
              "      <td>3.2</td>\n",
              "      <td>5.0</td>\n",
              "      <td>1.0</td>\n",
              "      <td>25.3</td>\n",
              "      <td>793.0</td>\n",
              "      <td>19.0</td>\n",
              "      <td>Hidupkan Lampu</td>\n",
              "    </tr>\n",
              "    <tr>\n",
              "      <th>614</th>\n",
              "      <td>1.4</td>\n",
              "      <td>5.0</td>\n",
              "      <td>1.0</td>\n",
              "      <td>25.4</td>\n",
              "      <td>1052.0</td>\n",
              "      <td>3.0</td>\n",
              "      <td>Hidupkan Lampu</td>\n",
              "    </tr>\n",
              "    <tr>\n",
              "      <th>615</th>\n",
              "      <td>5.0</td>\n",
              "      <td>5.0</td>\n",
              "      <td>1.0</td>\n",
              "      <td>25.3</td>\n",
              "      <td>977.0</td>\n",
              "      <td>19.0</td>\n",
              "      <td>Hidupkan Lampu</td>\n",
              "    </tr>\n",
              "  </tbody>\n",
              "</table>\n",
              "<p>590 rows × 7 columns</p>\n",
              "</div>"
            ],
            "text/plain": [
              "      PH  cahaya  ...  tinggi_air                                  aksi\n",
              "0    6.5     5.0  ...       622.0  Hidupkan Lampu dan Pompa nutrisi TDS\n",
              "1    5.7     5.0  ...       557.0  Hidupkan Lampu dan Pompa nutrisi TDS\n",
              "2    6.0     5.0  ...       491.0  Hidupkan Lampu dan Pompa nutrisi TDS\n",
              "3    6.5     5.0  ...     12000.0               Tidak melakukan apa-apa\n",
              "10   6.5     5.0  ...       219.0                        Hidupkan Lampu\n",
              "..   ...     ...  ...         ...                                   ...\n",
              "611  4.6     5.0  ...        47.0                        Hidupkan Lampu\n",
              "612  2.1     5.0  ...        18.0  Hidupkan Lampu dan Pompa nutrisi TDS\n",
              "613  3.2     5.0  ...        19.0                        Hidupkan Lampu\n",
              "614  1.4     5.0  ...         3.0                        Hidupkan Lampu\n",
              "615  5.0     5.0  ...        19.0                        Hidupkan Lampu\n",
              "\n",
              "[590 rows x 7 columns]"
            ]
          },
          "metadata": {},
          "execution_count": 17
        }
      ]
    },
    {
      "cell_type": "code",
      "metadata": {
        "id": "Lg1zXKsi9Gjd",
        "colab": {
          "base_uri": "https://localhost:8080/"
        },
        "outputId": "40304898-98bc-4d16-f1a0-99d64b16d95f"
      },
      "source": [
        "data2_encode.isna().sum()"
      ],
      "execution_count": 18,
      "outputs": [
        {
          "output_type": "execute_result",
          "data": {
            "text/plain": [
              "PH                0\n",
              "cahaya            0\n",
              "intensitas_air    0\n",
              "suhu              0\n",
              "PPM               0\n",
              "tinggi_air        0\n",
              "aksi              0\n",
              "dtype: int64"
            ]
          },
          "metadata": {},
          "execution_count": 18
        }
      ]
    },
    {
      "cell_type": "code",
      "metadata": {
        "id": "Ksmxdkj9_1Km",
        "colab": {
          "base_uri": "https://localhost:8080/"
        },
        "outputId": "e975d0bc-ae96-46af-c05e-598cb1ebe34c"
      },
      "source": [
        "data2_encode.info()"
      ],
      "execution_count": 19,
      "outputs": [
        {
          "output_type": "stream",
          "name": "stdout",
          "text": [
            "<class 'pandas.core.frame.DataFrame'>\n",
            "Int64Index: 590 entries, 0 to 615\n",
            "Data columns (total 7 columns):\n",
            " #   Column          Non-Null Count  Dtype  \n",
            "---  ------          --------------  -----  \n",
            " 0   PH              590 non-null    float64\n",
            " 1   cahaya          590 non-null    float64\n",
            " 2   intensitas_air  590 non-null    float64\n",
            " 3   suhu            590 non-null    float64\n",
            " 4   PPM             590 non-null    float64\n",
            " 5   tinggi_air      590 non-null    float64\n",
            " 6   aksi            590 non-null    object \n",
            "dtypes: float64(6), object(1)\n",
            "memory usage: 36.9+ KB\n"
          ]
        }
      ]
    },
    {
      "cell_type": "markdown",
      "metadata": {
        "id": "GELQ5uyda9Vw"
      },
      "source": [
        "## 4. Detect outliers dan handling (bisa dihapus atau diganti nilainya dengan mean/modus/median)"
      ]
    },
    {
      "cell_type": "code",
      "metadata": {
        "id": "vlUcLIt-C1uu",
        "colab": {
          "base_uri": "https://localhost:8080/",
          "height": 297
        },
        "outputId": "eefc3e64-1284-41d5-c7fc-5ef6986eb6d0"
      },
      "source": [
        "data2_encode.describe()"
      ],
      "execution_count": 20,
      "outputs": [
        {
          "output_type": "execute_result",
          "data": {
            "text/html": [
              "<div>\n",
              "<style scoped>\n",
              "    .dataframe tbody tr th:only-of-type {\n",
              "        vertical-align: middle;\n",
              "    }\n",
              "\n",
              "    .dataframe tbody tr th {\n",
              "        vertical-align: top;\n",
              "    }\n",
              "\n",
              "    .dataframe thead th {\n",
              "        text-align: right;\n",
              "    }\n",
              "</style>\n",
              "<table border=\"1\" class=\"dataframe\">\n",
              "  <thead>\n",
              "    <tr style=\"text-align: right;\">\n",
              "      <th></th>\n",
              "      <th>PH</th>\n",
              "      <th>cahaya</th>\n",
              "      <th>intensitas_air</th>\n",
              "      <th>suhu</th>\n",
              "      <th>PPM</th>\n",
              "      <th>tinggi_air</th>\n",
              "    </tr>\n",
              "  </thead>\n",
              "  <tbody>\n",
              "    <tr>\n",
              "      <th>count</th>\n",
              "      <td>590.000000</td>\n",
              "      <td>590.000000</td>\n",
              "      <td>590.000000</td>\n",
              "      <td>590.000000</td>\n",
              "      <td>590.000000</td>\n",
              "      <td>590.000000</td>\n",
              "    </tr>\n",
              "    <tr>\n",
              "      <th>mean</th>\n",
              "      <td>6.636610</td>\n",
              "      <td>5.488136</td>\n",
              "      <td>2.489831</td>\n",
              "      <td>29.324746</td>\n",
              "      <td>1037.313559</td>\n",
              "      <td>288.252542</td>\n",
              "    </tr>\n",
              "    <tr>\n",
              "      <th>std</th>\n",
              "      <td>2.976293</td>\n",
              "      <td>0.500283</td>\n",
              "      <td>1.099034</td>\n",
              "      <td>14.910422</td>\n",
              "      <td>631.358165</td>\n",
              "      <td>634.984586</td>\n",
              "    </tr>\n",
              "    <tr>\n",
              "      <th>min</th>\n",
              "      <td>0.000000</td>\n",
              "      <td>5.000000</td>\n",
              "      <td>1.000000</td>\n",
              "      <td>-300.000000</td>\n",
              "      <td>1.000000</td>\n",
              "      <td>0.000000</td>\n",
              "    </tr>\n",
              "    <tr>\n",
              "      <th>25%</th>\n",
              "      <td>5.600000</td>\n",
              "      <td>5.000000</td>\n",
              "      <td>2.000000</td>\n",
              "      <td>27.100000</td>\n",
              "      <td>497.750000</td>\n",
              "      <td>50.000000</td>\n",
              "    </tr>\n",
              "    <tr>\n",
              "      <th>50%</th>\n",
              "      <td>6.500000</td>\n",
              "      <td>5.000000</td>\n",
              "      <td>2.000000</td>\n",
              "      <td>29.900000</td>\n",
              "      <td>994.000000</td>\n",
              "      <td>226.500000</td>\n",
              "    </tr>\n",
              "    <tr>\n",
              "      <th>75%</th>\n",
              "      <td>7.500000</td>\n",
              "      <td>6.000000</td>\n",
              "      <td>3.000000</td>\n",
              "      <td>33.000000</td>\n",
              "      <td>1603.750000</td>\n",
              "      <td>430.500000</td>\n",
              "    </tr>\n",
              "    <tr>\n",
              "      <th>max</th>\n",
              "      <td>14.000000</td>\n",
              "      <td>6.000000</td>\n",
              "      <td>4.000000</td>\n",
              "      <td>40.600000</td>\n",
              "      <td>2149.000000</td>\n",
              "      <td>12000.000000</td>\n",
              "    </tr>\n",
              "  </tbody>\n",
              "</table>\n",
              "</div>"
            ],
            "text/plain": [
              "               PH      cahaya  ...          PPM    tinggi_air\n",
              "count  590.000000  590.000000  ...   590.000000    590.000000\n",
              "mean     6.636610    5.488136  ...  1037.313559    288.252542\n",
              "std      2.976293    0.500283  ...   631.358165    634.984586\n",
              "min      0.000000    5.000000  ...     1.000000      0.000000\n",
              "25%      5.600000    5.000000  ...   497.750000     50.000000\n",
              "50%      6.500000    5.000000  ...   994.000000    226.500000\n",
              "75%      7.500000    6.000000  ...  1603.750000    430.500000\n",
              "max     14.000000    6.000000  ...  2149.000000  12000.000000\n",
              "\n",
              "[8 rows x 6 columns]"
            ]
          },
          "metadata": {},
          "execution_count": 20
        }
      ]
    },
    {
      "cell_type": "code",
      "metadata": {
        "id": "szqSHIG1ApXC",
        "colab": {
          "base_uri": "https://localhost:8080/",
          "height": 450
        },
        "outputId": "26aebc88-db99-426b-e41d-c03eadc41843"
      },
      "source": [
        "#Isi Code\n",
        "\n",
        "num_cols = ['PH', 'cahaya', 'intensitas_air', 'suhu', 'PPM', 'tinggi_air']\n",
        "plt.figure(figsize=(15,7))\n",
        "data2_encode[num_cols].boxplot()\n",
        "plt.title(\"Numerical variables in Titanic dataset\", fontsize=20)\n",
        "plt.show()"
      ],
      "execution_count": 21,
      "outputs": [
        {
          "output_type": "display_data",
          "data": {
            "image/png": "[encoded data removed]",
            "text/plain": [
              "<Figure size 1080x504 with 1 Axes>"
            ]
          },
          "metadata": {
            "needs_background": "light"
          }
        }
      ]
    },
    {
      "cell_type": "code",
      "metadata": {
        "id": "c5CrQb7uGWTB",
        "colab": {
          "base_uri": "https://localhost:8080/"
        },
        "outputId": "acea41d1-ab29-47fe-de2f-309d0ac632f0"
      },
      "source": [
        "import numpy as np\n",
        "outliers = []\n",
        "TA = np.asarray(data2[['tinggi_air']], dtype='float64')\n",
        "def detect_outliers_zscore(data):\n",
        "    thres = 3\n",
        "    mean = np.mean(data)\n",
        "    std = np.std(data)\n",
        "    # print(mean, std)\n",
        "    for i in data:\n",
        "        z_score = (i-mean)/std\n",
        "        if (np.abs(z_score) > thres):\n",
        "            outliers.append(i)\n",
        "    return outliers# Driver code\n",
        "sample_outliers = detect_outliers_zscore(TA)\n",
        "print(\"Outliers from Z-scores method: \", sample_outliers)"
      ],
      "execution_count": 22,
      "outputs": [
        {
          "output_type": "stream",
          "name": "stdout",
          "text": [
            "Outliers from Z-scores method:  [array([12000.]), array([9000.])]\n"
          ]
        }
      ]
    },
    {
      "cell_type": "code",
      "metadata": {
        "colab": {
          "base_uri": "https://localhost:8080/",
          "height": 419
        },
        "id": "VGTBWQsWl6kG",
        "outputId": "d12bf580-a1a0-4902-8467-d4a95e2bb52b"
      },
      "source": [
        "data2_encode.iloc[:,:6]"
      ],
      "execution_count": 23,
      "outputs": [
        {
          "output_type": "execute_result",
          "data": {
            "text/html": [
              "<div>\n",
              "<style scoped>\n",
              "    .dataframe tbody tr th:only-of-type {\n",
              "        vertical-align: middle;\n",
              "    }\n",
              "\n",
              "    .dataframe tbody tr th {\n",
              "        vertical-align: top;\n",
              "    }\n",
              "\n",
              "    .dataframe thead th {\n",
              "        text-align: right;\n",
              "    }\n",
              "</style>\n",
              "<table border=\"1\" class=\"dataframe\">\n",
              "  <thead>\n",
              "    <tr style=\"text-align: right;\">\n",
              "      <th></th>\n",
              "      <th>PH</th>\n",
              "      <th>cahaya</th>\n",
              "      <th>intensitas_air</th>\n",
              "      <th>suhu</th>\n",
              "      <th>PPM</th>\n",
              "      <th>tinggi_air</th>\n",
              "    </tr>\n",
              "  </thead>\n",
              "  <tbody>\n",
              "    <tr>\n",
              "      <th>0</th>\n",
              "      <td>6.5</td>\n",
              "      <td>5.0</td>\n",
              "      <td>4.0</td>\n",
              "      <td>27.0</td>\n",
              "      <td>188.0</td>\n",
              "      <td>622.0</td>\n",
              "    </tr>\n",
              "    <tr>\n",
              "      <th>1</th>\n",
              "      <td>5.7</td>\n",
              "      <td>5.0</td>\n",
              "      <td>4.0</td>\n",
              "      <td>26.9</td>\n",
              "      <td>79.0</td>\n",
              "      <td>557.0</td>\n",
              "    </tr>\n",
              "    <tr>\n",
              "      <th>2</th>\n",
              "      <td>6.0</td>\n",
              "      <td>5.0</td>\n",
              "      <td>4.0</td>\n",
              "      <td>27.0</td>\n",
              "      <td>11.0</td>\n",
              "      <td>491.0</td>\n",
              "    </tr>\n",
              "    <tr>\n",
              "      <th>3</th>\n",
              "      <td>6.5</td>\n",
              "      <td>5.0</td>\n",
              "      <td>4.0</td>\n",
              "      <td>27.1</td>\n",
              "      <td>345.0</td>\n",
              "      <td>12000.0</td>\n",
              "    </tr>\n",
              "    <tr>\n",
              "      <th>10</th>\n",
              "      <td>6.5</td>\n",
              "      <td>5.0</td>\n",
              "      <td>4.0</td>\n",
              "      <td>26.5</td>\n",
              "      <td>994.0</td>\n",
              "      <td>219.0</td>\n",
              "    </tr>\n",
              "    <tr>\n",
              "      <th>...</th>\n",
              "      <td>...</td>\n",
              "      <td>...</td>\n",
              "      <td>...</td>\n",
              "      <td>...</td>\n",
              "      <td>...</td>\n",
              "      <td>...</td>\n",
              "    </tr>\n",
              "    <tr>\n",
              "      <th>611</th>\n",
              "      <td>4.6</td>\n",
              "      <td>5.0</td>\n",
              "      <td>1.0</td>\n",
              "      <td>25.3</td>\n",
              "      <td>904.0</td>\n",
              "      <td>47.0</td>\n",
              "    </tr>\n",
              "    <tr>\n",
              "      <th>612</th>\n",
              "      <td>2.1</td>\n",
              "      <td>5.0</td>\n",
              "      <td>1.0</td>\n",
              "      <td>25.0</td>\n",
              "      <td>388.0</td>\n",
              "      <td>18.0</td>\n",
              "    </tr>\n",
              "    <tr>\n",
              "      <th>613</th>\n",
              "      <td>3.2</td>\n",
              "      <td>5.0</td>\n",
              "      <td>1.0</td>\n",
              "      <td>25.3</td>\n",
              "      <td>793.0</td>\n",
              "      <td>19.0</td>\n",
              "    </tr>\n",
              "    <tr>\n",
              "      <th>614</th>\n",
              "      <td>1.4</td>\n",
              "      <td>5.0</td>\n",
              "      <td>1.0</td>\n",
              "      <td>25.4</td>\n",
              "      <td>1052.0</td>\n",
              "      <td>3.0</td>\n",
              "    </tr>\n",
              "    <tr>\n",
              "      <th>615</th>\n",
              "      <td>5.0</td>\n",
              "      <td>5.0</td>\n",
              "      <td>1.0</td>\n",
              "      <td>25.3</td>\n",
              "      <td>977.0</td>\n",
              "      <td>19.0</td>\n",
              "    </tr>\n",
              "  </tbody>\n",
              "</table>\n",
              "<p>590 rows × 6 columns</p>\n",
              "</div>"
            ],
            "text/plain": [
              "      PH  cahaya  intensitas_air  suhu     PPM  tinggi_air\n",
              "0    6.5     5.0             4.0  27.0   188.0       622.0\n",
              "1    5.7     5.0             4.0  26.9    79.0       557.0\n",
              "2    6.0     5.0             4.0  27.0    11.0       491.0\n",
              "3    6.5     5.0             4.0  27.1   345.0     12000.0\n",
              "10   6.5     5.0             4.0  26.5   994.0       219.0\n",
              "..   ...     ...             ...   ...     ...         ...\n",
              "611  4.6     5.0             1.0  25.3   904.0        47.0\n",
              "612  2.1     5.0             1.0  25.0   388.0        18.0\n",
              "613  3.2     5.0             1.0  25.3   793.0        19.0\n",
              "614  1.4     5.0             1.0  25.4  1052.0         3.0\n",
              "615  5.0     5.0             1.0  25.3   977.0        19.0\n",
              "\n",
              "[590 rows x 6 columns]"
            ]
          },
          "metadata": {},
          "execution_count": 23
        }
      ]
    },
    {
      "cell_type": "code",
      "metadata": {
        "id": "gr9viudkwCmG",
        "colab": {
          "base_uri": "https://localhost:8080/",
          "height": 419
        },
        "outputId": "97e9e345-e4bd-4f73-959a-7e0c733382b5"
      },
      "source": [
        "from scipy import stats\n",
        "\n",
        "z_scores = stats.zscore(data2_encode.iloc[:,:6])\n",
        "\n",
        "abs_z_scores = np.abs(z_scores)\n",
        "filtered_entries = (abs_z_scores < 3).all(axis=1)\n",
        "data2_encode = data2_encode[filtered_entries]\n",
        "\n",
        "data2_encode"
      ],
      "execution_count": 24,
      "outputs": [
        {
          "output_type": "execute_result",
          "data": {
            "text/html": [
              "<div>\n",
              "<style scoped>\n",
              "    .dataframe tbody tr th:only-of-type {\n",
              "        vertical-align: middle;\n",
              "    }\n",
              "\n",
              "    .dataframe tbody tr th {\n",
              "        vertical-align: top;\n",
              "    }\n",
              "\n",
              "    .dataframe thead th {\n",
              "        text-align: right;\n",
              "    }\n",
              "</style>\n",
              "<table border=\"1\" class=\"dataframe\">\n",
              "  <thead>\n",
              "    <tr style=\"text-align: right;\">\n",
              "      <th></th>\n",
              "      <th>PH</th>\n",
              "      <th>cahaya</th>\n",
              "      <th>intensitas_air</th>\n",
              "      <th>suhu</th>\n",
              "      <th>PPM</th>\n",
              "      <th>tinggi_air</th>\n",
              "      <th>aksi</th>\n",
              "    </tr>\n",
              "  </thead>\n",
              "  <tbody>\n",
              "    <tr>\n",
              "      <th>0</th>\n",
              "      <td>6.5</td>\n",
              "      <td>5.0</td>\n",
              "      <td>4.0</td>\n",
              "      <td>27.0</td>\n",
              "      <td>188.0</td>\n",
              "      <td>622.0</td>\n",
              "      <td>Hidupkan Lampu dan Pompa nutrisi TDS</td>\n",
              "    </tr>\n",
              "    <tr>\n",
              "      <th>1</th>\n",
              "      <td>5.7</td>\n",
              "      <td>5.0</td>\n",
              "      <td>4.0</td>\n",
              "      <td>26.9</td>\n",
              "      <td>79.0</td>\n",
              "      <td>557.0</td>\n",
              "      <td>Hidupkan Lampu dan Pompa nutrisi TDS</td>\n",
              "    </tr>\n",
              "    <tr>\n",
              "      <th>2</th>\n",
              "      <td>6.0</td>\n",
              "      <td>5.0</td>\n",
              "      <td>4.0</td>\n",
              "      <td>27.0</td>\n",
              "      <td>11.0</td>\n",
              "      <td>491.0</td>\n",
              "      <td>Hidupkan Lampu dan Pompa nutrisi TDS</td>\n",
              "    </tr>\n",
              "    <tr>\n",
              "      <th>10</th>\n",
              "      <td>6.5</td>\n",
              "      <td>5.0</td>\n",
              "      <td>4.0</td>\n",
              "      <td>26.5</td>\n",
              "      <td>994.0</td>\n",
              "      <td>219.0</td>\n",
              "      <td>Hidupkan Lampu</td>\n",
              "    </tr>\n",
              "    <tr>\n",
              "      <th>11</th>\n",
              "      <td>6.5</td>\n",
              "      <td>5.0</td>\n",
              "      <td>4.0</td>\n",
              "      <td>29.9</td>\n",
              "      <td>1604.0</td>\n",
              "      <td>103.0</td>\n",
              "      <td>Hidupkan Lampu</td>\n",
              "    </tr>\n",
              "    <tr>\n",
              "      <th>...</th>\n",
              "      <td>...</td>\n",
              "      <td>...</td>\n",
              "      <td>...</td>\n",
              "      <td>...</td>\n",
              "      <td>...</td>\n",
              "      <td>...</td>\n",
              "      <td>...</td>\n",
              "    </tr>\n",
              "    <tr>\n",
              "      <th>611</th>\n",
              "      <td>4.6</td>\n",
              "      <td>5.0</td>\n",
              "      <td>1.0</td>\n",
              "      <td>25.3</td>\n",
              "      <td>904.0</td>\n",
              "      <td>47.0</td>\n",
              "      <td>Hidupkan Lampu</td>\n",
              "    </tr>\n",
              "    <tr>\n",
              "      <th>612</th>\n",
              "      <td>2.1</td>\n",
              "      <td>5.0</td>\n",
              "      <td>1.0</td>\n",
              "      <td>25.0</td>\n",
              "      <td>388.0</td>\n",
              "      <td>18.0</td>\n",
              "      <td>Hidupkan Lampu dan Pompa nutrisi TDS</td>\n",
              "    </tr>\n",
              "    <tr>\n",
              "      <th>613</th>\n",
              "      <td>3.2</td>\n",
              "      <td>5.0</td>\n",
              "      <td>1.0</td>\n",
              "      <td>25.3</td>\n",
              "      <td>793.0</td>\n",
              "      <td>19.0</td>\n",
              "      <td>Hidupkan Lampu</td>\n",
              "    </tr>\n",
              "    <tr>\n",
              "      <th>614</th>\n",
              "      <td>1.4</td>\n",
              "      <td>5.0</td>\n",
              "      <td>1.0</td>\n",
              "      <td>25.4</td>\n",
              "      <td>1052.0</td>\n",
              "      <td>3.0</td>\n",
              "      <td>Hidupkan Lampu</td>\n",
              "    </tr>\n",
              "    <tr>\n",
              "      <th>615</th>\n",
              "      <td>5.0</td>\n",
              "      <td>5.0</td>\n",
              "      <td>1.0</td>\n",
              "      <td>25.3</td>\n",
              "      <td>977.0</td>\n",
              "      <td>19.0</td>\n",
              "      <td>Hidupkan Lampu</td>\n",
              "    </tr>\n",
              "  </tbody>\n",
              "</table>\n",
              "<p>586 rows × 7 columns</p>\n",
              "</div>"
            ],
            "text/plain": [
              "      PH  cahaya  ...  tinggi_air                                  aksi\n",
              "0    6.5     5.0  ...       622.0  Hidupkan Lampu dan Pompa nutrisi TDS\n",
              "1    5.7     5.0  ...       557.0  Hidupkan Lampu dan Pompa nutrisi TDS\n",
              "2    6.0     5.0  ...       491.0  Hidupkan Lampu dan Pompa nutrisi TDS\n",
              "10   6.5     5.0  ...       219.0                        Hidupkan Lampu\n",
              "11   6.5     5.0  ...       103.0                        Hidupkan Lampu\n",
              "..   ...     ...  ...         ...                                   ...\n",
              "611  4.6     5.0  ...        47.0                        Hidupkan Lampu\n",
              "612  2.1     5.0  ...        18.0  Hidupkan Lampu dan Pompa nutrisi TDS\n",
              "613  3.2     5.0  ...        19.0                        Hidupkan Lampu\n",
              "614  1.4     5.0  ...         3.0                        Hidupkan Lampu\n",
              "615  5.0     5.0  ...        19.0                        Hidupkan Lampu\n",
              "\n",
              "[586 rows x 7 columns]"
            ]
          },
          "metadata": {},
          "execution_count": 24
        }
      ]
    },
    {
      "cell_type": "code",
      "metadata": {
        "colab": {
          "base_uri": "https://localhost:8080/"
        },
        "id": "YKqEpJPHLsLd",
        "outputId": "3699793f-f5e0-47e2-a9d8-42609de06e00"
      },
      "source": [
        "data2_encode.info()"
      ],
      "execution_count": 25,
      "outputs": [
        {
          "output_type": "stream",
          "name": "stdout",
          "text": [
            "<class 'pandas.core.frame.DataFrame'>\n",
            "Int64Index: 586 entries, 0 to 615\n",
            "Data columns (total 7 columns):\n",
            " #   Column          Non-Null Count  Dtype  \n",
            "---  ------          --------------  -----  \n",
            " 0   PH              586 non-null    float64\n",
            " 1   cahaya          586 non-null    float64\n",
            " 2   intensitas_air  586 non-null    float64\n",
            " 3   suhu            586 non-null    float64\n",
            " 4   PPM             586 non-null    float64\n",
            " 5   tinggi_air      586 non-null    float64\n",
            " 6   aksi            586 non-null    object \n",
            "dtypes: float64(6), object(1)\n",
            "memory usage: 36.6+ KB\n"
          ]
        }
      ]
    },
    {
      "cell_type": "code",
      "metadata": {
        "colab": {
          "base_uri": "https://localhost:8080/",
          "height": 450
        },
        "id": "XW3RWYuuhH0J",
        "outputId": "0b31d7b5-2a41-4636-ea26-3ed19ae47cde"
      },
      "source": [
        "num_cols = ['PH', 'cahaya', 'intensitas_air', 'suhu', 'PPM', 'tinggi_air']\n",
        "plt.figure(figsize=(15,7))\n",
        "data2_encode[num_cols].boxplot()\n",
        "plt.title(\"Numerical variables in Titanic dataset\", fontsize=20)\n",
        "plt.show()"
      ],
      "execution_count": 26,
      "outputs": [
        {
          "output_type": "display_data",
          "data": {
            "image/png": "[encoded data removed]",
            "text/plain": [
              "<Figure size 1080x504 with 1 Axes>"
            ]
          },
          "metadata": {
            "needs_background": "light"
          }
        }
      ]
    },
    {
      "cell_type": "code",
      "metadata": {
        "id": "QDPY6ShI7I2R"
      },
      "source": [
        ""
      ],
      "execution_count": 26,
      "outputs": []
    },
    {
      "cell_type": "markdown",
      "metadata": {
        "id": "EFQ0YfYLa9Vy"
      },
      "source": [
        "## 5. Pisahkan data feature dengan label"
      ]
    },
    {
      "cell_type": "code",
      "metadata": {
        "id": "Jjxt06KTa9Vy",
        "colab": {
          "base_uri": "https://localhost:8080/",
          "height": 419
        },
        "outputId": "fb6ca1d3-b678-457e-e607-0b8ffd670999"
      },
      "source": [
        "#Isi Code\n",
        "# Data Feature\n",
        "X = data2_encode.iloc[:, :-1]\n",
        "X"
      ],
      "execution_count": 27,
      "outputs": [
        {
          "output_type": "execute_result",
          "data": {
            "text/html": [
              "<div>\n",
              "<style scoped>\n",
              "    .dataframe tbody tr th:only-of-type {\n",
              "        vertical-align: middle;\n",
              "    }\n",
              "\n",
              "    .dataframe tbody tr th {\n",
              "        vertical-align: top;\n",
              "    }\n",
              "\n",
              "    .dataframe thead th {\n",
              "        text-align: right;\n",
              "    }\n",
              "</style>\n",
              "<table border=\"1\" class=\"dataframe\">\n",
              "  <thead>\n",
              "    <tr style=\"text-align: right;\">\n",
              "      <th></th>\n",
              "      <th>PH</th>\n",
              "      <th>cahaya</th>\n",
              "      <th>intensitas_air</th>\n",
              "      <th>suhu</th>\n",
              "      <th>PPM</th>\n",
              "      <th>tinggi_air</th>\n",
              "    </tr>\n",
              "  </thead>\n",
              "  <tbody>\n",
              "    <tr>\n",
              "      <th>0</th>\n",
              "      <td>6.5</td>\n",
              "      <td>5.0</td>\n",
              "      <td>4.0</td>\n",
              "      <td>27.0</td>\n",
              "      <td>188.0</td>\n",
              "      <td>622.0</td>\n",
              "    </tr>\n",
              "    <tr>\n",
              "      <th>1</th>\n",
              "      <td>5.7</td>\n",
              "      <td>5.0</td>\n",
              "      <td>4.0</td>\n",
              "      <td>26.9</td>\n",
              "      <td>79.0</td>\n",
              "      <td>557.0</td>\n",
              "    </tr>\n",
              "    <tr>\n",
              "      <th>2</th>\n",
              "      <td>6.0</td>\n",
              "      <td>5.0</td>\n",
              "      <td>4.0</td>\n",
              "      <td>27.0</td>\n",
              "      <td>11.0</td>\n",
              "      <td>491.0</td>\n",
              "    </tr>\n",
              "    <tr>\n",
              "      <th>10</th>\n",
              "      <td>6.5</td>\n",
              "      <td>5.0</td>\n",
              "      <td>4.0</td>\n",
              "      <td>26.5</td>\n",
              "      <td>994.0</td>\n",
              "      <td>219.0</td>\n",
              "    </tr>\n",
              "    <tr>\n",
              "      <th>11</th>\n",
              "      <td>6.5</td>\n",
              "      <td>5.0</td>\n",
              "      <td>4.0</td>\n",
              "      <td>29.9</td>\n",
              "      <td>1604.0</td>\n",
              "      <td>103.0</td>\n",
              "    </tr>\n",
              "    <tr>\n",
              "      <th>...</th>\n",
              "      <td>...</td>\n",
              "      <td>...</td>\n",
              "      <td>...</td>\n",
              "      <td>...</td>\n",
              "      <td>...</td>\n",
              "      <td>...</td>\n",
              "    </tr>\n",
              "    <tr>\n",
              "      <th>611</th>\n",
              "      <td>4.6</td>\n",
              "      <td>5.0</td>\n",
              "      <td>1.0</td>\n",
              "      <td>25.3</td>\n",
              "      <td>904.0</td>\n",
              "      <td>47.0</td>\n",
              "    </tr>\n",
              "    <tr>\n",
              "      <th>612</th>\n",
              "      <td>2.1</td>\n",
              "      <td>5.0</td>\n",
              "      <td>1.0</td>\n",
              "      <td>25.0</td>\n",
              "      <td>388.0</td>\n",
              "      <td>18.0</td>\n",
              "    </tr>\n",
              "    <tr>\n",
              "      <th>613</th>\n",
              "      <td>3.2</td>\n",
              "      <td>5.0</td>\n",
              "      <td>1.0</td>\n",
              "      <td>25.3</td>\n",
              "      <td>793.0</td>\n",
              "      <td>19.0</td>\n",
              "    </tr>\n",
              "    <tr>\n",
              "      <th>614</th>\n",
              "      <td>1.4</td>\n",
              "      <td>5.0</td>\n",
              "      <td>1.0</td>\n",
              "      <td>25.4</td>\n",
              "      <td>1052.0</td>\n",
              "      <td>3.0</td>\n",
              "    </tr>\n",
              "    <tr>\n",
              "      <th>615</th>\n",
              "      <td>5.0</td>\n",
              "      <td>5.0</td>\n",
              "      <td>1.0</td>\n",
              "      <td>25.3</td>\n",
              "      <td>977.0</td>\n",
              "      <td>19.0</td>\n",
              "    </tr>\n",
              "  </tbody>\n",
              "</table>\n",
              "<p>586 rows × 6 columns</p>\n",
              "</div>"
            ],
            "text/plain": [
              "      PH  cahaya  intensitas_air  suhu     PPM  tinggi_air\n",
              "0    6.5     5.0             4.0  27.0   188.0       622.0\n",
              "1    5.7     5.0             4.0  26.9    79.0       557.0\n",
              "2    6.0     5.0             4.0  27.0    11.0       491.0\n",
              "10   6.5     5.0             4.0  26.5   994.0       219.0\n",
              "11   6.5     5.0             4.0  29.9  1604.0       103.0\n",
              "..   ...     ...             ...   ...     ...         ...\n",
              "611  4.6     5.0             1.0  25.3   904.0        47.0\n",
              "612  2.1     5.0             1.0  25.0   388.0        18.0\n",
              "613  3.2     5.0             1.0  25.3   793.0        19.0\n",
              "614  1.4     5.0             1.0  25.4  1052.0         3.0\n",
              "615  5.0     5.0             1.0  25.3   977.0        19.0\n",
              "\n",
              "[586 rows x 6 columns]"
            ]
          },
          "metadata": {},
          "execution_count": 27
        }
      ]
    },
    {
      "cell_type": "code",
      "metadata": {
        "colab": {
          "base_uri": "https://localhost:8080/"
        },
        "id": "vnvqqvSSon0a",
        "outputId": "54267f91-e00d-45f5-f9bc-b3eaabe91925"
      },
      "source": [
        "# Label\n",
        "Y = data2_encode.iloc[:, -1]\n",
        "Y"
      ],
      "execution_count": 28,
      "outputs": [
        {
          "output_type": "execute_result",
          "data": {
            "text/plain": [
              "0      Hidupkan Lampu dan Pompa nutrisi TDS\n",
              "1      Hidupkan Lampu dan Pompa nutrisi TDS\n",
              "2      Hidupkan Lampu dan Pompa nutrisi TDS\n",
              "10                           Hidupkan Lampu\n",
              "11                           Hidupkan Lampu\n",
              "                       ...                 \n",
              "611                          Hidupkan Lampu\n",
              "612    Hidupkan Lampu dan Pompa nutrisi TDS\n",
              "613                          Hidupkan Lampu\n",
              "614                          Hidupkan Lampu\n",
              "615                          Hidupkan Lampu\n",
              "Name: aksi, Length: 586, dtype: object"
            ]
          },
          "metadata": {},
          "execution_count": 28
        }
      ]
    },
    {
      "cell_type": "markdown",
      "metadata": {
        "id": "YCGKwPFra9Vz"
      },
      "source": [
        "## 6. Check Imbalanced Dataset, jika imbalanced, gunakan smote"
      ]
    },
    {
      "cell_type": "code",
      "metadata": {
        "colab": {
          "base_uri": "https://localhost:8080/",
          "height": 173
        },
        "id": "s6qdjeJdr0dd",
        "outputId": "fd67a2a1-728b-44ce-a36c-d8fd4a1d6ee3"
      },
      "source": [
        "from collections import Counter\n",
        "\n",
        "df = Counter(Y)\n",
        "df = pd.DataFrame.from_dict(df, orient='index')\n",
        "df.columns = ['Count']\n",
        "df.sort_index()"
      ],
      "execution_count": 29,
      "outputs": [
        {
          "output_type": "execute_result",
          "data": {
            "text/html": [
              "<div>\n",
              "<style scoped>\n",
              "    .dataframe tbody tr th:only-of-type {\n",
              "        vertical-align: middle;\n",
              "    }\n",
              "\n",
              "    .dataframe tbody tr th {\n",
              "        vertical-align: top;\n",
              "    }\n",
              "\n",
              "    .dataframe thead th {\n",
              "        text-align: right;\n",
              "    }\n",
              "</style>\n",
              "<table border=\"1\" class=\"dataframe\">\n",
              "  <thead>\n",
              "    <tr style=\"text-align: right;\">\n",
              "      <th></th>\n",
              "      <th>Count</th>\n",
              "    </tr>\n",
              "  </thead>\n",
              "  <tbody>\n",
              "    <tr>\n",
              "      <th>Hidupkan Lampu</th>\n",
              "      <td>88</td>\n",
              "    </tr>\n",
              "    <tr>\n",
              "      <th>Hidupkan Lampu dan Pompa nutrisi TDS</th>\n",
              "      <td>39</td>\n",
              "    </tr>\n",
              "    <tr>\n",
              "      <th>Hidupkan Pompa nutrisi TDS</th>\n",
              "      <td>12</td>\n",
              "    </tr>\n",
              "    <tr>\n",
              "      <th>Tidak melakukan apa-apa</th>\n",
              "      <td>447</td>\n",
              "    </tr>\n",
              "  </tbody>\n",
              "</table>\n",
              "</div>"
            ],
            "text/plain": [
              "                                      Count\n",
              "Hidupkan Lampu                           88\n",
              "Hidupkan Lampu dan Pompa nutrisi TDS     39\n",
              "Hidupkan Pompa nutrisi TDS               12\n",
              "Tidak melakukan apa-apa                 447"
            ]
          },
          "metadata": {},
          "execution_count": 29
        }
      ]
    },
    {
      "cell_type": "code",
      "metadata": {
        "id": "5YI-izdXa9V0"
      },
      "source": [
        "# !pip install imbalanced-learn"
      ],
      "execution_count": 30,
      "outputs": []
    },
    {
      "cell_type": "code",
      "metadata": {
        "id": "DIfkA5_da9V0",
        "colab": {
          "base_uri": "https://localhost:8080/",
          "height": 173
        },
        "outputId": "6b4f8bca-4f71-4920-e447-0af5bc2e5c84"
      },
      "source": [
        "#Isi Code\n",
        "from imblearn.over_sampling import SMOTE\n",
        "import warnings\n",
        "warnings.filterwarnings(\"ignore\")\n",
        "\n",
        "over_sampler = SMOTE(k_neighbors=7)\n",
        "X_res, Y_res = over_sampler.fit_resample(X, Y)\n",
        "df_res = Counter(Y_res)\n",
        "df_res = pd.DataFrame.from_dict(df_res, orient='index')\n",
        "df_res.columns = ['Count']\n",
        "df_res.sort_index()"
      ],
      "execution_count": 59,
      "outputs": [
        {
          "output_type": "execute_result",
          "data": {
            "text/html": [
              "<div>\n",
              "<style scoped>\n",
              "    .dataframe tbody tr th:only-of-type {\n",
              "        vertical-align: middle;\n",
              "    }\n",
              "\n",
              "    .dataframe tbody tr th {\n",
              "        vertical-align: top;\n",
              "    }\n",
              "\n",
              "    .dataframe thead th {\n",
              "        text-align: right;\n",
              "    }\n",
              "</style>\n",
              "<table border=\"1\" class=\"dataframe\">\n",
              "  <thead>\n",
              "    <tr style=\"text-align: right;\">\n",
              "      <th></th>\n",
              "      <th>Count</th>\n",
              "    </tr>\n",
              "  </thead>\n",
              "  <tbody>\n",
              "    <tr>\n",
              "      <th>Hidupkan Lampu</th>\n",
              "      <td>447</td>\n",
              "    </tr>\n",
              "    <tr>\n",
              "      <th>Hidupkan Lampu dan Pompa nutrisi TDS</th>\n",
              "      <td>447</td>\n",
              "    </tr>\n",
              "    <tr>\n",
              "      <th>Hidupkan Pompa nutrisi TDS</th>\n",
              "      <td>447</td>\n",
              "    </tr>\n",
              "    <tr>\n",
              "      <th>Tidak melakukan apa-apa</th>\n",
              "      <td>447</td>\n",
              "    </tr>\n",
              "  </tbody>\n",
              "</table>\n",
              "</div>"
            ],
            "text/plain": [
              "                                      Count\n",
              "Hidupkan Lampu                          447\n",
              "Hidupkan Lampu dan Pompa nutrisi TDS    447\n",
              "Hidupkan Pompa nutrisi TDS              447\n",
              "Tidak melakukan apa-apa                 447"
            ]
          },
          "metadata": {},
          "execution_count": 59
        }
      ]
    },
    {
      "cell_type": "markdown",
      "metadata": {
        "id": "2gLiWKVza9V1"
      },
      "source": [
        "## 7. Visualisasikan Data sehingga kita bisa mengetahui sebuah informasi"
      ]
    },
    {
      "cell_type": "code",
      "metadata": {
        "id": "hJMzN-gMa9V2",
        "colab": {
          "base_uri": "https://localhost:8080/",
          "height": 514
        },
        "outputId": "583d05fa-d04b-4ad1-b233-61556ed456a5"
      },
      "source": [
        "#Isi Code\n",
        "hist = data2_encode.hist(figsize=(20,10), layout=(2,3), bins=50, color=\"darkturquoise\")"
      ],
      "execution_count": 32,
      "outputs": [
        {
          "output_type": "display_data",
          "data": {
            "image/png": "[encoded data removed]",
            "text/plain": [
              "<Figure size 1440x720 with 6 Axes>"
            ]
          },
          "metadata": {
            "needs_background": "light"
          }
        }
      ]
    },
    {
      "cell_type": "code",
      "metadata": {
        "id": "FaMLEiNqxZaI",
        "colab": {
          "base_uri": "https://localhost:8080/",
          "height": 297
        },
        "outputId": "c11726d8-8547-4690-927e-f4293a1942b5"
      },
      "source": [
        "data2_encode.describe()"
      ],
      "execution_count": 33,
      "outputs": [
        {
          "output_type": "execute_result",
          "data": {
            "text/html": [
              "<div>\n",
              "<style scoped>\n",
              "    .dataframe tbody tr th:only-of-type {\n",
              "        vertical-align: middle;\n",
              "    }\n",
              "\n",
              "    .dataframe tbody tr th {\n",
              "        vertical-align: top;\n",
              "    }\n",
              "\n",
              "    .dataframe thead th {\n",
              "        text-align: right;\n",
              "    }\n",
              "</style>\n",
              "<table border=\"1\" class=\"dataframe\">\n",
              "  <thead>\n",
              "    <tr style=\"text-align: right;\">\n",
              "      <th></th>\n",
              "      <th>PH</th>\n",
              "      <th>cahaya</th>\n",
              "      <th>intensitas_air</th>\n",
              "      <th>suhu</th>\n",
              "      <th>PPM</th>\n",
              "      <th>tinggi_air</th>\n",
              "    </tr>\n",
              "  </thead>\n",
              "  <tbody>\n",
              "    <tr>\n",
              "      <th>count</th>\n",
              "      <td>586.000000</td>\n",
              "      <td>586.000000</td>\n",
              "      <td>586.000000</td>\n",
              "      <td>586.000000</td>\n",
              "      <td>586.000000</td>\n",
              "      <td>586.000000</td>\n",
              "    </tr>\n",
              "    <tr>\n",
              "      <th>mean</th>\n",
              "      <td>6.639932</td>\n",
              "      <td>5.486348</td>\n",
              "      <td>2.482935</td>\n",
              "      <td>30.112628</td>\n",
              "      <td>1035.460751</td>\n",
              "      <td>252.634812</td>\n",
              "    </tr>\n",
              "    <tr>\n",
              "      <th>std</th>\n",
              "      <td>2.986032</td>\n",
              "      <td>0.500241</td>\n",
              "      <td>1.098818</td>\n",
              "      <td>3.037601</td>\n",
              "      <td>631.173683</td>\n",
              "      <td>200.680772</td>\n",
              "    </tr>\n",
              "    <tr>\n",
              "      <th>min</th>\n",
              "      <td>0.000000</td>\n",
              "      <td>5.000000</td>\n",
              "      <td>1.000000</td>\n",
              "      <td>25.000000</td>\n",
              "      <td>1.000000</td>\n",
              "      <td>0.000000</td>\n",
              "    </tr>\n",
              "    <tr>\n",
              "      <th>25%</th>\n",
              "      <td>5.600000</td>\n",
              "      <td>5.000000</td>\n",
              "      <td>2.000000</td>\n",
              "      <td>27.100000</td>\n",
              "      <td>497.750000</td>\n",
              "      <td>50.000000</td>\n",
              "    </tr>\n",
              "    <tr>\n",
              "      <th>50%</th>\n",
              "      <td>6.500000</td>\n",
              "      <td>5.000000</td>\n",
              "      <td>2.000000</td>\n",
              "      <td>29.900000</td>\n",
              "      <td>992.500000</td>\n",
              "      <td>222.500000</td>\n",
              "    </tr>\n",
              "    <tr>\n",
              "      <th>75%</th>\n",
              "      <td>7.500000</td>\n",
              "      <td>6.000000</td>\n",
              "      <td>3.000000</td>\n",
              "      <td>33.000000</td>\n",
              "      <td>1603.750000</td>\n",
              "      <td>429.000000</td>\n",
              "    </tr>\n",
              "    <tr>\n",
              "      <th>max</th>\n",
              "      <td>14.000000</td>\n",
              "      <td>6.000000</td>\n",
              "      <td>4.000000</td>\n",
              "      <td>40.600000</td>\n",
              "      <td>2149.000000</td>\n",
              "      <td>629.000000</td>\n",
              "    </tr>\n",
              "  </tbody>\n",
              "</table>\n",
              "</div>"
            ],
            "text/plain": [
              "               PH      cahaya  ...          PPM  tinggi_air\n",
              "count  586.000000  586.000000  ...   586.000000  586.000000\n",
              "mean     6.639932    5.486348  ...  1035.460751  252.634812\n",
              "std      2.986032    0.500241  ...   631.173683  200.680772\n",
              "min      0.000000    5.000000  ...     1.000000    0.000000\n",
              "25%      5.600000    5.000000  ...   497.750000   50.000000\n",
              "50%      6.500000    5.000000  ...   992.500000  222.500000\n",
              "75%      7.500000    6.000000  ...  1603.750000  429.000000\n",
              "max     14.000000    6.000000  ...  2149.000000  629.000000\n",
              "\n",
              "[8 rows x 6 columns]"
            ]
          },
          "metadata": {},
          "execution_count": 33
        }
      ]
    },
    {
      "cell_type": "markdown",
      "metadata": {
        "id": "byMOPkmra9V2"
      },
      "source": [
        "## 8. Lakukan Normalization menggunakan MinMaxScaler atau Standardization menggunakan StandarScaler"
      ]
    },
    {
      "cell_type": "code",
      "metadata": {
        "id": "i0XxulQra9V3",
        "colab": {
          "base_uri": "https://localhost:8080/"
        },
        "outputId": "6334be50-01ee-41d5-c82e-9d0e1b2e8018"
      },
      "source": [
        "#Isi Kode\n",
        "from sklearn.preprocessing import MinMaxScaler\n",
        "\n",
        "scaler =  MinMaxScaler()\n",
        "X_scaled = scaler.fit_transform(X_res.astype(float))\n",
        "print(len(X_scaled), len(X_res))\n",
        "X_scaled"
      ],
      "execution_count": 34,
      "outputs": [
        {
          "output_type": "stream",
          "name": "stdout",
          "text": [
            "1788 1788\n"
          ]
        },
        {
          "output_type": "execute_result",
          "data": {
            "text/plain": [
              "array([[0.46428571, 0.        , 1.        , 0.12820513, 0.08705773,\n",
              "        0.98887122],\n",
              "       [0.40714286, 0.        , 1.        , 0.12179487, 0.03631285,\n",
              "        0.88553259],\n",
              "       [0.42857143, 0.        , 1.        , 0.12820513, 0.00465549,\n",
              "        0.78060413],\n",
              "       ...,\n",
              "       [0.83243825, 1.        , 1.        , 0.11627312, 0.16456629,\n",
              "        0.81593681],\n",
              "       [0.74018307, 1.        , 1.        , 0.06650531, 0.19017488,\n",
              "        0.57830344],\n",
              "       [0.72289507, 1.        , 1.        , 0.07221088, 0.17235735,\n",
              "        0.60180931]])"
            ]
          },
          "metadata": {},
          "execution_count": 34
        }
      ]
    },
    {
      "cell_type": "code",
      "metadata": {
        "colab": {
          "base_uri": "https://localhost:8080/"
        },
        "id": "sVomyz4uZMi_",
        "outputId": "c7c2182d-3682-4e32-ea43-8b2ffd9ba715"
      },
      "source": [
        "from sklearn import preprocessing\n",
        "\n",
        "standard_scaler = preprocessing.StandardScaler()\n",
        "X_std = preprocessing.StandardScaler().fit(X_res).transform(X_res.astype(float))\n",
        "print(len(X_std), len(X_res))\n",
        "X_std"
      ],
      "execution_count": 35,
      "outputs": [
        {
          "output_type": "stream",
          "name": "stdout",
          "text": [
            "1788 1788\n"
          ]
        },
        {
          "output_type": "execute_result",
          "data": {
            "text/plain": [
              "array([[-0.40560976, -0.82107083,  1.15511302, -0.33930305, -0.89734338,\n",
              "         1.62957858],\n",
              "       [-0.69750276, -0.82107083,  1.15511302, -0.38092596, -1.07503205,\n",
              "         1.28645956],\n",
              "       [-0.58804289, -0.82107083,  1.15511302, -0.33930305, -1.18588369,\n",
              "         0.93806178],\n",
              "       ...,\n",
              "       [ 1.47496037,  1.21792173,  1.15511302, -0.41677963, -0.62593879,\n",
              "         1.05537815],\n",
              "       [ 1.00370915,  1.21792173,  1.15511302, -0.73993071, -0.53626755,\n",
              "         0.26635542],\n",
              "       [ 0.91539981,  1.21792173,  1.15511302, -0.70288346, -0.59865755,\n",
              "         0.3444028 ]])"
            ]
          },
          "metadata": {},
          "execution_count": 35
        }
      ]
    },
    {
      "cell_type": "markdown",
      "metadata": {
        "id": "FJpwBxZfa9V3"
      },
      "source": [
        "## 9. Buat model ANN"
      ]
    },
    {
      "cell_type": "code",
      "metadata": {
        "id": "g5o_R7WbJXJp"
      },
      "source": [
        "from sklearn.preprocessing import LabelEncoder\n",
        "from sklearn.model_selection import train_test_split\n",
        "from keras.callbacks import EarlyStopping"
      ],
      "execution_count": 203,
      "outputs": []
    },
    {
      "cell_type": "code",
      "metadata": {
        "id": "1Zo0ODA8a9V4",
        "colab": {
          "base_uri": "https://localhost:8080/"
        },
        "outputId": "ffcac32b-3a37-483e-a9d2-ae2fcd51173c"
      },
      "source": [
        "#Isi Code\n",
        "\n",
        "# encode string menjadi integer\n",
        "y = LabelEncoder().fit_transform(Y_res)\n",
        "\n",
        "# split dataset menjadi 80% data training dan 20% data testing\n",
        "X_train_ANN, X_test_ANN, y_train_ANN, y_test_ANN = train_test_split(X_std, y, test_size=0.2, random_state=4)\n",
        "print('Train set:', X_train_ANN.shape,  y_train_ANN.shape)\n",
        "print('Test set:', X_test_ANN.shape,  y_test_ANN.shape)\n",
        "\n",
        "\n",
        "# memperoleh banyaknya jumlah fitur pada input\n",
        "n_features = X_train_ANN.shape[1]"
      ],
      "execution_count": 410,
      "outputs": [
        {
          "output_type": "stream",
          "name": "stdout",
          "text": [
            "Train set: (1430, 6) (1430,)\n",
            "Test set: (358, 6) (358,)\n"
          ]
        }
      ]
    },
    {
      "cell_type": "code",
      "metadata": {
        "colab": {
          "base_uri": "https://localhost:8080/"
        },
        "id": "V3J0-aDREhGF",
        "outputId": "34d2a1a0-5d94-4751-9acc-68d3217d7128"
      },
      "source": [
        "# encode string menjadi integer\n",
        "y2 = LabelEncoder().fit_transform(Y_res)\n",
        "\n",
        "# split dataset menjadi 80% data training dan 20% data testing\n",
        "X_train_ANN2, X_test_ANN2, y_train_ANN2, y_test_ANN2 = train_test_split(X_scaled, y2, test_size=0.2, random_state=4)\n",
        "print('Train set:', X_train_ANN2.shape,  y_train_ANN2.shape)\n",
        "print('Test set:', X_test_ANN2.shape,  y_test_ANN2.shape)\n",
        "\n",
        "\n",
        "# memperoleh banyaknya jumlah fitur pada input\n",
        "n_features = X_train_ANN2.shape[1]"
      ],
      "execution_count": 435,
      "outputs": [
        {
          "output_type": "stream",
          "name": "stdout",
          "text": [
            "Train set: (1430, 6) (1430,)\n",
            "Test set: (358, 6) (358,)\n"
          ]
        }
      ]
    },
    {
      "cell_type": "code",
      "metadata": {
        "colab": {
          "base_uri": "https://localhost:8080/"
        },
        "id": "laDoovc8JvTL",
        "outputId": "f785ef3f-d08b-4da1-e126-4ea84ad14776"
      },
      "source": [
        "y"
      ],
      "execution_count": 411,
      "outputs": [
        {
          "output_type": "execute_result",
          "data": {
            "text/plain": [
              "array([1, 1, 1, ..., 2, 2, 2])"
            ]
          },
          "metadata": {},
          "execution_count": 411
        }
      ]
    },
    {
      "cell_type": "code",
      "metadata": {
        "id": "6B8kqU-RJbmA"
      },
      "source": [
        "from tensorflow.keras.layers import Dense, Dropout, BatchNormalization\n",
        "from tensorflow.keras import Sequential\n",
        "from tensorflow.keras.optimizers import SGD"
      ],
      "execution_count": 412,
      "outputs": []
    },
    {
      "cell_type": "code",
      "metadata": {
        "id": "MZHGSlcZLyTh"
      },
      "source": [
        "# from tensorflow.keras.optimizers import Adam\n",
        "# from tensorflow.keras.losses import MeanSquaredError"
      ],
      "execution_count": 413,
      "outputs": []
    },
    {
      "cell_type": "code",
      "metadata": {
        "id": "uJ8B5Eu9EYsL"
      },
      "source": [
        "# # define model\n",
        "# model = Sequential()\n",
        "# model.add(Dense(16, input_shape=(n_features,)))\n",
        "# model.add(Dropout(0.5))\n",
        "# model.add(BatchNormalization())\n",
        "# model.add(Dense(32, activation = 'relu'))\n",
        "# model.add(Dense(32, activation = 'relu'))\n",
        "# model.add(Dropout(0.15))\n",
        "# model.add(Dense(28))\n",
        "# model.add(Dense(10))\n",
        "# model.add(BatchNormalization())\n",
        "# model.add(Dense(6))\n",
        "# model.add(Dense(1, activation='sigmoid'))\n",
        "\n",
        "# # compile model \n",
        "# model.compile(loss='mean_squared_error', optimizer='adam', metrics=['accuracy'])\n",
        "\n",
        "# # fit model \n",
        "# history = model.fit(X_train_ANN, y_train_ANN, epochs=100, batch_size=10, verbose=1, validation_split=0.2)"
      ],
      "execution_count": 414,
      "outputs": []
    },
    {
      "cell_type": "code",
      "metadata": {
        "id": "t2hCSBr0S9ML"
      },
      "source": [
        "# # define model \n",
        "# model = Sequential()\n",
        "# model.add(Dense(16, activation='relu', input_shape=(n_features, )))\n",
        "# model.add(Dense(8, activation='relu'))\n",
        "# model.add(Dense(8, activation='relu'))\n",
        "# model.add(Dense(1, activation='sigmoid'))\n",
        "\n",
        "# # compile model \n",
        "# model.compile(loss='mean_squared_error', optimizer='adam', metrics=['accuracy'])\n",
        "\n",
        "# # fit model \n",
        "# history = model.fit(X_train_ANN, y_train_ANN, epochs=100, batch_size=10, validation_split=0.2, verbose=2)"
      ],
      "execution_count": 415,
      "outputs": []
    },
    {
      "cell_type": "code",
      "metadata": {
        "id": "jZ4QO2hxeL33"
      },
      "source": [
        "# model = Sequential()\n",
        "# model.add(Dense(32, activation='relu', input_shape=(n_features, )))\n",
        "# model.add(Dense(10, activation='relu', kernel_initializer='uniform'))\n",
        "# model.add(Dropout(0.1))\n",
        "# model.add(Dense(4, activation='relu'))\n",
        "# sdg = SGD(lr=0.001, momentum=0.9)\n",
        "# model.compile(loss='mean_absolute_error', optimizer=sdg, metrics=['accuracy'])\n",
        "# history = model.fit(X_train_ANN, y_train_ANN, epochs=100, batch_size=10, validation_split=0.2, verbose=2)"
      ],
      "execution_count": 417,
      "outputs": []
    },
    {
      "cell_type": "code",
      "metadata": {
        "colab": {
          "base_uri": "https://localhost:8080/"
        },
        "id": "nkIiIjHZ4-Uo",
        "outputId": "d5aad00c-7e15-42a8-f70f-3bedc2dce9c6"
      },
      "source": [
        "# define model \n",
        "model = Sequential()\n",
        "model.add(Dense(6, activation='relu', input_shape=(n_features, )))\n",
        "model.add(Dense(64, activation='relu', kernel_initializer='uniform'))\n",
        "model.add(Dropout(0.1))\n",
        "model.add(Dense(16, activation='relu', kernel_initializer='uniform'))\n",
        "model.add(BatchNormalization())\n",
        "model.add(Dense(4, activation='sigmoid'))\n",
        "\n",
        "# compile model \n",
        "sdg = SGD(lr=0.001, momentum=0.9)\n",
        "model.compile(loss='sparse_categorical_crossentropy', optimizer=sdg, metrics=['accuracy'])\n",
        "\n",
        "# fit model \n",
        "# es = EarlyStopping(monitor='val_accuracy', mode='max', verbose=2, patience=200)\n",
        "history = model.fit(X_train_ANN, y_train_ANN, epochs=500, batch_size=10, verbose=2, validation_split=0.3)"
      ],
      "execution_count": 416,
      "outputs": [
        {
          "output_type": "stream",
          "name": "stdout",
          "text": [
            "Epoch 1/500\n",
            "100/100 - 1s - loss: 0.9080 - accuracy: 0.6600 - val_loss: 1.2651 - val_accuracy: 0.5535\n",
            "Epoch 2/500\n",
            "100/100 - 0s - loss: 0.5262 - accuracy: 0.8490 - val_loss: 1.0922 - val_accuracy: 0.7907\n",
            "Epoch 3/500\n",
            "100/100 - 0s - loss: 0.4338 - accuracy: 0.8640 - val_loss: 0.8092 - val_accuracy: 0.9395\n",
            "Epoch 4/500\n",
            "100/100 - 0s - loss: 0.3934 - accuracy: 0.8700 - val_loss: 0.5429 - val_accuracy: 0.9512\n",
            "Epoch 5/500\n",
            "100/100 - 0s - loss: 0.3296 - accuracy: 0.8970 - val_loss: 0.3235 - val_accuracy: 0.9651\n",
            "Epoch 6/500\n",
            "100/100 - 0s - loss: 0.2959 - accuracy: 0.9190 - val_loss: 0.2064 - val_accuracy: 0.9581\n",
            "Epoch 7/500\n",
            "100/100 - 0s - loss: 0.2904 - accuracy: 0.9080 - val_loss: 0.1545 - val_accuracy: 0.9628\n",
            "Epoch 8/500\n",
            "100/100 - 0s - loss: 0.2518 - accuracy: 0.9160 - val_loss: 0.1276 - val_accuracy: 0.9651\n",
            "Epoch 9/500\n",
            "100/100 - 0s - loss: 0.2154 - accuracy: 0.9340 - val_loss: 0.1162 - val_accuracy: 0.9628\n",
            "Epoch 10/500\n",
            "100/100 - 0s - loss: 0.2158 - accuracy: 0.9300 - val_loss: 0.1206 - val_accuracy: 0.9628\n",
            "Epoch 11/500\n",
            "100/100 - 0s - loss: 0.2184 - accuracy: 0.9300 - val_loss: 0.1355 - val_accuracy: 0.9488\n",
            "Epoch 12/500\n",
            "100/100 - 0s - loss: 0.1868 - accuracy: 0.9350 - val_loss: 0.0938 - val_accuracy: 0.9674\n",
            "Epoch 13/500\n",
            "100/100 - 0s - loss: 0.1556 - accuracy: 0.9510 - val_loss: 0.0971 - val_accuracy: 0.9628\n",
            "Epoch 14/500\n",
            "100/100 - 0s - loss: 0.1609 - accuracy: 0.9490 - val_loss: 0.0913 - val_accuracy: 0.9628\n",
            "Epoch 15/500\n",
            "100/100 - 0s - loss: 0.1546 - accuracy: 0.9480 - val_loss: 0.0819 - val_accuracy: 0.9674\n",
            "Epoch 16/500\n",
            "100/100 - 0s - loss: 0.1695 - accuracy: 0.9430 - val_loss: 0.0728 - val_accuracy: 0.9721\n",
            "Epoch 17/500\n",
            "100/100 - 0s - loss: 0.1551 - accuracy: 0.9450 - val_loss: 0.0998 - val_accuracy: 0.9651\n",
            "Epoch 18/500\n",
            "100/100 - 0s - loss: 0.1320 - accuracy: 0.9600 - val_loss: 0.0650 - val_accuracy: 0.9698\n",
            "Epoch 19/500\n",
            "100/100 - 0s - loss: 0.1300 - accuracy: 0.9510 - val_loss: 0.0697 - val_accuracy: 0.9721\n",
            "Epoch 20/500\n",
            "100/100 - 0s - loss: 0.1375 - accuracy: 0.9590 - val_loss: 0.0756 - val_accuracy: 0.9674\n",
            "Epoch 21/500\n",
            "100/100 - 0s - loss: 0.1434 - accuracy: 0.9560 - val_loss: 0.0670 - val_accuracy: 0.9767\n",
            "Epoch 22/500\n",
            "100/100 - 0s - loss: 0.1445 - accuracy: 0.9570 - val_loss: 0.0929 - val_accuracy: 0.9651\n",
            "Epoch 23/500\n",
            "100/100 - 0s - loss: 0.1314 - accuracy: 0.9570 - val_loss: 0.0844 - val_accuracy: 0.9698\n",
            "Epoch 24/500\n",
            "100/100 - 0s - loss: 0.1029 - accuracy: 0.9640 - val_loss: 0.0760 - val_accuracy: 0.9744\n",
            "Epoch 25/500\n",
            "100/100 - 0s - loss: 0.1344 - accuracy: 0.9540 - val_loss: 0.0934 - val_accuracy: 0.9628\n",
            "Epoch 26/500\n",
            "100/100 - 0s - loss: 0.0980 - accuracy: 0.9690 - val_loss: 0.0715 - val_accuracy: 0.9744\n",
            "Epoch 27/500\n",
            "100/100 - 0s - loss: 0.1001 - accuracy: 0.9680 - val_loss: 0.0650 - val_accuracy: 0.9721\n",
            "Epoch 28/500\n",
            "100/100 - 0s - loss: 0.1216 - accuracy: 0.9620 - val_loss: 0.0730 - val_accuracy: 0.9698\n",
            "Epoch 29/500\n",
            "100/100 - 0s - loss: 0.1026 - accuracy: 0.9710 - val_loss: 0.0544 - val_accuracy: 0.9744\n",
            "Epoch 30/500\n",
            "100/100 - 0s - loss: 0.1196 - accuracy: 0.9490 - val_loss: 0.0541 - val_accuracy: 0.9814\n",
            "Epoch 31/500\n",
            "100/100 - 0s - loss: 0.1142 - accuracy: 0.9650 - val_loss: 0.0555 - val_accuracy: 0.9767\n",
            "Epoch 32/500\n",
            "100/100 - 0s - loss: 0.1034 - accuracy: 0.9710 - val_loss: 0.0684 - val_accuracy: 0.9744\n",
            "Epoch 33/500\n",
            "100/100 - 0s - loss: 0.0914 - accuracy: 0.9740 - val_loss: 0.0463 - val_accuracy: 0.9837\n",
            "Epoch 34/500\n",
            "100/100 - 0s - loss: 0.1031 - accuracy: 0.9720 - val_loss: 0.0675 - val_accuracy: 0.9744\n",
            "Epoch 35/500\n",
            "100/100 - 0s - loss: 0.0820 - accuracy: 0.9740 - val_loss: 0.0622 - val_accuracy: 0.9767\n",
            "Epoch 36/500\n",
            "100/100 - 0s - loss: 0.1003 - accuracy: 0.9660 - val_loss: 0.0749 - val_accuracy: 0.9698\n",
            "Epoch 37/500\n",
            "100/100 - 0s - loss: 0.0979 - accuracy: 0.9640 - val_loss: 0.0550 - val_accuracy: 0.9767\n",
            "Epoch 38/500\n",
            "100/100 - 0s - loss: 0.0860 - accuracy: 0.9680 - val_loss: 0.0457 - val_accuracy: 0.9791\n",
            "Epoch 39/500\n",
            "100/100 - 0s - loss: 0.0844 - accuracy: 0.9720 - val_loss: 0.0943 - val_accuracy: 0.9721\n",
            "Epoch 40/500\n",
            "100/100 - 0s - loss: 0.0809 - accuracy: 0.9730 - val_loss: 0.1032 - val_accuracy: 0.9674\n",
            "Epoch 41/500\n",
            "100/100 - 0s - loss: 0.0942 - accuracy: 0.9720 - val_loss: 0.0567 - val_accuracy: 0.9791\n",
            "Epoch 42/500\n",
            "100/100 - 0s - loss: 0.0838 - accuracy: 0.9730 - val_loss: 0.0700 - val_accuracy: 0.9767\n",
            "Epoch 43/500\n",
            "100/100 - 0s - loss: 0.0657 - accuracy: 0.9800 - val_loss: 0.0478 - val_accuracy: 0.9860\n",
            "Epoch 44/500\n",
            "100/100 - 0s - loss: 0.0799 - accuracy: 0.9740 - val_loss: 0.0989 - val_accuracy: 0.9558\n",
            "Epoch 45/500\n",
            "100/100 - 0s - loss: 0.0786 - accuracy: 0.9780 - val_loss: 0.0421 - val_accuracy: 0.9814\n",
            "Epoch 46/500\n",
            "100/100 - 0s - loss: 0.0875 - accuracy: 0.9770 - val_loss: 0.0574 - val_accuracy: 0.9791\n",
            "Epoch 47/500\n",
            "100/100 - 0s - loss: 0.0807 - accuracy: 0.9730 - val_loss: 0.0687 - val_accuracy: 0.9767\n",
            "Epoch 48/500\n",
            "100/100 - 0s - loss: 0.0822 - accuracy: 0.9780 - val_loss: 0.0630 - val_accuracy: 0.9767\n",
            "Epoch 49/500\n",
            "100/100 - 0s - loss: 0.0911 - accuracy: 0.9740 - val_loss: 0.0532 - val_accuracy: 0.9791\n",
            "Epoch 50/500\n",
            "100/100 - 0s - loss: 0.0764 - accuracy: 0.9820 - val_loss: 0.0663 - val_accuracy: 0.9791\n",
            "Epoch 51/500\n",
            "100/100 - 0s - loss: 0.0843 - accuracy: 0.9730 - val_loss: 0.0633 - val_accuracy: 0.9698\n",
            "Epoch 52/500\n",
            "100/100 - 0s - loss: 0.0620 - accuracy: 0.9800 - val_loss: 0.0542 - val_accuracy: 0.9814\n",
            "Epoch 53/500\n",
            "100/100 - 0s - loss: 0.0651 - accuracy: 0.9800 - val_loss: 0.0848 - val_accuracy: 0.9744\n",
            "Epoch 54/500\n",
            "100/100 - 0s - loss: 0.0569 - accuracy: 0.9850 - val_loss: 0.0602 - val_accuracy: 0.9791\n",
            "Epoch 55/500\n",
            "100/100 - 0s - loss: 0.0574 - accuracy: 0.9850 - val_loss: 0.0656 - val_accuracy: 0.9791\n",
            "Epoch 56/500\n",
            "100/100 - 0s - loss: 0.0580 - accuracy: 0.9810 - val_loss: 0.0630 - val_accuracy: 0.9814\n",
            "Epoch 57/500\n",
            "100/100 - 0s - loss: 0.0765 - accuracy: 0.9750 - val_loss: 0.0973 - val_accuracy: 0.9767\n",
            "Epoch 58/500\n",
            "100/100 - 0s - loss: 0.0691 - accuracy: 0.9760 - val_loss: 0.0869 - val_accuracy: 0.9791\n",
            "Epoch 59/500\n",
            "100/100 - 0s - loss: 0.0444 - accuracy: 0.9870 - val_loss: 0.0432 - val_accuracy: 0.9814\n",
            "Epoch 60/500\n",
            "100/100 - 0s - loss: 0.0660 - accuracy: 0.9790 - val_loss: 0.0590 - val_accuracy: 0.9791\n",
            "Epoch 61/500\n",
            "100/100 - 0s - loss: 0.0650 - accuracy: 0.9800 - val_loss: 0.0624 - val_accuracy: 0.9791\n",
            "Epoch 62/500\n",
            "100/100 - 0s - loss: 0.0613 - accuracy: 0.9830 - val_loss: 0.1128 - val_accuracy: 0.9767\n",
            "Epoch 63/500\n",
            "100/100 - 0s - loss: 0.0644 - accuracy: 0.9800 - val_loss: 0.0810 - val_accuracy: 0.9791\n",
            "Epoch 64/500\n",
            "100/100 - 0s - loss: 0.0501 - accuracy: 0.9870 - val_loss: 0.0606 - val_accuracy: 0.9814\n",
            "Epoch 65/500\n",
            "100/100 - 0s - loss: 0.0715 - accuracy: 0.9760 - val_loss: 0.0922 - val_accuracy: 0.9767\n",
            "Epoch 66/500\n",
            "100/100 - 0s - loss: 0.0555 - accuracy: 0.9830 - val_loss: 0.0911 - val_accuracy: 0.9744\n",
            "Epoch 67/500\n",
            "100/100 - 0s - loss: 0.0502 - accuracy: 0.9870 - val_loss: 0.0621 - val_accuracy: 0.9791\n",
            "Epoch 68/500\n",
            "100/100 - 0s - loss: 0.0520 - accuracy: 0.9860 - val_loss: 0.0827 - val_accuracy: 0.9721\n",
            "Epoch 69/500\n",
            "100/100 - 0s - loss: 0.0486 - accuracy: 0.9880 - val_loss: 0.0610 - val_accuracy: 0.9791\n",
            "Epoch 70/500\n",
            "100/100 - 0s - loss: 0.0465 - accuracy: 0.9870 - val_loss: 0.0827 - val_accuracy: 0.9791\n",
            "Epoch 71/500\n",
            "100/100 - 0s - loss: 0.0427 - accuracy: 0.9880 - val_loss: 0.0789 - val_accuracy: 0.9791\n",
            "Epoch 72/500\n",
            "100/100 - 0s - loss: 0.0534 - accuracy: 0.9860 - val_loss: 0.0843 - val_accuracy: 0.9767\n",
            "Epoch 73/500\n",
            "100/100 - 0s - loss: 0.0476 - accuracy: 0.9880 - val_loss: 0.0535 - val_accuracy: 0.9814\n",
            "Epoch 74/500\n",
            "100/100 - 0s - loss: 0.0461 - accuracy: 0.9900 - val_loss: 0.0603 - val_accuracy: 0.9791\n",
            "Epoch 75/500\n",
            "100/100 - 0s - loss: 0.0564 - accuracy: 0.9810 - val_loss: 0.0667 - val_accuracy: 0.9791\n",
            "Epoch 76/500\n",
            "100/100 - 0s - loss: 0.0606 - accuracy: 0.9850 - val_loss: 0.0752 - val_accuracy: 0.9791\n",
            "Epoch 77/500\n",
            "100/100 - 0s - loss: 0.0396 - accuracy: 0.9860 - val_loss: 0.0535 - val_accuracy: 0.9791\n",
            "Epoch 78/500\n",
            "100/100 - 0s - loss: 0.0657 - accuracy: 0.9840 - val_loss: 0.0731 - val_accuracy: 0.9791\n",
            "Epoch 79/500\n",
            "100/100 - 0s - loss: 0.0512 - accuracy: 0.9850 - val_loss: 0.0683 - val_accuracy: 0.9698\n",
            "Epoch 80/500\n",
            "100/100 - 0s - loss: 0.0547 - accuracy: 0.9860 - val_loss: 0.0731 - val_accuracy: 0.9791\n",
            "Epoch 81/500\n",
            "100/100 - 0s - loss: 0.0547 - accuracy: 0.9830 - val_loss: 0.0940 - val_accuracy: 0.9791\n",
            "Epoch 82/500\n",
            "100/100 - 0s - loss: 0.0529 - accuracy: 0.9860 - val_loss: 0.0463 - val_accuracy: 0.9767\n",
            "Epoch 83/500\n",
            "100/100 - 0s - loss: 0.0695 - accuracy: 0.9820 - val_loss: 0.1456 - val_accuracy: 0.9512\n",
            "Epoch 84/500\n",
            "100/100 - 0s - loss: 0.0585 - accuracy: 0.9860 - val_loss: 0.0531 - val_accuracy: 0.9791\n",
            "Epoch 85/500\n",
            "100/100 - 0s - loss: 0.0404 - accuracy: 0.9880 - val_loss: 0.0910 - val_accuracy: 0.9791\n",
            "Epoch 86/500\n",
            "100/100 - 0s - loss: 0.0491 - accuracy: 0.9840 - val_loss: 0.0567 - val_accuracy: 0.9791\n",
            "Epoch 87/500\n",
            "100/100 - 0s - loss: 0.0422 - accuracy: 0.9890 - val_loss: 0.0515 - val_accuracy: 0.9791\n",
            "Epoch 88/500\n",
            "100/100 - 0s - loss: 0.0530 - accuracy: 0.9860 - val_loss: 0.1081 - val_accuracy: 0.9791\n",
            "Epoch 89/500\n",
            "100/100 - 0s - loss: 0.0651 - accuracy: 0.9780 - val_loss: 0.0764 - val_accuracy: 0.9814\n",
            "Epoch 90/500\n",
            "100/100 - 0s - loss: 0.0489 - accuracy: 0.9860 - val_loss: 0.0676 - val_accuracy: 0.9791\n",
            "Epoch 91/500\n",
            "100/100 - 0s - loss: 0.0406 - accuracy: 0.9890 - val_loss: 0.0898 - val_accuracy: 0.9767\n",
            "Epoch 92/500\n",
            "100/100 - 0s - loss: 0.0595 - accuracy: 0.9860 - val_loss: 0.0765 - val_accuracy: 0.9791\n",
            "Epoch 93/500\n",
            "100/100 - 0s - loss: 0.0467 - accuracy: 0.9890 - val_loss: 0.0556 - val_accuracy: 0.9791\n",
            "Epoch 94/500\n",
            "100/100 - 0s - loss: 0.0758 - accuracy: 0.9820 - val_loss: 0.1534 - val_accuracy: 0.9651\n",
            "Epoch 95/500\n",
            "100/100 - 0s - loss: 0.0565 - accuracy: 0.9850 - val_loss: 0.0669 - val_accuracy: 0.9791\n",
            "Epoch 96/500\n",
            "100/100 - 0s - loss: 0.0480 - accuracy: 0.9870 - val_loss: 0.0654 - val_accuracy: 0.9791\n",
            "Epoch 97/500\n",
            "100/100 - 0s - loss: 0.0536 - accuracy: 0.9840 - val_loss: 0.0533 - val_accuracy: 0.9767\n",
            "Epoch 98/500\n",
            "100/100 - 0s - loss: 0.0410 - accuracy: 0.9890 - val_loss: 0.0976 - val_accuracy: 0.9791\n",
            "Epoch 99/500\n",
            "100/100 - 0s - loss: 0.0565 - accuracy: 0.9840 - val_loss: 0.0641 - val_accuracy: 0.9791\n",
            "Epoch 100/500\n",
            "100/100 - 0s - loss: 0.0521 - accuracy: 0.9860 - val_loss: 0.0416 - val_accuracy: 0.9837\n",
            "Epoch 101/500\n",
            "100/100 - 0s - loss: 0.0529 - accuracy: 0.9860 - val_loss: 0.0689 - val_accuracy: 0.9791\n",
            "Epoch 102/500\n",
            "100/100 - 0s - loss: 0.0386 - accuracy: 0.9910 - val_loss: 0.0594 - val_accuracy: 0.9767\n",
            "Epoch 103/500\n",
            "100/100 - 0s - loss: 0.0340 - accuracy: 0.9890 - val_loss: 0.0624 - val_accuracy: 0.9814\n",
            "Epoch 104/500\n",
            "100/100 - 0s - loss: 0.0428 - accuracy: 0.9860 - val_loss: 0.0719 - val_accuracy: 0.9814\n",
            "Epoch 105/500\n",
            "100/100 - 0s - loss: 0.0369 - accuracy: 0.9900 - val_loss: 0.0792 - val_accuracy: 0.9767\n",
            "Epoch 106/500\n",
            "100/100 - 0s - loss: 0.0314 - accuracy: 0.9880 - val_loss: 0.1125 - val_accuracy: 0.9791\n",
            "Epoch 107/500\n",
            "100/100 - 0s - loss: 0.0481 - accuracy: 0.9880 - val_loss: 0.0817 - val_accuracy: 0.9791\n",
            "Epoch 108/500\n",
            "100/100 - 0s - loss: 0.0413 - accuracy: 0.9870 - val_loss: 0.0442 - val_accuracy: 0.9791\n",
            "Epoch 109/500\n",
            "100/100 - 0s - loss: 0.0465 - accuracy: 0.9880 - val_loss: 0.0518 - val_accuracy: 0.9791\n",
            "Epoch 110/500\n",
            "100/100 - 0s - loss: 0.0411 - accuracy: 0.9870 - val_loss: 0.0644 - val_accuracy: 0.9791\n",
            "Epoch 111/500\n",
            "100/100 - 0s - loss: 0.0325 - accuracy: 0.9910 - val_loss: 0.0519 - val_accuracy: 0.9837\n",
            "Epoch 112/500\n",
            "100/100 - 0s - loss: 0.0458 - accuracy: 0.9880 - val_loss: 0.0565 - val_accuracy: 0.9791\n",
            "Epoch 113/500\n",
            "100/100 - 0s - loss: 0.0450 - accuracy: 0.9890 - val_loss: 0.1489 - val_accuracy: 0.9721\n",
            "Epoch 114/500\n",
            "100/100 - 0s - loss: 0.0473 - accuracy: 0.9890 - val_loss: 0.0633 - val_accuracy: 0.9767\n",
            "Epoch 115/500\n",
            "100/100 - 0s - loss: 0.0520 - accuracy: 0.9890 - val_loss: 0.0727 - val_accuracy: 0.9767\n",
            "Epoch 116/500\n",
            "100/100 - 0s - loss: 0.0347 - accuracy: 0.9910 - val_loss: 0.0784 - val_accuracy: 0.9791\n",
            "Epoch 117/500\n",
            "100/100 - 0s - loss: 0.0597 - accuracy: 0.9840 - val_loss: 0.0606 - val_accuracy: 0.9767\n",
            "Epoch 118/500\n",
            "100/100 - 0s - loss: 0.0347 - accuracy: 0.9940 - val_loss: 0.0830 - val_accuracy: 0.9791\n",
            "Epoch 119/500\n",
            "100/100 - 0s - loss: 0.0375 - accuracy: 0.9880 - val_loss: 0.0597 - val_accuracy: 0.9860\n",
            "Epoch 120/500\n",
            "100/100 - 0s - loss: 0.0390 - accuracy: 0.9910 - val_loss: 0.0482 - val_accuracy: 0.9814\n",
            "Epoch 121/500\n",
            "100/100 - 0s - loss: 0.0432 - accuracy: 0.9890 - val_loss: 0.0725 - val_accuracy: 0.9791\n",
            "Epoch 122/500\n",
            "100/100 - 0s - loss: 0.0398 - accuracy: 0.9910 - val_loss: 0.0884 - val_accuracy: 0.9767\n",
            "Epoch 123/500\n",
            "100/100 - 0s - loss: 0.0302 - accuracy: 0.9950 - val_loss: 0.0637 - val_accuracy: 0.9791\n",
            "Epoch 124/500\n",
            "100/100 - 0s - loss: 0.0362 - accuracy: 0.9900 - val_loss: 0.0599 - val_accuracy: 0.9767\n",
            "Epoch 125/500\n",
            "100/100 - 0s - loss: 0.0421 - accuracy: 0.9890 - val_loss: 0.0822 - val_accuracy: 0.9791\n",
            "Epoch 126/500\n",
            "100/100 - 0s - loss: 0.0246 - accuracy: 0.9940 - val_loss: 0.1003 - val_accuracy: 0.9791\n",
            "Epoch 127/500\n",
            "100/100 - 0s - loss: 0.0278 - accuracy: 0.9920 - val_loss: 0.0576 - val_accuracy: 0.9860\n",
            "Epoch 128/500\n",
            "100/100 - 0s - loss: 0.0405 - accuracy: 0.9880 - val_loss: 0.1363 - val_accuracy: 0.9628\n",
            "Epoch 129/500\n",
            "100/100 - 0s - loss: 0.0476 - accuracy: 0.9860 - val_loss: 0.0948 - val_accuracy: 0.9674\n",
            "Epoch 130/500\n",
            "100/100 - 0s - loss: 0.0290 - accuracy: 0.9920 - val_loss: 0.0443 - val_accuracy: 0.9814\n",
            "Epoch 131/500\n",
            "100/100 - 0s - loss: 0.0573 - accuracy: 0.9830 - val_loss: 0.0866 - val_accuracy: 0.9791\n",
            "Epoch 132/500\n",
            "100/100 - 0s - loss: 0.0326 - accuracy: 0.9930 - val_loss: 0.0718 - val_accuracy: 0.9791\n",
            "Epoch 133/500\n",
            "100/100 - 0s - loss: 0.0416 - accuracy: 0.9910 - val_loss: 0.0600 - val_accuracy: 0.9860\n",
            "Epoch 134/500\n",
            "100/100 - 0s - loss: 0.0456 - accuracy: 0.9890 - val_loss: 0.0901 - val_accuracy: 0.9744\n",
            "Epoch 135/500\n",
            "100/100 - 0s - loss: 0.0372 - accuracy: 0.9900 - val_loss: 0.0731 - val_accuracy: 0.9767\n",
            "Epoch 136/500\n",
            "100/100 - 0s - loss: 0.0369 - accuracy: 0.9890 - val_loss: 0.0945 - val_accuracy: 0.9767\n",
            "Epoch 137/500\n",
            "100/100 - 0s - loss: 0.0421 - accuracy: 0.9840 - val_loss: 0.0549 - val_accuracy: 0.9837\n",
            "Epoch 138/500\n",
            "100/100 - 0s - loss: 0.0367 - accuracy: 0.9890 - val_loss: 0.0780 - val_accuracy: 0.9814\n",
            "Epoch 139/500\n",
            "100/100 - 0s - loss: 0.0250 - accuracy: 0.9930 - val_loss: 0.0843 - val_accuracy: 0.9791\n",
            "Epoch 140/500\n",
            "100/100 - 0s - loss: 0.0334 - accuracy: 0.9920 - val_loss: 0.0664 - val_accuracy: 0.9814\n",
            "Epoch 141/500\n",
            "100/100 - 0s - loss: 0.0474 - accuracy: 0.9860 - val_loss: 0.0468 - val_accuracy: 0.9860\n",
            "Epoch 142/500\n",
            "100/100 - 0s - loss: 0.0410 - accuracy: 0.9890 - val_loss: 0.1085 - val_accuracy: 0.9674\n",
            "Epoch 143/500\n",
            "100/100 - 0s - loss: 0.0250 - accuracy: 0.9940 - val_loss: 0.0763 - val_accuracy: 0.9814\n",
            "Epoch 144/500\n",
            "100/100 - 0s - loss: 0.0419 - accuracy: 0.9940 - val_loss: 0.0748 - val_accuracy: 0.9721\n",
            "Epoch 145/500\n",
            "100/100 - 0s - loss: 0.0523 - accuracy: 0.9860 - val_loss: 0.0602 - val_accuracy: 0.9814\n",
            "Epoch 146/500\n",
            "100/100 - 0s - loss: 0.0426 - accuracy: 0.9840 - val_loss: 0.0947 - val_accuracy: 0.9767\n",
            "Epoch 147/500\n",
            "100/100 - 0s - loss: 0.0224 - accuracy: 0.9970 - val_loss: 0.0709 - val_accuracy: 0.9791\n",
            "Epoch 148/500\n",
            "100/100 - 0s - loss: 0.0413 - accuracy: 0.9890 - val_loss: 0.0476 - val_accuracy: 0.9837\n",
            "Epoch 149/500\n",
            "100/100 - 0s - loss: 0.0241 - accuracy: 0.9950 - val_loss: 0.0636 - val_accuracy: 0.9814\n",
            "Epoch 150/500\n",
            "100/100 - 0s - loss: 0.0314 - accuracy: 0.9930 - val_loss: 0.0536 - val_accuracy: 0.9884\n",
            "Epoch 151/500\n",
            "100/100 - 0s - loss: 0.0437 - accuracy: 0.9880 - val_loss: 0.0615 - val_accuracy: 0.9837\n",
            "Epoch 152/500\n",
            "100/100 - 0s - loss: 0.0349 - accuracy: 0.9940 - val_loss: 0.0534 - val_accuracy: 0.9884\n",
            "Epoch 153/500\n",
            "100/100 - 0s - loss: 0.0417 - accuracy: 0.9870 - val_loss: 0.0824 - val_accuracy: 0.9721\n",
            "Epoch 154/500\n",
            "100/100 - 0s - loss: 0.0279 - accuracy: 0.9930 - val_loss: 0.0510 - val_accuracy: 0.9837\n",
            "Epoch 155/500\n",
            "100/100 - 0s - loss: 0.0391 - accuracy: 0.9920 - val_loss: 0.0620 - val_accuracy: 0.9884\n",
            "Epoch 156/500\n",
            "100/100 - 0s - loss: 0.0262 - accuracy: 0.9900 - val_loss: 0.0911 - val_accuracy: 0.9744\n",
            "Epoch 157/500\n",
            "100/100 - 0s - loss: 0.0266 - accuracy: 0.9920 - val_loss: 0.1092 - val_accuracy: 0.9791\n",
            "Epoch 158/500\n",
            "100/100 - 0s - loss: 0.0339 - accuracy: 0.9920 - val_loss: 0.0559 - val_accuracy: 0.9814\n",
            "Epoch 159/500\n",
            "100/100 - 0s - loss: 0.0293 - accuracy: 0.9920 - val_loss: 0.0949 - val_accuracy: 0.9791\n",
            "Epoch 160/500\n",
            "100/100 - 0s - loss: 0.0401 - accuracy: 0.9920 - val_loss: 0.0735 - val_accuracy: 0.9791\n",
            "Epoch 161/500\n",
            "100/100 - 0s - loss: 0.0283 - accuracy: 0.9900 - val_loss: 0.1374 - val_accuracy: 0.9698\n",
            "Epoch 162/500\n",
            "100/100 - 0s - loss: 0.0400 - accuracy: 0.9930 - val_loss: 0.0635 - val_accuracy: 0.9884\n",
            "Epoch 163/500\n",
            "100/100 - 0s - loss: 0.0272 - accuracy: 0.9910 - val_loss: 0.1067 - val_accuracy: 0.9791\n",
            "Epoch 164/500\n",
            "100/100 - 0s - loss: 0.0377 - accuracy: 0.9930 - val_loss: 0.0871 - val_accuracy: 0.9814\n",
            "Epoch 165/500\n",
            "100/100 - 0s - loss: 0.0391 - accuracy: 0.9880 - val_loss: 0.0770 - val_accuracy: 0.9767\n",
            "Epoch 166/500\n",
            "100/100 - 0s - loss: 0.0376 - accuracy: 0.9910 - val_loss: 0.0795 - val_accuracy: 0.9791\n",
            "Epoch 167/500\n",
            "100/100 - 0s - loss: 0.0235 - accuracy: 0.9940 - val_loss: 0.0497 - val_accuracy: 0.9837\n",
            "Epoch 168/500\n",
            "100/100 - 0s - loss: 0.0427 - accuracy: 0.9860 - val_loss: 0.0868 - val_accuracy: 0.9837\n",
            "Epoch 169/500\n",
            "100/100 - 0s - loss: 0.0344 - accuracy: 0.9900 - val_loss: 0.0611 - val_accuracy: 0.9837\n",
            "Epoch 170/500\n",
            "100/100 - 0s - loss: 0.0198 - accuracy: 0.9960 - val_loss: 0.0734 - val_accuracy: 0.9837\n",
            "Epoch 171/500\n",
            "100/100 - 0s - loss: 0.0212 - accuracy: 0.9940 - val_loss: 0.1202 - val_accuracy: 0.9791\n",
            "Epoch 172/500\n",
            "100/100 - 0s - loss: 0.0505 - accuracy: 0.9880 - val_loss: 0.0630 - val_accuracy: 0.9814\n",
            "Epoch 173/500\n",
            "100/100 - 0s - loss: 0.0310 - accuracy: 0.9920 - val_loss: 0.0543 - val_accuracy: 0.9884\n",
            "Epoch 174/500\n",
            "100/100 - 0s - loss: 0.0206 - accuracy: 0.9970 - val_loss: 0.0838 - val_accuracy: 0.9814\n",
            "Epoch 175/500\n",
            "100/100 - 0s - loss: 0.0295 - accuracy: 0.9920 - val_loss: 0.0639 - val_accuracy: 0.9884\n",
            "Epoch 176/500\n",
            "100/100 - 0s - loss: 0.0312 - accuracy: 0.9920 - val_loss: 0.0482 - val_accuracy: 0.9884\n",
            "Epoch 177/500\n",
            "100/100 - 0s - loss: 0.0289 - accuracy: 0.9920 - val_loss: 0.0653 - val_accuracy: 0.9791\n",
            "Epoch 178/500\n",
            "100/100 - 0s - loss: 0.0251 - accuracy: 0.9940 - val_loss: 0.0747 - val_accuracy: 0.9837\n",
            "Epoch 179/500\n",
            "100/100 - 0s - loss: 0.0400 - accuracy: 0.9890 - val_loss: 0.0628 - val_accuracy: 0.9837\n",
            "Epoch 180/500\n",
            "100/100 - 0s - loss: 0.0333 - accuracy: 0.9920 - val_loss: 0.0698 - val_accuracy: 0.9837\n",
            "Epoch 181/500\n",
            "100/100 - 0s - loss: 0.0420 - accuracy: 0.9880 - val_loss: 0.0680 - val_accuracy: 0.9837\n",
            "Epoch 182/500\n",
            "100/100 - 0s - loss: 0.0276 - accuracy: 0.9920 - val_loss: 0.0767 - val_accuracy: 0.9791\n",
            "Epoch 183/500\n",
            "100/100 - 0s - loss: 0.0315 - accuracy: 0.9910 - val_loss: 0.0962 - val_accuracy: 0.9767\n",
            "Epoch 184/500\n",
            "100/100 - 0s - loss: 0.0460 - accuracy: 0.9870 - val_loss: 0.0586 - val_accuracy: 0.9791\n",
            "Epoch 185/500\n",
            "100/100 - 0s - loss: 0.0211 - accuracy: 0.9960 - val_loss: 0.0572 - val_accuracy: 0.9814\n",
            "Epoch 186/500\n",
            "100/100 - 0s - loss: 0.0423 - accuracy: 0.9870 - val_loss: 0.0544 - val_accuracy: 0.9791\n",
            "Epoch 187/500\n",
            "100/100 - 0s - loss: 0.0257 - accuracy: 0.9910 - val_loss: 0.1032 - val_accuracy: 0.9791\n",
            "Epoch 188/500\n",
            "100/100 - 0s - loss: 0.0198 - accuracy: 0.9940 - val_loss: 0.0826 - val_accuracy: 0.9791\n",
            "Epoch 189/500\n",
            "100/100 - 0s - loss: 0.0429 - accuracy: 0.9900 - val_loss: 0.1195 - val_accuracy: 0.9767\n",
            "Epoch 190/500\n",
            "100/100 - 0s - loss: 0.0309 - accuracy: 0.9940 - val_loss: 0.0741 - val_accuracy: 0.9791\n",
            "Epoch 191/500\n",
            "100/100 - 0s - loss: 0.0281 - accuracy: 0.9930 - val_loss: 0.0774 - val_accuracy: 0.9744\n",
            "Epoch 192/500\n",
            "100/100 - 0s - loss: 0.0333 - accuracy: 0.9890 - val_loss: 0.0599 - val_accuracy: 0.9767\n",
            "Epoch 193/500\n",
            "100/100 - 0s - loss: 0.0275 - accuracy: 0.9910 - val_loss: 0.0625 - val_accuracy: 0.9837\n",
            "Epoch 194/500\n",
            "100/100 - 0s - loss: 0.0270 - accuracy: 0.9920 - val_loss: 0.0550 - val_accuracy: 0.9814\n",
            "Epoch 195/500\n",
            "100/100 - 0s - loss: 0.0347 - accuracy: 0.9900 - val_loss: 0.0801 - val_accuracy: 0.9814\n",
            "Epoch 196/500\n",
            "100/100 - 0s - loss: 0.0517 - accuracy: 0.9830 - val_loss: 0.0616 - val_accuracy: 0.9814\n",
            "Epoch 197/500\n",
            "100/100 - 0s - loss: 0.0194 - accuracy: 0.9960 - val_loss: 0.0453 - val_accuracy: 0.9860\n",
            "Epoch 198/500\n",
            "100/100 - 0s - loss: 0.0620 - accuracy: 0.9810 - val_loss: 0.0661 - val_accuracy: 0.9791\n",
            "Epoch 199/500\n",
            "100/100 - 0s - loss: 0.0424 - accuracy: 0.9890 - val_loss: 0.0939 - val_accuracy: 0.9814\n",
            "Epoch 200/500\n",
            "100/100 - 0s - loss: 0.0586 - accuracy: 0.9830 - val_loss: 0.0645 - val_accuracy: 0.9791\n",
            "Epoch 201/500\n",
            "100/100 - 0s - loss: 0.0274 - accuracy: 0.9930 - val_loss: 0.0859 - val_accuracy: 0.9814\n",
            "Epoch 202/500\n",
            "100/100 - 0s - loss: 0.0406 - accuracy: 0.9900 - val_loss: 0.1182 - val_accuracy: 0.9791\n",
            "Epoch 203/500\n",
            "100/100 - 0s - loss: 0.0159 - accuracy: 0.9970 - val_loss: 0.0701 - val_accuracy: 0.9860\n",
            "Epoch 204/500\n",
            "100/100 - 0s - loss: 0.0215 - accuracy: 0.9930 - val_loss: 0.0803 - val_accuracy: 0.9744\n",
            "Epoch 205/500\n",
            "100/100 - 0s - loss: 0.0421 - accuracy: 0.9900 - val_loss: 0.0721 - val_accuracy: 0.9837\n",
            "Epoch 206/500\n",
            "100/100 - 0s - loss: 0.0196 - accuracy: 0.9940 - val_loss: 0.0543 - val_accuracy: 0.9884\n",
            "Epoch 207/500\n",
            "100/100 - 0s - loss: 0.0201 - accuracy: 0.9970 - val_loss: 0.0790 - val_accuracy: 0.9837\n",
            "Epoch 208/500\n",
            "100/100 - 0s - loss: 0.0236 - accuracy: 0.9950 - val_loss: 0.0773 - val_accuracy: 0.9814\n",
            "Epoch 209/500\n",
            "100/100 - 0s - loss: 0.0201 - accuracy: 0.9940 - val_loss: 0.1220 - val_accuracy: 0.9767\n",
            "Epoch 210/500\n",
            "100/100 - 0s - loss: 0.0326 - accuracy: 0.9900 - val_loss: 0.0733 - val_accuracy: 0.9814\n",
            "Epoch 211/500\n",
            "100/100 - 0s - loss: 0.0198 - accuracy: 0.9950 - val_loss: 0.0829 - val_accuracy: 0.9791\n",
            "Epoch 212/500\n",
            "100/100 - 0s - loss: 0.0274 - accuracy: 0.9910 - val_loss: 0.0934 - val_accuracy: 0.9814\n",
            "Epoch 213/500\n",
            "100/100 - 0s - loss: 0.0154 - accuracy: 0.9960 - val_loss: 0.0761 - val_accuracy: 0.9860\n",
            "Epoch 214/500\n",
            "100/100 - 0s - loss: 0.0243 - accuracy: 0.9910 - val_loss: 0.0529 - val_accuracy: 0.9860\n",
            "Epoch 215/500\n",
            "100/100 - 0s - loss: 0.0337 - accuracy: 0.9940 - val_loss: 0.0818 - val_accuracy: 0.9814\n",
            "Epoch 216/500\n",
            "100/100 - 0s - loss: 0.0267 - accuracy: 0.9900 - val_loss: 0.0730 - val_accuracy: 0.9814\n",
            "Epoch 217/500\n",
            "100/100 - 0s - loss: 0.0272 - accuracy: 0.9910 - val_loss: 0.0653 - val_accuracy: 0.9860\n",
            "Epoch 218/500\n",
            "100/100 - 0s - loss: 0.0236 - accuracy: 0.9900 - val_loss: 0.0647 - val_accuracy: 0.9837\n",
            "Epoch 219/500\n",
            "100/100 - 0s - loss: 0.0171 - accuracy: 0.9970 - val_loss: 0.0756 - val_accuracy: 0.9860\n",
            "Epoch 220/500\n",
            "100/100 - 0s - loss: 0.0321 - accuracy: 0.9940 - val_loss: 0.0705 - val_accuracy: 0.9860\n",
            "Epoch 221/500\n",
            "100/100 - 0s - loss: 0.0633 - accuracy: 0.9830 - val_loss: 0.0785 - val_accuracy: 0.9814\n",
            "Epoch 222/500\n",
            "100/100 - 0s - loss: 0.0266 - accuracy: 0.9920 - val_loss: 0.0720 - val_accuracy: 0.9814\n",
            "Epoch 223/500\n",
            "100/100 - 0s - loss: 0.0254 - accuracy: 0.9900 - val_loss: 0.0539 - val_accuracy: 0.9884\n",
            "Epoch 224/500\n",
            "100/100 - 0s - loss: 0.0304 - accuracy: 0.9920 - val_loss: 0.0729 - val_accuracy: 0.9860\n",
            "Epoch 225/500\n",
            "100/100 - 0s - loss: 0.0096 - accuracy: 0.9990 - val_loss: 0.0781 - val_accuracy: 0.9814\n",
            "Epoch 226/500\n",
            "100/100 - 0s - loss: 0.0226 - accuracy: 0.9940 - val_loss: 0.0532 - val_accuracy: 0.9860\n",
            "Epoch 227/500\n",
            "100/100 - 0s - loss: 0.0220 - accuracy: 0.9910 - val_loss: 0.0901 - val_accuracy: 0.9814\n",
            "Epoch 228/500\n",
            "100/100 - 0s - loss: 0.0337 - accuracy: 0.9930 - val_loss: 0.0674 - val_accuracy: 0.9837\n",
            "Epoch 229/500\n",
            "100/100 - 0s - loss: 0.0433 - accuracy: 0.9880 - val_loss: 0.0646 - val_accuracy: 0.9791\n",
            "Epoch 230/500\n",
            "100/100 - 0s - loss: 0.0229 - accuracy: 0.9930 - val_loss: 0.0850 - val_accuracy: 0.9791\n",
            "Epoch 231/500\n",
            "100/100 - 0s - loss: 0.0165 - accuracy: 0.9960 - val_loss: 0.0676 - val_accuracy: 0.9837\n",
            "Epoch 232/500\n",
            "100/100 - 0s - loss: 0.0203 - accuracy: 0.9950 - val_loss: 0.0631 - val_accuracy: 0.9837\n",
            "Epoch 233/500\n",
            "100/100 - 0s - loss: 0.0355 - accuracy: 0.9880 - val_loss: 0.1066 - val_accuracy: 0.9767\n",
            "Epoch 234/500\n",
            "100/100 - 0s - loss: 0.0402 - accuracy: 0.9890 - val_loss: 0.1305 - val_accuracy: 0.9767\n",
            "Epoch 235/500\n",
            "100/100 - 0s - loss: 0.0373 - accuracy: 0.9930 - val_loss: 0.0758 - val_accuracy: 0.9791\n",
            "Epoch 236/500\n",
            "100/100 - 0s - loss: 0.0247 - accuracy: 0.9920 - val_loss: 0.0822 - val_accuracy: 0.9814\n",
            "Epoch 237/500\n",
            "100/100 - 0s - loss: 0.0179 - accuracy: 0.9950 - val_loss: 0.0556 - val_accuracy: 0.9860\n",
            "Epoch 238/500\n",
            "100/100 - 0s - loss: 0.0306 - accuracy: 0.9920 - val_loss: 0.0666 - val_accuracy: 0.9837\n",
            "Epoch 239/500\n",
            "100/100 - 0s - loss: 0.0220 - accuracy: 0.9920 - val_loss: 0.0828 - val_accuracy: 0.9837\n",
            "Epoch 240/500\n",
            "100/100 - 0s - loss: 0.0276 - accuracy: 0.9920 - val_loss: 0.0851 - val_accuracy: 0.9744\n",
            "Epoch 241/500\n",
            "100/100 - 0s - loss: 0.0166 - accuracy: 0.9930 - val_loss: 0.1031 - val_accuracy: 0.9791\n",
            "Epoch 242/500\n",
            "100/100 - 0s - loss: 0.0138 - accuracy: 0.9960 - val_loss: 0.0846 - val_accuracy: 0.9837\n",
            "Epoch 243/500\n",
            "100/100 - 0s - loss: 0.0112 - accuracy: 0.9960 - val_loss: 0.0712 - val_accuracy: 0.9814\n",
            "Epoch 244/500\n",
            "100/100 - 0s - loss: 0.0315 - accuracy: 0.9930 - val_loss: 0.1044 - val_accuracy: 0.9791\n",
            "Epoch 245/500\n",
            "100/100 - 0s - loss: 0.0201 - accuracy: 0.9970 - val_loss: 0.0812 - val_accuracy: 0.9837\n",
            "Epoch 246/500\n",
            "100/100 - 0s - loss: 0.0221 - accuracy: 0.9940 - val_loss: 0.0743 - val_accuracy: 0.9837\n",
            "Epoch 247/500\n",
            "100/100 - 0s - loss: 0.0158 - accuracy: 0.9980 - val_loss: 0.0746 - val_accuracy: 0.9884\n",
            "Epoch 248/500\n",
            "100/100 - 0s - loss: 0.0134 - accuracy: 0.9980 - val_loss: 0.0731 - val_accuracy: 0.9860\n",
            "Epoch 249/500\n",
            "100/100 - 0s - loss: 0.0101 - accuracy: 0.9970 - val_loss: 0.1013 - val_accuracy: 0.9721\n",
            "Epoch 250/500\n",
            "100/100 - 0s - loss: 0.0178 - accuracy: 0.9940 - val_loss: 0.1023 - val_accuracy: 0.9814\n",
            "Epoch 251/500\n",
            "100/100 - 0s - loss: 0.0402 - accuracy: 0.9940 - val_loss: 0.1411 - val_accuracy: 0.9581\n",
            "Epoch 252/500\n",
            "100/100 - 0s - loss: 0.0303 - accuracy: 0.9910 - val_loss: 0.0708 - val_accuracy: 0.9814\n",
            "Epoch 253/500\n",
            "100/100 - 0s - loss: 0.0430 - accuracy: 0.9890 - val_loss: 0.1062 - val_accuracy: 0.9791\n",
            "Epoch 254/500\n",
            "100/100 - 0s - loss: 0.0494 - accuracy: 0.9850 - val_loss: 0.0912 - val_accuracy: 0.9791\n",
            "Epoch 255/500\n",
            "100/100 - 0s - loss: 0.0250 - accuracy: 0.9930 - val_loss: 0.0890 - val_accuracy: 0.9860\n",
            "Epoch 256/500\n",
            "100/100 - 0s - loss: 0.0396 - accuracy: 0.9900 - val_loss: 0.1033 - val_accuracy: 0.9814\n",
            "Epoch 257/500\n",
            "100/100 - 0s - loss: 0.0338 - accuracy: 0.9910 - val_loss: 0.0756 - val_accuracy: 0.9860\n",
            "Epoch 258/500\n",
            "100/100 - 0s - loss: 0.0359 - accuracy: 0.9900 - val_loss: 0.0733 - val_accuracy: 0.9814\n",
            "Epoch 259/500\n",
            "100/100 - 0s - loss: 0.0306 - accuracy: 0.9900 - val_loss: 0.0754 - val_accuracy: 0.9837\n",
            "Epoch 260/500\n",
            "100/100 - 0s - loss: 0.0362 - accuracy: 0.9880 - val_loss: 0.0523 - val_accuracy: 0.9837\n",
            "Epoch 261/500\n",
            "100/100 - 0s - loss: 0.0239 - accuracy: 0.9970 - val_loss: 0.0808 - val_accuracy: 0.9860\n",
            "Epoch 262/500\n",
            "100/100 - 0s - loss: 0.0205 - accuracy: 0.9940 - val_loss: 0.0682 - val_accuracy: 0.9791\n",
            "Epoch 263/500\n",
            "100/100 - 0s - loss: 0.0241 - accuracy: 0.9950 - val_loss: 0.1862 - val_accuracy: 0.9628\n",
            "Epoch 264/500\n",
            "100/100 - 0s - loss: 0.0361 - accuracy: 0.9900 - val_loss: 0.1072 - val_accuracy: 0.9791\n",
            "Epoch 265/500\n",
            "100/100 - 0s - loss: 0.0306 - accuracy: 0.9930 - val_loss: 0.0703 - val_accuracy: 0.9837\n",
            "Epoch 266/500\n",
            "100/100 - 0s - loss: 0.0208 - accuracy: 0.9900 - val_loss: 0.0654 - val_accuracy: 0.9860\n",
            "Epoch 267/500\n",
            "100/100 - 0s - loss: 0.0304 - accuracy: 0.9900 - val_loss: 0.0600 - val_accuracy: 0.9860\n",
            "Epoch 268/500\n",
            "100/100 - 0s - loss: 0.0248 - accuracy: 0.9930 - val_loss: 0.1135 - val_accuracy: 0.9791\n",
            "Epoch 269/500\n",
            "100/100 - 0s - loss: 0.0159 - accuracy: 0.9950 - val_loss: 0.0723 - val_accuracy: 0.9837\n",
            "Epoch 270/500\n",
            "100/100 - 0s - loss: 0.0400 - accuracy: 0.9890 - val_loss: 0.1124 - val_accuracy: 0.9744\n",
            "Epoch 271/500\n",
            "100/100 - 0s - loss: 0.0277 - accuracy: 0.9920 - val_loss: 0.0655 - val_accuracy: 0.9837\n",
            "Epoch 272/500\n",
            "100/100 - 0s - loss: 0.0251 - accuracy: 0.9930 - val_loss: 0.0360 - val_accuracy: 0.9884\n",
            "Epoch 273/500\n",
            "100/100 - 0s - loss: 0.0113 - accuracy: 0.9980 - val_loss: 0.0794 - val_accuracy: 0.9837\n",
            "Epoch 274/500\n",
            "100/100 - 0s - loss: 0.0191 - accuracy: 0.9960 - val_loss: 0.0955 - val_accuracy: 0.9814\n",
            "Epoch 275/500\n",
            "100/100 - 0s - loss: 0.0195 - accuracy: 0.9950 - val_loss: 0.0641 - val_accuracy: 0.9837\n",
            "Epoch 276/500\n",
            "100/100 - 0s - loss: 0.0133 - accuracy: 0.9980 - val_loss: 0.0692 - val_accuracy: 0.9860\n",
            "Epoch 277/500\n",
            "100/100 - 0s - loss: 0.0363 - accuracy: 0.9880 - val_loss: 0.0472 - val_accuracy: 0.9860\n",
            "Epoch 278/500\n",
            "100/100 - 0s - loss: 0.0160 - accuracy: 0.9940 - val_loss: 0.0786 - val_accuracy: 0.9814\n",
            "Epoch 279/500\n",
            "100/100 - 0s - loss: 0.0228 - accuracy: 0.9940 - val_loss: 0.0894 - val_accuracy: 0.9814\n",
            "Epoch 280/500\n",
            "100/100 - 0s - loss: 0.0163 - accuracy: 0.9960 - val_loss: 0.0417 - val_accuracy: 0.9884\n",
            "Epoch 281/500\n",
            "100/100 - 0s - loss: 0.0257 - accuracy: 0.9930 - val_loss: 0.1119 - val_accuracy: 0.9791\n",
            "Epoch 282/500\n",
            "100/100 - 0s - loss: 0.0173 - accuracy: 0.9950 - val_loss: 0.1065 - val_accuracy: 0.9814\n",
            "Epoch 283/500\n",
            "100/100 - 0s - loss: 0.0225 - accuracy: 0.9930 - val_loss: 0.1182 - val_accuracy: 0.9814\n",
            "Epoch 284/500\n",
            "100/100 - 0s - loss: 0.0156 - accuracy: 0.9950 - val_loss: 0.1006 - val_accuracy: 0.9814\n",
            "Epoch 285/500\n",
            "100/100 - 0s - loss: 0.0162 - accuracy: 0.9940 - val_loss: 0.1087 - val_accuracy: 0.9791\n",
            "Epoch 286/500\n",
            "100/100 - 0s - loss: 0.0291 - accuracy: 0.9920 - val_loss: 0.0871 - val_accuracy: 0.9860\n",
            "Epoch 287/500\n",
            "100/100 - 0s - loss: 0.0331 - accuracy: 0.9880 - val_loss: 0.0808 - val_accuracy: 0.9814\n",
            "Epoch 288/500\n",
            "100/100 - 0s - loss: 0.0353 - accuracy: 0.9870 - val_loss: 0.0832 - val_accuracy: 0.9814\n",
            "Epoch 289/500\n",
            "100/100 - 0s - loss: 0.0161 - accuracy: 0.9970 - val_loss: 0.0586 - val_accuracy: 0.9837\n",
            "Epoch 290/500\n",
            "100/100 - 0s - loss: 0.0227 - accuracy: 0.9940 - val_loss: 0.0676 - val_accuracy: 0.9837\n",
            "Epoch 291/500\n",
            "100/100 - 0s - loss: 0.0241 - accuracy: 0.9950 - val_loss: 0.0648 - val_accuracy: 0.9860\n",
            "Epoch 292/500\n",
            "100/100 - 0s - loss: 0.0144 - accuracy: 0.9940 - val_loss: 0.0694 - val_accuracy: 0.9860\n",
            "Epoch 293/500\n",
            "100/100 - 0s - loss: 0.0094 - accuracy: 0.9980 - val_loss: 0.1005 - val_accuracy: 0.9814\n",
            "Epoch 294/500\n",
            "100/100 - 0s - loss: 0.0202 - accuracy: 0.9940 - val_loss: 0.1119 - val_accuracy: 0.9814\n",
            "Epoch 295/500\n",
            "100/100 - 0s - loss: 0.0235 - accuracy: 0.9950 - val_loss: 0.0506 - val_accuracy: 0.9860\n",
            "Epoch 296/500\n",
            "100/100 - 0s - loss: 0.0192 - accuracy: 0.9960 - val_loss: 0.1127 - val_accuracy: 0.9791\n",
            "Epoch 297/500\n",
            "100/100 - 0s - loss: 0.0304 - accuracy: 0.9920 - val_loss: 0.0899 - val_accuracy: 0.9814\n",
            "Epoch 298/500\n",
            "100/100 - 0s - loss: 0.0129 - accuracy: 0.9970 - val_loss: 0.0748 - val_accuracy: 0.9791\n",
            "Epoch 299/500\n",
            "100/100 - 0s - loss: 0.0218 - accuracy: 0.9970 - val_loss: 0.0802 - val_accuracy: 0.9837\n",
            "Epoch 300/500\n",
            "100/100 - 0s - loss: 0.0292 - accuracy: 0.9910 - val_loss: 0.0590 - val_accuracy: 0.9860\n",
            "Epoch 301/500\n",
            "100/100 - 0s - loss: 0.0284 - accuracy: 0.9960 - val_loss: 0.0634 - val_accuracy: 0.9860\n",
            "Epoch 302/500\n",
            "100/100 - 0s - loss: 0.0141 - accuracy: 0.9970 - val_loss: 0.0948 - val_accuracy: 0.9837\n",
            "Epoch 303/500\n",
            "100/100 - 0s - loss: 0.0229 - accuracy: 0.9950 - val_loss: 0.0658 - val_accuracy: 0.9814\n",
            "Epoch 304/500\n",
            "100/100 - 0s - loss: 0.0073 - accuracy: 0.9990 - val_loss: 0.0879 - val_accuracy: 0.9837\n",
            "Epoch 305/500\n",
            "100/100 - 0s - loss: 0.0103 - accuracy: 0.9990 - val_loss: 0.0576 - val_accuracy: 0.9860\n",
            "Epoch 306/500\n",
            "100/100 - 0s - loss: 0.0050 - accuracy: 1.0000 - val_loss: 0.0833 - val_accuracy: 0.9837\n",
            "Epoch 307/500\n",
            "100/100 - 0s - loss: 0.0294 - accuracy: 0.9920 - val_loss: 0.0981 - val_accuracy: 0.9814\n",
            "Epoch 308/500\n",
            "100/100 - 0s - loss: 0.0256 - accuracy: 0.9910 - val_loss: 0.0769 - val_accuracy: 0.9837\n",
            "Epoch 309/500\n",
            "100/100 - 0s - loss: 0.0169 - accuracy: 0.9950 - val_loss: 0.0926 - val_accuracy: 0.9814\n",
            "Epoch 310/500\n",
            "100/100 - 0s - loss: 0.0274 - accuracy: 0.9930 - val_loss: 0.0621 - val_accuracy: 0.9860\n",
            "Epoch 311/500\n",
            "100/100 - 0s - loss: 0.0301 - accuracy: 0.9920 - val_loss: 0.0806 - val_accuracy: 0.9814\n",
            "Epoch 312/500\n",
            "100/100 - 0s - loss: 0.0215 - accuracy: 0.9920 - val_loss: 0.0439 - val_accuracy: 0.9884\n",
            "Epoch 313/500\n",
            "100/100 - 0s - loss: 0.0183 - accuracy: 0.9950 - val_loss: 0.0832 - val_accuracy: 0.9791\n",
            "Epoch 314/500\n",
            "100/100 - 0s - loss: 0.0190 - accuracy: 0.9960 - val_loss: 0.0742 - val_accuracy: 0.9837\n",
            "Epoch 315/500\n",
            "100/100 - 0s - loss: 0.0140 - accuracy: 0.9960 - val_loss: 0.0565 - val_accuracy: 0.9884\n",
            "Epoch 316/500\n",
            "100/100 - 0s - loss: 0.0072 - accuracy: 0.9990 - val_loss: 0.0706 - val_accuracy: 0.9837\n",
            "Epoch 317/500\n",
            "100/100 - 0s - loss: 0.0138 - accuracy: 0.9950 - val_loss: 0.0878 - val_accuracy: 0.9837\n",
            "Epoch 318/500\n",
            "100/100 - 0s - loss: 0.0273 - accuracy: 0.9940 - val_loss: 0.0731 - val_accuracy: 0.9860\n",
            "Epoch 319/500\n",
            "100/100 - 0s - loss: 0.0091 - accuracy: 0.9970 - val_loss: 0.0722 - val_accuracy: 0.9860\n",
            "Epoch 320/500\n",
            "100/100 - 0s - loss: 0.0056 - accuracy: 0.9990 - val_loss: 0.0794 - val_accuracy: 0.9860\n",
            "Epoch 321/500\n",
            "100/100 - 0s - loss: 0.0047 - accuracy: 0.9990 - val_loss: 0.1098 - val_accuracy: 0.9744\n",
            "Epoch 322/500\n",
            "100/100 - 0s - loss: 0.0307 - accuracy: 0.9920 - val_loss: 0.1357 - val_accuracy: 0.9767\n",
            "Epoch 323/500\n",
            "100/100 - 0s - loss: 0.0397 - accuracy: 0.9920 - val_loss: 0.0480 - val_accuracy: 0.9860\n",
            "Epoch 324/500\n",
            "100/100 - 0s - loss: 0.0223 - accuracy: 0.9930 - val_loss: 0.0787 - val_accuracy: 0.9837\n",
            "Epoch 325/500\n",
            "100/100 - 0s - loss: 0.0145 - accuracy: 0.9960 - val_loss: 0.0867 - val_accuracy: 0.9814\n",
            "Epoch 326/500\n",
            "100/100 - 0s - loss: 0.0211 - accuracy: 0.9930 - val_loss: 0.0662 - val_accuracy: 0.9860\n",
            "Epoch 327/500\n",
            "100/100 - 0s - loss: 0.0139 - accuracy: 0.9960 - val_loss: 0.1131 - val_accuracy: 0.9814\n",
            "Epoch 328/500\n",
            "100/100 - 0s - loss: 0.0248 - accuracy: 0.9930 - val_loss: 0.1442 - val_accuracy: 0.9744\n",
            "Epoch 329/500\n",
            "100/100 - 0s - loss: 0.0371 - accuracy: 0.9910 - val_loss: 0.1076 - val_accuracy: 0.9744\n",
            "Epoch 330/500\n",
            "100/100 - 0s - loss: 0.0264 - accuracy: 0.9900 - val_loss: 0.0934 - val_accuracy: 0.9814\n",
            "Epoch 331/500\n",
            "100/100 - 0s - loss: 0.0239 - accuracy: 0.9950 - val_loss: 0.0913 - val_accuracy: 0.9837\n",
            "Epoch 332/500\n",
            "100/100 - 0s - loss: 0.0093 - accuracy: 0.9980 - val_loss: 0.0781 - val_accuracy: 0.9860\n",
            "Epoch 333/500\n",
            "100/100 - 0s - loss: 0.0235 - accuracy: 0.9920 - val_loss: 0.1030 - val_accuracy: 0.9814\n",
            "Epoch 334/500\n",
            "100/100 - 0s - loss: 0.0107 - accuracy: 0.9970 - val_loss: 0.0884 - val_accuracy: 0.9860\n",
            "Epoch 335/500\n",
            "100/100 - 0s - loss: 0.0146 - accuracy: 0.9940 - val_loss: 0.0917 - val_accuracy: 0.9837\n",
            "Epoch 336/500\n",
            "100/100 - 0s - loss: 0.0232 - accuracy: 0.9940 - val_loss: 0.1249 - val_accuracy: 0.9814\n",
            "Epoch 337/500\n",
            "100/100 - 0s - loss: 0.0241 - accuracy: 0.9960 - val_loss: 0.0849 - val_accuracy: 0.9814\n",
            "Epoch 338/500\n",
            "100/100 - 0s - loss: 0.0287 - accuracy: 0.9900 - val_loss: 0.0766 - val_accuracy: 0.9837\n",
            "Epoch 339/500\n",
            "100/100 - 0s - loss: 0.0139 - accuracy: 0.9960 - val_loss: 0.1074 - val_accuracy: 0.9791\n",
            "Epoch 340/500\n",
            "100/100 - 0s - loss: 0.0218 - accuracy: 0.9960 - val_loss: 0.0704 - val_accuracy: 0.9860\n",
            "Epoch 341/500\n",
            "100/100 - 0s - loss: 0.0366 - accuracy: 0.9880 - val_loss: 0.0739 - val_accuracy: 0.9791\n",
            "Epoch 342/500\n",
            "100/100 - 0s - loss: 0.0233 - accuracy: 0.9950 - val_loss: 0.0624 - val_accuracy: 0.9860\n",
            "Epoch 343/500\n",
            "100/100 - 0s - loss: 0.0199 - accuracy: 0.9940 - val_loss: 0.0708 - val_accuracy: 0.9860\n",
            "Epoch 344/500\n",
            "100/100 - 0s - loss: 0.0185 - accuracy: 0.9960 - val_loss: 0.1418 - val_accuracy: 0.9674\n",
            "Epoch 345/500\n",
            "100/100 - 0s - loss: 0.0147 - accuracy: 0.9940 - val_loss: 0.0960 - val_accuracy: 0.9791\n",
            "Epoch 346/500\n",
            "100/100 - 0s - loss: 0.0167 - accuracy: 0.9960 - val_loss: 0.0723 - val_accuracy: 0.9860\n",
            "Epoch 347/500\n",
            "100/100 - 0s - loss: 0.0055 - accuracy: 1.0000 - val_loss: 0.0740 - val_accuracy: 0.9860\n",
            "Epoch 348/500\n",
            "100/100 - 0s - loss: 0.0082 - accuracy: 0.9970 - val_loss: 0.0905 - val_accuracy: 0.9837\n",
            "Epoch 349/500\n",
            "100/100 - 0s - loss: 0.0060 - accuracy: 0.9990 - val_loss: 0.0936 - val_accuracy: 0.9837\n",
            "Epoch 350/500\n",
            "100/100 - 0s - loss: 0.0105 - accuracy: 0.9970 - val_loss: 0.0850 - val_accuracy: 0.9860\n",
            "Epoch 351/500\n",
            "100/100 - 0s - loss: 0.0157 - accuracy: 0.9950 - val_loss: 0.0741 - val_accuracy: 0.9860\n",
            "Epoch 352/500\n",
            "100/100 - 0s - loss: 0.0194 - accuracy: 0.9930 - val_loss: 0.0744 - val_accuracy: 0.9860\n",
            "Epoch 353/500\n",
            "100/100 - 0s - loss: 0.0130 - accuracy: 0.9950 - val_loss: 0.0607 - val_accuracy: 0.9860\n",
            "Epoch 354/500\n",
            "100/100 - 0s - loss: 0.0306 - accuracy: 0.9930 - val_loss: 0.1700 - val_accuracy: 0.9674\n",
            "Epoch 355/500\n",
            "100/100 - 0s - loss: 0.0388 - accuracy: 0.9870 - val_loss: 0.0683 - val_accuracy: 0.9837\n",
            "Epoch 356/500\n",
            "100/100 - 0s - loss: 0.0183 - accuracy: 0.9950 - val_loss: 0.0785 - val_accuracy: 0.9860\n",
            "Epoch 357/500\n",
            "100/100 - 0s - loss: 0.0141 - accuracy: 0.9970 - val_loss: 0.0695 - val_accuracy: 0.9860\n",
            "Epoch 358/500\n",
            "100/100 - 0s - loss: 0.0254 - accuracy: 0.9910 - val_loss: 0.0711 - val_accuracy: 0.9860\n",
            "Epoch 359/500\n",
            "100/100 - 0s - loss: 0.0095 - accuracy: 0.9980 - val_loss: 0.0755 - val_accuracy: 0.9860\n",
            "Epoch 360/500\n",
            "100/100 - 0s - loss: 0.0068 - accuracy: 0.9990 - val_loss: 0.0829 - val_accuracy: 0.9860\n",
            "Epoch 361/500\n",
            "100/100 - 0s - loss: 0.0292 - accuracy: 0.9910 - val_loss: 0.1028 - val_accuracy: 0.9814\n",
            "Epoch 362/500\n",
            "100/100 - 0s - loss: 0.0175 - accuracy: 0.9930 - val_loss: 0.1236 - val_accuracy: 0.9791\n",
            "Epoch 363/500\n",
            "100/100 - 0s - loss: 0.0172 - accuracy: 0.9980 - val_loss: 0.0689 - val_accuracy: 0.9791\n",
            "Epoch 364/500\n",
            "100/100 - 0s - loss: 0.0070 - accuracy: 0.9990 - val_loss: 0.0749 - val_accuracy: 0.9860\n",
            "Epoch 365/500\n",
            "100/100 - 0s - loss: 0.0057 - accuracy: 0.9990 - val_loss: 0.0853 - val_accuracy: 0.9860\n",
            "Epoch 366/500\n",
            "100/100 - 0s - loss: 0.0125 - accuracy: 0.9950 - val_loss: 0.0918 - val_accuracy: 0.9860\n",
            "Epoch 367/500\n",
            "100/100 - 0s - loss: 0.0142 - accuracy: 0.9960 - val_loss: 0.1043 - val_accuracy: 0.9814\n",
            "Epoch 368/500\n",
            "100/100 - 0s - loss: 0.0089 - accuracy: 0.9990 - val_loss: 0.0935 - val_accuracy: 0.9837\n",
            "Epoch 369/500\n",
            "100/100 - 0s - loss: 0.0185 - accuracy: 0.9960 - val_loss: 0.1117 - val_accuracy: 0.9791\n",
            "Epoch 370/500\n",
            "100/100 - 0s - loss: 0.0305 - accuracy: 0.9920 - val_loss: 0.0824 - val_accuracy: 0.9860\n",
            "Epoch 371/500\n",
            "100/100 - 0s - loss: 0.0115 - accuracy: 0.9950 - val_loss: 0.0776 - val_accuracy: 0.9860\n",
            "Epoch 372/500\n",
            "100/100 - 0s - loss: 0.0071 - accuracy: 0.9980 - val_loss: 0.0994 - val_accuracy: 0.9837\n",
            "Epoch 373/500\n",
            "100/100 - 0s - loss: 0.0230 - accuracy: 0.9940 - val_loss: 0.1112 - val_accuracy: 0.9791\n",
            "Epoch 374/500\n",
            "100/100 - 0s - loss: 0.0110 - accuracy: 0.9960 - val_loss: 0.1139 - val_accuracy: 0.9791\n",
            "Epoch 375/500\n",
            "100/100 - 0s - loss: 0.0209 - accuracy: 0.9960 - val_loss: 0.1009 - val_accuracy: 0.9837\n",
            "Epoch 376/500\n",
            "100/100 - 0s - loss: 0.0141 - accuracy: 0.9930 - val_loss: 0.0833 - val_accuracy: 0.9860\n",
            "Epoch 377/500\n",
            "100/100 - 0s - loss: 0.0252 - accuracy: 0.9950 - val_loss: 0.0758 - val_accuracy: 0.9814\n",
            "Epoch 378/500\n",
            "100/100 - 0s - loss: 0.0225 - accuracy: 0.9950 - val_loss: 0.1672 - val_accuracy: 0.9721\n",
            "Epoch 379/500\n",
            "100/100 - 0s - loss: 0.0188 - accuracy: 0.9960 - val_loss: 0.0770 - val_accuracy: 0.9837\n",
            "Epoch 380/500\n",
            "100/100 - 0s - loss: 0.0188 - accuracy: 0.9960 - val_loss: 0.0794 - val_accuracy: 0.9814\n",
            "Epoch 381/500\n",
            "100/100 - 0s - loss: 0.0120 - accuracy: 0.9950 - val_loss: 0.0938 - val_accuracy: 0.9767\n",
            "Epoch 382/500\n",
            "100/100 - 0s - loss: 0.0311 - accuracy: 0.9910 - val_loss: 0.0796 - val_accuracy: 0.9791\n",
            "Epoch 383/500\n",
            "100/100 - 0s - loss: 0.0085 - accuracy: 0.9960 - val_loss: 0.1151 - val_accuracy: 0.9767\n",
            "Epoch 384/500\n",
            "100/100 - 0s - loss: 0.0099 - accuracy: 0.9970 - val_loss: 0.0867 - val_accuracy: 0.9837\n",
            "Epoch 385/500\n",
            "100/100 - 0s - loss: 0.0117 - accuracy: 0.9960 - val_loss: 0.0986 - val_accuracy: 0.9791\n",
            "Epoch 386/500\n",
            "100/100 - 0s - loss: 0.0099 - accuracy: 0.9960 - val_loss: 0.0780 - val_accuracy: 0.9814\n",
            "Epoch 387/500\n",
            "100/100 - 0s - loss: 0.0111 - accuracy: 0.9980 - val_loss: 0.0589 - val_accuracy: 0.9860\n",
            "Epoch 388/500\n",
            "100/100 - 0s - loss: 0.0099 - accuracy: 0.9980 - val_loss: 0.0918 - val_accuracy: 0.9837\n",
            "Epoch 389/500\n",
            "100/100 - 0s - loss: 0.0064 - accuracy: 1.0000 - val_loss: 0.1071 - val_accuracy: 0.9837\n",
            "Epoch 390/500\n",
            "100/100 - 0s - loss: 0.0086 - accuracy: 0.9990 - val_loss: 0.0881 - val_accuracy: 0.9860\n",
            "Epoch 391/500\n",
            "100/100 - 0s - loss: 0.0141 - accuracy: 0.9970 - val_loss: 0.0656 - val_accuracy: 0.9860\n",
            "Epoch 392/500\n",
            "100/100 - 0s - loss: 0.0185 - accuracy: 0.9950 - val_loss: 0.0927 - val_accuracy: 0.9814\n",
            "Epoch 393/500\n",
            "100/100 - 0s - loss: 0.0090 - accuracy: 0.9970 - val_loss: 0.0912 - val_accuracy: 0.9837\n",
            "Epoch 394/500\n",
            "100/100 - 0s - loss: 0.0215 - accuracy: 0.9950 - val_loss: 0.0715 - val_accuracy: 0.9860\n",
            "Epoch 395/500\n",
            "100/100 - 0s - loss: 0.0142 - accuracy: 0.9960 - val_loss: 0.0906 - val_accuracy: 0.9814\n",
            "Epoch 396/500\n",
            "100/100 - 0s - loss: 0.0117 - accuracy: 0.9970 - val_loss: 0.0940 - val_accuracy: 0.9837\n",
            "Epoch 397/500\n",
            "100/100 - 0s - loss: 0.0258 - accuracy: 0.9940 - val_loss: 0.0786 - val_accuracy: 0.9860\n",
            "Epoch 398/500\n",
            "100/100 - 0s - loss: 0.0099 - accuracy: 0.9970 - val_loss: 0.0827 - val_accuracy: 0.9860\n",
            "Epoch 399/500\n",
            "100/100 - 0s - loss: 0.0096 - accuracy: 0.9970 - val_loss: 0.1058 - val_accuracy: 0.9814\n",
            "Epoch 400/500\n",
            "100/100 - 0s - loss: 0.0111 - accuracy: 0.9980 - val_loss: 0.1376 - val_accuracy: 0.9791\n",
            "Epoch 401/500\n",
            "100/100 - 0s - loss: 0.0180 - accuracy: 0.9920 - val_loss: 0.0929 - val_accuracy: 0.9860\n",
            "Epoch 402/500\n",
            "100/100 - 0s - loss: 0.0094 - accuracy: 0.9970 - val_loss: 0.0846 - val_accuracy: 0.9860\n",
            "Epoch 403/500\n",
            "100/100 - 0s - loss: 0.0211 - accuracy: 0.9940 - val_loss: 0.1410 - val_accuracy: 0.9767\n",
            "Epoch 404/500\n",
            "100/100 - 0s - loss: 0.0144 - accuracy: 0.9970 - val_loss: 0.0928 - val_accuracy: 0.9837\n",
            "Epoch 405/500\n",
            "100/100 - 0s - loss: 0.0291 - accuracy: 0.9940 - val_loss: 0.0575 - val_accuracy: 0.9837\n",
            "Epoch 406/500\n",
            "100/100 - 0s - loss: 0.0245 - accuracy: 0.9940 - val_loss: 0.0679 - val_accuracy: 0.9860\n",
            "Epoch 407/500\n",
            "100/100 - 0s - loss: 0.0135 - accuracy: 0.9960 - val_loss: 0.0656 - val_accuracy: 0.9860\n",
            "Epoch 408/500\n",
            "100/100 - 0s - loss: 0.0142 - accuracy: 0.9980 - val_loss: 0.0710 - val_accuracy: 0.9837\n",
            "Epoch 409/500\n",
            "100/100 - 0s - loss: 0.0241 - accuracy: 0.9950 - val_loss: 0.0772 - val_accuracy: 0.9814\n",
            "Epoch 410/500\n",
            "100/100 - 0s - loss: 0.0178 - accuracy: 0.9970 - val_loss: 0.0953 - val_accuracy: 0.9837\n",
            "Epoch 411/500\n",
            "100/100 - 0s - loss: 0.0310 - accuracy: 0.9900 - val_loss: 0.0786 - val_accuracy: 0.9860\n",
            "Epoch 412/500\n",
            "100/100 - 0s - loss: 0.0133 - accuracy: 0.9950 - val_loss: 0.0659 - val_accuracy: 0.9860\n",
            "Epoch 413/500\n",
            "100/100 - 0s - loss: 0.0253 - accuracy: 0.9940 - val_loss: 0.0768 - val_accuracy: 0.9814\n",
            "Epoch 414/500\n",
            "100/100 - 0s - loss: 0.0094 - accuracy: 0.9980 - val_loss: 0.0827 - val_accuracy: 0.9837\n",
            "Epoch 415/500\n",
            "100/100 - 0s - loss: 0.0106 - accuracy: 0.9970 - val_loss: 0.0926 - val_accuracy: 0.9814\n",
            "Epoch 416/500\n",
            "100/100 - 0s - loss: 0.0119 - accuracy: 0.9960 - val_loss: 0.1061 - val_accuracy: 0.9767\n",
            "Epoch 417/500\n",
            "100/100 - 0s - loss: 0.0175 - accuracy: 0.9950 - val_loss: 0.0799 - val_accuracy: 0.9837\n",
            "Epoch 418/500\n",
            "100/100 - 0s - loss: 0.0054 - accuracy: 1.0000 - val_loss: 0.0814 - val_accuracy: 0.9860\n",
            "Epoch 419/500\n",
            "100/100 - 0s - loss: 0.0188 - accuracy: 0.9960 - val_loss: 0.0917 - val_accuracy: 0.9814\n",
            "Epoch 420/500\n",
            "100/100 - 0s - loss: 0.0107 - accuracy: 0.9960 - val_loss: 0.0931 - val_accuracy: 0.9791\n",
            "Epoch 421/500\n",
            "100/100 - 0s - loss: 0.0138 - accuracy: 0.9950 - val_loss: 0.0719 - val_accuracy: 0.9860\n",
            "Epoch 422/500\n",
            "100/100 - 0s - loss: 0.0168 - accuracy: 0.9950 - val_loss: 0.1129 - val_accuracy: 0.9814\n",
            "Epoch 423/500\n",
            "100/100 - 0s - loss: 0.0207 - accuracy: 0.9930 - val_loss: 0.0833 - val_accuracy: 0.9860\n",
            "Epoch 424/500\n",
            "100/100 - 0s - loss: 0.0106 - accuracy: 0.9980 - val_loss: 0.0930 - val_accuracy: 0.9860\n",
            "Epoch 425/500\n",
            "100/100 - 0s - loss: 0.0238 - accuracy: 0.9950 - val_loss: 0.1047 - val_accuracy: 0.9814\n",
            "Epoch 426/500\n",
            "100/100 - 0s - loss: 0.0147 - accuracy: 0.9960 - val_loss: 0.0604 - val_accuracy: 0.9860\n",
            "Epoch 427/500\n",
            "100/100 - 0s - loss: 0.0316 - accuracy: 0.9930 - val_loss: 0.1127 - val_accuracy: 0.9814\n",
            "Epoch 428/500\n",
            "100/100 - 0s - loss: 0.0084 - accuracy: 0.9990 - val_loss: 0.0977 - val_accuracy: 0.9837\n",
            "Epoch 429/500\n",
            "100/100 - 0s - loss: 0.0222 - accuracy: 0.9940 - val_loss: 0.1079 - val_accuracy: 0.9837\n",
            "Epoch 430/500\n",
            "100/100 - 0s - loss: 0.0084 - accuracy: 0.9970 - val_loss: 0.0906 - val_accuracy: 0.9837\n",
            "Epoch 431/500\n",
            "100/100 - 0s - loss: 0.0109 - accuracy: 0.9960 - val_loss: 0.0858 - val_accuracy: 0.9860\n",
            "Epoch 432/500\n",
            "100/100 - 0s - loss: 0.0059 - accuracy: 0.9990 - val_loss: 0.0757 - val_accuracy: 0.9814\n",
            "Epoch 433/500\n",
            "100/100 - 0s - loss: 0.0041 - accuracy: 1.0000 - val_loss: 0.0843 - val_accuracy: 0.9837\n",
            "Epoch 434/500\n",
            "100/100 - 0s - loss: 0.0067 - accuracy: 0.9980 - val_loss: 0.0792 - val_accuracy: 0.9837\n",
            "Epoch 435/500\n",
            "100/100 - 0s - loss: 0.0091 - accuracy: 0.9960 - val_loss: 0.0634 - val_accuracy: 0.9860\n",
            "Epoch 436/500\n",
            "100/100 - 0s - loss: 0.0093 - accuracy: 0.9970 - val_loss: 0.0614 - val_accuracy: 0.9860\n",
            "Epoch 437/500\n",
            "100/100 - 0s - loss: 0.0038 - accuracy: 1.0000 - val_loss: 0.1030 - val_accuracy: 0.9814\n",
            "Epoch 438/500\n",
            "100/100 - 0s - loss: 0.0246 - accuracy: 0.9940 - val_loss: 0.1162 - val_accuracy: 0.9767\n",
            "Epoch 439/500\n",
            "100/100 - 0s - loss: 0.0089 - accuracy: 0.9980 - val_loss: 0.0711 - val_accuracy: 0.9860\n",
            "Epoch 440/500\n",
            "100/100 - 0s - loss: 0.0115 - accuracy: 0.9950 - val_loss: 0.0925 - val_accuracy: 0.9837\n",
            "Epoch 441/500\n",
            "100/100 - 0s - loss: 0.0078 - accuracy: 0.9980 - val_loss: 0.0915 - val_accuracy: 0.9860\n",
            "Epoch 442/500\n",
            "100/100 - 0s - loss: 0.0093 - accuracy: 0.9970 - val_loss: 0.1129 - val_accuracy: 0.9814\n",
            "Epoch 443/500\n",
            "100/100 - 0s - loss: 0.0135 - accuracy: 0.9960 - val_loss: 0.0820 - val_accuracy: 0.9860\n",
            "Epoch 444/500\n",
            "100/100 - 0s - loss: 0.0189 - accuracy: 0.9960 - val_loss: 0.0905 - val_accuracy: 0.9814\n",
            "Epoch 445/500\n",
            "100/100 - 0s - loss: 0.0209 - accuracy: 0.9940 - val_loss: 0.1345 - val_accuracy: 0.9814\n",
            "Epoch 446/500\n",
            "100/100 - 0s - loss: 0.0159 - accuracy: 0.9940 - val_loss: 0.0872 - val_accuracy: 0.9837\n",
            "Epoch 447/500\n",
            "100/100 - 0s - loss: 0.0112 - accuracy: 0.9970 - val_loss: 0.1006 - val_accuracy: 0.9791\n",
            "Epoch 448/500\n",
            "100/100 - 0s - loss: 0.0289 - accuracy: 0.9950 - val_loss: 0.1265 - val_accuracy: 0.9767\n",
            "Epoch 449/500\n",
            "100/100 - 0s - loss: 0.0189 - accuracy: 0.9970 - val_loss: 0.1307 - val_accuracy: 0.9767\n",
            "Epoch 450/500\n",
            "100/100 - 0s - loss: 0.0080 - accuracy: 0.9980 - val_loss: 0.0862 - val_accuracy: 0.9837\n",
            "Epoch 451/500\n",
            "100/100 - 0s - loss: 0.0177 - accuracy: 0.9950 - val_loss: 0.0661 - val_accuracy: 0.9860\n",
            "Epoch 452/500\n",
            "100/100 - 0s - loss: 0.0101 - accuracy: 0.9960 - val_loss: 0.1039 - val_accuracy: 0.9837\n",
            "Epoch 453/500\n",
            "100/100 - 0s - loss: 0.0131 - accuracy: 0.9950 - val_loss: 0.0909 - val_accuracy: 0.9860\n",
            "Epoch 454/500\n",
            "100/100 - 0s - loss: 0.0028 - accuracy: 1.0000 - val_loss: 0.0814 - val_accuracy: 0.9860\n",
            "Epoch 455/500\n",
            "100/100 - 0s - loss: 0.0099 - accuracy: 0.9970 - val_loss: 0.0694 - val_accuracy: 0.9860\n",
            "Epoch 456/500\n",
            "100/100 - 0s - loss: 0.0131 - accuracy: 0.9970 - val_loss: 0.1131 - val_accuracy: 0.9791\n",
            "Epoch 457/500\n",
            "100/100 - 0s - loss: 0.0238 - accuracy: 0.9930 - val_loss: 0.1273 - val_accuracy: 0.9767\n",
            "Epoch 458/500\n",
            "100/100 - 0s - loss: 0.0076 - accuracy: 0.9980 - val_loss: 0.0735 - val_accuracy: 0.9860\n",
            "Epoch 459/500\n",
            "100/100 - 0s - loss: 0.0057 - accuracy: 0.9990 - val_loss: 0.0730 - val_accuracy: 0.9860\n",
            "Epoch 460/500\n",
            "100/100 - 0s - loss: 0.0115 - accuracy: 0.9940 - val_loss: 0.0640 - val_accuracy: 0.9884\n",
            "Epoch 461/500\n",
            "100/100 - 0s - loss: 0.0084 - accuracy: 0.9970 - val_loss: 0.1149 - val_accuracy: 0.9814\n",
            "Epoch 462/500\n",
            "100/100 - 0s - loss: 0.0302 - accuracy: 0.9940 - val_loss: 0.0906 - val_accuracy: 0.9837\n",
            "Epoch 463/500\n",
            "100/100 - 0s - loss: 0.0097 - accuracy: 0.9980 - val_loss: 0.0709 - val_accuracy: 0.9884\n",
            "Epoch 464/500\n",
            "100/100 - 0s - loss: 0.0109 - accuracy: 0.9970 - val_loss: 0.0750 - val_accuracy: 0.9860\n",
            "Epoch 465/500\n",
            "100/100 - 0s - loss: 0.0155 - accuracy: 0.9940 - val_loss: 0.0904 - val_accuracy: 0.9837\n",
            "Epoch 466/500\n",
            "100/100 - 0s - loss: 0.0086 - accuracy: 0.9980 - val_loss: 0.0833 - val_accuracy: 0.9860\n",
            "Epoch 467/500\n",
            "100/100 - 0s - loss: 0.0072 - accuracy: 0.9990 - val_loss: 0.0473 - val_accuracy: 0.9837\n",
            "Epoch 468/500\n",
            "100/100 - 0s - loss: 0.0374 - accuracy: 0.9900 - val_loss: 0.0941 - val_accuracy: 0.9767\n",
            "Epoch 469/500\n",
            "100/100 - 0s - loss: 0.0202 - accuracy: 0.9930 - val_loss: 0.0824 - val_accuracy: 0.9860\n",
            "Epoch 470/500\n",
            "100/100 - 0s - loss: 0.0067 - accuracy: 0.9970 - val_loss: 0.1274 - val_accuracy: 0.9791\n",
            "Epoch 471/500\n",
            "100/100 - 0s - loss: 0.0177 - accuracy: 0.9940 - val_loss: 0.0677 - val_accuracy: 0.9884\n",
            "Epoch 472/500\n",
            "100/100 - 0s - loss: 0.0239 - accuracy: 0.9940 - val_loss: 0.0725 - val_accuracy: 0.9860\n",
            "Epoch 473/500\n",
            "100/100 - 0s - loss: 0.0135 - accuracy: 0.9940 - val_loss: 0.0870 - val_accuracy: 0.9837\n",
            "Epoch 474/500\n",
            "100/100 - 0s - loss: 0.0054 - accuracy: 1.0000 - val_loss: 0.0653 - val_accuracy: 0.9837\n",
            "Epoch 475/500\n",
            "100/100 - 0s - loss: 0.0358 - accuracy: 0.9920 - val_loss: 0.1883 - val_accuracy: 0.9721\n",
            "Epoch 476/500\n",
            "100/100 - 0s - loss: 0.0362 - accuracy: 0.9900 - val_loss: 0.0845 - val_accuracy: 0.9791\n",
            "Epoch 477/500\n",
            "100/100 - 0s - loss: 0.0118 - accuracy: 0.9960 - val_loss: 0.0951 - val_accuracy: 0.9791\n",
            "Epoch 478/500\n",
            "100/100 - 0s - loss: 0.0094 - accuracy: 0.9980 - val_loss: 0.1097 - val_accuracy: 0.9791\n",
            "Epoch 479/500\n",
            "100/100 - 0s - loss: 0.0210 - accuracy: 0.9950 - val_loss: 0.0493 - val_accuracy: 0.9884\n",
            "Epoch 480/500\n",
            "100/100 - 0s - loss: 0.0145 - accuracy: 0.9960 - val_loss: 0.0933 - val_accuracy: 0.9837\n",
            "Epoch 481/500\n",
            "100/100 - 0s - loss: 0.0040 - accuracy: 1.0000 - val_loss: 0.1025 - val_accuracy: 0.9814\n",
            "Epoch 482/500\n",
            "100/100 - 0s - loss: 0.0041 - accuracy: 1.0000 - val_loss: 0.0793 - val_accuracy: 0.9837\n",
            "Epoch 483/500\n",
            "100/100 - 0s - loss: 0.0052 - accuracy: 0.9980 - val_loss: 0.1058 - val_accuracy: 0.9767\n",
            "Epoch 484/500\n",
            "100/100 - 0s - loss: 0.0053 - accuracy: 0.9990 - val_loss: 0.0756 - val_accuracy: 0.9860\n",
            "Epoch 485/500\n",
            "100/100 - 0s - loss: 0.0079 - accuracy: 0.9980 - val_loss: 0.0869 - val_accuracy: 0.9791\n",
            "Epoch 486/500\n",
            "100/100 - 0s - loss: 0.0173 - accuracy: 0.9960 - val_loss: 0.0604 - val_accuracy: 0.9884\n",
            "Epoch 487/500\n",
            "100/100 - 0s - loss: 0.0085 - accuracy: 0.9980 - val_loss: 0.0802 - val_accuracy: 0.9837\n",
            "Epoch 488/500\n",
            "100/100 - 0s - loss: 0.0102 - accuracy: 0.9980 - val_loss: 0.0863 - val_accuracy: 0.9837\n",
            "Epoch 489/500\n",
            "100/100 - 0s - loss: 0.0119 - accuracy: 0.9950 - val_loss: 0.0853 - val_accuracy: 0.9837\n",
            "Epoch 490/500\n",
            "100/100 - 0s - loss: 0.0099 - accuracy: 0.9970 - val_loss: 0.0852 - val_accuracy: 0.9860\n",
            "Epoch 491/500\n",
            "100/100 - 0s - loss: 0.0231 - accuracy: 0.9930 - val_loss: 0.1263 - val_accuracy: 0.9767\n",
            "Epoch 492/500\n",
            "100/100 - 0s - loss: 0.0219 - accuracy: 0.9930 - val_loss: 0.1339 - val_accuracy: 0.9791\n",
            "Epoch 493/500\n",
            "100/100 - 0s - loss: 0.0108 - accuracy: 0.9960 - val_loss: 0.0731 - val_accuracy: 0.9837\n",
            "Epoch 494/500\n",
            "100/100 - 0s - loss: 0.0038 - accuracy: 1.0000 - val_loss: 0.0866 - val_accuracy: 0.9860\n",
            "Epoch 495/500\n",
            "100/100 - 0s - loss: 0.0085 - accuracy: 0.9970 - val_loss: 0.0763 - val_accuracy: 0.9860\n",
            "Epoch 496/500\n",
            "100/100 - 0s - loss: 0.0111 - accuracy: 0.9970 - val_loss: 0.0763 - val_accuracy: 0.9860\n",
            "Epoch 497/500\n",
            "100/100 - 0s - loss: 0.0061 - accuracy: 0.9990 - val_loss: 0.0912 - val_accuracy: 0.9860\n",
            "Epoch 498/500\n",
            "100/100 - 0s - loss: 0.0091 - accuracy: 0.9960 - val_loss: 0.0842 - val_accuracy: 0.9860\n",
            "Epoch 499/500\n",
            "100/100 - 0s - loss: 0.0084 - accuracy: 0.9980 - val_loss: 0.0952 - val_accuracy: 0.9837\n",
            "Epoch 500/500\n",
            "100/100 - 0s - loss: 0.0041 - accuracy: 1.0000 - val_loss: 0.0728 - val_accuracy: 0.9860\n"
          ]
        }
      ]
    },
    {
      "cell_type": "code",
      "metadata": {
        "colab": {
          "base_uri": "https://localhost:8080/"
        },
        "id": "Q5A7PlKtSkE8",
        "outputId": "3981f667-d837-4d2b-e2cc-e3d50174fffc"
      },
      "source": [
        "model.summary()"
      ],
      "execution_count": 418,
      "outputs": [
        {
          "output_type": "stream",
          "name": "stdout",
          "text": [
            "Model: \"sequential_27\"\n",
            "_________________________________________________________________\n",
            "Layer (type)                 Output Shape              Param #   \n",
            "=================================================================\n",
            "dense_86 (Dense)             (None, 6)                 42        \n",
            "_________________________________________________________________\n",
            "dense_87 (Dense)             (None, 64)                448       \n",
            "_________________________________________________________________\n",
            "dropout_28 (Dropout)         (None, 64)                0         \n",
            "_________________________________________________________________\n",
            "dense_88 (Dense)             (None, 16)                1040      \n",
            "_________________________________________________________________\n",
            "batch_normalization_20 (Batc (None, 16)                64        \n",
            "_________________________________________________________________\n",
            "dense_89 (Dense)             (None, 4)                 68        \n",
            "=================================================================\n",
            "Total params: 1,662\n",
            "Trainable params: 1,630\n",
            "Non-trainable params: 32\n",
            "_________________________________________________________________\n"
          ]
        }
      ]
    },
    {
      "cell_type": "code",
      "metadata": {
        "id": "iv-hLLV_IreO"
      },
      "source": [
        "# Contoh model architecture plot\n",
        "from tensorflow.keras.utils import plot_model"
      ],
      "execution_count": 419,
      "outputs": []
    },
    {
      "cell_type": "code",
      "metadata": {
        "colab": {
          "base_uri": "https://localhost:8080/",
          "height": 754
        },
        "id": "cLhJjMY3FBPe",
        "outputId": "9399cd90-ddab-4ae0-ca3c-fadc39aebe35"
      },
      "source": [
        "# summarize model 1\n",
        "plot_model(model, 'model_summary.png', show_shapes=True)"
      ],
      "execution_count": 420,
      "outputs": [
        {
          "output_type": "execute_result",
          "data": {
            "image/png": "[encoded data removed]",
            "text/plain": [
              "<IPython.core.display.Image object>"
            ]
          },
          "metadata": {},
          "execution_count": 420
        }
      ]
    },
    {
      "cell_type": "code",
      "metadata": {
        "colab": {
          "base_uri": "https://localhost:8080/"
        },
        "id": "qG3fy-IYF74r",
        "outputId": "74a4d210-7ad1-4ec7-a27e-717981952d53"
      },
      "source": [
        "model.evaluate(X_test_ANN, y_test_ANN, verbose=1)"
      ],
      "execution_count": 421,
      "outputs": [
        {
          "output_type": "stream",
          "name": "stdout",
          "text": [
            "12/12 [==============================] - 0s 2ms/step - loss: 0.1022 - accuracy: 0.9832\n"
          ]
        },
        {
          "output_type": "execute_result",
          "data": {
            "text/plain": [
              "[0.10219789296388626, 0.9832402467727661]"
            ]
          },
          "metadata": {},
          "execution_count": 421
        }
      ]
    },
    {
      "cell_type": "code",
      "metadata": {
        "colab": {
          "base_uri": "https://localhost:8080/"
        },
        "id": "G-wcbHMbCcVR",
        "outputId": "92ad7b7d-2382-4c59-9b25-cbb50b59c5dc"
      },
      "source": [
        "model.evaluate(X_train_ANN, y_train_ANN, verbose=1)"
      ],
      "execution_count": 422,
      "outputs": [
        {
          "output_type": "stream",
          "name": "stdout",
          "text": [
            "45/45 [==============================] - 0s 1ms/step - loss: 0.0223 - accuracy: 0.9958\n"
          ]
        },
        {
          "output_type": "execute_result",
          "data": {
            "text/plain": [
              "[0.022327765822410583, 0.9958041906356812]"
            ]
          },
          "metadata": {},
          "execution_count": 422
        }
      ]
    },
    {
      "cell_type": "code",
      "metadata": {
        "id": "iiC5BS1_FSY9"
      },
      "source": [
        "from matplotlib import pyplot\n",
        "# plot learning curves"
      ],
      "execution_count": 423,
      "outputs": []
    },
    {
      "cell_type": "code",
      "metadata": {
        "colab": {
          "base_uri": "https://localhost:8080/",
          "height": 295
        },
        "id": "PWC0aYGQE6Sy",
        "outputId": "e709b462-8ccc-4fc1-9e0a-b92bc2ac62e6"
      },
      "source": [
        "pyplot.title('Learning Curves')\n",
        "pyplot.xlabel('Epoch')\n",
        "pyplot.ylabel('Accuracy')\n",
        "pyplot.plot(history.history['accuracy'], label='train')\n",
        "pyplot.plot(history.history['val_accuracy'], label='val')\n",
        "pyplot.legend()\n",
        "pyplot.show()"
      ],
      "execution_count": 424,
      "outputs": [
        {
          "output_type": "display_data",
          "data": {
            "image/png": "[encoded data removed]",
            "text/plain": [
              "<Figure size 432x288 with 1 Axes>"
            ]
          },
          "metadata": {
            "needs_background": "light"
          }
        }
      ]
    },
    {
      "cell_type": "code",
      "metadata": {
        "colab": {
          "base_uri": "https://localhost:8080/",
          "height": 295
        },
        "id": "M8HdDsCzFKZr",
        "outputId": "f52aa289-24c7-44b9-a59c-4ac4dd1779dc"
      },
      "source": [
        "pyplot.title('Learning Curves')\n",
        "pyplot.xlabel('Epoch')\n",
        "pyplot.ylabel('Loss function')\n",
        "pyplot.plot(history.history['loss'], label='train')\n",
        "pyplot.plot(history.history['val_loss'], label='val')\n",
        "pyplot.legend()\n",
        "pyplot.show()"
      ],
      "execution_count": 425,
      "outputs": [
        {
          "output_type": "display_data",
          "data": {
            "image/png": "[encoded data removed]",
            "text/plain": [
              "<Figure size 432x288 with 1 Axes>"
            ]
          },
          "metadata": {
            "needs_background": "light"
          }
        }
      ]
    },
    {
      "cell_type": "markdown",
      "metadata": {
        "id": "ZVuY2QdwW6dO"
      },
      "source": [
        "## 10. Build Model KNN"
      ]
    },
    {
      "cell_type": "code",
      "metadata": {
        "id": "Myhdcwq1IoAu"
      },
      "source": [
        "#Isi Code\n",
        "import sklearn.metrics as metrics\n",
        "from sklearn.neighbors import KNeighborsClassifier\n",
        "from sklearn.model_selection import train_test_split"
      ],
      "execution_count": 467,
      "outputs": []
    },
    {
      "cell_type": "code",
      "metadata": {
        "colab": {
          "base_uri": "https://localhost:8080/"
        },
        "id": "lMdwF4EprnvP",
        "outputId": "bf04f82e-91e0-49fb-f1fe-9ca17e3da600"
      },
      "source": [
        "X_train, X_test, Y_train, Y_test = train_test_split(X_scaled, Y_res, test_size=0.2, random_state=17)\n",
        "print ('Train set:', X_train.shape,  Y_train.shape)\n",
        "print ('Test set:', X_test.shape,  Y_test.shape)"
      ],
      "execution_count": 500,
      "outputs": [
        {
          "output_type": "stream",
          "name": "stdout",
          "text": [
            "Train set: (1430, 6) (1430,)\n",
            "Test set: (358, 6) (358,)\n"
          ]
        }
      ]
    },
    {
      "cell_type": "code",
      "metadata": {
        "id": "Dks_OpdeW9fY"
      },
      "source": [
        "#Isi Code\n",
        "from sklearn.neighbors import KNeighborsClassifier\n",
        "import sklearn.metrics as metrics"
      ],
      "execution_count": 490,
      "outputs": []
    },
    {
      "cell_type": "code",
      "metadata": {
        "colab": {
          "base_uri": "https://localhost:8080/"
        },
        "id": "e49w2ecXy4EI",
        "outputId": "71adb0af-c59c-4c9b-913c-42c6a3b165b7"
      },
      "source": [
        "Ks = 50\n",
        "mean_acc_norm = np.zeros((Ks))\n",
        "\n",
        "for n in range(1,Ks+1):\n",
        "    \n",
        "    #Train Model and Predict  \n",
        "    neigh = KNeighborsClassifier(n_neighbors = n).fit(X_train,Y_train) #buat model\n",
        "    yhat_1 = neigh.predict(X_test) #memprediksi\n",
        "    mean_acc_norm[n-1] = metrics.accuracy_score(Y_test, yhat_1)\n",
        "\n",
        "print( \"The best accuracy was with\", max(mean_acc_norm))"
      ],
      "execution_count": 501,
      "outputs": [
        {
          "output_type": "stream",
          "name": "stdout",
          "text": [
            "The best accuracy was with 0.9748603351955307\n"
          ]
        }
      ]
    },
    {
      "cell_type": "code",
      "metadata": {
        "colab": {
          "base_uri": "https://localhost:8080/",
          "height": 334
        },
        "id": "dLpUSfJD-dYU",
        "outputId": "dec27c46-4957-44e1-b97b-a90e2b286dbb"
      },
      "source": [
        "Ks = 50\n",
        "mean_acc2 =  []\n",
        "mean_acc3 = []\n",
        "\n",
        "for n in range(1,Ks+1):\n",
        "    \n",
        "    #Train Model and Predict  \n",
        "    neigh = KNeighborsClassifier(n_neighbors = n).fit(X_train, Y_train) #buat model\n",
        "    yhat2 = neigh.predict(X_train) #memprediksi\n",
        "    acc2 = metrics.accuracy_score(Y_train, yhat2)\n",
        "    mean_acc2.append(acc2)\n",
        "\n",
        "    #Train Model and Predict  \n",
        "    yhat3 = neigh.predict(X_test) #memprediksi\n",
        "    acc3 = metrics.accuracy_score(Y_test, yhat3)\n",
        "    mean_acc3.append(acc3)\n",
        "\n",
        "\n",
        "# plot of train and test scores vs tree depth\n",
        "fig = plt.figure(figsize =(10, 5))\n",
        "plt.plot(range(1,Ks+1),mean_acc2, '-o', label='Train')\n",
        "plt.plot(range(1,Ks+1),mean_acc3, '-o', label='Test')\n",
        "plt.ylabel('Accuracy ')\n",
        "plt.xlabel('Number of Nabors (K)')\n",
        "plt.legend()\n",
        "plt.show()"
      ],
      "execution_count": 502,
      "outputs": [
        {
          "output_type": "display_data",
          "data": {
            "image/png": "[encoded data removed]",
            "text/plain": [
              "<Figure size 720x360 with 1 Axes>"
            ]
          },
          "metadata": {
            "needs_background": "light"
          }
        }
      ]
    },
    {
      "cell_type": "code",
      "metadata": {
        "colab": {
          "base_uri": "https://localhost:8080/"
        },
        "id": "dZ-iY6FflPv9",
        "outputId": "6fcfbc2e-bb28-42b9-c89d-403b54cdcc08"
      },
      "source": [
        "X_train2, X_test2, Y_train2, Y_test2 = train_test_split(X_std, Y_res, test_size=0.2, random_state=4)\n",
        "print ('Train set:', X_train2.shape,  Y_train2.shape)\n",
        "print ('Test set:', X_test2.shape,  Y_test2.shape)"
      ],
      "execution_count": 486,
      "outputs": [
        {
          "output_type": "stream",
          "name": "stdout",
          "text": [
            "Train set: (1430, 6) (1430,)\n",
            "Test set: (358, 6) (358,)\n"
          ]
        }
      ]
    },
    {
      "cell_type": "code",
      "metadata": {
        "colab": {
          "base_uri": "https://localhost:8080/"
        },
        "id": "76k57x30zH0t",
        "outputId": "80485687-5b54-4a6b-b65e-b0499792fb2e"
      },
      "source": [
        "Ks = 50\n",
        "mean_acc_norm2 = np.zeros((Ks))\n",
        "\n",
        "for n in range(1,Ks+1):\n",
        "    \n",
        "    #Train Model and Predict  \n",
        "    neigh2 = KNeighborsClassifier(n_neighbors = n).fit(X_train2,Y_train2) #buat model\n",
        "    yhat_2 = neigh2.predict(X_test2) #memprediksi\n",
        "    mean_acc_norm2[n-1] = metrics.accuracy_score(Y_test2, yhat_2)\n",
        "\n",
        "print( \"The best accuracy was with\", max(mean_acc_norm2))"
      ],
      "execution_count": 487,
      "outputs": [
        {
          "output_type": "stream",
          "name": "stdout",
          "text": [
            "The best accuracy was with 0.9720670391061452\n"
          ]
        }
      ]
    },
    {
      "cell_type": "code",
      "metadata": {
        "colab": {
          "base_uri": "https://localhost:8080/",
          "height": 334
        },
        "id": "CLVguSHhzZqH",
        "outputId": "52891ca4-c830-4106-d717-4fa2ec8a3a05"
      },
      "source": [
        "Ks = 50\n",
        "mean_acc4 =  []\n",
        "mean_acc5 = []\n",
        "\n",
        "for n in range(1,Ks+1):\n",
        "    \n",
        "    #Train Model and Predict  \n",
        "    neigh = KNeighborsClassifier(n_neighbors = n).fit(X_train2, Y_train2) #buat model\n",
        "    yhat4 = neigh.predict(X_train2) #memprediksi\n",
        "    acc4 = metrics.accuracy_score(Y_train2, yhat4)\n",
        "    mean_acc4.append(acc4)\n",
        "\n",
        "    #Train Model and Predict  \n",
        "    yhat5 = neigh.predict(X_test2) #memprediksi\n",
        "    acc5 = metrics.accuracy_score(Y_test2, yhat5)\n",
        "    mean_acc5.append(acc5)\n",
        "\n",
        "\n",
        "# plot of train and test scores vs tree depth\n",
        "fig = plt.figure(figsize =(10, 5))\n",
        "plt.plot(range(1,Ks+1),mean_acc4, '-o', label='Train')\n",
        "plt.plot(range(1,Ks+1),mean_acc5, '-o', label='Test')\n",
        "plt.ylabel('Accuracy ')\n",
        "plt.xlabel('Number of Nabors (K)')\n",
        "plt.legend()\n",
        "plt.show()"
      ],
      "execution_count": 488,
      "outputs": [
        {
          "output_type": "display_data",
          "data": {
            "image/png": "[encoded data removed]",
            "text/plain": [
              "<Figure size 720x360 with 1 Axes>"
            ]
          },
          "metadata": {
            "needs_background": "light"
          }
        }
      ]
    }
  ]
}