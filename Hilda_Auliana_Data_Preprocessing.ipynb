{
  "nbformat": 4,
  "nbformat_minor": 0,
  "metadata": {
    "kernelspec": {
      "display_name": "Python 3",
      "language": "python",
      "name": "python3"
    },
    "language_info": {
      "codemirror_mode": {
        "name": "ipython",
        "version": 3
      },
      "file_extension": ".py",
      "mimetype": "text/x-python",
      "name": "python",
      "nbconvert_exporter": "python",
      "pygments_lexer": "ipython3",
      "version": "3.7.6"
    },
    "colab": {
      "name": "Hilda Auliana_Data Preprocessing.ipynb",
      "provenance": [],
      "collapsed_sections": [],
      "include_colab_link": true
    }
  },
  "cells": [
    {
      "cell_type": "markdown",
      "metadata": {
        "id": "view-in-github",
        "colab_type": "text"
      },
      "source": [
        "<a href=\"https://colab.research.google.com/github/Hilda531/Orbit_Project/blob/main/Hilda_Auliana_Data_Preprocessing.ipynb\" target=\"_parent\"><img src=\"https://colab.research.google.com/assets/colab-badge.svg\" alt=\"Open In Colab\"/></a>"
      ]
    },
    {
      "cell_type": "markdown",
      "metadata": {
        "id": "fXyErK3La9VY"
      },
      "source": [
        "## Import Library yg dibutuhkan"
      ]
    },
    {
      "cell_type": "code",
      "metadata": {
        "id": "o-sY0DCpa9Vi"
      },
      "source": [
        "import pandas as pd\n",
        "import matplotlib.pyplot as plt\n",
        "import seaborn as sns\n",
        "#tambahkan library sesuai kebutuhan"
      ],
      "execution_count": 1,
      "outputs": []
    },
    {
      "cell_type": "code",
      "metadata": {
        "colab": {
          "base_uri": "https://localhost:8080/"
        },
        "id": "Th7ZBwEwpCA4",
        "outputId": "c1c603ce-4b9f-45ae-a71c-ecd53e176c6f"
      },
      "source": [
        "from google.colab import drive\n",
        "drive.mount('/content/drive')"
      ],
      "execution_count": 2,
      "outputs": [
        {
          "output_type": "stream",
          "name": "stdout",
          "text": [
            "Drive already mounted at /content/drive; to attempt to forcibly remount, call drive.mount(\"/content/drive\", force_remount=True).\n"
          ]
        }
      ]
    },
    {
      "cell_type": "markdown",
      "metadata": {
        "id": "uLNZYwquyKKa"
      },
      "source": [
        ""
      ]
    },
    {
      "cell_type": "code",
      "metadata": {
        "id": "mdVVIvqIa9Vm"
      },
      "source": [
        "data = pd.read_csv('/content/drive/MyDrive/Colab Notebooks/Studi/activity_km_07_01.csv')"
      ],
      "execution_count": 3,
      "outputs": []
    },
    {
      "cell_type": "code",
      "metadata": {
        "id": "Kwh2UjUMa9Vo",
        "colab": {
          "base_uri": "https://localhost:8080/",
          "height": 419
        },
        "outputId": "6032c206-c9bd-4e18-aabd-e5b85d640aca"
      },
      "source": [
        "data"
      ],
      "execution_count": 4,
      "outputs": [
        {
          "output_type": "execute_result",
          "data": {
            "text/html": [
              "<div>\n",
              "<style scoped>\n",
              "    .dataframe tbody tr th:only-of-type {\n",
              "        vertical-align: middle;\n",
              "    }\n",
              "\n",
              "    .dataframe tbody tr th {\n",
              "        vertical-align: top;\n",
              "    }\n",
              "\n",
              "    .dataframe thead th {\n",
              "        text-align: right;\n",
              "    }\n",
              "</style>\n",
              "<table border=\"1\" class=\"dataframe\">\n",
              "  <thead>\n",
              "    <tr style=\"text-align: right;\">\n",
              "      <th></th>\n",
              "      <th>PH</th>\n",
              "      <th>cahaya</th>\n",
              "      <th>intensitas air</th>\n",
              "      <th>suhu</th>\n",
              "      <th>PPM</th>\n",
              "      <th>tinggi air</th>\n",
              "      <th>aksi</th>\n",
              "    </tr>\n",
              "  </thead>\n",
              "  <tbody>\n",
              "    <tr>\n",
              "      <th>0</th>\n",
              "      <td>6.5</td>\n",
              "      <td>Ada</td>\n",
              "      <td>Tinggi</td>\n",
              "      <td>27.0</td>\n",
              "      <td>188.0</td>\n",
              "      <td>622</td>\n",
              "      <td>Hidupkan Lampu dan Pompa nutrisi TDS</td>\n",
              "    </tr>\n",
              "    <tr>\n",
              "      <th>1</th>\n",
              "      <td>5.7</td>\n",
              "      <td>Ada</td>\n",
              "      <td>Tinggi</td>\n",
              "      <td>26.9</td>\n",
              "      <td>79.0</td>\n",
              "      <td>557</td>\n",
              "      <td>Hidupkan Lampu dan Pompa nutrisi TDS</td>\n",
              "    </tr>\n",
              "    <tr>\n",
              "      <th>2</th>\n",
              "      <td>6.0</td>\n",
              "      <td>Ada</td>\n",
              "      <td>Tinggi</td>\n",
              "      <td>27.0</td>\n",
              "      <td>11.0</td>\n",
              "      <td>491</td>\n",
              "      <td>Hidupkan Lampu dan Pompa nutrisi TDS</td>\n",
              "    </tr>\n",
              "    <tr>\n",
              "      <th>3</th>\n",
              "      <td>6.5</td>\n",
              "      <td>Ada</td>\n",
              "      <td>Tinggi</td>\n",
              "      <td>27.1</td>\n",
              "      <td>345.0</td>\n",
              "      <td>12000</td>\n",
              "      <td>Tidak melakukan apa-apa</td>\n",
              "    </tr>\n",
              "    <tr>\n",
              "      <th>4</th>\n",
              "      <td>6.2</td>\n",
              "      <td>NaN</td>\n",
              "      <td>Tinggi</td>\n",
              "      <td>27.1</td>\n",
              "      <td>602.0</td>\n",
              "      <td>444</td>\n",
              "      <td>Tidak melakukan apa-apa</td>\n",
              "    </tr>\n",
              "    <tr>\n",
              "      <th>...</th>\n",
              "      <td>...</td>\n",
              "      <td>...</td>\n",
              "      <td>...</td>\n",
              "      <td>...</td>\n",
              "      <td>...</td>\n",
              "      <td>...</td>\n",
              "      <td>...</td>\n",
              "    </tr>\n",
              "    <tr>\n",
              "      <th>611</th>\n",
              "      <td>4.6</td>\n",
              "      <td>Ada</td>\n",
              "      <td>Rendah sekali</td>\n",
              "      <td>25.3</td>\n",
              "      <td>904.0</td>\n",
              "      <td>47</td>\n",
              "      <td>Hidupkan Lampu</td>\n",
              "    </tr>\n",
              "    <tr>\n",
              "      <th>612</th>\n",
              "      <td>2.1</td>\n",
              "      <td>Ada</td>\n",
              "      <td>Rendah sekali</td>\n",
              "      <td>25.0</td>\n",
              "      <td>388.0</td>\n",
              "      <td>18</td>\n",
              "      <td>Hidupkan Lampu dan Pompa nutrisi TDS</td>\n",
              "    </tr>\n",
              "    <tr>\n",
              "      <th>613</th>\n",
              "      <td>3.2</td>\n",
              "      <td>Ada</td>\n",
              "      <td>Rendah sekali</td>\n",
              "      <td>25.3</td>\n",
              "      <td>793.0</td>\n",
              "      <td>19</td>\n",
              "      <td>Hidupkan Lampu</td>\n",
              "    </tr>\n",
              "    <tr>\n",
              "      <th>614</th>\n",
              "      <td>1.4</td>\n",
              "      <td>Ada</td>\n",
              "      <td>Rendah sekali</td>\n",
              "      <td>25.4</td>\n",
              "      <td>1052.0</td>\n",
              "      <td>3</td>\n",
              "      <td>Hidupkan Lampu</td>\n",
              "    </tr>\n",
              "    <tr>\n",
              "      <th>615</th>\n",
              "      <td>5.0</td>\n",
              "      <td>Ada</td>\n",
              "      <td>Rendah sekali</td>\n",
              "      <td>25.3</td>\n",
              "      <td>977.0</td>\n",
              "      <td>19</td>\n",
              "      <td>Hidupkan Lampu</td>\n",
              "    </tr>\n",
              "  </tbody>\n",
              "</table>\n",
              "<p>616 rows × 7 columns</p>\n",
              "</div>"
            ],
            "text/plain": [
              "      PH cahaya  ... tinggi air                                  aksi\n",
              "0    6.5    Ada  ...        622  Hidupkan Lampu dan Pompa nutrisi TDS\n",
              "1    5.7    Ada  ...        557  Hidupkan Lampu dan Pompa nutrisi TDS\n",
              "2    6.0    Ada  ...        491  Hidupkan Lampu dan Pompa nutrisi TDS\n",
              "3    6.5    Ada  ...      12000               Tidak melakukan apa-apa\n",
              "4    6.2    NaN  ...        444               Tidak melakukan apa-apa\n",
              "..   ...    ...  ...        ...                                   ...\n",
              "611  4.6    Ada  ...         47                        Hidupkan Lampu\n",
              "612  2.1    Ada  ...         18  Hidupkan Lampu dan Pompa nutrisi TDS\n",
              "613  3.2    Ada  ...         19                        Hidupkan Lampu\n",
              "614  1.4    Ada  ...          3                        Hidupkan Lampu\n",
              "615  5.0    Ada  ...         19                        Hidupkan Lampu\n",
              "\n",
              "[616 rows x 7 columns]"
            ]
          },
          "metadata": {},
          "execution_count": 4
        }
      ]
    },
    {
      "cell_type": "markdown",
      "metadata": {
        "id": "WZ3GE8pya9Vr"
      },
      "source": [
        "## 1. Mengganti nama kolom yang menggunakan spasi"
      ]
    },
    {
      "cell_type": "code",
      "metadata": {
        "id": "v0csWHwRa9Vs",
        "colab": {
          "base_uri": "https://localhost:8080/",
          "height": 419
        },
        "outputId": "fb823599-59bd-41b6-d32e-7618a7884dcb"
      },
      "source": [
        "#isi code\n",
        "data = data.rename(columns = {'intensitas air':'intensitas_air', 'tinggi air':'tinggi_air'})\n",
        "data"
      ],
      "execution_count": 5,
      "outputs": [
        {
          "output_type": "execute_result",
          "data": {
            "text/html": [
              "<div>\n",
              "<style scoped>\n",
              "    .dataframe tbody tr th:only-of-type {\n",
              "        vertical-align: middle;\n",
              "    }\n",
              "\n",
              "    .dataframe tbody tr th {\n",
              "        vertical-align: top;\n",
              "    }\n",
              "\n",
              "    .dataframe thead th {\n",
              "        text-align: right;\n",
              "    }\n",
              "</style>\n",
              "<table border=\"1\" class=\"dataframe\">\n",
              "  <thead>\n",
              "    <tr style=\"text-align: right;\">\n",
              "      <th></th>\n",
              "      <th>PH</th>\n",
              "      <th>cahaya</th>\n",
              "      <th>intensitas_air</th>\n",
              "      <th>suhu</th>\n",
              "      <th>PPM</th>\n",
              "      <th>tinggi_air</th>\n",
              "      <th>aksi</th>\n",
              "    </tr>\n",
              "  </thead>\n",
              "  <tbody>\n",
              "    <tr>\n",
              "      <th>0</th>\n",
              "      <td>6.5</td>\n",
              "      <td>Ada</td>\n",
              "      <td>Tinggi</td>\n",
              "      <td>27.0</td>\n",
              "      <td>188.0</td>\n",
              "      <td>622</td>\n",
              "      <td>Hidupkan Lampu dan Pompa nutrisi TDS</td>\n",
              "    </tr>\n",
              "    <tr>\n",
              "      <th>1</th>\n",
              "      <td>5.7</td>\n",
              "      <td>Ada</td>\n",
              "      <td>Tinggi</td>\n",
              "      <td>26.9</td>\n",
              "      <td>79.0</td>\n",
              "      <td>557</td>\n",
              "      <td>Hidupkan Lampu dan Pompa nutrisi TDS</td>\n",
              "    </tr>\n",
              "    <tr>\n",
              "      <th>2</th>\n",
              "      <td>6.0</td>\n",
              "      <td>Ada</td>\n",
              "      <td>Tinggi</td>\n",
              "      <td>27.0</td>\n",
              "      <td>11.0</td>\n",
              "      <td>491</td>\n",
              "      <td>Hidupkan Lampu dan Pompa nutrisi TDS</td>\n",
              "    </tr>\n",
              "    <tr>\n",
              "      <th>3</th>\n",
              "      <td>6.5</td>\n",
              "      <td>Ada</td>\n",
              "      <td>Tinggi</td>\n",
              "      <td>27.1</td>\n",
              "      <td>345.0</td>\n",
              "      <td>12000</td>\n",
              "      <td>Tidak melakukan apa-apa</td>\n",
              "    </tr>\n",
              "    <tr>\n",
              "      <th>4</th>\n",
              "      <td>6.2</td>\n",
              "      <td>NaN</td>\n",
              "      <td>Tinggi</td>\n",
              "      <td>27.1</td>\n",
              "      <td>602.0</td>\n",
              "      <td>444</td>\n",
              "      <td>Tidak melakukan apa-apa</td>\n",
              "    </tr>\n",
              "    <tr>\n",
              "      <th>...</th>\n",
              "      <td>...</td>\n",
              "      <td>...</td>\n",
              "      <td>...</td>\n",
              "      <td>...</td>\n",
              "      <td>...</td>\n",
              "      <td>...</td>\n",
              "      <td>...</td>\n",
              "    </tr>\n",
              "    <tr>\n",
              "      <th>611</th>\n",
              "      <td>4.6</td>\n",
              "      <td>Ada</td>\n",
              "      <td>Rendah sekali</td>\n",
              "      <td>25.3</td>\n",
              "      <td>904.0</td>\n",
              "      <td>47</td>\n",
              "      <td>Hidupkan Lampu</td>\n",
              "    </tr>\n",
              "    <tr>\n",
              "      <th>612</th>\n",
              "      <td>2.1</td>\n",
              "      <td>Ada</td>\n",
              "      <td>Rendah sekali</td>\n",
              "      <td>25.0</td>\n",
              "      <td>388.0</td>\n",
              "      <td>18</td>\n",
              "      <td>Hidupkan Lampu dan Pompa nutrisi TDS</td>\n",
              "    </tr>\n",
              "    <tr>\n",
              "      <th>613</th>\n",
              "      <td>3.2</td>\n",
              "      <td>Ada</td>\n",
              "      <td>Rendah sekali</td>\n",
              "      <td>25.3</td>\n",
              "      <td>793.0</td>\n",
              "      <td>19</td>\n",
              "      <td>Hidupkan Lampu</td>\n",
              "    </tr>\n",
              "    <tr>\n",
              "      <th>614</th>\n",
              "      <td>1.4</td>\n",
              "      <td>Ada</td>\n",
              "      <td>Rendah sekali</td>\n",
              "      <td>25.4</td>\n",
              "      <td>1052.0</td>\n",
              "      <td>3</td>\n",
              "      <td>Hidupkan Lampu</td>\n",
              "    </tr>\n",
              "    <tr>\n",
              "      <th>615</th>\n",
              "      <td>5.0</td>\n",
              "      <td>Ada</td>\n",
              "      <td>Rendah sekali</td>\n",
              "      <td>25.3</td>\n",
              "      <td>977.0</td>\n",
              "      <td>19</td>\n",
              "      <td>Hidupkan Lampu</td>\n",
              "    </tr>\n",
              "  </tbody>\n",
              "</table>\n",
              "<p>616 rows × 7 columns</p>\n",
              "</div>"
            ],
            "text/plain": [
              "      PH cahaya  ... tinggi_air                                  aksi\n",
              "0    6.5    Ada  ...        622  Hidupkan Lampu dan Pompa nutrisi TDS\n",
              "1    5.7    Ada  ...        557  Hidupkan Lampu dan Pompa nutrisi TDS\n",
              "2    6.0    Ada  ...        491  Hidupkan Lampu dan Pompa nutrisi TDS\n",
              "3    6.5    Ada  ...      12000               Tidak melakukan apa-apa\n",
              "4    6.2    NaN  ...        444               Tidak melakukan apa-apa\n",
              "..   ...    ...  ...        ...                                   ...\n",
              "611  4.6    Ada  ...         47                        Hidupkan Lampu\n",
              "612  2.1    Ada  ...         18  Hidupkan Lampu dan Pompa nutrisi TDS\n",
              "613  3.2    Ada  ...         19                        Hidupkan Lampu\n",
              "614  1.4    Ada  ...          3                        Hidupkan Lampu\n",
              "615  5.0    Ada  ...         19                        Hidupkan Lampu\n",
              "\n",
              "[616 rows x 7 columns]"
            ]
          },
          "metadata": {},
          "execution_count": 5
        }
      ]
    },
    {
      "cell_type": "markdown",
      "metadata": {
        "id": "vCYDhpdfa9Vt"
      },
      "source": [
        "## 2. Mengganti data kategorikal menjadi bentuk numerical (Clue : Labelencoder tidak bekerja ketika ada missing value, gunakan metode lain)"
      ]
    },
    {
      "cell_type": "code",
      "metadata": {
        "colab": {
          "base_uri": "https://localhost:8080/"
        },
        "id": "6QtA1NmIrDPT",
        "outputId": "7a935767-c2c6-4de0-eefe-d0b21ab91d9e"
      },
      "source": [
        "data.info()"
      ],
      "execution_count": 6,
      "outputs": [
        {
          "output_type": "stream",
          "name": "stdout",
          "text": [
            "<class 'pandas.core.frame.DataFrame'>\n",
            "RangeIndex: 616 entries, 0 to 615\n",
            "Data columns (total 7 columns):\n",
            " #   Column          Non-Null Count  Dtype  \n",
            "---  ------          --------------  -----  \n",
            " 0   PH              600 non-null    float64\n",
            " 1   cahaya          590 non-null    object \n",
            " 2   intensitas_air  616 non-null    object \n",
            " 3   suhu            589 non-null    float64\n",
            " 4   PPM             611 non-null    float64\n",
            " 5   tinggi_air      616 non-null    int64  \n",
            " 6   aksi            616 non-null    object \n",
            "dtypes: float64(3), int64(1), object(3)\n",
            "memory usage: 33.8+ KB\n"
          ]
        }
      ]
    },
    {
      "cell_type": "code",
      "metadata": {
        "colab": {
          "base_uri": "https://localhost:8080/"
        },
        "id": "AnKHkj6gYSo6",
        "outputId": "7d43985e-ee55-42f3-ad03-2dfdc36bbcce"
      },
      "source": [
        "#Isi Code\n",
        "data.isna().sum()"
      ],
      "execution_count": 7,
      "outputs": [
        {
          "output_type": "execute_result",
          "data": {
            "text/plain": [
              "PH                16\n",
              "cahaya            26\n",
              "intensitas_air     0\n",
              "suhu              27\n",
              "PPM                5\n",
              "tinggi_air         0\n",
              "aksi               0\n",
              "dtype: int64"
            ]
          },
          "metadata": {},
          "execution_count": 7
        }
      ]
    },
    {
      "cell_type": "code",
      "metadata": {
        "id": "HNAJfwlCa9Vu",
        "colab": {
          "base_uri": "https://localhost:8080/",
          "height": 419
        },
        "outputId": "a4c3482c-c7fb-482b-ecea-031d06e88855"
      },
      "source": [
        "data2 = data.dropna(subset=['cahaya'])\n",
        "data2"
      ],
      "execution_count": 8,
      "outputs": [
        {
          "output_type": "execute_result",
          "data": {
            "text/html": [
              "<div>\n",
              "<style scoped>\n",
              "    .dataframe tbody tr th:only-of-type {\n",
              "        vertical-align: middle;\n",
              "    }\n",
              "\n",
              "    .dataframe tbody tr th {\n",
              "        vertical-align: top;\n",
              "    }\n",
              "\n",
              "    .dataframe thead th {\n",
              "        text-align: right;\n",
              "    }\n",
              "</style>\n",
              "<table border=\"1\" class=\"dataframe\">\n",
              "  <thead>\n",
              "    <tr style=\"text-align: right;\">\n",
              "      <th></th>\n",
              "      <th>PH</th>\n",
              "      <th>cahaya</th>\n",
              "      <th>intensitas_air</th>\n",
              "      <th>suhu</th>\n",
              "      <th>PPM</th>\n",
              "      <th>tinggi_air</th>\n",
              "      <th>aksi</th>\n",
              "    </tr>\n",
              "  </thead>\n",
              "  <tbody>\n",
              "    <tr>\n",
              "      <th>0</th>\n",
              "      <td>6.5</td>\n",
              "      <td>Ada</td>\n",
              "      <td>Tinggi</td>\n",
              "      <td>27.0</td>\n",
              "      <td>188.0</td>\n",
              "      <td>622</td>\n",
              "      <td>Hidupkan Lampu dan Pompa nutrisi TDS</td>\n",
              "    </tr>\n",
              "    <tr>\n",
              "      <th>1</th>\n",
              "      <td>5.7</td>\n",
              "      <td>Ada</td>\n",
              "      <td>Tinggi</td>\n",
              "      <td>26.9</td>\n",
              "      <td>79.0</td>\n",
              "      <td>557</td>\n",
              "      <td>Hidupkan Lampu dan Pompa nutrisi TDS</td>\n",
              "    </tr>\n",
              "    <tr>\n",
              "      <th>2</th>\n",
              "      <td>6.0</td>\n",
              "      <td>Ada</td>\n",
              "      <td>Tinggi</td>\n",
              "      <td>27.0</td>\n",
              "      <td>11.0</td>\n",
              "      <td>491</td>\n",
              "      <td>Hidupkan Lampu dan Pompa nutrisi TDS</td>\n",
              "    </tr>\n",
              "    <tr>\n",
              "      <th>3</th>\n",
              "      <td>6.5</td>\n",
              "      <td>Ada</td>\n",
              "      <td>Tinggi</td>\n",
              "      <td>27.1</td>\n",
              "      <td>345.0</td>\n",
              "      <td>12000</td>\n",
              "      <td>Tidak melakukan apa-apa</td>\n",
              "    </tr>\n",
              "    <tr>\n",
              "      <th>10</th>\n",
              "      <td>NaN</td>\n",
              "      <td>Ada</td>\n",
              "      <td>Tinggi</td>\n",
              "      <td>26.5</td>\n",
              "      <td>NaN</td>\n",
              "      <td>219</td>\n",
              "      <td>Hidupkan Lampu</td>\n",
              "    </tr>\n",
              "    <tr>\n",
              "      <th>...</th>\n",
              "      <td>...</td>\n",
              "      <td>...</td>\n",
              "      <td>...</td>\n",
              "      <td>...</td>\n",
              "      <td>...</td>\n",
              "      <td>...</td>\n",
              "      <td>...</td>\n",
              "    </tr>\n",
              "    <tr>\n",
              "      <th>611</th>\n",
              "      <td>4.6</td>\n",
              "      <td>Ada</td>\n",
              "      <td>Rendah sekali</td>\n",
              "      <td>25.3</td>\n",
              "      <td>904.0</td>\n",
              "      <td>47</td>\n",
              "      <td>Hidupkan Lampu</td>\n",
              "    </tr>\n",
              "    <tr>\n",
              "      <th>612</th>\n",
              "      <td>2.1</td>\n",
              "      <td>Ada</td>\n",
              "      <td>Rendah sekali</td>\n",
              "      <td>25.0</td>\n",
              "      <td>388.0</td>\n",
              "      <td>18</td>\n",
              "      <td>Hidupkan Lampu dan Pompa nutrisi TDS</td>\n",
              "    </tr>\n",
              "    <tr>\n",
              "      <th>613</th>\n",
              "      <td>3.2</td>\n",
              "      <td>Ada</td>\n",
              "      <td>Rendah sekali</td>\n",
              "      <td>25.3</td>\n",
              "      <td>793.0</td>\n",
              "      <td>19</td>\n",
              "      <td>Hidupkan Lampu</td>\n",
              "    </tr>\n",
              "    <tr>\n",
              "      <th>614</th>\n",
              "      <td>1.4</td>\n",
              "      <td>Ada</td>\n",
              "      <td>Rendah sekali</td>\n",
              "      <td>25.4</td>\n",
              "      <td>1052.0</td>\n",
              "      <td>3</td>\n",
              "      <td>Hidupkan Lampu</td>\n",
              "    </tr>\n",
              "    <tr>\n",
              "      <th>615</th>\n",
              "      <td>5.0</td>\n",
              "      <td>Ada</td>\n",
              "      <td>Rendah sekali</td>\n",
              "      <td>25.3</td>\n",
              "      <td>977.0</td>\n",
              "      <td>19</td>\n",
              "      <td>Hidupkan Lampu</td>\n",
              "    </tr>\n",
              "  </tbody>\n",
              "</table>\n",
              "<p>590 rows × 7 columns</p>\n",
              "</div>"
            ],
            "text/plain": [
              "      PH cahaya  ... tinggi_air                                  aksi\n",
              "0    6.5    Ada  ...        622  Hidupkan Lampu dan Pompa nutrisi TDS\n",
              "1    5.7    Ada  ...        557  Hidupkan Lampu dan Pompa nutrisi TDS\n",
              "2    6.0    Ada  ...        491  Hidupkan Lampu dan Pompa nutrisi TDS\n",
              "3    6.5    Ada  ...      12000               Tidak melakukan apa-apa\n",
              "10   NaN    Ada  ...        219                        Hidupkan Lampu\n",
              "..   ...    ...  ...        ...                                   ...\n",
              "611  4.6    Ada  ...         47                        Hidupkan Lampu\n",
              "612  2.1    Ada  ...         18  Hidupkan Lampu dan Pompa nutrisi TDS\n",
              "613  3.2    Ada  ...         19                        Hidupkan Lampu\n",
              "614  1.4    Ada  ...          3                        Hidupkan Lampu\n",
              "615  5.0    Ada  ...         19                        Hidupkan Lampu\n",
              "\n",
              "[590 rows x 7 columns]"
            ]
          },
          "metadata": {},
          "execution_count": 8
        }
      ]
    },
    {
      "cell_type": "code",
      "metadata": {
        "colab": {
          "base_uri": "https://localhost:8080/"
        },
        "id": "lrdtJrfdcyRW",
        "outputId": "fd41c941-a46d-4bea-a00e-517d0b8c3822"
      },
      "source": [
        "data2['aksi'].value_counts()"
      ],
      "execution_count": 9,
      "outputs": [
        {
          "output_type": "execute_result",
          "data": {
            "text/plain": [
              "Tidak melakukan apa-apa                 451\n",
              "Hidupkan Lampu                           88\n",
              "Hidupkan Lampu dan Pompa nutrisi TDS     39\n",
              "Hidupkan Pompa nutrisi TDS               12\n",
              "Name: aksi, dtype: int64"
            ]
          },
          "metadata": {},
          "execution_count": 9
        }
      ]
    },
    {
      "cell_type": "code",
      "metadata": {
        "id": "6IxEnEDT_xmQ",
        "colab": {
          "base_uri": "https://localhost:8080/"
        },
        "outputId": "9b3b74a9-3789-4e71-dc2c-ecd1eb0106d9"
      },
      "source": [
        "data2.isna().sum()"
      ],
      "execution_count": 10,
      "outputs": [
        {
          "output_type": "execute_result",
          "data": {
            "text/plain": [
              "PH                13\n",
              "cahaya             0\n",
              "intensitas_air     0\n",
              "suhu              27\n",
              "PPM                1\n",
              "tinggi_air         0\n",
              "aksi               0\n",
              "dtype: int64"
            ]
          },
          "metadata": {},
          "execution_count": 10
        }
      ]
    },
    {
      "cell_type": "code",
      "metadata": {
        "colab": {
          "base_uri": "https://localhost:8080/",
          "height": 257
        },
        "id": "1QC6G-8hD53C",
        "outputId": "d27739b4-d5d2-4c7f-a499-ad2fb3df1dd1"
      },
      "source": [
        "labels = data2['cahaya'].astype('category').cat.categories.tolist()\n",
        "counts = data2['cahaya'].value_counts()\n",
        "sizes = [counts[var_cat] for var_cat in labels]\n",
        "palette = sns.color_palette(\"RdBu_r\")\n",
        "fig1, ax1 = plt.subplots()\n",
        "ax1.pie(sizes, labels=labels, autopct=lambda p : '{:.2f}%\\n({:,.0f})'.format(p,p * sum(sizes)/100), shadow=True, colors=palette) #autopct is show the % on plot\n",
        "ax1.axis('equal')\n",
        "plt.show()"
      ],
      "execution_count": 11,
      "outputs": [
        {
          "output_type": "display_data",
          "data": {
            "image/png": "[encoded data removed]",
            "text/plain": [
              "<Figure size 432x288 with 1 Axes>"
            ]
          },
          "metadata": {}
        }
      ]
    },
    {
      "cell_type": "code",
      "metadata": {
        "colab": {
          "base_uri": "https://localhost:8080/",
          "height": 248
        },
        "id": "mD3866YZEblX",
        "outputId": "9db264fc-2096-4d25-90e1-23bb76b5b8fc"
      },
      "source": [
        "labels_ia2 = data2['intensitas_air'].astype('category').cat.categories.tolist()\n",
        "counts_ia2 = data2['intensitas_air'].value_counts()\n",
        "sizes_ia2 = [counts_ia2[var_cat2] for var_cat2 in labels_ia2]\n",
        "palette2 = sns.color_palette(\"PuBuGn\")\n",
        "fig2, ax2 = plt.subplots()\n",
        "ax2.pie(sizes_ia2, labels=labels_ia2, autopct=lambda p : '{:.2f}%\\n({:,.0f})'.format(p,p * sum(sizes)/100), shadow=True, colors=palette2) #autopct is show the % on plot\n",
        "ax2.axis('equal')\n",
        "plt.show()"
      ],
      "execution_count": 12,
      "outputs": [
        {
          "output_type": "display_data",
          "data": {
            "image/png": "[encoded data removed]",
            "text/plain": [
              "<Figure size 432x288 with 1 Axes>"
            ]
          },
          "metadata": {}
        }
      ]
    },
    {
      "cell_type": "code",
      "metadata": {
        "id": "-SPCxg-Nlhde"
      },
      "source": [
        "encode = {'cahaya': {\"Ada\": 5. , \"Tidak ada\": 6.},\n",
        "          'intensitas_air': {\"Rendah sekali\": 1., \"Rendah\": 2., \"Cukup\": 3., \"Tinggi\": 4.}}\n",
        "\n",
        "data2_encode = data2.replace(encode)"
      ],
      "execution_count": 13,
      "outputs": []
    },
    {
      "cell_type": "code",
      "metadata": {
        "colab": {
          "base_uri": "https://localhost:8080/",
          "height": 419
        },
        "id": "NBgQ7p7j3E87",
        "outputId": "cc554ae9-0ec5-4e93-e73c-a89c896ecbf3"
      },
      "source": [
        "data2_encode['tinggi_air'] = data2_encode['tinggi_air'].astype('float')\n",
        "data2_encode"
      ],
      "execution_count": 14,
      "outputs": [
        {
          "output_type": "execute_result",
          "data": {
            "text/html": [
              "<div>\n",
              "<style scoped>\n",
              "    .dataframe tbody tr th:only-of-type {\n",
              "        vertical-align: middle;\n",
              "    }\n",
              "\n",
              "    .dataframe tbody tr th {\n",
              "        vertical-align: top;\n",
              "    }\n",
              "\n",
              "    .dataframe thead th {\n",
              "        text-align: right;\n",
              "    }\n",
              "</style>\n",
              "<table border=\"1\" class=\"dataframe\">\n",
              "  <thead>\n",
              "    <tr style=\"text-align: right;\">\n",
              "      <th></th>\n",
              "      <th>PH</th>\n",
              "      <th>cahaya</th>\n",
              "      <th>intensitas_air</th>\n",
              "      <th>suhu</th>\n",
              "      <th>PPM</th>\n",
              "      <th>tinggi_air</th>\n",
              "      <th>aksi</th>\n",
              "    </tr>\n",
              "  </thead>\n",
              "  <tbody>\n",
              "    <tr>\n",
              "      <th>0</th>\n",
              "      <td>6.5</td>\n",
              "      <td>5.0</td>\n",
              "      <td>4.0</td>\n",
              "      <td>27.0</td>\n",
              "      <td>188.0</td>\n",
              "      <td>622.0</td>\n",
              "      <td>Hidupkan Lampu dan Pompa nutrisi TDS</td>\n",
              "    </tr>\n",
              "    <tr>\n",
              "      <th>1</th>\n",
              "      <td>5.7</td>\n",
              "      <td>5.0</td>\n",
              "      <td>4.0</td>\n",
              "      <td>26.9</td>\n",
              "      <td>79.0</td>\n",
              "      <td>557.0</td>\n",
              "      <td>Hidupkan Lampu dan Pompa nutrisi TDS</td>\n",
              "    </tr>\n",
              "    <tr>\n",
              "      <th>2</th>\n",
              "      <td>6.0</td>\n",
              "      <td>5.0</td>\n",
              "      <td>4.0</td>\n",
              "      <td>27.0</td>\n",
              "      <td>11.0</td>\n",
              "      <td>491.0</td>\n",
              "      <td>Hidupkan Lampu dan Pompa nutrisi TDS</td>\n",
              "    </tr>\n",
              "    <tr>\n",
              "      <th>3</th>\n",
              "      <td>6.5</td>\n",
              "      <td>5.0</td>\n",
              "      <td>4.0</td>\n",
              "      <td>27.1</td>\n",
              "      <td>345.0</td>\n",
              "      <td>12000.0</td>\n",
              "      <td>Tidak melakukan apa-apa</td>\n",
              "    </tr>\n",
              "    <tr>\n",
              "      <th>10</th>\n",
              "      <td>NaN</td>\n",
              "      <td>5.0</td>\n",
              "      <td>4.0</td>\n",
              "      <td>26.5</td>\n",
              "      <td>NaN</td>\n",
              "      <td>219.0</td>\n",
              "      <td>Hidupkan Lampu</td>\n",
              "    </tr>\n",
              "    <tr>\n",
              "      <th>...</th>\n",
              "      <td>...</td>\n",
              "      <td>...</td>\n",
              "      <td>...</td>\n",
              "      <td>...</td>\n",
              "      <td>...</td>\n",
              "      <td>...</td>\n",
              "      <td>...</td>\n",
              "    </tr>\n",
              "    <tr>\n",
              "      <th>611</th>\n",
              "      <td>4.6</td>\n",
              "      <td>5.0</td>\n",
              "      <td>1.0</td>\n",
              "      <td>25.3</td>\n",
              "      <td>904.0</td>\n",
              "      <td>47.0</td>\n",
              "      <td>Hidupkan Lampu</td>\n",
              "    </tr>\n",
              "    <tr>\n",
              "      <th>612</th>\n",
              "      <td>2.1</td>\n",
              "      <td>5.0</td>\n",
              "      <td>1.0</td>\n",
              "      <td>25.0</td>\n",
              "      <td>388.0</td>\n",
              "      <td>18.0</td>\n",
              "      <td>Hidupkan Lampu dan Pompa nutrisi TDS</td>\n",
              "    </tr>\n",
              "    <tr>\n",
              "      <th>613</th>\n",
              "      <td>3.2</td>\n",
              "      <td>5.0</td>\n",
              "      <td>1.0</td>\n",
              "      <td>25.3</td>\n",
              "      <td>793.0</td>\n",
              "      <td>19.0</td>\n",
              "      <td>Hidupkan Lampu</td>\n",
              "    </tr>\n",
              "    <tr>\n",
              "      <th>614</th>\n",
              "      <td>1.4</td>\n",
              "      <td>5.0</td>\n",
              "      <td>1.0</td>\n",
              "      <td>25.4</td>\n",
              "      <td>1052.0</td>\n",
              "      <td>3.0</td>\n",
              "      <td>Hidupkan Lampu</td>\n",
              "    </tr>\n",
              "    <tr>\n",
              "      <th>615</th>\n",
              "      <td>5.0</td>\n",
              "      <td>5.0</td>\n",
              "      <td>1.0</td>\n",
              "      <td>25.3</td>\n",
              "      <td>977.0</td>\n",
              "      <td>19.0</td>\n",
              "      <td>Hidupkan Lampu</td>\n",
              "    </tr>\n",
              "  </tbody>\n",
              "</table>\n",
              "<p>590 rows × 7 columns</p>\n",
              "</div>"
            ],
            "text/plain": [
              "      PH  cahaya  ...  tinggi_air                                  aksi\n",
              "0    6.5     5.0  ...       622.0  Hidupkan Lampu dan Pompa nutrisi TDS\n",
              "1    5.7     5.0  ...       557.0  Hidupkan Lampu dan Pompa nutrisi TDS\n",
              "2    6.0     5.0  ...       491.0  Hidupkan Lampu dan Pompa nutrisi TDS\n",
              "3    6.5     5.0  ...     12000.0               Tidak melakukan apa-apa\n",
              "10   NaN     5.0  ...       219.0                        Hidupkan Lampu\n",
              "..   ...     ...  ...         ...                                   ...\n",
              "611  4.6     5.0  ...        47.0                        Hidupkan Lampu\n",
              "612  2.1     5.0  ...        18.0  Hidupkan Lampu dan Pompa nutrisi TDS\n",
              "613  3.2     5.0  ...        19.0                        Hidupkan Lampu\n",
              "614  1.4     5.0  ...         3.0                        Hidupkan Lampu\n",
              "615  5.0     5.0  ...        19.0                        Hidupkan Lampu\n",
              "\n",
              "[590 rows x 7 columns]"
            ]
          },
          "metadata": {},
          "execution_count": 14
        }
      ]
    },
    {
      "cell_type": "markdown",
      "metadata": {
        "id": "W5Ka60uYa9Vv"
      },
      "source": [
        "## 3. Handle Missing Value"
      ]
    },
    {
      "cell_type": "code",
      "metadata": {
        "colab": {
          "base_uri": "https://localhost:8080/",
          "height": 266
        },
        "id": "auG91NePwcbm",
        "outputId": "5d35ce7b-60ba-4cd1-afbd-d090d21a1005"
      },
      "source": [
        "#Melihat presentase missing value tiap kolom\n",
        "missing_data = pd.DataFrame({'total_missing': data.isna().sum(), 'perc_missing': (data.isna().sum()/616)*100})\n",
        "missing_data"
      ],
      "execution_count": 15,
      "outputs": [
        {
          "output_type": "execute_result",
          "data": {
            "text/html": [
              "<div>\n",
              "<style scoped>\n",
              "    .dataframe tbody tr th:only-of-type {\n",
              "        vertical-align: middle;\n",
              "    }\n",
              "\n",
              "    .dataframe tbody tr th {\n",
              "        vertical-align: top;\n",
              "    }\n",
              "\n",
              "    .dataframe thead th {\n",
              "        text-align: right;\n",
              "    }\n",
              "</style>\n",
              "<table border=\"1\" class=\"dataframe\">\n",
              "  <thead>\n",
              "    <tr style=\"text-align: right;\">\n",
              "      <th></th>\n",
              "      <th>total_missing</th>\n",
              "      <th>perc_missing</th>\n",
              "    </tr>\n",
              "  </thead>\n",
              "  <tbody>\n",
              "    <tr>\n",
              "      <th>PH</th>\n",
              "      <td>16</td>\n",
              "      <td>2.597403</td>\n",
              "    </tr>\n",
              "    <tr>\n",
              "      <th>cahaya</th>\n",
              "      <td>26</td>\n",
              "      <td>4.220779</td>\n",
              "    </tr>\n",
              "    <tr>\n",
              "      <th>intensitas_air</th>\n",
              "      <td>0</td>\n",
              "      <td>0.000000</td>\n",
              "    </tr>\n",
              "    <tr>\n",
              "      <th>suhu</th>\n",
              "      <td>27</td>\n",
              "      <td>4.383117</td>\n",
              "    </tr>\n",
              "    <tr>\n",
              "      <th>PPM</th>\n",
              "      <td>5</td>\n",
              "      <td>0.811688</td>\n",
              "    </tr>\n",
              "    <tr>\n",
              "      <th>tinggi_air</th>\n",
              "      <td>0</td>\n",
              "      <td>0.000000</td>\n",
              "    </tr>\n",
              "    <tr>\n",
              "      <th>aksi</th>\n",
              "      <td>0</td>\n",
              "      <td>0.000000</td>\n",
              "    </tr>\n",
              "  </tbody>\n",
              "</table>\n",
              "</div>"
            ],
            "text/plain": [
              "                total_missing  perc_missing\n",
              "PH                         16      2.597403\n",
              "cahaya                     26      4.220779\n",
              "intensitas_air              0      0.000000\n",
              "suhu                       27      4.383117\n",
              "PPM                         5      0.811688\n",
              "tinggi_air                  0      0.000000\n",
              "aksi                        0      0.000000"
            ]
          },
          "metadata": {},
          "execution_count": 15
        }
      ]
    },
    {
      "cell_type": "code",
      "metadata": {
        "id": "mj3yjpP39RaG"
      },
      "source": [
        "#Isi Code\n",
        "from sklearn.impute import SimpleImputer\n",
        "import numpy as np\n",
        "\n",
        "imputer = SimpleImputer(missing_values = np.nan ,strategy = 'median')\n",
        "\n",
        "\n",
        "# Fit imputer kedalam data X untuk kolom Age (index ke-1) dan Salary (index ke-2).\n",
        "imputer = imputer.fit(data2_encode[['PH','suhu','PPM']])\n",
        "\n",
        "#Replace missing value dengan mean pada kolom tersebut\n",
        "data2_encode[['PH','suhu','PPM']] = imputer.transform(data2_encode[['PH','suhu','PPM']])\n"
      ],
      "execution_count": 16,
      "outputs": []
    },
    {
      "cell_type": "code",
      "metadata": {
        "id": "8YZO-Zz_87Pj",
        "colab": {
          "base_uri": "https://localhost:8080/",
          "height": 419
        },
        "outputId": "e7201398-79bf-47a0-a0fa-9b78e1cbdaea"
      },
      "source": [
        "data2_encode"
      ],
      "execution_count": 17,
      "outputs": [
        {
          "output_type": "execute_result",
          "data": {
            "text/html": [
              "<div>\n",
              "<style scoped>\n",
              "    .dataframe tbody tr th:only-of-type {\n",
              "        vertical-align: middle;\n",
              "    }\n",
              "\n",
              "    .dataframe tbody tr th {\n",
              "        vertical-align: top;\n",
              "    }\n",
              "\n",
              "    .dataframe thead th {\n",
              "        text-align: right;\n",
              "    }\n",
              "</style>\n",
              "<table border=\"1\" class=\"dataframe\">\n",
              "  <thead>\n",
              "    <tr style=\"text-align: right;\">\n",
              "      <th></th>\n",
              "      <th>PH</th>\n",
              "      <th>cahaya</th>\n",
              "      <th>intensitas_air</th>\n",
              "      <th>suhu</th>\n",
              "      <th>PPM</th>\n",
              "      <th>tinggi_air</th>\n",
              "      <th>aksi</th>\n",
              "    </tr>\n",
              "  </thead>\n",
              "  <tbody>\n",
              "    <tr>\n",
              "      <th>0</th>\n",
              "      <td>6.5</td>\n",
              "      <td>5.0</td>\n",
              "      <td>4.0</td>\n",
              "      <td>27.0</td>\n",
              "      <td>188.0</td>\n",
              "      <td>622.0</td>\n",
              "      <td>Hidupkan Lampu dan Pompa nutrisi TDS</td>\n",
              "    </tr>\n",
              "    <tr>\n",
              "      <th>1</th>\n",
              "      <td>5.7</td>\n",
              "      <td>5.0</td>\n",
              "      <td>4.0</td>\n",
              "      <td>26.9</td>\n",
              "      <td>79.0</td>\n",
              "      <td>557.0</td>\n",
              "      <td>Hidupkan Lampu dan Pompa nutrisi TDS</td>\n",
              "    </tr>\n",
              "    <tr>\n",
              "      <th>2</th>\n",
              "      <td>6.0</td>\n",
              "      <td>5.0</td>\n",
              "      <td>4.0</td>\n",
              "      <td>27.0</td>\n",
              "      <td>11.0</td>\n",
              "      <td>491.0</td>\n",
              "      <td>Hidupkan Lampu dan Pompa nutrisi TDS</td>\n",
              "    </tr>\n",
              "    <tr>\n",
              "      <th>3</th>\n",
              "      <td>6.5</td>\n",
              "      <td>5.0</td>\n",
              "      <td>4.0</td>\n",
              "      <td>27.1</td>\n",
              "      <td>345.0</td>\n",
              "      <td>12000.0</td>\n",
              "      <td>Tidak melakukan apa-apa</td>\n",
              "    </tr>\n",
              "    <tr>\n",
              "      <th>10</th>\n",
              "      <td>6.5</td>\n",
              "      <td>5.0</td>\n",
              "      <td>4.0</td>\n",
              "      <td>26.5</td>\n",
              "      <td>994.0</td>\n",
              "      <td>219.0</td>\n",
              "      <td>Hidupkan Lampu</td>\n",
              "    </tr>\n",
              "    <tr>\n",
              "      <th>...</th>\n",
              "      <td>...</td>\n",
              "      <td>...</td>\n",
              "      <td>...</td>\n",
              "      <td>...</td>\n",
              "      <td>...</td>\n",
              "      <td>...</td>\n",
              "      <td>...</td>\n",
              "    </tr>\n",
              "    <tr>\n",
              "      <th>611</th>\n",
              "      <td>4.6</td>\n",
              "      <td>5.0</td>\n",
              "      <td>1.0</td>\n",
              "      <td>25.3</td>\n",
              "      <td>904.0</td>\n",
              "      <td>47.0</td>\n",
              "      <td>Hidupkan Lampu</td>\n",
              "    </tr>\n",
              "    <tr>\n",
              "      <th>612</th>\n",
              "      <td>2.1</td>\n",
              "      <td>5.0</td>\n",
              "      <td>1.0</td>\n",
              "      <td>25.0</td>\n",
              "      <td>388.0</td>\n",
              "      <td>18.0</td>\n",
              "      <td>Hidupkan Lampu dan Pompa nutrisi TDS</td>\n",
              "    </tr>\n",
              "    <tr>\n",
              "      <th>613</th>\n",
              "      <td>3.2</td>\n",
              "      <td>5.0</td>\n",
              "      <td>1.0</td>\n",
              "      <td>25.3</td>\n",
              "      <td>793.0</td>\n",
              "      <td>19.0</td>\n",
              "      <td>Hidupkan Lampu</td>\n",
              "    </tr>\n",
              "    <tr>\n",
              "      <th>614</th>\n",
              "      <td>1.4</td>\n",
              "      <td>5.0</td>\n",
              "      <td>1.0</td>\n",
              "      <td>25.4</td>\n",
              "      <td>1052.0</td>\n",
              "      <td>3.0</td>\n",
              "      <td>Hidupkan Lampu</td>\n",
              "    </tr>\n",
              "    <tr>\n",
              "      <th>615</th>\n",
              "      <td>5.0</td>\n",
              "      <td>5.0</td>\n",
              "      <td>1.0</td>\n",
              "      <td>25.3</td>\n",
              "      <td>977.0</td>\n",
              "      <td>19.0</td>\n",
              "      <td>Hidupkan Lampu</td>\n",
              "    </tr>\n",
              "  </tbody>\n",
              "</table>\n",
              "<p>590 rows × 7 columns</p>\n",
              "</div>"
            ],
            "text/plain": [
              "      PH  cahaya  ...  tinggi_air                                  aksi\n",
              "0    6.5     5.0  ...       622.0  Hidupkan Lampu dan Pompa nutrisi TDS\n",
              "1    5.7     5.0  ...       557.0  Hidupkan Lampu dan Pompa nutrisi TDS\n",
              "2    6.0     5.0  ...       491.0  Hidupkan Lampu dan Pompa nutrisi TDS\n",
              "3    6.5     5.0  ...     12000.0               Tidak melakukan apa-apa\n",
              "10   6.5     5.0  ...       219.0                        Hidupkan Lampu\n",
              "..   ...     ...  ...         ...                                   ...\n",
              "611  4.6     5.0  ...        47.0                        Hidupkan Lampu\n",
              "612  2.1     5.0  ...        18.0  Hidupkan Lampu dan Pompa nutrisi TDS\n",
              "613  3.2     5.0  ...        19.0                        Hidupkan Lampu\n",
              "614  1.4     5.0  ...         3.0                        Hidupkan Lampu\n",
              "615  5.0     5.0  ...        19.0                        Hidupkan Lampu\n",
              "\n",
              "[590 rows x 7 columns]"
            ]
          },
          "metadata": {},
          "execution_count": 17
        }
      ]
    },
    {
      "cell_type": "code",
      "metadata": {
        "id": "Lg1zXKsi9Gjd",
        "colab": {
          "base_uri": "https://localhost:8080/"
        },
        "outputId": "0856de51-3285-4511-d30e-ff5a41e8c4ab"
      },
      "source": [
        "data2_encode.isna().sum()"
      ],
      "execution_count": 18,
      "outputs": [
        {
          "output_type": "execute_result",
          "data": {
            "text/plain": [
              "PH                0\n",
              "cahaya            0\n",
              "intensitas_air    0\n",
              "suhu              0\n",
              "PPM               0\n",
              "tinggi_air        0\n",
              "aksi              0\n",
              "dtype: int64"
            ]
          },
          "metadata": {},
          "execution_count": 18
        }
      ]
    },
    {
      "cell_type": "code",
      "metadata": {
        "id": "Ksmxdkj9_1Km",
        "colab": {
          "base_uri": "https://localhost:8080/"
        },
        "outputId": "7e59747e-c098-45f7-98ef-7ee499c2dd93"
      },
      "source": [
        "data2_encode.info()"
      ],
      "execution_count": 19,
      "outputs": [
        {
          "output_type": "stream",
          "name": "stdout",
          "text": [
            "<class 'pandas.core.frame.DataFrame'>\n",
            "Int64Index: 590 entries, 0 to 615\n",
            "Data columns (total 7 columns):\n",
            " #   Column          Non-Null Count  Dtype  \n",
            "---  ------          --------------  -----  \n",
            " 0   PH              590 non-null    float64\n",
            " 1   cahaya          590 non-null    float64\n",
            " 2   intensitas_air  590 non-null    float64\n",
            " 3   suhu            590 non-null    float64\n",
            " 4   PPM             590 non-null    float64\n",
            " 5   tinggi_air      590 non-null    float64\n",
            " 6   aksi            590 non-null    object \n",
            "dtypes: float64(6), object(1)\n",
            "memory usage: 36.9+ KB\n"
          ]
        }
      ]
    },
    {
      "cell_type": "markdown",
      "metadata": {
        "id": "GELQ5uyda9Vw"
      },
      "source": [
        "## 4. Detect outliers dan handling (bisa dihapus atau diganti nilainya dengan mean/modus/median)"
      ]
    },
    {
      "cell_type": "code",
      "metadata": {
        "id": "vlUcLIt-C1uu",
        "colab": {
          "base_uri": "https://localhost:8080/",
          "height": 297
        },
        "outputId": "7a3d5166-5d64-46fb-a6fe-45cae26b4f3a"
      },
      "source": [
        "data2_encode.describe()"
      ],
      "execution_count": 20,
      "outputs": [
        {
          "output_type": "execute_result",
          "data": {
            "text/html": [
              "<div>\n",
              "<style scoped>\n",
              "    .dataframe tbody tr th:only-of-type {\n",
              "        vertical-align: middle;\n",
              "    }\n",
              "\n",
              "    .dataframe tbody tr th {\n",
              "        vertical-align: top;\n",
              "    }\n",
              "\n",
              "    .dataframe thead th {\n",
              "        text-align: right;\n",
              "    }\n",
              "</style>\n",
              "<table border=\"1\" class=\"dataframe\">\n",
              "  <thead>\n",
              "    <tr style=\"text-align: right;\">\n",
              "      <th></th>\n",
              "      <th>PH</th>\n",
              "      <th>cahaya</th>\n",
              "      <th>intensitas_air</th>\n",
              "      <th>suhu</th>\n",
              "      <th>PPM</th>\n",
              "      <th>tinggi_air</th>\n",
              "    </tr>\n",
              "  </thead>\n",
              "  <tbody>\n",
              "    <tr>\n",
              "      <th>count</th>\n",
              "      <td>590.000000</td>\n",
              "      <td>590.000000</td>\n",
              "      <td>590.000000</td>\n",
              "      <td>590.000000</td>\n",
              "      <td>590.000000</td>\n",
              "      <td>590.000000</td>\n",
              "    </tr>\n",
              "    <tr>\n",
              "      <th>mean</th>\n",
              "      <td>6.636610</td>\n",
              "      <td>5.488136</td>\n",
              "      <td>2.489831</td>\n",
              "      <td>29.324746</td>\n",
              "      <td>1037.313559</td>\n",
              "      <td>288.252542</td>\n",
              "    </tr>\n",
              "    <tr>\n",
              "      <th>std</th>\n",
              "      <td>2.976293</td>\n",
              "      <td>0.500283</td>\n",
              "      <td>1.099034</td>\n",
              "      <td>14.910422</td>\n",
              "      <td>631.358165</td>\n",
              "      <td>634.984586</td>\n",
              "    </tr>\n",
              "    <tr>\n",
              "      <th>min</th>\n",
              "      <td>0.000000</td>\n",
              "      <td>5.000000</td>\n",
              "      <td>1.000000</td>\n",
              "      <td>-300.000000</td>\n",
              "      <td>1.000000</td>\n",
              "      <td>0.000000</td>\n",
              "    </tr>\n",
              "    <tr>\n",
              "      <th>25%</th>\n",
              "      <td>5.600000</td>\n",
              "      <td>5.000000</td>\n",
              "      <td>2.000000</td>\n",
              "      <td>27.100000</td>\n",
              "      <td>497.750000</td>\n",
              "      <td>50.000000</td>\n",
              "    </tr>\n",
              "    <tr>\n",
              "      <th>50%</th>\n",
              "      <td>6.500000</td>\n",
              "      <td>5.000000</td>\n",
              "      <td>2.000000</td>\n",
              "      <td>29.900000</td>\n",
              "      <td>994.000000</td>\n",
              "      <td>226.500000</td>\n",
              "    </tr>\n",
              "    <tr>\n",
              "      <th>75%</th>\n",
              "      <td>7.500000</td>\n",
              "      <td>6.000000</td>\n",
              "      <td>3.000000</td>\n",
              "      <td>33.000000</td>\n",
              "      <td>1603.750000</td>\n",
              "      <td>430.500000</td>\n",
              "    </tr>\n",
              "    <tr>\n",
              "      <th>max</th>\n",
              "      <td>14.000000</td>\n",
              "      <td>6.000000</td>\n",
              "      <td>4.000000</td>\n",
              "      <td>40.600000</td>\n",
              "      <td>2149.000000</td>\n",
              "      <td>12000.000000</td>\n",
              "    </tr>\n",
              "  </tbody>\n",
              "</table>\n",
              "</div>"
            ],
            "text/plain": [
              "               PH      cahaya  ...          PPM    tinggi_air\n",
              "count  590.000000  590.000000  ...   590.000000    590.000000\n",
              "mean     6.636610    5.488136  ...  1037.313559    288.252542\n",
              "std      2.976293    0.500283  ...   631.358165    634.984586\n",
              "min      0.000000    5.000000  ...     1.000000      0.000000\n",
              "25%      5.600000    5.000000  ...   497.750000     50.000000\n",
              "50%      6.500000    5.000000  ...   994.000000    226.500000\n",
              "75%      7.500000    6.000000  ...  1603.750000    430.500000\n",
              "max     14.000000    6.000000  ...  2149.000000  12000.000000\n",
              "\n",
              "[8 rows x 6 columns]"
            ]
          },
          "metadata": {},
          "execution_count": 20
        }
      ]
    },
    {
      "cell_type": "code",
      "metadata": {
        "id": "szqSHIG1ApXC",
        "colab": {
          "base_uri": "https://localhost:8080/",
          "height": 450
        },
        "outputId": "8b52397a-bdc3-42fe-c951-1dde4107ef20"
      },
      "source": [
        "#Isi Code\n",
        "\n",
        "num_cols = ['PH', 'cahaya', 'intensitas_air', 'suhu', 'PPM', 'tinggi_air']\n",
        "plt.figure(figsize=(15,7))\n",
        "data2_encode[num_cols].boxplot()\n",
        "plt.title(\"Numerical variables in Titanic dataset\", fontsize=20)\n",
        "plt.show()"
      ],
      "execution_count": 21,
      "outputs": [
        {
          "output_type": "display_data",
          "data": {
            "image/png": "[encoded data removed]",
            "text/plain": [
              "<Figure size 1080x504 with 1 Axes>"
            ]
          },
          "metadata": {
            "needs_background": "light"
          }
        }
      ]
    },
    {
      "cell_type": "code",
      "metadata": {
        "id": "c5CrQb7uGWTB",
        "colab": {
          "base_uri": "https://localhost:8080/"
        },
        "outputId": "2e877646-1867-4ec6-b1df-20a624abd734"
      },
      "source": [
        "import numpy as np\n",
        "outliers = []\n",
        "TA = np.asarray(data2[['tinggi_air']], dtype='float64')\n",
        "def detect_outliers_zscore(data):\n",
        "    thres = 3\n",
        "    mean = np.mean(data)\n",
        "    std = np.std(data)\n",
        "    # print(mean, std)\n",
        "    for i in data:\n",
        "        z_score = (i-mean)/std\n",
        "        if (np.abs(z_score) > thres):\n",
        "            outliers.append(i)\n",
        "    return outliers# Driver code\n",
        "sample_outliers = detect_outliers_zscore(TA)\n",
        "print(\"Outliers from Z-scores method: \", sample_outliers)"
      ],
      "execution_count": 22,
      "outputs": [
        {
          "output_type": "stream",
          "name": "stdout",
          "text": [
            "Outliers from Z-scores method:  [array([12000.]), array([9000.])]\n"
          ]
        }
      ]
    },
    {
      "cell_type": "code",
      "metadata": {
        "colab": {
          "base_uri": "https://localhost:8080/",
          "height": 419
        },
        "id": "VGTBWQsWl6kG",
        "outputId": "ec7e68e5-b190-4e0c-bc3c-922f02235aa3"
      },
      "source": [
        "data2_encode.iloc[:,:6]"
      ],
      "execution_count": 23,
      "outputs": [
        {
          "output_type": "execute_result",
          "data": {
            "text/html": [
              "<div>\n",
              "<style scoped>\n",
              "    .dataframe tbody tr th:only-of-type {\n",
              "        vertical-align: middle;\n",
              "    }\n",
              "\n",
              "    .dataframe tbody tr th {\n",
              "        vertical-align: top;\n",
              "    }\n",
              "\n",
              "    .dataframe thead th {\n",
              "        text-align: right;\n",
              "    }\n",
              "</style>\n",
              "<table border=\"1\" class=\"dataframe\">\n",
              "  <thead>\n",
              "    <tr style=\"text-align: right;\">\n",
              "      <th></th>\n",
              "      <th>PH</th>\n",
              "      <th>cahaya</th>\n",
              "      <th>intensitas_air</th>\n",
              "      <th>suhu</th>\n",
              "      <th>PPM</th>\n",
              "      <th>tinggi_air</th>\n",
              "    </tr>\n",
              "  </thead>\n",
              "  <tbody>\n",
              "    <tr>\n",
              "      <th>0</th>\n",
              "      <td>6.5</td>\n",
              "      <td>5.0</td>\n",
              "      <td>4.0</td>\n",
              "      <td>27.0</td>\n",
              "      <td>188.0</td>\n",
              "      <td>622.0</td>\n",
              "    </tr>\n",
              "    <tr>\n",
              "      <th>1</th>\n",
              "      <td>5.7</td>\n",
              "      <td>5.0</td>\n",
              "      <td>4.0</td>\n",
              "      <td>26.9</td>\n",
              "      <td>79.0</td>\n",
              "      <td>557.0</td>\n",
              "    </tr>\n",
              "    <tr>\n",
              "      <th>2</th>\n",
              "      <td>6.0</td>\n",
              "      <td>5.0</td>\n",
              "      <td>4.0</td>\n",
              "      <td>27.0</td>\n",
              "      <td>11.0</td>\n",
              "      <td>491.0</td>\n",
              "    </tr>\n",
              "    <tr>\n",
              "      <th>3</th>\n",
              "      <td>6.5</td>\n",
              "      <td>5.0</td>\n",
              "      <td>4.0</td>\n",
              "      <td>27.1</td>\n",
              "      <td>345.0</td>\n",
              "      <td>12000.0</td>\n",
              "    </tr>\n",
              "    <tr>\n",
              "      <th>10</th>\n",
              "      <td>6.5</td>\n",
              "      <td>5.0</td>\n",
              "      <td>4.0</td>\n",
              "      <td>26.5</td>\n",
              "      <td>994.0</td>\n",
              "      <td>219.0</td>\n",
              "    </tr>\n",
              "    <tr>\n",
              "      <th>...</th>\n",
              "      <td>...</td>\n",
              "      <td>...</td>\n",
              "      <td>...</td>\n",
              "      <td>...</td>\n",
              "      <td>...</td>\n",
              "      <td>...</td>\n",
              "    </tr>\n",
              "    <tr>\n",
              "      <th>611</th>\n",
              "      <td>4.6</td>\n",
              "      <td>5.0</td>\n",
              "      <td>1.0</td>\n",
              "      <td>25.3</td>\n",
              "      <td>904.0</td>\n",
              "      <td>47.0</td>\n",
              "    </tr>\n",
              "    <tr>\n",
              "      <th>612</th>\n",
              "      <td>2.1</td>\n",
              "      <td>5.0</td>\n",
              "      <td>1.0</td>\n",
              "      <td>25.0</td>\n",
              "      <td>388.0</td>\n",
              "      <td>18.0</td>\n",
              "    </tr>\n",
              "    <tr>\n",
              "      <th>613</th>\n",
              "      <td>3.2</td>\n",
              "      <td>5.0</td>\n",
              "      <td>1.0</td>\n",
              "      <td>25.3</td>\n",
              "      <td>793.0</td>\n",
              "      <td>19.0</td>\n",
              "    </tr>\n",
              "    <tr>\n",
              "      <th>614</th>\n",
              "      <td>1.4</td>\n",
              "      <td>5.0</td>\n",
              "      <td>1.0</td>\n",
              "      <td>25.4</td>\n",
              "      <td>1052.0</td>\n",
              "      <td>3.0</td>\n",
              "    </tr>\n",
              "    <tr>\n",
              "      <th>615</th>\n",
              "      <td>5.0</td>\n",
              "      <td>5.0</td>\n",
              "      <td>1.0</td>\n",
              "      <td>25.3</td>\n",
              "      <td>977.0</td>\n",
              "      <td>19.0</td>\n",
              "    </tr>\n",
              "  </tbody>\n",
              "</table>\n",
              "<p>590 rows × 6 columns</p>\n",
              "</div>"
            ],
            "text/plain": [
              "      PH  cahaya  intensitas_air  suhu     PPM  tinggi_air\n",
              "0    6.5     5.0             4.0  27.0   188.0       622.0\n",
              "1    5.7     5.0             4.0  26.9    79.0       557.0\n",
              "2    6.0     5.0             4.0  27.0    11.0       491.0\n",
              "3    6.5     5.0             4.0  27.1   345.0     12000.0\n",
              "10   6.5     5.0             4.0  26.5   994.0       219.0\n",
              "..   ...     ...             ...   ...     ...         ...\n",
              "611  4.6     5.0             1.0  25.3   904.0        47.0\n",
              "612  2.1     5.0             1.0  25.0   388.0        18.0\n",
              "613  3.2     5.0             1.0  25.3   793.0        19.0\n",
              "614  1.4     5.0             1.0  25.4  1052.0         3.0\n",
              "615  5.0     5.0             1.0  25.3   977.0        19.0\n",
              "\n",
              "[590 rows x 6 columns]"
            ]
          },
          "metadata": {},
          "execution_count": 23
        }
      ]
    },
    {
      "cell_type": "code",
      "metadata": {
        "id": "gr9viudkwCmG",
        "colab": {
          "base_uri": "https://localhost:8080/",
          "height": 419
        },
        "outputId": "9904b802-5309-4842-ccf6-a021411a4d45"
      },
      "source": [
        "from scipy import stats\n",
        "\n",
        "z_scores = stats.zscore(data2_encode.iloc[:,:6])\n",
        "\n",
        "abs_z_scores = np.abs(z_scores)\n",
        "filtered_entries = (abs_z_scores < 3).all(axis=1)\n",
        "data2_encode = data2_encode[filtered_entries]\n",
        "\n",
        "data2_encode"
      ],
      "execution_count": 24,
      "outputs": [
        {
          "output_type": "execute_result",
          "data": {
            "text/html": [
              "<div>\n",
              "<style scoped>\n",
              "    .dataframe tbody tr th:only-of-type {\n",
              "        vertical-align: middle;\n",
              "    }\n",
              "\n",
              "    .dataframe tbody tr th {\n",
              "        vertical-align: top;\n",
              "    }\n",
              "\n",
              "    .dataframe thead th {\n",
              "        text-align: right;\n",
              "    }\n",
              "</style>\n",
              "<table border=\"1\" class=\"dataframe\">\n",
              "  <thead>\n",
              "    <tr style=\"text-align: right;\">\n",
              "      <th></th>\n",
              "      <th>PH</th>\n",
              "      <th>cahaya</th>\n",
              "      <th>intensitas_air</th>\n",
              "      <th>suhu</th>\n",
              "      <th>PPM</th>\n",
              "      <th>tinggi_air</th>\n",
              "      <th>aksi</th>\n",
              "    </tr>\n",
              "  </thead>\n",
              "  <tbody>\n",
              "    <tr>\n",
              "      <th>0</th>\n",
              "      <td>6.5</td>\n",
              "      <td>5.0</td>\n",
              "      <td>4.0</td>\n",
              "      <td>27.0</td>\n",
              "      <td>188.0</td>\n",
              "      <td>622.0</td>\n",
              "      <td>Hidupkan Lampu dan Pompa nutrisi TDS</td>\n",
              "    </tr>\n",
              "    <tr>\n",
              "      <th>1</th>\n",
              "      <td>5.7</td>\n",
              "      <td>5.0</td>\n",
              "      <td>4.0</td>\n",
              "      <td>26.9</td>\n",
              "      <td>79.0</td>\n",
              "      <td>557.0</td>\n",
              "      <td>Hidupkan Lampu dan Pompa nutrisi TDS</td>\n",
              "    </tr>\n",
              "    <tr>\n",
              "      <th>2</th>\n",
              "      <td>6.0</td>\n",
              "      <td>5.0</td>\n",
              "      <td>4.0</td>\n",
              "      <td>27.0</td>\n",
              "      <td>11.0</td>\n",
              "      <td>491.0</td>\n",
              "      <td>Hidupkan Lampu dan Pompa nutrisi TDS</td>\n",
              "    </tr>\n",
              "    <tr>\n",
              "      <th>10</th>\n",
              "      <td>6.5</td>\n",
              "      <td>5.0</td>\n",
              "      <td>4.0</td>\n",
              "      <td>26.5</td>\n",
              "      <td>994.0</td>\n",
              "      <td>219.0</td>\n",
              "      <td>Hidupkan Lampu</td>\n",
              "    </tr>\n",
              "    <tr>\n",
              "      <th>11</th>\n",
              "      <td>6.5</td>\n",
              "      <td>5.0</td>\n",
              "      <td>4.0</td>\n",
              "      <td>29.9</td>\n",
              "      <td>1604.0</td>\n",
              "      <td>103.0</td>\n",
              "      <td>Hidupkan Lampu</td>\n",
              "    </tr>\n",
              "    <tr>\n",
              "      <th>...</th>\n",
              "      <td>...</td>\n",
              "      <td>...</td>\n",
              "      <td>...</td>\n",
              "      <td>...</td>\n",
              "      <td>...</td>\n",
              "      <td>...</td>\n",
              "      <td>...</td>\n",
              "    </tr>\n",
              "    <tr>\n",
              "      <th>611</th>\n",
              "      <td>4.6</td>\n",
              "      <td>5.0</td>\n",
              "      <td>1.0</td>\n",
              "      <td>25.3</td>\n",
              "      <td>904.0</td>\n",
              "      <td>47.0</td>\n",
              "      <td>Hidupkan Lampu</td>\n",
              "    </tr>\n",
              "    <tr>\n",
              "      <th>612</th>\n",
              "      <td>2.1</td>\n",
              "      <td>5.0</td>\n",
              "      <td>1.0</td>\n",
              "      <td>25.0</td>\n",
              "      <td>388.0</td>\n",
              "      <td>18.0</td>\n",
              "      <td>Hidupkan Lampu dan Pompa nutrisi TDS</td>\n",
              "    </tr>\n",
              "    <tr>\n",
              "      <th>613</th>\n",
              "      <td>3.2</td>\n",
              "      <td>5.0</td>\n",
              "      <td>1.0</td>\n",
              "      <td>25.3</td>\n",
              "      <td>793.0</td>\n",
              "      <td>19.0</td>\n",
              "      <td>Hidupkan Lampu</td>\n",
              "    </tr>\n",
              "    <tr>\n",
              "      <th>614</th>\n",
              "      <td>1.4</td>\n",
              "      <td>5.0</td>\n",
              "      <td>1.0</td>\n",
              "      <td>25.4</td>\n",
              "      <td>1052.0</td>\n",
              "      <td>3.0</td>\n",
              "      <td>Hidupkan Lampu</td>\n",
              "    </tr>\n",
              "    <tr>\n",
              "      <th>615</th>\n",
              "      <td>5.0</td>\n",
              "      <td>5.0</td>\n",
              "      <td>1.0</td>\n",
              "      <td>25.3</td>\n",
              "      <td>977.0</td>\n",
              "      <td>19.0</td>\n",
              "      <td>Hidupkan Lampu</td>\n",
              "    </tr>\n",
              "  </tbody>\n",
              "</table>\n",
              "<p>586 rows × 7 columns</p>\n",
              "</div>"
            ],
            "text/plain": [
              "      PH  cahaya  ...  tinggi_air                                  aksi\n",
              "0    6.5     5.0  ...       622.0  Hidupkan Lampu dan Pompa nutrisi TDS\n",
              "1    5.7     5.0  ...       557.0  Hidupkan Lampu dan Pompa nutrisi TDS\n",
              "2    6.0     5.0  ...       491.0  Hidupkan Lampu dan Pompa nutrisi TDS\n",
              "10   6.5     5.0  ...       219.0                        Hidupkan Lampu\n",
              "11   6.5     5.0  ...       103.0                        Hidupkan Lampu\n",
              "..   ...     ...  ...         ...                                   ...\n",
              "611  4.6     5.0  ...        47.0                        Hidupkan Lampu\n",
              "612  2.1     5.0  ...        18.0  Hidupkan Lampu dan Pompa nutrisi TDS\n",
              "613  3.2     5.0  ...        19.0                        Hidupkan Lampu\n",
              "614  1.4     5.0  ...         3.0                        Hidupkan Lampu\n",
              "615  5.0     5.0  ...        19.0                        Hidupkan Lampu\n",
              "\n",
              "[586 rows x 7 columns]"
            ]
          },
          "metadata": {},
          "execution_count": 24
        }
      ]
    },
    {
      "cell_type": "code",
      "metadata": {
        "colab": {
          "base_uri": "https://localhost:8080/"
        },
        "id": "YKqEpJPHLsLd",
        "outputId": "5175fe16-1d2a-46b8-aa9d-3423084cc62e"
      },
      "source": [
        "data2_encode.info()"
      ],
      "execution_count": 25,
      "outputs": [
        {
          "output_type": "stream",
          "name": "stdout",
          "text": [
            "<class 'pandas.core.frame.DataFrame'>\n",
            "Int64Index: 586 entries, 0 to 615\n",
            "Data columns (total 7 columns):\n",
            " #   Column          Non-Null Count  Dtype  \n",
            "---  ------          --------------  -----  \n",
            " 0   PH              586 non-null    float64\n",
            " 1   cahaya          586 non-null    float64\n",
            " 2   intensitas_air  586 non-null    float64\n",
            " 3   suhu            586 non-null    float64\n",
            " 4   PPM             586 non-null    float64\n",
            " 5   tinggi_air      586 non-null    float64\n",
            " 6   aksi            586 non-null    object \n",
            "dtypes: float64(6), object(1)\n",
            "memory usage: 36.6+ KB\n"
          ]
        }
      ]
    },
    {
      "cell_type": "code",
      "metadata": {
        "colab": {
          "base_uri": "https://localhost:8080/",
          "height": 450
        },
        "id": "XW3RWYuuhH0J",
        "outputId": "38c9c33c-2922-4fc7-db19-aaedae811d77"
      },
      "source": [
        "num_cols = ['PH', 'cahaya', 'intensitas_air', 'suhu', 'PPM', 'tinggi_air']\n",
        "plt.figure(figsize=(15,7))\n",
        "data2_encode[num_cols].boxplot()\n",
        "plt.title(\"Numerical variables in Titanic dataset\", fontsize=20)\n",
        "plt.show()"
      ],
      "execution_count": 26,
      "outputs": [
        {
          "output_type": "display_data",
          "data": {
            "image/png": "[encoded data removed]",
            "text/plain": [
              "<Figure size 1080x504 with 1 Axes>"
            ]
          },
          "metadata": {
            "needs_background": "light"
          }
        }
      ]
    },
    {
      "cell_type": "code",
      "metadata": {
        "id": "QDPY6ShI7I2R"
      },
      "source": [
        ""
      ],
      "execution_count": 26,
      "outputs": []
    },
    {
      "cell_type": "markdown",
      "metadata": {
        "id": "EFQ0YfYLa9Vy"
      },
      "source": [
        "## 5. Pisahkan data feature dengan label"
      ]
    },
    {
      "cell_type": "code",
      "metadata": {
        "id": "Jjxt06KTa9Vy",
        "colab": {
          "base_uri": "https://localhost:8080/",
          "height": 419
        },
        "outputId": "43a28181-52bc-4509-88b9-6b6f84dd55e0"
      },
      "source": [
        "#Isi Code\n",
        "# Data Feature\n",
        "X = data2_encode.iloc[:, :-1]\n",
        "X"
      ],
      "execution_count": 27,
      "outputs": [
        {
          "output_type": "execute_result",
          "data": {
            "text/html": [
              "<div>\n",
              "<style scoped>\n",
              "    .dataframe tbody tr th:only-of-type {\n",
              "        vertical-align: middle;\n",
              "    }\n",
              "\n",
              "    .dataframe tbody tr th {\n",
              "        vertical-align: top;\n",
              "    }\n",
              "\n",
              "    .dataframe thead th {\n",
              "        text-align: right;\n",
              "    }\n",
              "</style>\n",
              "<table border=\"1\" class=\"dataframe\">\n",
              "  <thead>\n",
              "    <tr style=\"text-align: right;\">\n",
              "      <th></th>\n",
              "      <th>PH</th>\n",
              "      <th>cahaya</th>\n",
              "      <th>intensitas_air</th>\n",
              "      <th>suhu</th>\n",
              "      <th>PPM</th>\n",
              "      <th>tinggi_air</th>\n",
              "    </tr>\n",
              "  </thead>\n",
              "  <tbody>\n",
              "    <tr>\n",
              "      <th>0</th>\n",
              "      <td>6.5</td>\n",
              "      <td>5.0</td>\n",
              "      <td>4.0</td>\n",
              "      <td>27.0</td>\n",
              "      <td>188.0</td>\n",
              "      <td>622.0</td>\n",
              "    </tr>\n",
              "    <tr>\n",
              "      <th>1</th>\n",
              "      <td>5.7</td>\n",
              "      <td>5.0</td>\n",
              "      <td>4.0</td>\n",
              "      <td>26.9</td>\n",
              "      <td>79.0</td>\n",
              "      <td>557.0</td>\n",
              "    </tr>\n",
              "    <tr>\n",
              "      <th>2</th>\n",
              "      <td>6.0</td>\n",
              "      <td>5.0</td>\n",
              "      <td>4.0</td>\n",
              "      <td>27.0</td>\n",
              "      <td>11.0</td>\n",
              "      <td>491.0</td>\n",
              "    </tr>\n",
              "    <tr>\n",
              "      <th>10</th>\n",
              "      <td>6.5</td>\n",
              "      <td>5.0</td>\n",
              "      <td>4.0</td>\n",
              "      <td>26.5</td>\n",
              "      <td>994.0</td>\n",
              "      <td>219.0</td>\n",
              "    </tr>\n",
              "    <tr>\n",
              "      <th>11</th>\n",
              "      <td>6.5</td>\n",
              "      <td>5.0</td>\n",
              "      <td>4.0</td>\n",
              "      <td>29.9</td>\n",
              "      <td>1604.0</td>\n",
              "      <td>103.0</td>\n",
              "    </tr>\n",
              "    <tr>\n",
              "      <th>...</th>\n",
              "      <td>...</td>\n",
              "      <td>...</td>\n",
              "      <td>...</td>\n",
              "      <td>...</td>\n",
              "      <td>...</td>\n",
              "      <td>...</td>\n",
              "    </tr>\n",
              "    <tr>\n",
              "      <th>611</th>\n",
              "      <td>4.6</td>\n",
              "      <td>5.0</td>\n",
              "      <td>1.0</td>\n",
              "      <td>25.3</td>\n",
              "      <td>904.0</td>\n",
              "      <td>47.0</td>\n",
              "    </tr>\n",
              "    <tr>\n",
              "      <th>612</th>\n",
              "      <td>2.1</td>\n",
              "      <td>5.0</td>\n",
              "      <td>1.0</td>\n",
              "      <td>25.0</td>\n",
              "      <td>388.0</td>\n",
              "      <td>18.0</td>\n",
              "    </tr>\n",
              "    <tr>\n",
              "      <th>613</th>\n",
              "      <td>3.2</td>\n",
              "      <td>5.0</td>\n",
              "      <td>1.0</td>\n",
              "      <td>25.3</td>\n",
              "      <td>793.0</td>\n",
              "      <td>19.0</td>\n",
              "    </tr>\n",
              "    <tr>\n",
              "      <th>614</th>\n",
              "      <td>1.4</td>\n",
              "      <td>5.0</td>\n",
              "      <td>1.0</td>\n",
              "      <td>25.4</td>\n",
              "      <td>1052.0</td>\n",
              "      <td>3.0</td>\n",
              "    </tr>\n",
              "    <tr>\n",
              "      <th>615</th>\n",
              "      <td>5.0</td>\n",
              "      <td>5.0</td>\n",
              "      <td>1.0</td>\n",
              "      <td>25.3</td>\n",
              "      <td>977.0</td>\n",
              "      <td>19.0</td>\n",
              "    </tr>\n",
              "  </tbody>\n",
              "</table>\n",
              "<p>586 rows × 6 columns</p>\n",
              "</div>"
            ],
            "text/plain": [
              "      PH  cahaya  intensitas_air  suhu     PPM  tinggi_air\n",
              "0    6.5     5.0             4.0  27.0   188.0       622.0\n",
              "1    5.7     5.0             4.0  26.9    79.0       557.0\n",
              "2    6.0     5.0             4.0  27.0    11.0       491.0\n",
              "10   6.5     5.0             4.0  26.5   994.0       219.0\n",
              "11   6.5     5.0             4.0  29.9  1604.0       103.0\n",
              "..   ...     ...             ...   ...     ...         ...\n",
              "611  4.6     5.0             1.0  25.3   904.0        47.0\n",
              "612  2.1     5.0             1.0  25.0   388.0        18.0\n",
              "613  3.2     5.0             1.0  25.3   793.0        19.0\n",
              "614  1.4     5.0             1.0  25.4  1052.0         3.0\n",
              "615  5.0     5.0             1.0  25.3   977.0        19.0\n",
              "\n",
              "[586 rows x 6 columns]"
            ]
          },
          "metadata": {},
          "execution_count": 27
        }
      ]
    },
    {
      "cell_type": "code",
      "metadata": {
        "colab": {
          "base_uri": "https://localhost:8080/"
        },
        "id": "vnvqqvSSon0a",
        "outputId": "a985636b-9a0c-403c-c396-649f32d456f0"
      },
      "source": [
        "# Label\n",
        "Y = data2_encode.iloc[:, -1]\n",
        "Y"
      ],
      "execution_count": 28,
      "outputs": [
        {
          "output_type": "execute_result",
          "data": {
            "text/plain": [
              "0      Hidupkan Lampu dan Pompa nutrisi TDS\n",
              "1      Hidupkan Lampu dan Pompa nutrisi TDS\n",
              "2      Hidupkan Lampu dan Pompa nutrisi TDS\n",
              "10                           Hidupkan Lampu\n",
              "11                           Hidupkan Lampu\n",
              "                       ...                 \n",
              "611                          Hidupkan Lampu\n",
              "612    Hidupkan Lampu dan Pompa nutrisi TDS\n",
              "613                          Hidupkan Lampu\n",
              "614                          Hidupkan Lampu\n",
              "615                          Hidupkan Lampu\n",
              "Name: aksi, Length: 586, dtype: object"
            ]
          },
          "metadata": {},
          "execution_count": 28
        }
      ]
    },
    {
      "cell_type": "markdown",
      "metadata": {
        "id": "YCGKwPFra9Vz"
      },
      "source": [
        "## 6. Check Imbalanced Dataset, jika imbalanced, gunakan smote"
      ]
    },
    {
      "cell_type": "code",
      "metadata": {
        "colab": {
          "base_uri": "https://localhost:8080/",
          "height": 173
        },
        "id": "s6qdjeJdr0dd",
        "outputId": "6a2dda58-cc3e-4949-ebe8-29172ee08c96"
      },
      "source": [
        "from collections import Counter\n",
        "\n",
        "df = Counter(Y)\n",
        "df = pd.DataFrame.from_dict(df, orient='index')\n",
        "df.columns = ['Count']\n",
        "df.sort_index()"
      ],
      "execution_count": 29,
      "outputs": [
        {
          "output_type": "execute_result",
          "data": {
            "text/html": [
              "<div>\n",
              "<style scoped>\n",
              "    .dataframe tbody tr th:only-of-type {\n",
              "        vertical-align: middle;\n",
              "    }\n",
              "\n",
              "    .dataframe tbody tr th {\n",
              "        vertical-align: top;\n",
              "    }\n",
              "\n",
              "    .dataframe thead th {\n",
              "        text-align: right;\n",
              "    }\n",
              "</style>\n",
              "<table border=\"1\" class=\"dataframe\">\n",
              "  <thead>\n",
              "    <tr style=\"text-align: right;\">\n",
              "      <th></th>\n",
              "      <th>Count</th>\n",
              "    </tr>\n",
              "  </thead>\n",
              "  <tbody>\n",
              "    <tr>\n",
              "      <th>Hidupkan Lampu</th>\n",
              "      <td>88</td>\n",
              "    </tr>\n",
              "    <tr>\n",
              "      <th>Hidupkan Lampu dan Pompa nutrisi TDS</th>\n",
              "      <td>39</td>\n",
              "    </tr>\n",
              "    <tr>\n",
              "      <th>Hidupkan Pompa nutrisi TDS</th>\n",
              "      <td>12</td>\n",
              "    </tr>\n",
              "    <tr>\n",
              "      <th>Tidak melakukan apa-apa</th>\n",
              "      <td>447</td>\n",
              "    </tr>\n",
              "  </tbody>\n",
              "</table>\n",
              "</div>"
            ],
            "text/plain": [
              "                                      Count\n",
              "Hidupkan Lampu                           88\n",
              "Hidupkan Lampu dan Pompa nutrisi TDS     39\n",
              "Hidupkan Pompa nutrisi TDS               12\n",
              "Tidak melakukan apa-apa                 447"
            ]
          },
          "metadata": {},
          "execution_count": 29
        }
      ]
    },
    {
      "cell_type": "code",
      "metadata": {
        "id": "5YI-izdXa9V0"
      },
      "source": [
        "# !pip install imbalanced-learn"
      ],
      "execution_count": 30,
      "outputs": []
    },
    {
      "cell_type": "code",
      "metadata": {
        "id": "DIfkA5_da9V0",
        "colab": {
          "base_uri": "https://localhost:8080/",
          "height": 173
        },
        "outputId": "20dd3c39-3fb8-40a5-af39-04146dd2c0c0"
      },
      "source": [
        "#Isi Code\n",
        "from imblearn.over_sampling import SMOTE\n",
        "import warnings\n",
        "warnings.filterwarnings(\"ignore\")\n",
        "\n",
        "over_sampler = SMOTE(k_neighbors=7)\n",
        "X_res, Y_res = over_sampler.fit_resample(X, Y)\n",
        "df_res = Counter(Y_res)\n",
        "df_res = pd.DataFrame.from_dict(df_res, orient='index')\n",
        "df_res.columns = ['Count']\n",
        "df_res.sort_index()"
      ],
      "execution_count": 59,
      "outputs": [
        {
          "output_type": "execute_result",
          "data": {
            "text/html": [
              "<div>\n",
              "<style scoped>\n",
              "    .dataframe tbody tr th:only-of-type {\n",
              "        vertical-align: middle;\n",
              "    }\n",
              "\n",
              "    .dataframe tbody tr th {\n",
              "        vertical-align: top;\n",
              "    }\n",
              "\n",
              "    .dataframe thead th {\n",
              "        text-align: right;\n",
              "    }\n",
              "</style>\n",
              "<table border=\"1\" class=\"dataframe\">\n",
              "  <thead>\n",
              "    <tr style=\"text-align: right;\">\n",
              "      <th></th>\n",
              "      <th>Count</th>\n",
              "    </tr>\n",
              "  </thead>\n",
              "  <tbody>\n",
              "    <tr>\n",
              "      <th>Hidupkan Lampu</th>\n",
              "      <td>447</td>\n",
              "    </tr>\n",
              "    <tr>\n",
              "      <th>Hidupkan Lampu dan Pompa nutrisi TDS</th>\n",
              "      <td>447</td>\n",
              "    </tr>\n",
              "    <tr>\n",
              "      <th>Hidupkan Pompa nutrisi TDS</th>\n",
              "      <td>447</td>\n",
              "    </tr>\n",
              "    <tr>\n",
              "      <th>Tidak melakukan apa-apa</th>\n",
              "      <td>447</td>\n",
              "    </tr>\n",
              "  </tbody>\n",
              "</table>\n",
              "</div>"
            ],
            "text/plain": [
              "                                      Count\n",
              "Hidupkan Lampu                          447\n",
              "Hidupkan Lampu dan Pompa nutrisi TDS    447\n",
              "Hidupkan Pompa nutrisi TDS              447\n",
              "Tidak melakukan apa-apa                 447"
            ]
          },
          "metadata": {},
          "execution_count": 59
        }
      ]
    },
    {
      "cell_type": "markdown",
      "metadata": {
        "id": "2gLiWKVza9V1"
      },
      "source": [
        "## 7. Visualisasikan Data sehingga kita bisa mengetahui sebuah informasi"
      ]
    },
    {
      "cell_type": "code",
      "metadata": {
        "id": "hJMzN-gMa9V2",
        "colab": {
          "base_uri": "https://localhost:8080/",
          "height": 608
        },
        "outputId": "253ec098-9fa5-49c5-ac76-7bbe6cef3c83"
      },
      "source": [
        "#Isi Code\n",
        "hist = data2_encode.hist(figsize=(20,10), layout=(2,3), bins=50, color=\"darkturquoise\")"
      ],
      "execution_count": 32,
      "outputs": [
        {
          "output_type": "display_data",
          "data": {
            "image/png": "[encoded data removed]",
            "text/plain": [
              "<Figure size 1440x720 with 6 Axes>"
            ]
          },
          "metadata": {
            "needs_background": "light"
          }
        }
      ]
    },
    {
      "cell_type": "code",
      "metadata": {
        "id": "FaMLEiNqxZaI",
        "colab": {
          "base_uri": "https://localhost:8080/",
          "height": 297
        },
        "outputId": "8fd34c73-f6dc-452a-fd4a-e72b2b3ce929"
      },
      "source": [
        "data2_encode.describe()"
      ],
      "execution_count": 33,
      "outputs": [
        {
          "output_type": "execute_result",
          "data": {
            "text/html": [
              "<div>\n",
              "<style scoped>\n",
              "    .dataframe tbody tr th:only-of-type {\n",
              "        vertical-align: middle;\n",
              "    }\n",
              "\n",
              "    .dataframe tbody tr th {\n",
              "        vertical-align: top;\n",
              "    }\n",
              "\n",
              "    .dataframe thead th {\n",
              "        text-align: right;\n",
              "    }\n",
              "</style>\n",
              "<table border=\"1\" class=\"dataframe\">\n",
              "  <thead>\n",
              "    <tr style=\"text-align: right;\">\n",
              "      <th></th>\n",
              "      <th>PH</th>\n",
              "      <th>cahaya</th>\n",
              "      <th>intensitas_air</th>\n",
              "      <th>suhu</th>\n",
              "      <th>PPM</th>\n",
              "      <th>tinggi_air</th>\n",
              "    </tr>\n",
              "  </thead>\n",
              "  <tbody>\n",
              "    <tr>\n",
              "      <th>count</th>\n",
              "      <td>586.000000</td>\n",
              "      <td>586.000000</td>\n",
              "      <td>586.000000</td>\n",
              "      <td>586.000000</td>\n",
              "      <td>586.000000</td>\n",
              "      <td>586.000000</td>\n",
              "    </tr>\n",
              "    <tr>\n",
              "      <th>mean</th>\n",
              "      <td>6.639932</td>\n",
              "      <td>5.486348</td>\n",
              "      <td>2.482935</td>\n",
              "      <td>30.112628</td>\n",
              "      <td>1035.460751</td>\n",
              "      <td>252.634812</td>\n",
              "    </tr>\n",
              "    <tr>\n",
              "      <th>std</th>\n",
              "      <td>2.986032</td>\n",
              "      <td>0.500241</td>\n",
              "      <td>1.098818</td>\n",
              "      <td>3.037601</td>\n",
              "      <td>631.173683</td>\n",
              "      <td>200.680772</td>\n",
              "    </tr>\n",
              "    <tr>\n",
              "      <th>min</th>\n",
              "      <td>0.000000</td>\n",
              "      <td>5.000000</td>\n",
              "      <td>1.000000</td>\n",
              "      <td>25.000000</td>\n",
              "      <td>1.000000</td>\n",
              "      <td>0.000000</td>\n",
              "    </tr>\n",
              "    <tr>\n",
              "      <th>25%</th>\n",
              "      <td>5.600000</td>\n",
              "      <td>5.000000</td>\n",
              "      <td>2.000000</td>\n",
              "      <td>27.100000</td>\n",
              "      <td>497.750000</td>\n",
              "      <td>50.000000</td>\n",
              "    </tr>\n",
              "    <tr>\n",
              "      <th>50%</th>\n",
              "      <td>6.500000</td>\n",
              "      <td>5.000000</td>\n",
              "      <td>2.000000</td>\n",
              "      <td>29.900000</td>\n",
              "      <td>992.500000</td>\n",
              "      <td>222.500000</td>\n",
              "    </tr>\n",
              "    <tr>\n",
              "      <th>75%</th>\n",
              "      <td>7.500000</td>\n",
              "      <td>6.000000</td>\n",
              "      <td>3.000000</td>\n",
              "      <td>33.000000</td>\n",
              "      <td>1603.750000</td>\n",
              "      <td>429.000000</td>\n",
              "    </tr>\n",
              "    <tr>\n",
              "      <th>max</th>\n",
              "      <td>14.000000</td>\n",
              "      <td>6.000000</td>\n",
              "      <td>4.000000</td>\n",
              "      <td>40.600000</td>\n",
              "      <td>2149.000000</td>\n",
              "      <td>629.000000</td>\n",
              "    </tr>\n",
              "  </tbody>\n",
              "</table>\n",
              "</div>"
            ],
            "text/plain": [
              "               PH      cahaya  ...          PPM  tinggi_air\n",
              "count  586.000000  586.000000  ...   586.000000  586.000000\n",
              "mean     6.639932    5.486348  ...  1035.460751  252.634812\n",
              "std      2.986032    0.500241  ...   631.173683  200.680772\n",
              "min      0.000000    5.000000  ...     1.000000    0.000000\n",
              "25%      5.600000    5.000000  ...   497.750000   50.000000\n",
              "50%      6.500000    5.000000  ...   992.500000  222.500000\n",
              "75%      7.500000    6.000000  ...  1603.750000  429.000000\n",
              "max     14.000000    6.000000  ...  2149.000000  629.000000\n",
              "\n",
              "[8 rows x 6 columns]"
            ]
          },
          "metadata": {},
          "execution_count": 33
        }
      ]
    },
    {
      "cell_type": "markdown",
      "metadata": {
        "id": "byMOPkmra9V2"
      },
      "source": [
        "## 8. Lakukan Normalization menggunakan MinMaxScaler atau Standardization menggunakan StandarScaler"
      ]
    },
    {
      "cell_type": "code",
      "metadata": {
        "id": "i0XxulQra9V3",
        "colab": {
          "base_uri": "https://localhost:8080/"
        },
        "outputId": "6e77acfd-1d84-435f-e7d2-ce96f3c90784"
      },
      "source": [
        "#Isi Kode\n",
        "from sklearn.preprocessing import MinMaxScaler\n",
        "\n",
        "scaler =  MinMaxScaler()\n",
        "X_scaled = scaler.fit_transform(X_res.astype(float))\n",
        "print(len(X_scaled), len(X_res))\n",
        "X_scaled"
      ],
      "execution_count": 34,
      "outputs": [
        {
          "output_type": "stream",
          "name": "stdout",
          "text": [
            "1788 1788\n"
          ]
        },
        {
          "output_type": "execute_result",
          "data": {
            "text/plain": [
              "array([[0.46428571, 0.        , 1.        , 0.12820513, 0.08705773,\n",
              "        0.98887122],\n",
              "       [0.40714286, 0.        , 1.        , 0.12179487, 0.03631285,\n",
              "        0.88553259],\n",
              "       [0.42857143, 0.        , 1.        , 0.12820513, 0.00465549,\n",
              "        0.78060413],\n",
              "       ...,\n",
              "       [0.7483293 , 1.        , 1.        , 0.12537684, 0.20321491,\n",
              "        0.86243091],\n",
              "       [0.57173612, 1.        , 1.        , 0.11845174, 0.10904329,\n",
              "        0.69766713],\n",
              "       [0.56939498, 1.        , 1.        , 0.11950225, 0.11178987,\n",
              "        0.70574387]])"
            ]
          },
          "metadata": {},
          "execution_count": 34
        }
      ]
    },
    {
      "cell_type": "code",
      "metadata": {
        "colab": {
          "base_uri": "https://localhost:8080/"
        },
        "id": "sVomyz4uZMi_",
        "outputId": "d8520756-b841-4990-ecd0-52751a6a807a"
      },
      "source": [
        "from sklearn import preprocessing\n",
        "\n",
        "standard_scaler = preprocessing.StandardScaler()\n",
        "X_std = preprocessing.StandardScaler().fit(X_res).transform(X_res.astype(float))\n",
        "print(len(X_std), len(X_res))\n",
        "X_std"
      ],
      "execution_count": 35,
      "outputs": [
        {
          "output_type": "stream",
          "name": "stdout",
          "text": [
            "1788 1788\n"
          ]
        },
        {
          "output_type": "execute_result",
          "data": {
            "text/plain": [
              "array([[-0.42306631, -0.82107083,  1.15983478, -0.3395517 , -0.89680276,\n",
              "         1.61235292],\n",
              "       [-0.716123  , -0.82107083,  1.15983478, -0.38114276, -1.07249452,\n",
              "         1.27309838],\n",
              "       [-0.60622674, -0.82107083,  1.15983478, -0.3395517 , -1.18210038,\n",
              "         0.92862453],\n",
              "       ...,\n",
              "       [ 1.03364895,  1.21792173,  1.15983478, -0.35790222, -0.49463687,\n",
              "         1.19725695],\n",
              "       [ 0.12799222,  1.21792173,  1.15983478, -0.40283367, -0.82068312,\n",
              "         0.65634732],\n",
              "       [ 0.11598571,  1.21792173,  1.15983478, -0.39601774, -0.81117373,\n",
              "         0.68286277]])"
            ]
          },
          "metadata": {},
          "execution_count": 35
        }
      ]
    },
    {
      "cell_type": "markdown",
      "metadata": {
        "id": "FJpwBxZfa9V3"
      },
      "source": [
        "## 9. Buat model ANN"
      ]
    },
    {
      "cell_type": "code",
      "metadata": {
        "id": "g5o_R7WbJXJp"
      },
      "source": [
        "from sklearn.preprocessing import LabelEncoder\n",
        "from sklearn.model_selection import train_test_split"
      ],
      "execution_count": 36,
      "outputs": []
    },
    {
      "cell_type": "code",
      "metadata": {
        "id": "1Zo0ODA8a9V4",
        "colab": {
          "base_uri": "https://localhost:8080/"
        },
        "outputId": "84197c6a-5c2e-4160-95e1-6cbdef2746c8"
      },
      "source": [
        "#Isi Code\n",
        "\n",
        "# encode string menjadi integer\n",
        "y = LabelEncoder().fit_transform(Y_res)\n",
        "\n",
        "# split dataset menjadi 80% data training dan 20% data testing\n",
        "X_train_ANN, X_test_ANN, y_train_ANN, y_test_ANN = train_test_split(X_std, y, test_size=0.2, random_state=4)\n",
        "print('Train set:', X_train_ANN.shape,  y_train_ANN.shape)\n",
        "print('Test set:', X_test_ANN.shape,  y_test_ANN.shape)\n",
        "\n",
        "\n",
        "# memperoleh banyaknya jumlah fitur pada input\n",
        "n_features = X_train_ANN.shape[1]"
      ],
      "execution_count": 37,
      "outputs": [
        {
          "output_type": "stream",
          "name": "stdout",
          "text": [
            "Train set: (1430, 6) (1430,)\n",
            "Test set: (358, 6) (358,)\n"
          ]
        }
      ]
    },
    {
      "cell_type": "code",
      "metadata": {
        "colab": {
          "base_uri": "https://localhost:8080/"
        },
        "id": "laDoovc8JvTL",
        "outputId": "daa5f92d-4989-4eaa-a873-a1395ab61087"
      },
      "source": [
        "y"
      ],
      "execution_count": 38,
      "outputs": [
        {
          "output_type": "execute_result",
          "data": {
            "text/plain": [
              "array([1, 1, 1, ..., 2, 2, 2])"
            ]
          },
          "metadata": {},
          "execution_count": 38
        }
      ]
    },
    {
      "cell_type": "code",
      "metadata": {
        "id": "6B8kqU-RJbmA"
      },
      "source": [
        "from tensorflow.keras.layers import Dense, Dropout, BatchNormalization\n",
        "from tensorflow.keras import Sequential\n",
        "from tensorflow.keras.optimizers import SGD"
      ],
      "execution_count": 39,
      "outputs": []
    },
    {
      "cell_type": "code",
      "metadata": {
        "id": "MZHGSlcZLyTh"
      },
      "source": [
        "# from tensorflow.keras.optimizers import Adam\n",
        "# from tensorflow.keras.losses import MeanSquaredError"
      ],
      "execution_count": 40,
      "outputs": []
    },
    {
      "cell_type": "code",
      "metadata": {
        "id": "uJ8B5Eu9EYsL"
      },
      "source": [
        "# # define model\n",
        "# model = Sequential()\n",
        "# model.add(Dense(16, input_shape=(n_features,)))\n",
        "# model.add(Dropout(0.5))\n",
        "# model.add(BatchNormalization())\n",
        "# model.add(Dense(32, activation = 'relu'))\n",
        "# model.add(Dense(32, activation = 'relu'))\n",
        "# model.add(Dropout(0.15))\n",
        "# model.add(Dense(28))\n",
        "# model.add(Dense(10))\n",
        "# model.add(BatchNormalization())\n",
        "# model.add(Dense(6))\n",
        "# model.add(Dense(1, activation='sigmoid'))\n",
        "\n",
        "# # compile model \n",
        "# model.compile(loss='mean_squared_error', optimizer='adam', metrics=['accuracy'])\n",
        "\n",
        "# # fit model \n",
        "# history = model.fit(X_train_ANN, y_train_ANN, epochs=100, batch_size=10, verbose=1, validation_split=0.2)"
      ],
      "execution_count": 41,
      "outputs": []
    },
    {
      "cell_type": "code",
      "metadata": {
        "id": "t2hCSBr0S9ML"
      },
      "source": [
        "# # define model \n",
        "# model = Sequential()\n",
        "# model.add(Dense(16, activation='relu', input_shape=(n_features, )))\n",
        "# model.add(Dense(8, activation='relu'))\n",
        "# model.add(Dense(8, activation='relu'))\n",
        "# model.add(Dense(1, activation='sigmoid'))\n",
        "\n",
        "# # compile model \n",
        "# model.compile(loss='mean_squared_error', optimizer='adam', metrics=['accuracy'])\n",
        "\n",
        "# # fit model \n",
        "# history = model.fit(X_train_ANN, y_train_ANN, epochs=100, batch_size=10, validation_split=0.2, verbose=2)"
      ],
      "execution_count": 42,
      "outputs": []
    },
    {
      "cell_type": "code",
      "metadata": {
        "colab": {
          "base_uri": "https://localhost:8080/"
        },
        "id": "jZ4QO2hxeL33",
        "outputId": "288afc90-25c6-4f04-c68d-55d418397c08"
      },
      "source": [
        "model = Sequential()\n",
        "model.add(Dense(32, activation='relu', input_shape=(n_features, )))\n",
        "model.add(Dense(10, activation='relu', kernel_initializer='uniform'))\n",
        "model.add(Dropout(0.1))\n",
        "model.add(Dense(1, activation='relu'))\n",
        "sdg = SGD(lr=0.001, momentum=0.9)\n",
        "model.compile(loss='mean_absolute_error', optimizer=sdg, metrics=['accuracy'])\n",
        "history = model.fit(X_train_ANN, y_train_ANN, epochs=100, batch_size=10, validation_split=0.2, verbose=2)"
      ],
      "execution_count": 43,
      "outputs": [
        {
          "output_type": "stream",
          "name": "stdout",
          "text": [
            "Epoch 1/100\n",
            "115/115 - 1s - loss: 1.2972 - accuracy: 0.2946 - val_loss: 0.7633 - val_accuracy: 0.4231\n",
            "Epoch 2/100\n",
            "115/115 - 0s - loss: 0.6072 - accuracy: 0.4091 - val_loss: 0.4286 - val_accuracy: 0.4266\n",
            "Epoch 3/100\n",
            "115/115 - 0s - loss: 0.4921 - accuracy: 0.4292 - val_loss: 0.3679 - val_accuracy: 0.4580\n",
            "Epoch 4/100\n",
            "115/115 - 0s - loss: 0.4478 - accuracy: 0.4467 - val_loss: 0.3586 - val_accuracy: 0.4580\n",
            "Epoch 5/100\n",
            "115/115 - 0s - loss: 0.4240 - accuracy: 0.4537 - val_loss: 0.3348 - val_accuracy: 0.4720\n",
            "Epoch 6/100\n",
            "115/115 - 0s - loss: 0.4117 - accuracy: 0.4650 - val_loss: 0.3213 - val_accuracy: 0.4720\n",
            "Epoch 7/100\n",
            "115/115 - 0s - loss: 0.3942 - accuracy: 0.4624 - val_loss: 0.3190 - val_accuracy: 0.4755\n",
            "Epoch 8/100\n",
            "115/115 - 0s - loss: 0.3945 - accuracy: 0.4624 - val_loss: 0.3264 - val_accuracy: 0.4755\n",
            "Epoch 9/100\n",
            "115/115 - 0s - loss: 0.3853 - accuracy: 0.4598 - val_loss: 0.2915 - val_accuracy: 0.4755\n",
            "Epoch 10/100\n",
            "115/115 - 0s - loss: 0.3629 - accuracy: 0.4624 - val_loss: 0.2913 - val_accuracy: 0.4755\n",
            "Epoch 11/100\n",
            "115/115 - 0s - loss: 0.3735 - accuracy: 0.4720 - val_loss: 0.2943 - val_accuracy: 0.4650\n",
            "Epoch 12/100\n",
            "115/115 - 0s - loss: 0.3486 - accuracy: 0.4659 - val_loss: 0.2811 - val_accuracy: 0.4720\n",
            "Epoch 13/100\n",
            "115/115 - 0s - loss: 0.3494 - accuracy: 0.4615 - val_loss: 0.2665 - val_accuracy: 0.4790\n",
            "Epoch 14/100\n",
            "115/115 - 0s - loss: 0.3299 - accuracy: 0.4642 - val_loss: 0.2637 - val_accuracy: 0.4825\n",
            "Epoch 15/100\n",
            "115/115 - 0s - loss: 0.3230 - accuracy: 0.4720 - val_loss: 0.2681 - val_accuracy: 0.4755\n",
            "Epoch 16/100\n",
            "115/115 - 0s - loss: 0.3153 - accuracy: 0.4650 - val_loss: 0.2585 - val_accuracy: 0.4790\n",
            "Epoch 17/100\n",
            "115/115 - 0s - loss: 0.3125 - accuracy: 0.4677 - val_loss: 0.2463 - val_accuracy: 0.4790\n",
            "Epoch 18/100\n",
            "115/115 - 0s - loss: 0.3131 - accuracy: 0.4694 - val_loss: 0.2427 - val_accuracy: 0.4825\n",
            "Epoch 19/100\n",
            "115/115 - 0s - loss: 0.3041 - accuracy: 0.4712 - val_loss: 0.2375 - val_accuracy: 0.4615\n",
            "Epoch 20/100\n",
            "115/115 - 0s - loss: 0.3062 - accuracy: 0.4624 - val_loss: 0.2345 - val_accuracy: 0.4790\n",
            "Epoch 21/100\n",
            "115/115 - 0s - loss: 0.2943 - accuracy: 0.4545 - val_loss: 0.2452 - val_accuracy: 0.4755\n",
            "Epoch 22/100\n",
            "115/115 - 0s - loss: 0.2894 - accuracy: 0.4633 - val_loss: 0.2229 - val_accuracy: 0.4720\n",
            "Epoch 23/100\n",
            "115/115 - 0s - loss: 0.2788 - accuracy: 0.4659 - val_loss: 0.2321 - val_accuracy: 0.4755\n",
            "Epoch 24/100\n",
            "115/115 - 0s - loss: 0.2907 - accuracy: 0.4677 - val_loss: 0.2236 - val_accuracy: 0.4755\n",
            "Epoch 25/100\n",
            "115/115 - 0s - loss: 0.2904 - accuracy: 0.4642 - val_loss: 0.2339 - val_accuracy: 0.4790\n",
            "Epoch 26/100\n",
            "115/115 - 0s - loss: 0.2768 - accuracy: 0.4659 - val_loss: 0.2244 - val_accuracy: 0.4790\n",
            "Epoch 27/100\n",
            "115/115 - 0s - loss: 0.2866 - accuracy: 0.4624 - val_loss: 0.2144 - val_accuracy: 0.4790\n",
            "Epoch 28/100\n",
            "115/115 - 0s - loss: 0.2708 - accuracy: 0.4668 - val_loss: 0.2122 - val_accuracy: 0.4790\n",
            "Epoch 29/100\n",
            "115/115 - 0s - loss: 0.2635 - accuracy: 0.4650 - val_loss: 0.2024 - val_accuracy: 0.4790\n",
            "Epoch 30/100\n",
            "115/115 - 0s - loss: 0.2655 - accuracy: 0.4677 - val_loss: 0.1947 - val_accuracy: 0.4825\n",
            "Epoch 31/100\n",
            "115/115 - 0s - loss: 0.2591 - accuracy: 0.4738 - val_loss: 0.2071 - val_accuracy: 0.4755\n",
            "Epoch 32/100\n",
            "115/115 - 0s - loss: 0.2641 - accuracy: 0.4694 - val_loss: 0.2027 - val_accuracy: 0.4790\n",
            "Epoch 33/100\n",
            "115/115 - 0s - loss: 0.2598 - accuracy: 0.4712 - val_loss: 0.1989 - val_accuracy: 0.4755\n",
            "Epoch 34/100\n",
            "115/115 - 0s - loss: 0.2640 - accuracy: 0.4729 - val_loss: 0.2113 - val_accuracy: 0.4895\n",
            "Epoch 35/100\n",
            "115/115 - 0s - loss: 0.2533 - accuracy: 0.4659 - val_loss: 0.1874 - val_accuracy: 0.4895\n",
            "Epoch 36/100\n",
            "115/115 - 0s - loss: 0.2498 - accuracy: 0.4773 - val_loss: 0.2046 - val_accuracy: 0.4825\n",
            "Epoch 37/100\n",
            "115/115 - 0s - loss: 0.2541 - accuracy: 0.4703 - val_loss: 0.1853 - val_accuracy: 0.4860\n",
            "Epoch 38/100\n",
            "115/115 - 0s - loss: 0.2523 - accuracy: 0.4738 - val_loss: 0.1894 - val_accuracy: 0.4895\n",
            "Epoch 39/100\n",
            "115/115 - 0s - loss: 0.2450 - accuracy: 0.4712 - val_loss: 0.1985 - val_accuracy: 0.4895\n",
            "Epoch 40/100\n",
            "115/115 - 0s - loss: 0.2473 - accuracy: 0.4764 - val_loss: 0.1956 - val_accuracy: 0.4895\n",
            "Epoch 41/100\n",
            "115/115 - 0s - loss: 0.2510 - accuracy: 0.4685 - val_loss: 0.1895 - val_accuracy: 0.4895\n",
            "Epoch 42/100\n",
            "115/115 - 0s - loss: 0.2411 - accuracy: 0.4729 - val_loss: 0.1917 - val_accuracy: 0.4930\n",
            "Epoch 43/100\n",
            "115/115 - 0s - loss: 0.2550 - accuracy: 0.4738 - val_loss: 0.2018 - val_accuracy: 0.4895\n",
            "Epoch 44/100\n",
            "115/115 - 0s - loss: 0.2346 - accuracy: 0.4764 - val_loss: 0.1863 - val_accuracy: 0.4895\n",
            "Epoch 45/100\n",
            "115/115 - 0s - loss: 0.2366 - accuracy: 0.4755 - val_loss: 0.1842 - val_accuracy: 0.4930\n",
            "Epoch 46/100\n",
            "115/115 - 0s - loss: 0.2450 - accuracy: 0.4712 - val_loss: 0.1810 - val_accuracy: 0.4930\n",
            "Epoch 47/100\n",
            "115/115 - 0s - loss: 0.2323 - accuracy: 0.4781 - val_loss: 0.1788 - val_accuracy: 0.4930\n",
            "Epoch 48/100\n",
            "115/115 - 0s - loss: 0.2182 - accuracy: 0.4738 - val_loss: 0.1805 - val_accuracy: 0.4930\n",
            "Epoch 49/100\n",
            "115/115 - 0s - loss: 0.2269 - accuracy: 0.4808 - val_loss: 0.1832 - val_accuracy: 0.4895\n",
            "Epoch 50/100\n",
            "115/115 - 0s - loss: 0.2361 - accuracy: 0.4694 - val_loss: 0.1716 - val_accuracy: 0.4930\n",
            "Epoch 51/100\n",
            "115/115 - 0s - loss: 0.2230 - accuracy: 0.4712 - val_loss: 0.1805 - val_accuracy: 0.4930\n",
            "Epoch 52/100\n",
            "115/115 - 0s - loss: 0.2181 - accuracy: 0.4747 - val_loss: 0.1886 - val_accuracy: 0.4930\n",
            "Epoch 53/100\n",
            "115/115 - 0s - loss: 0.2210 - accuracy: 0.4773 - val_loss: 0.1765 - val_accuracy: 0.4930\n",
            "Epoch 54/100\n",
            "115/115 - 0s - loss: 0.2202 - accuracy: 0.4799 - val_loss: 0.1763 - val_accuracy: 0.4895\n",
            "Epoch 55/100\n",
            "115/115 - 0s - loss: 0.2280 - accuracy: 0.4703 - val_loss: 0.1742 - val_accuracy: 0.4895\n",
            "Epoch 56/100\n",
            "115/115 - 0s - loss: 0.2197 - accuracy: 0.4729 - val_loss: 0.1668 - val_accuracy: 0.4930\n",
            "Epoch 57/100\n",
            "115/115 - 0s - loss: 0.2151 - accuracy: 0.4816 - val_loss: 0.1690 - val_accuracy: 0.4930\n",
            "Epoch 58/100\n",
            "115/115 - 0s - loss: 0.2121 - accuracy: 0.4781 - val_loss: 0.1616 - val_accuracy: 0.4895\n",
            "Epoch 59/100\n",
            "115/115 - 0s - loss: 0.2190 - accuracy: 0.4738 - val_loss: 0.1725 - val_accuracy: 0.4930\n",
            "Epoch 60/100\n",
            "115/115 - 0s - loss: 0.2177 - accuracy: 0.4790 - val_loss: 0.1699 - val_accuracy: 0.4930\n",
            "Epoch 61/100\n",
            "115/115 - 0s - loss: 0.2164 - accuracy: 0.4747 - val_loss: 0.1649 - val_accuracy: 0.4895\n",
            "Epoch 62/100\n",
            "115/115 - 0s - loss: 0.2129 - accuracy: 0.4825 - val_loss: 0.1640 - val_accuracy: 0.4895\n",
            "Epoch 63/100\n",
            "115/115 - 0s - loss: 0.2058 - accuracy: 0.4729 - val_loss: 0.1630 - val_accuracy: 0.4860\n",
            "Epoch 64/100\n",
            "115/115 - 0s - loss: 0.2072 - accuracy: 0.4781 - val_loss: 0.1716 - val_accuracy: 0.4895\n",
            "Epoch 65/100\n",
            "115/115 - 0s - loss: 0.2071 - accuracy: 0.4773 - val_loss: 0.1684 - val_accuracy: 0.4895\n",
            "Epoch 66/100\n",
            "115/115 - 0s - loss: 0.2159 - accuracy: 0.4781 - val_loss: 0.1568 - val_accuracy: 0.4895\n",
            "Epoch 67/100\n",
            "115/115 - 0s - loss: 0.2106 - accuracy: 0.4755 - val_loss: 0.1763 - val_accuracy: 0.4930\n",
            "Epoch 68/100\n",
            "115/115 - 0s - loss: 0.2037 - accuracy: 0.4738 - val_loss: 0.1683 - val_accuracy: 0.4930\n",
            "Epoch 69/100\n",
            "115/115 - 0s - loss: 0.2056 - accuracy: 0.4703 - val_loss: 0.1669 - val_accuracy: 0.4895\n",
            "Epoch 70/100\n",
            "115/115 - 0s - loss: 0.2059 - accuracy: 0.4755 - val_loss: 0.1660 - val_accuracy: 0.4895\n",
            "Epoch 71/100\n",
            "115/115 - 0s - loss: 0.2013 - accuracy: 0.4747 - val_loss: 0.1645 - val_accuracy: 0.4860\n",
            "Epoch 72/100\n",
            "115/115 - 0s - loss: 0.2033 - accuracy: 0.4729 - val_loss: 0.1662 - val_accuracy: 0.4895\n",
            "Epoch 73/100\n",
            "115/115 - 0s - loss: 0.2084 - accuracy: 0.4781 - val_loss: 0.1682 - val_accuracy: 0.4895\n",
            "Epoch 74/100\n",
            "115/115 - 0s - loss: 0.2084 - accuracy: 0.4747 - val_loss: 0.1621 - val_accuracy: 0.4860\n",
            "Epoch 75/100\n",
            "115/115 - 0s - loss: 0.1907 - accuracy: 0.4799 - val_loss: 0.1649 - val_accuracy: 0.4860\n",
            "Epoch 76/100\n",
            "115/115 - 0s - loss: 0.1953 - accuracy: 0.4790 - val_loss: 0.1648 - val_accuracy: 0.4895\n",
            "Epoch 77/100\n",
            "115/115 - 0s - loss: 0.2005 - accuracy: 0.4790 - val_loss: 0.1690 - val_accuracy: 0.4930\n",
            "Epoch 78/100\n",
            "115/115 - 0s - loss: 0.2047 - accuracy: 0.4747 - val_loss: 0.1644 - val_accuracy: 0.4895\n",
            "Epoch 79/100\n",
            "115/115 - 0s - loss: 0.1962 - accuracy: 0.4773 - val_loss: 0.1518 - val_accuracy: 0.4895\n",
            "Epoch 80/100\n",
            "115/115 - 0s - loss: 0.1949 - accuracy: 0.4808 - val_loss: 0.1557 - val_accuracy: 0.4895\n",
            "Epoch 81/100\n",
            "115/115 - 0s - loss: 0.1941 - accuracy: 0.4773 - val_loss: 0.1655 - val_accuracy: 0.4895\n",
            "Epoch 82/100\n",
            "115/115 - 0s - loss: 0.1932 - accuracy: 0.4755 - val_loss: 0.1641 - val_accuracy: 0.4860\n",
            "Epoch 83/100\n",
            "115/115 - 0s - loss: 0.1969 - accuracy: 0.4703 - val_loss: 0.1575 - val_accuracy: 0.4860\n",
            "Epoch 84/100\n",
            "115/115 - 0s - loss: 0.1961 - accuracy: 0.4773 - val_loss: 0.1703 - val_accuracy: 0.4860\n",
            "Epoch 85/100\n",
            "115/115 - 0s - loss: 0.1894 - accuracy: 0.4790 - val_loss: 0.1436 - val_accuracy: 0.4895\n",
            "Epoch 86/100\n",
            "115/115 - 0s - loss: 0.1917 - accuracy: 0.4773 - val_loss: 0.1627 - val_accuracy: 0.4895\n",
            "Epoch 87/100\n",
            "115/115 - 0s - loss: 0.1932 - accuracy: 0.4790 - val_loss: 0.1572 - val_accuracy: 0.4825\n",
            "Epoch 88/100\n",
            "115/115 - 0s - loss: 0.1921 - accuracy: 0.4773 - val_loss: 0.1590 - val_accuracy: 0.4860\n",
            "Epoch 89/100\n",
            "115/115 - 0s - loss: 0.1828 - accuracy: 0.4790 - val_loss: 0.1533 - val_accuracy: 0.4895\n",
            "Epoch 90/100\n",
            "115/115 - 0s - loss: 0.1841 - accuracy: 0.4764 - val_loss: 0.1618 - val_accuracy: 0.4825\n",
            "Epoch 91/100\n",
            "115/115 - 0s - loss: 0.1959 - accuracy: 0.4764 - val_loss: 0.1621 - val_accuracy: 0.4860\n",
            "Epoch 92/100\n",
            "115/115 - 0s - loss: 0.1961 - accuracy: 0.4729 - val_loss: 0.1516 - val_accuracy: 0.4860\n",
            "Epoch 93/100\n",
            "115/115 - 0s - loss: 0.1831 - accuracy: 0.4816 - val_loss: 0.1622 - val_accuracy: 0.4825\n",
            "Epoch 94/100\n",
            "115/115 - 0s - loss: 0.1965 - accuracy: 0.4764 - val_loss: 0.1486 - val_accuracy: 0.4860\n",
            "Epoch 95/100\n",
            "115/115 - 0s - loss: 0.1856 - accuracy: 0.4773 - val_loss: 0.1558 - val_accuracy: 0.4860\n",
            "Epoch 96/100\n",
            "115/115 - 0s - loss: 0.1877 - accuracy: 0.4816 - val_loss: 0.1642 - val_accuracy: 0.4860\n",
            "Epoch 97/100\n",
            "115/115 - 0s - loss: 0.1883 - accuracy: 0.4781 - val_loss: 0.1492 - val_accuracy: 0.4825\n",
            "Epoch 98/100\n",
            "115/115 - 0s - loss: 0.1922 - accuracy: 0.4781 - val_loss: 0.1475 - val_accuracy: 0.4860\n",
            "Epoch 99/100\n",
            "115/115 - 0s - loss: 0.1836 - accuracy: 0.4720 - val_loss: 0.1443 - val_accuracy: 0.4825\n",
            "Epoch 100/100\n",
            "115/115 - 0s - loss: 0.1860 - accuracy: 0.4790 - val_loss: 0.1632 - val_accuracy: 0.4860\n"
          ]
        }
      ]
    },
    {
      "cell_type": "code",
      "metadata": {
        "colab": {
          "base_uri": "https://localhost:8080/"
        },
        "id": "Q5A7PlKtSkE8",
        "outputId": "a8c95d20-3312-4086-940a-e7af7c3f8e47"
      },
      "source": [
        "model.summary()"
      ],
      "execution_count": 44,
      "outputs": [
        {
          "output_type": "stream",
          "name": "stdout",
          "text": [
            "Model: \"sequential\"\n",
            "_________________________________________________________________\n",
            "Layer (type)                 Output Shape              Param #   \n",
            "=================================================================\n",
            "dense (Dense)                (None, 32)                224       \n",
            "_________________________________________________________________\n",
            "dense_1 (Dense)              (None, 10)                330       \n",
            "_________________________________________________________________\n",
            "dropout (Dropout)            (None, 10)                0         \n",
            "_________________________________________________________________\n",
            "dense_2 (Dense)              (None, 1)                 11        \n",
            "=================================================================\n",
            "Total params: 565\n",
            "Trainable params: 565\n",
            "Non-trainable params: 0\n",
            "_________________________________________________________________\n"
          ]
        }
      ]
    },
    {
      "cell_type": "code",
      "metadata": {
        "id": "iv-hLLV_IreO"
      },
      "source": [
        "# Contoh model architecture plot\n",
        "from tensorflow.keras.utils import plot_model"
      ],
      "execution_count": 45,
      "outputs": []
    },
    {
      "cell_type": "code",
      "metadata": {
        "colab": {
          "base_uri": "https://localhost:8080/",
          "height": 533
        },
        "id": "cLhJjMY3FBPe",
        "outputId": "5f605a53-cc61-44ea-e4c3-7cb453107340"
      },
      "source": [
        "# summarize model 1\n",
        "plot_model(model, 'model_summary.png', show_shapes=True)"
      ],
      "execution_count": 46,
      "outputs": [
        {
          "output_type": "execute_result",
          "data": {
            "image/png": "[encoded data removed]",
            "text/plain": [
              "<IPython.core.display.Image object>"
            ]
          },
          "metadata": {},
          "execution_count": 46
        }
      ]
    },
    {
      "cell_type": "code",
      "metadata": {
        "colab": {
          "base_uri": "https://localhost:8080/"
        },
        "id": "qG3fy-IYF74r",
        "outputId": "0df30fa8-7b0a-4b77-fdcb-e102208f5dab"
      },
      "source": [
        "model.evaluate(X_test_ANN, y_test_ANN, verbose=1)"
      ],
      "execution_count": 47,
      "outputs": [
        {
          "output_type": "stream",
          "name": "stdout",
          "text": [
            "12/12 [==============================] - 0s 1ms/step - loss: 0.1549 - accuracy: 0.5196\n"
          ]
        },
        {
          "output_type": "execute_result",
          "data": {
            "text/plain": [
              "[0.15491162240505219, 0.5195530652999878]"
            ]
          },
          "metadata": {},
          "execution_count": 47
        }
      ]
    },
    {
      "cell_type": "code",
      "metadata": {
        "id": "iiC5BS1_FSY9"
      },
      "source": [
        "from matplotlib import pyplot\n",
        "# plot learning curves"
      ],
      "execution_count": 48,
      "outputs": []
    },
    {
      "cell_type": "code",
      "metadata": {
        "colab": {
          "base_uri": "https://localhost:8080/",
          "height": 295
        },
        "id": "PWC0aYGQE6Sy",
        "outputId": "907c05f6-5543-481d-8836-b1fa2d2a884f"
      },
      "source": [
        "pyplot.title('Learning Curves')\n",
        "pyplot.xlabel('Epoch')\n",
        "pyplot.ylabel('Accuracy')\n",
        "pyplot.plot(history.history['accuracy'], label='train')\n",
        "pyplot.plot(history.history['val_accuracy'], label='val')\n",
        "pyplot.legend()\n",
        "pyplot.show()"
      ],
      "execution_count": 49,
      "outputs": [
        {
          "output_type": "display_data",
          "data": {
            "image/png": "[encoded data removed]",
            "text/plain": [
              "<Figure size 432x288 with 1 Axes>"
            ]
          },
          "metadata": {
            "needs_background": "light"
          }
        }
      ]
    },
    {
      "cell_type": "code",
      "metadata": {
        "colab": {
          "base_uri": "https://localhost:8080/",
          "height": 295
        },
        "id": "M8HdDsCzFKZr",
        "outputId": "a8a15bd8-e693-4425-99c7-058fa0483a6b"
      },
      "source": [
        "pyplot.title('Learning Curves')\n",
        "pyplot.xlabel('Epoch')\n",
        "pyplot.ylabel('Loss function')\n",
        "pyplot.plot(history.history['loss'], label='train')\n",
        "pyplot.plot(history.history['val_loss'], label='val')\n",
        "pyplot.legend()\n",
        "pyplot.show()"
      ],
      "execution_count": 50,
      "outputs": [
        {
          "output_type": "display_data",
          "data": {
            "image/png": "[encoded data removed]",
            "text/plain": [
              "<Figure size 432x288 with 1 Axes>"
            ]
          },
          "metadata": {
            "needs_background": "light"
          }
        }
      ]
    },
    {
      "cell_type": "markdown",
      "metadata": {
        "id": "ZVuY2QdwW6dO"
      },
      "source": [
        "## 10. Build Model KNN"
      ]
    },
    {
      "cell_type": "code",
      "metadata": {
        "id": "Myhdcwq1IoAu"
      },
      "source": [
        "#Isi Code\n",
        "import sklearn.metrics as metrics\n",
        "from sklearn.neighbors import KNeighborsClassifier\n",
        "from sklearn.model_selection import train_test_split"
      ],
      "execution_count": 51,
      "outputs": []
    },
    {
      "cell_type": "code",
      "metadata": {
        "colab": {
          "base_uri": "https://localhost:8080/"
        },
        "id": "lMdwF4EprnvP",
        "outputId": "ee512661-19b9-49ec-9eb7-a9e909e37d40"
      },
      "source": [
        "X_train, X_test, Y_train, Y_test = train_test_split(X_scaled, Y_res, test_size=0.2, random_state=4)\n",
        "print ('Train set:', X_train.shape,  Y_train.shape)\n",
        "print ('Test set:', X_test.shape,  Y_test.shape)"
      ],
      "execution_count": 52,
      "outputs": [
        {
          "output_type": "stream",
          "name": "stdout",
          "text": [
            "Train set: (1430, 6) (1430,)\n",
            "Test set: (358, 6) (358,)\n"
          ]
        }
      ]
    },
    {
      "cell_type": "code",
      "metadata": {
        "id": "Dks_OpdeW9fY"
      },
      "source": [
        "#Isi Code\n",
        "from sklearn.neighbors import KNeighborsClassifier\n",
        "import sklearn.metrics as metrics"
      ],
      "execution_count": 53,
      "outputs": []
    },
    {
      "cell_type": "code",
      "metadata": {
        "colab": {
          "base_uri": "https://localhost:8080/"
        },
        "id": "e49w2ecXy4EI",
        "outputId": "37cfeec3-fd32-4211-986f-6748df9a5e82"
      },
      "source": [
        "Ks = 50\n",
        "mean_acc_norm = np.zeros((Ks))\n",
        "\n",
        "for n in range(1,Ks+1):\n",
        "    \n",
        "    #Train Model and Predict  \n",
        "    neigh = KNeighborsClassifier(n_neighbors = n).fit(X_train,Y_train) #buat model\n",
        "    yhat_1 = neigh.predict(X_test) #memprediksi\n",
        "    mean_acc_norm[n-1] = metrics.accuracy_score(Y_test, yhat_1)\n",
        "\n",
        "print( \"The best accuracy was with\", max(mean_acc_norm))"
      ],
      "execution_count": 54,
      "outputs": [
        {
          "output_type": "stream",
          "name": "stdout",
          "text": [
            "The best accuracy was with 0.9664804469273743\n"
          ]
        }
      ]
    },
    {
      "cell_type": "code",
      "metadata": {
        "colab": {
          "base_uri": "https://localhost:8080/",
          "height": 334
        },
        "id": "dLpUSfJD-dYU",
        "outputId": "eb69accb-b0c9-4bee-f2dc-a46ea0d35819"
      },
      "source": [
        "Ks = 50\n",
        "mean_acc2 =  []\n",
        "mean_acc3 = []\n",
        "\n",
        "for n in range(1,Ks+1):\n",
        "    \n",
        "    #Train Model and Predict  \n",
        "    neigh = KNeighborsClassifier(n_neighbors = n).fit(X_train, Y_train) #buat model\n",
        "    yhat2 = neigh.predict(X_train) #memprediksi\n",
        "    acc2 = metrics.accuracy_score(Y_train, yhat2)\n",
        "    mean_acc2.append(acc2)\n",
        "\n",
        "    #Train Model and Predict  \n",
        "    yhat3 = neigh.predict(X_test) #memprediksi\n",
        "    acc3 = metrics.accuracy_score(Y_test, yhat3)\n",
        "    mean_acc3.append(acc3)\n",
        "\n",
        "\n",
        "# plot of train and test scores vs tree depth\n",
        "fig = plt.figure(figsize =(10, 5))\n",
        "plt.plot(range(1,Ks+1),mean_acc2, '-o', label='Train')\n",
        "plt.plot(range(1,Ks+1),mean_acc3, '-o', label='Test')\n",
        "plt.ylabel('Accuracy ')\n",
        "plt.xlabel('Number of Nabors (K)')\n",
        "plt.legend()\n",
        "plt.show()"
      ],
      "execution_count": 55,
      "outputs": [
        {
          "output_type": "display_data",
          "data": {
            "image/png": "[encoded data removed]",
            "text/plain": [
              "<Figure size 720x360 with 1 Axes>"
            ]
          },
          "metadata": {
            "needs_background": "light"
          }
        }
      ]
    },
    {
      "cell_type": "code",
      "metadata": {
        "colab": {
          "base_uri": "https://localhost:8080/"
        },
        "id": "dZ-iY6FflPv9",
        "outputId": "8b09b1bd-af12-46cf-ebd9-4b91e0f4dccf"
      },
      "source": [
        "X_train2, X_test2, Y_train2, Y_test2 = train_test_split(X_std, Y_res, test_size=0.2, random_state=4)\n",
        "print ('Train set:', X_train2.shape,  Y_train2.shape)\n",
        "print ('Test set:', X_test2.shape,  Y_test2.shape)"
      ],
      "execution_count": 56,
      "outputs": [
        {
          "output_type": "stream",
          "name": "stdout",
          "text": [
            "Train set: (1430, 6) (1430,)\n",
            "Test set: (358, 6) (358,)\n"
          ]
        }
      ]
    },
    {
      "cell_type": "code",
      "metadata": {
        "colab": {
          "base_uri": "https://localhost:8080/"
        },
        "id": "76k57x30zH0t",
        "outputId": "3dba3e3e-a193-4275-9178-07a4fc188909"
      },
      "source": [
        "Ks = 50\n",
        "mean_acc_norm2 = np.zeros((Ks))\n",
        "\n",
        "for n in range(1,Ks+1):\n",
        "    \n",
        "    #Train Model and Predict  \n",
        "    neigh2 = KNeighborsClassifier(n_neighbors = n).fit(X_train2,Y_train2) #buat model\n",
        "    yhat_2 = neigh2.predict(X_test2) #memprediksi\n",
        "    mean_acc_norm2[n-1] = metrics.accuracy_score(Y_test2, yhat_2)\n",
        "\n",
        "print( \"The best accuracy was with\", max(mean_acc_norm2))"
      ],
      "execution_count": 57,
      "outputs": [
        {
          "output_type": "stream",
          "name": "stdout",
          "text": [
            "The best accuracy was with 0.9692737430167597\n"
          ]
        }
      ]
    },
    {
      "cell_type": "code",
      "metadata": {
        "colab": {
          "base_uri": "https://localhost:8080/",
          "height": 334
        },
        "id": "CLVguSHhzZqH",
        "outputId": "f3b1787f-7fe1-4df9-d390-01519cb7edef"
      },
      "source": [
        "Ks = 50\n",
        "mean_acc4 =  []\n",
        "mean_acc5 = []\n",
        "\n",
        "for n in range(1,Ks+1):\n",
        "    \n",
        "    #Train Model and Predict  \n",
        "    neigh = KNeighborsClassifier(n_neighbors = n).fit(X_train2, Y_train2) #buat model\n",
        "    yhat4 = neigh.predict(X_train2) #memprediksi\n",
        "    acc4 = metrics.accuracy_score(Y_train2, yhat4)\n",
        "    mean_acc4.append(acc4)\n",
        "\n",
        "    #Train Model and Predict  \n",
        "    yhat5 = neigh.predict(X_test2) #memprediksi\n",
        "    acc5 = metrics.accuracy_score(Y_test2, yhat5)\n",
        "    mean_acc5.append(acc5)\n",
        "\n",
        "\n",
        "# plot of train and test scores vs tree depth\n",
        "fig = plt.figure(figsize =(10, 5))\n",
        "plt.plot(range(1,Ks+1),mean_acc4, '-o', label='Train')\n",
        "plt.plot(range(1,Ks+1),mean_acc5, '-o', label='Test')\n",
        "plt.ylabel('Accuracy ')\n",
        "plt.xlabel('Number of Nabors (K)')\n",
        "plt.legend()\n",
        "plt.show()"
      ],
      "execution_count": 58,
      "outputs": [
        {
          "output_type": "display_data",
          "data": {
            "image/png": "[encoded data removed]",
            "text/plain": [
              "<Figure size 720x360 with 1 Axes>"
            ]
          },
          "metadata": {
            "needs_background": "light"
          }
        }
      ]
    }
  ]
}