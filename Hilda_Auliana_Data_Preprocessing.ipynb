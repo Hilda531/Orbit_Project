{
  "nbformat": 4,
  "nbformat_minor": 0,
  "metadata": {
    "kernelspec": {
      "display_name": "Python 3",
      "language": "python",
      "name": "python3"
    },
    "language_info": {
      "codemirror_mode": {
        "name": "ipython",
        "version": 3
      },
      "file_extension": ".py",
      "mimetype": "text/x-python",
      "name": "python",
      "nbconvert_exporter": "python",
      "pygments_lexer": "ipython3",
      "version": "3.7.6"
    },
    "colab": {
      "name": "Hilda Auliana_Data Preprocessing.ipynb",
      "provenance": [],
      "collapsed_sections": [],
      "include_colab_link": true
    }
  },
  "cells": [
    {
      "cell_type": "markdown",
      "metadata": {
        "id": "view-in-github",
        "colab_type": "text"
      },
      "source": [
        "<a href=\"https://colab.research.google.com/github/Hilda531/Orbit_Project/blob/main/Hilda_Auliana_Data_Preprocessing.ipynb\" target=\"_parent\"><img src=\"https://colab.research.google.com/assets/colab-badge.svg\" alt=\"Open In Colab\"/></a>"
      ]
    },
    {
      "cell_type": "markdown",
      "metadata": {
        "id": "fXyErK3La9VY"
      },
      "source": [
        "## Import Library yg dibutuhkan"
      ]
    },
    {
      "cell_type": "code",
      "metadata": {
        "id": "o-sY0DCpa9Vi"
      },
      "source": [
        "import pandas as pd\n",
        "import matplotlib.pyplot as plt\n",
        "import seaborn as sns\n",
        "#tambahkan library sesuai kebutuhan"
      ],
      "execution_count": 1,
      "outputs": []
    },
    {
      "cell_type": "code",
      "metadata": {
        "colab": {
          "base_uri": "https://localhost:8080/"
        },
        "id": "Th7ZBwEwpCA4",
        "outputId": "c25a65fa-53f5-4f81-93c3-9352f777d0be"
      },
      "source": [
        "from google.colab import drive\n",
        "drive.mount('/content/drive')"
      ],
      "execution_count": 2,
      "outputs": [
        {
          "output_type": "stream",
          "name": "stdout",
          "text": [
            "Drive already mounted at /content/drive; to attempt to forcibly remount, call drive.mount(\"/content/drive\", force_remount=True).\n"
          ]
        }
      ]
    },
    {
      "cell_type": "markdown",
      "metadata": {
        "id": "uLNZYwquyKKa"
      },
      "source": [
        ""
      ]
    },
    {
      "cell_type": "code",
      "metadata": {
        "id": "mdVVIvqIa9Vm"
      },
      "source": [
        "data = pd.read_csv('/content/drive/MyDrive/Colab Notebooks/Studi/activity_km_07_01.csv')"
      ],
      "execution_count": 3,
      "outputs": []
    },
    {
      "cell_type": "code",
      "metadata": {
        "id": "Kwh2UjUMa9Vo",
        "colab": {
          "base_uri": "https://localhost:8080/",
          "height": 419
        },
        "outputId": "009d34d0-0c4c-4f1f-9f5c-07f6094fe98d"
      },
      "source": [
        "data"
      ],
      "execution_count": 4,
      "outputs": [
        {
          "output_type": "execute_result",
          "data": {
            "text/html": [
              "<div>\n",
              "<style scoped>\n",
              "    .dataframe tbody tr th:only-of-type {\n",
              "        vertical-align: middle;\n",
              "    }\n",
              "\n",
              "    .dataframe tbody tr th {\n",
              "        vertical-align: top;\n",
              "    }\n",
              "\n",
              "    .dataframe thead th {\n",
              "        text-align: right;\n",
              "    }\n",
              "</style>\n",
              "<table border=\"1\" class=\"dataframe\">\n",
              "  <thead>\n",
              "    <tr style=\"text-align: right;\">\n",
              "      <th></th>\n",
              "      <th>PH</th>\n",
              "      <th>cahaya</th>\n",
              "      <th>intensitas air</th>\n",
              "      <th>suhu</th>\n",
              "      <th>PPM</th>\n",
              "      <th>tinggi air</th>\n",
              "      <th>aksi</th>\n",
              "    </tr>\n",
              "  </thead>\n",
              "  <tbody>\n",
              "    <tr>\n",
              "      <th>0</th>\n",
              "      <td>6.5</td>\n",
              "      <td>Ada</td>\n",
              "      <td>Tinggi</td>\n",
              "      <td>27.0</td>\n",
              "      <td>188.0</td>\n",
              "      <td>622</td>\n",
              "      <td>Hidupkan Lampu dan Pompa nutrisi TDS</td>\n",
              "    </tr>\n",
              "    <tr>\n",
              "      <th>1</th>\n",
              "      <td>5.7</td>\n",
              "      <td>Ada</td>\n",
              "      <td>Tinggi</td>\n",
              "      <td>26.9</td>\n",
              "      <td>79.0</td>\n",
              "      <td>557</td>\n",
              "      <td>Hidupkan Lampu dan Pompa nutrisi TDS</td>\n",
              "    </tr>\n",
              "    <tr>\n",
              "      <th>2</th>\n",
              "      <td>6.0</td>\n",
              "      <td>Ada</td>\n",
              "      <td>Tinggi</td>\n",
              "      <td>27.0</td>\n",
              "      <td>11.0</td>\n",
              "      <td>491</td>\n",
              "      <td>Hidupkan Lampu dan Pompa nutrisi TDS</td>\n",
              "    </tr>\n",
              "    <tr>\n",
              "      <th>3</th>\n",
              "      <td>6.5</td>\n",
              "      <td>Ada</td>\n",
              "      <td>Tinggi</td>\n",
              "      <td>27.1</td>\n",
              "      <td>345.0</td>\n",
              "      <td>12000</td>\n",
              "      <td>Tidak melakukan apa-apa</td>\n",
              "    </tr>\n",
              "    <tr>\n",
              "      <th>4</th>\n",
              "      <td>6.2</td>\n",
              "      <td>NaN</td>\n",
              "      <td>Tinggi</td>\n",
              "      <td>27.1</td>\n",
              "      <td>602.0</td>\n",
              "      <td>444</td>\n",
              "      <td>Tidak melakukan apa-apa</td>\n",
              "    </tr>\n",
              "    <tr>\n",
              "      <th>...</th>\n",
              "      <td>...</td>\n",
              "      <td>...</td>\n",
              "      <td>...</td>\n",
              "      <td>...</td>\n",
              "      <td>...</td>\n",
              "      <td>...</td>\n",
              "      <td>...</td>\n",
              "    </tr>\n",
              "    <tr>\n",
              "      <th>611</th>\n",
              "      <td>4.6</td>\n",
              "      <td>Ada</td>\n",
              "      <td>Rendah sekali</td>\n",
              "      <td>25.3</td>\n",
              "      <td>904.0</td>\n",
              "      <td>47</td>\n",
              "      <td>Hidupkan Lampu</td>\n",
              "    </tr>\n",
              "    <tr>\n",
              "      <th>612</th>\n",
              "      <td>2.1</td>\n",
              "      <td>Ada</td>\n",
              "      <td>Rendah sekali</td>\n",
              "      <td>25.0</td>\n",
              "      <td>388.0</td>\n",
              "      <td>18</td>\n",
              "      <td>Hidupkan Lampu dan Pompa nutrisi TDS</td>\n",
              "    </tr>\n",
              "    <tr>\n",
              "      <th>613</th>\n",
              "      <td>3.2</td>\n",
              "      <td>Ada</td>\n",
              "      <td>Rendah sekali</td>\n",
              "      <td>25.3</td>\n",
              "      <td>793.0</td>\n",
              "      <td>19</td>\n",
              "      <td>Hidupkan Lampu</td>\n",
              "    </tr>\n",
              "    <tr>\n",
              "      <th>614</th>\n",
              "      <td>1.4</td>\n",
              "      <td>Ada</td>\n",
              "      <td>Rendah sekali</td>\n",
              "      <td>25.4</td>\n",
              "      <td>1052.0</td>\n",
              "      <td>3</td>\n",
              "      <td>Hidupkan Lampu</td>\n",
              "    </tr>\n",
              "    <tr>\n",
              "      <th>615</th>\n",
              "      <td>5.0</td>\n",
              "      <td>Ada</td>\n",
              "      <td>Rendah sekali</td>\n",
              "      <td>25.3</td>\n",
              "      <td>977.0</td>\n",
              "      <td>19</td>\n",
              "      <td>Hidupkan Lampu</td>\n",
              "    </tr>\n",
              "  </tbody>\n",
              "</table>\n",
              "<p>616 rows × 7 columns</p>\n",
              "</div>"
            ],
            "text/plain": [
              "      PH cahaya  ... tinggi air                                  aksi\n",
              "0    6.5    Ada  ...        622  Hidupkan Lampu dan Pompa nutrisi TDS\n",
              "1    5.7    Ada  ...        557  Hidupkan Lampu dan Pompa nutrisi TDS\n",
              "2    6.0    Ada  ...        491  Hidupkan Lampu dan Pompa nutrisi TDS\n",
              "3    6.5    Ada  ...      12000               Tidak melakukan apa-apa\n",
              "4    6.2    NaN  ...        444               Tidak melakukan apa-apa\n",
              "..   ...    ...  ...        ...                                   ...\n",
              "611  4.6    Ada  ...         47                        Hidupkan Lampu\n",
              "612  2.1    Ada  ...         18  Hidupkan Lampu dan Pompa nutrisi TDS\n",
              "613  3.2    Ada  ...         19                        Hidupkan Lampu\n",
              "614  1.4    Ada  ...          3                        Hidupkan Lampu\n",
              "615  5.0    Ada  ...         19                        Hidupkan Lampu\n",
              "\n",
              "[616 rows x 7 columns]"
            ]
          },
          "metadata": {},
          "execution_count": 4
        }
      ]
    },
    {
      "cell_type": "markdown",
      "metadata": {
        "id": "WZ3GE8pya9Vr"
      },
      "source": [
        "## 1. Mengganti nama kolom yang menggunakan spasi"
      ]
    },
    {
      "cell_type": "code",
      "metadata": {
        "id": "v0csWHwRa9Vs",
        "colab": {
          "base_uri": "https://localhost:8080/",
          "height": 419
        },
        "outputId": "f1b3b347-2b7c-41fc-df7e-532a859be326"
      },
      "source": [
        "#isi code\n",
        "data = data.rename(columns = {'intensitas air':'intensitas_air', 'tinggi air':'tinggi_air'})\n",
        "data"
      ],
      "execution_count": 5,
      "outputs": [
        {
          "output_type": "execute_result",
          "data": {
            "text/html": [
              "<div>\n",
              "<style scoped>\n",
              "    .dataframe tbody tr th:only-of-type {\n",
              "        vertical-align: middle;\n",
              "    }\n",
              "\n",
              "    .dataframe tbody tr th {\n",
              "        vertical-align: top;\n",
              "    }\n",
              "\n",
              "    .dataframe thead th {\n",
              "        text-align: right;\n",
              "    }\n",
              "</style>\n",
              "<table border=\"1\" class=\"dataframe\">\n",
              "  <thead>\n",
              "    <tr style=\"text-align: right;\">\n",
              "      <th></th>\n",
              "      <th>PH</th>\n",
              "      <th>cahaya</th>\n",
              "      <th>intensitas_air</th>\n",
              "      <th>suhu</th>\n",
              "      <th>PPM</th>\n",
              "      <th>tinggi_air</th>\n",
              "      <th>aksi</th>\n",
              "    </tr>\n",
              "  </thead>\n",
              "  <tbody>\n",
              "    <tr>\n",
              "      <th>0</th>\n",
              "      <td>6.5</td>\n",
              "      <td>Ada</td>\n",
              "      <td>Tinggi</td>\n",
              "      <td>27.0</td>\n",
              "      <td>188.0</td>\n",
              "      <td>622</td>\n",
              "      <td>Hidupkan Lampu dan Pompa nutrisi TDS</td>\n",
              "    </tr>\n",
              "    <tr>\n",
              "      <th>1</th>\n",
              "      <td>5.7</td>\n",
              "      <td>Ada</td>\n",
              "      <td>Tinggi</td>\n",
              "      <td>26.9</td>\n",
              "      <td>79.0</td>\n",
              "      <td>557</td>\n",
              "      <td>Hidupkan Lampu dan Pompa nutrisi TDS</td>\n",
              "    </tr>\n",
              "    <tr>\n",
              "      <th>2</th>\n",
              "      <td>6.0</td>\n",
              "      <td>Ada</td>\n",
              "      <td>Tinggi</td>\n",
              "      <td>27.0</td>\n",
              "      <td>11.0</td>\n",
              "      <td>491</td>\n",
              "      <td>Hidupkan Lampu dan Pompa nutrisi TDS</td>\n",
              "    </tr>\n",
              "    <tr>\n",
              "      <th>3</th>\n",
              "      <td>6.5</td>\n",
              "      <td>Ada</td>\n",
              "      <td>Tinggi</td>\n",
              "      <td>27.1</td>\n",
              "      <td>345.0</td>\n",
              "      <td>12000</td>\n",
              "      <td>Tidak melakukan apa-apa</td>\n",
              "    </tr>\n",
              "    <tr>\n",
              "      <th>4</th>\n",
              "      <td>6.2</td>\n",
              "      <td>NaN</td>\n",
              "      <td>Tinggi</td>\n",
              "      <td>27.1</td>\n",
              "      <td>602.0</td>\n",
              "      <td>444</td>\n",
              "      <td>Tidak melakukan apa-apa</td>\n",
              "    </tr>\n",
              "    <tr>\n",
              "      <th>...</th>\n",
              "      <td>...</td>\n",
              "      <td>...</td>\n",
              "      <td>...</td>\n",
              "      <td>...</td>\n",
              "      <td>...</td>\n",
              "      <td>...</td>\n",
              "      <td>...</td>\n",
              "    </tr>\n",
              "    <tr>\n",
              "      <th>611</th>\n",
              "      <td>4.6</td>\n",
              "      <td>Ada</td>\n",
              "      <td>Rendah sekali</td>\n",
              "      <td>25.3</td>\n",
              "      <td>904.0</td>\n",
              "      <td>47</td>\n",
              "      <td>Hidupkan Lampu</td>\n",
              "    </tr>\n",
              "    <tr>\n",
              "      <th>612</th>\n",
              "      <td>2.1</td>\n",
              "      <td>Ada</td>\n",
              "      <td>Rendah sekali</td>\n",
              "      <td>25.0</td>\n",
              "      <td>388.0</td>\n",
              "      <td>18</td>\n",
              "      <td>Hidupkan Lampu dan Pompa nutrisi TDS</td>\n",
              "    </tr>\n",
              "    <tr>\n",
              "      <th>613</th>\n",
              "      <td>3.2</td>\n",
              "      <td>Ada</td>\n",
              "      <td>Rendah sekali</td>\n",
              "      <td>25.3</td>\n",
              "      <td>793.0</td>\n",
              "      <td>19</td>\n",
              "      <td>Hidupkan Lampu</td>\n",
              "    </tr>\n",
              "    <tr>\n",
              "      <th>614</th>\n",
              "      <td>1.4</td>\n",
              "      <td>Ada</td>\n",
              "      <td>Rendah sekali</td>\n",
              "      <td>25.4</td>\n",
              "      <td>1052.0</td>\n",
              "      <td>3</td>\n",
              "      <td>Hidupkan Lampu</td>\n",
              "    </tr>\n",
              "    <tr>\n",
              "      <th>615</th>\n",
              "      <td>5.0</td>\n",
              "      <td>Ada</td>\n",
              "      <td>Rendah sekali</td>\n",
              "      <td>25.3</td>\n",
              "      <td>977.0</td>\n",
              "      <td>19</td>\n",
              "      <td>Hidupkan Lampu</td>\n",
              "    </tr>\n",
              "  </tbody>\n",
              "</table>\n",
              "<p>616 rows × 7 columns</p>\n",
              "</div>"
            ],
            "text/plain": [
              "      PH cahaya  ... tinggi_air                                  aksi\n",
              "0    6.5    Ada  ...        622  Hidupkan Lampu dan Pompa nutrisi TDS\n",
              "1    5.7    Ada  ...        557  Hidupkan Lampu dan Pompa nutrisi TDS\n",
              "2    6.0    Ada  ...        491  Hidupkan Lampu dan Pompa nutrisi TDS\n",
              "3    6.5    Ada  ...      12000               Tidak melakukan apa-apa\n",
              "4    6.2    NaN  ...        444               Tidak melakukan apa-apa\n",
              "..   ...    ...  ...        ...                                   ...\n",
              "611  4.6    Ada  ...         47                        Hidupkan Lampu\n",
              "612  2.1    Ada  ...         18  Hidupkan Lampu dan Pompa nutrisi TDS\n",
              "613  3.2    Ada  ...         19                        Hidupkan Lampu\n",
              "614  1.4    Ada  ...          3                        Hidupkan Lampu\n",
              "615  5.0    Ada  ...         19                        Hidupkan Lampu\n",
              "\n",
              "[616 rows x 7 columns]"
            ]
          },
          "metadata": {},
          "execution_count": 5
        }
      ]
    },
    {
      "cell_type": "markdown",
      "metadata": {
        "id": "vCYDhpdfa9Vt"
      },
      "source": [
        "## 2. Mengganti data kategorikal menjadi bentuk numerical (Clue : Labelencoder tidak bekerja ketika ada missing value, gunakan metode lain)"
      ]
    },
    {
      "cell_type": "code",
      "metadata": {
        "colab": {
          "base_uri": "https://localhost:8080/"
        },
        "id": "6QtA1NmIrDPT",
        "outputId": "ced1484b-4bf0-4708-a35b-0be1e3c7efab"
      },
      "source": [
        "data.info()"
      ],
      "execution_count": 6,
      "outputs": [
        {
          "output_type": "stream",
          "name": "stdout",
          "text": [
            "<class 'pandas.core.frame.DataFrame'>\n",
            "RangeIndex: 616 entries, 0 to 615\n",
            "Data columns (total 7 columns):\n",
            " #   Column          Non-Null Count  Dtype  \n",
            "---  ------          --------------  -----  \n",
            " 0   PH              600 non-null    float64\n",
            " 1   cahaya          590 non-null    object \n",
            " 2   intensitas_air  616 non-null    object \n",
            " 3   suhu            589 non-null    float64\n",
            " 4   PPM             611 non-null    float64\n",
            " 5   tinggi_air      616 non-null    int64  \n",
            " 6   aksi            616 non-null    object \n",
            "dtypes: float64(3), int64(1), object(3)\n",
            "memory usage: 33.8+ KB\n"
          ]
        }
      ]
    },
    {
      "cell_type": "code",
      "metadata": {
        "colab": {
          "base_uri": "https://localhost:8080/"
        },
        "id": "AnKHkj6gYSo6",
        "outputId": "a500541b-4089-4e4a-8008-cd77e8d01dfe"
      },
      "source": [
        "#Isi Code\n",
        "data.isna().sum()"
      ],
      "execution_count": 7,
      "outputs": [
        {
          "output_type": "execute_result",
          "data": {
            "text/plain": [
              "PH                16\n",
              "cahaya            26\n",
              "intensitas_air     0\n",
              "suhu              27\n",
              "PPM                5\n",
              "tinggi_air         0\n",
              "aksi               0\n",
              "dtype: int64"
            ]
          },
          "metadata": {},
          "execution_count": 7
        }
      ]
    },
    {
      "cell_type": "code",
      "metadata": {
        "id": "HNAJfwlCa9Vu",
        "colab": {
          "base_uri": "https://localhost:8080/",
          "height": 419
        },
        "outputId": "5d1d555e-a494-488c-d24e-26603840eefe"
      },
      "source": [
        "data2 = data.dropna(subset=['cahaya'])\n",
        "data2"
      ],
      "execution_count": 8,
      "outputs": [
        {
          "output_type": "execute_result",
          "data": {
            "text/html": [
              "<div>\n",
              "<style scoped>\n",
              "    .dataframe tbody tr th:only-of-type {\n",
              "        vertical-align: middle;\n",
              "    }\n",
              "\n",
              "    .dataframe tbody tr th {\n",
              "        vertical-align: top;\n",
              "    }\n",
              "\n",
              "    .dataframe thead th {\n",
              "        text-align: right;\n",
              "    }\n",
              "</style>\n",
              "<table border=\"1\" class=\"dataframe\">\n",
              "  <thead>\n",
              "    <tr style=\"text-align: right;\">\n",
              "      <th></th>\n",
              "      <th>PH</th>\n",
              "      <th>cahaya</th>\n",
              "      <th>intensitas_air</th>\n",
              "      <th>suhu</th>\n",
              "      <th>PPM</th>\n",
              "      <th>tinggi_air</th>\n",
              "      <th>aksi</th>\n",
              "    </tr>\n",
              "  </thead>\n",
              "  <tbody>\n",
              "    <tr>\n",
              "      <th>0</th>\n",
              "      <td>6.5</td>\n",
              "      <td>Ada</td>\n",
              "      <td>Tinggi</td>\n",
              "      <td>27.0</td>\n",
              "      <td>188.0</td>\n",
              "      <td>622</td>\n",
              "      <td>Hidupkan Lampu dan Pompa nutrisi TDS</td>\n",
              "    </tr>\n",
              "    <tr>\n",
              "      <th>1</th>\n",
              "      <td>5.7</td>\n",
              "      <td>Ada</td>\n",
              "      <td>Tinggi</td>\n",
              "      <td>26.9</td>\n",
              "      <td>79.0</td>\n",
              "      <td>557</td>\n",
              "      <td>Hidupkan Lampu dan Pompa nutrisi TDS</td>\n",
              "    </tr>\n",
              "    <tr>\n",
              "      <th>2</th>\n",
              "      <td>6.0</td>\n",
              "      <td>Ada</td>\n",
              "      <td>Tinggi</td>\n",
              "      <td>27.0</td>\n",
              "      <td>11.0</td>\n",
              "      <td>491</td>\n",
              "      <td>Hidupkan Lampu dan Pompa nutrisi TDS</td>\n",
              "    </tr>\n",
              "    <tr>\n",
              "      <th>3</th>\n",
              "      <td>6.5</td>\n",
              "      <td>Ada</td>\n",
              "      <td>Tinggi</td>\n",
              "      <td>27.1</td>\n",
              "      <td>345.0</td>\n",
              "      <td>12000</td>\n",
              "      <td>Tidak melakukan apa-apa</td>\n",
              "    </tr>\n",
              "    <tr>\n",
              "      <th>10</th>\n",
              "      <td>NaN</td>\n",
              "      <td>Ada</td>\n",
              "      <td>Tinggi</td>\n",
              "      <td>26.5</td>\n",
              "      <td>NaN</td>\n",
              "      <td>219</td>\n",
              "      <td>Hidupkan Lampu</td>\n",
              "    </tr>\n",
              "    <tr>\n",
              "      <th>...</th>\n",
              "      <td>...</td>\n",
              "      <td>...</td>\n",
              "      <td>...</td>\n",
              "      <td>...</td>\n",
              "      <td>...</td>\n",
              "      <td>...</td>\n",
              "      <td>...</td>\n",
              "    </tr>\n",
              "    <tr>\n",
              "      <th>611</th>\n",
              "      <td>4.6</td>\n",
              "      <td>Ada</td>\n",
              "      <td>Rendah sekali</td>\n",
              "      <td>25.3</td>\n",
              "      <td>904.0</td>\n",
              "      <td>47</td>\n",
              "      <td>Hidupkan Lampu</td>\n",
              "    </tr>\n",
              "    <tr>\n",
              "      <th>612</th>\n",
              "      <td>2.1</td>\n",
              "      <td>Ada</td>\n",
              "      <td>Rendah sekali</td>\n",
              "      <td>25.0</td>\n",
              "      <td>388.0</td>\n",
              "      <td>18</td>\n",
              "      <td>Hidupkan Lampu dan Pompa nutrisi TDS</td>\n",
              "    </tr>\n",
              "    <tr>\n",
              "      <th>613</th>\n",
              "      <td>3.2</td>\n",
              "      <td>Ada</td>\n",
              "      <td>Rendah sekali</td>\n",
              "      <td>25.3</td>\n",
              "      <td>793.0</td>\n",
              "      <td>19</td>\n",
              "      <td>Hidupkan Lampu</td>\n",
              "    </tr>\n",
              "    <tr>\n",
              "      <th>614</th>\n",
              "      <td>1.4</td>\n",
              "      <td>Ada</td>\n",
              "      <td>Rendah sekali</td>\n",
              "      <td>25.4</td>\n",
              "      <td>1052.0</td>\n",
              "      <td>3</td>\n",
              "      <td>Hidupkan Lampu</td>\n",
              "    </tr>\n",
              "    <tr>\n",
              "      <th>615</th>\n",
              "      <td>5.0</td>\n",
              "      <td>Ada</td>\n",
              "      <td>Rendah sekali</td>\n",
              "      <td>25.3</td>\n",
              "      <td>977.0</td>\n",
              "      <td>19</td>\n",
              "      <td>Hidupkan Lampu</td>\n",
              "    </tr>\n",
              "  </tbody>\n",
              "</table>\n",
              "<p>590 rows × 7 columns</p>\n",
              "</div>"
            ],
            "text/plain": [
              "      PH cahaya  ... tinggi_air                                  aksi\n",
              "0    6.5    Ada  ...        622  Hidupkan Lampu dan Pompa nutrisi TDS\n",
              "1    5.7    Ada  ...        557  Hidupkan Lampu dan Pompa nutrisi TDS\n",
              "2    6.0    Ada  ...        491  Hidupkan Lampu dan Pompa nutrisi TDS\n",
              "3    6.5    Ada  ...      12000               Tidak melakukan apa-apa\n",
              "10   NaN    Ada  ...        219                        Hidupkan Lampu\n",
              "..   ...    ...  ...        ...                                   ...\n",
              "611  4.6    Ada  ...         47                        Hidupkan Lampu\n",
              "612  2.1    Ada  ...         18  Hidupkan Lampu dan Pompa nutrisi TDS\n",
              "613  3.2    Ada  ...         19                        Hidupkan Lampu\n",
              "614  1.4    Ada  ...          3                        Hidupkan Lampu\n",
              "615  5.0    Ada  ...         19                        Hidupkan Lampu\n",
              "\n",
              "[590 rows x 7 columns]"
            ]
          },
          "metadata": {},
          "execution_count": 8
        }
      ]
    },
    {
      "cell_type": "code",
      "metadata": {
        "colab": {
          "base_uri": "https://localhost:8080/"
        },
        "id": "lrdtJrfdcyRW",
        "outputId": "d34cfcc1-ef12-48ba-c1e2-e847217b6032"
      },
      "source": [
        "data2['aksi'].value_counts()"
      ],
      "execution_count": 9,
      "outputs": [
        {
          "output_type": "execute_result",
          "data": {
            "text/plain": [
              "Tidak melakukan apa-apa                 451\n",
              "Hidupkan Lampu                           88\n",
              "Hidupkan Lampu dan Pompa nutrisi TDS     39\n",
              "Hidupkan Pompa nutrisi TDS               12\n",
              "Name: aksi, dtype: int64"
            ]
          },
          "metadata": {},
          "execution_count": 9
        }
      ]
    },
    {
      "cell_type": "code",
      "metadata": {
        "id": "6IxEnEDT_xmQ",
        "colab": {
          "base_uri": "https://localhost:8080/"
        },
        "outputId": "62296093-e5c9-42bd-f29d-46b8776976e2"
      },
      "source": [
        "data2.isna().sum()"
      ],
      "execution_count": 10,
      "outputs": [
        {
          "output_type": "execute_result",
          "data": {
            "text/plain": [
              "PH                13\n",
              "cahaya             0\n",
              "intensitas_air     0\n",
              "suhu              27\n",
              "PPM                1\n",
              "tinggi_air         0\n",
              "aksi               0\n",
              "dtype: int64"
            ]
          },
          "metadata": {},
          "execution_count": 10
        }
      ]
    },
    {
      "cell_type": "code",
      "metadata": {
        "colab": {
          "base_uri": "https://localhost:8080/",
          "height": 257
        },
        "id": "1QC6G-8hD53C",
        "outputId": "638855ec-230e-4dd4-ee43-c3e0e4e59a9e"
      },
      "source": [
        "labels = data2['cahaya'].astype('category').cat.categories.tolist()\n",
        "counts = data2['cahaya'].value_counts()\n",
        "sizes = [counts[var_cat] for var_cat in labels]\n",
        "palette = sns.color_palette(\"RdBu_r\")\n",
        "fig1, ax1 = plt.subplots()\n",
        "ax1.pie(sizes, labels=labels, autopct=lambda p : '{:.2f}%\\n({:,.0f})'.format(p,p * sum(sizes)/100), shadow=True, colors=palette) #autopct is show the % on plot\n",
        "ax1.axis('equal')\n",
        "plt.show()"
      ],
      "execution_count": 11,
      "outputs": [
        {
          "output_type": "display_data",
          "data": {
            "image/png": "[encoded data removed]",
            "text/plain": [
              "<Figure size 432x288 with 1 Axes>"
            ]
          },
          "metadata": {}
        }
      ]
    },
    {
      "cell_type": "code",
      "metadata": {
        "colab": {
          "base_uri": "https://localhost:8080/",
          "height": 248
        },
        "id": "mD3866YZEblX",
        "outputId": "5975b9df-37b8-4baf-ae5a-68572a02ccd4"
      },
      "source": [
        "labels_ia2 = data2['intensitas_air'].astype('category').cat.categories.tolist()\n",
        "counts_ia2 = data2['intensitas_air'].value_counts()\n",
        "sizes_ia2 = [counts_ia2[var_cat2] for var_cat2 in labels_ia2]\n",
        "palette2 = sns.color_palette(\"PuBuGn\")\n",
        "fig2, ax2 = plt.subplots()\n",
        "ax2.pie(sizes_ia2, labels=labels_ia2, autopct=lambda p : '{:.2f}%\\n({:,.0f})'.format(p,p * sum(sizes)/100), shadow=True, colors=palette2) #autopct is show the % on plot\n",
        "ax2.axis('equal')\n",
        "plt.show()"
      ],
      "execution_count": 12,
      "outputs": [
        {
          "output_type": "display_data",
          "data": {
            "image/png": "[encoded data removed]",
            "text/plain": [
              "<Figure size 432x288 with 1 Axes>"
            ]
          },
          "metadata": {}
        }
      ]
    },
    {
      "cell_type": "code",
      "metadata": {
        "id": "-SPCxg-Nlhde"
      },
      "source": [
        "encode = {'cahaya': {\"Ada\": 5. , \"Tidak ada\": 6.},\n",
        "          'intensitas_air': {\"Rendah sekali\": 1., \"Rendah\": 2., \"Cukup\": 3., \"Tinggi\": 4.}}\n",
        "\n",
        "data2_encode = data2.replace(encode)"
      ],
      "execution_count": 13,
      "outputs": []
    },
    {
      "cell_type": "code",
      "metadata": {
        "colab": {
          "base_uri": "https://localhost:8080/",
          "height": 419
        },
        "id": "NBgQ7p7j3E87",
        "outputId": "c3801933-d23c-4b85-8a96-b8f303abdb4b"
      },
      "source": [
        "data2_encode['tinggi_air'] = data2_encode['tinggi_air'].astype('float')\n",
        "data2_encode"
      ],
      "execution_count": 14,
      "outputs": [
        {
          "output_type": "execute_result",
          "data": {
            "text/html": [
              "<div>\n",
              "<style scoped>\n",
              "    .dataframe tbody tr th:only-of-type {\n",
              "        vertical-align: middle;\n",
              "    }\n",
              "\n",
              "    .dataframe tbody tr th {\n",
              "        vertical-align: top;\n",
              "    }\n",
              "\n",
              "    .dataframe thead th {\n",
              "        text-align: right;\n",
              "    }\n",
              "</style>\n",
              "<table border=\"1\" class=\"dataframe\">\n",
              "  <thead>\n",
              "    <tr style=\"text-align: right;\">\n",
              "      <th></th>\n",
              "      <th>PH</th>\n",
              "      <th>cahaya</th>\n",
              "      <th>intensitas_air</th>\n",
              "      <th>suhu</th>\n",
              "      <th>PPM</th>\n",
              "      <th>tinggi_air</th>\n",
              "      <th>aksi</th>\n",
              "    </tr>\n",
              "  </thead>\n",
              "  <tbody>\n",
              "    <tr>\n",
              "      <th>0</th>\n",
              "      <td>6.5</td>\n",
              "      <td>5.0</td>\n",
              "      <td>4.0</td>\n",
              "      <td>27.0</td>\n",
              "      <td>188.0</td>\n",
              "      <td>622.0</td>\n",
              "      <td>Hidupkan Lampu dan Pompa nutrisi TDS</td>\n",
              "    </tr>\n",
              "    <tr>\n",
              "      <th>1</th>\n",
              "      <td>5.7</td>\n",
              "      <td>5.0</td>\n",
              "      <td>4.0</td>\n",
              "      <td>26.9</td>\n",
              "      <td>79.0</td>\n",
              "      <td>557.0</td>\n",
              "      <td>Hidupkan Lampu dan Pompa nutrisi TDS</td>\n",
              "    </tr>\n",
              "    <tr>\n",
              "      <th>2</th>\n",
              "      <td>6.0</td>\n",
              "      <td>5.0</td>\n",
              "      <td>4.0</td>\n",
              "      <td>27.0</td>\n",
              "      <td>11.0</td>\n",
              "      <td>491.0</td>\n",
              "      <td>Hidupkan Lampu dan Pompa nutrisi TDS</td>\n",
              "    </tr>\n",
              "    <tr>\n",
              "      <th>3</th>\n",
              "      <td>6.5</td>\n",
              "      <td>5.0</td>\n",
              "      <td>4.0</td>\n",
              "      <td>27.1</td>\n",
              "      <td>345.0</td>\n",
              "      <td>12000.0</td>\n",
              "      <td>Tidak melakukan apa-apa</td>\n",
              "    </tr>\n",
              "    <tr>\n",
              "      <th>10</th>\n",
              "      <td>NaN</td>\n",
              "      <td>5.0</td>\n",
              "      <td>4.0</td>\n",
              "      <td>26.5</td>\n",
              "      <td>NaN</td>\n",
              "      <td>219.0</td>\n",
              "      <td>Hidupkan Lampu</td>\n",
              "    </tr>\n",
              "    <tr>\n",
              "      <th>...</th>\n",
              "      <td>...</td>\n",
              "      <td>...</td>\n",
              "      <td>...</td>\n",
              "      <td>...</td>\n",
              "      <td>...</td>\n",
              "      <td>...</td>\n",
              "      <td>...</td>\n",
              "    </tr>\n",
              "    <tr>\n",
              "      <th>611</th>\n",
              "      <td>4.6</td>\n",
              "      <td>5.0</td>\n",
              "      <td>1.0</td>\n",
              "      <td>25.3</td>\n",
              "      <td>904.0</td>\n",
              "      <td>47.0</td>\n",
              "      <td>Hidupkan Lampu</td>\n",
              "    </tr>\n",
              "    <tr>\n",
              "      <th>612</th>\n",
              "      <td>2.1</td>\n",
              "      <td>5.0</td>\n",
              "      <td>1.0</td>\n",
              "      <td>25.0</td>\n",
              "      <td>388.0</td>\n",
              "      <td>18.0</td>\n",
              "      <td>Hidupkan Lampu dan Pompa nutrisi TDS</td>\n",
              "    </tr>\n",
              "    <tr>\n",
              "      <th>613</th>\n",
              "      <td>3.2</td>\n",
              "      <td>5.0</td>\n",
              "      <td>1.0</td>\n",
              "      <td>25.3</td>\n",
              "      <td>793.0</td>\n",
              "      <td>19.0</td>\n",
              "      <td>Hidupkan Lampu</td>\n",
              "    </tr>\n",
              "    <tr>\n",
              "      <th>614</th>\n",
              "      <td>1.4</td>\n",
              "      <td>5.0</td>\n",
              "      <td>1.0</td>\n",
              "      <td>25.4</td>\n",
              "      <td>1052.0</td>\n",
              "      <td>3.0</td>\n",
              "      <td>Hidupkan Lampu</td>\n",
              "    </tr>\n",
              "    <tr>\n",
              "      <th>615</th>\n",
              "      <td>5.0</td>\n",
              "      <td>5.0</td>\n",
              "      <td>1.0</td>\n",
              "      <td>25.3</td>\n",
              "      <td>977.0</td>\n",
              "      <td>19.0</td>\n",
              "      <td>Hidupkan Lampu</td>\n",
              "    </tr>\n",
              "  </tbody>\n",
              "</table>\n",
              "<p>590 rows × 7 columns</p>\n",
              "</div>"
            ],
            "text/plain": [
              "      PH  cahaya  ...  tinggi_air                                  aksi\n",
              "0    6.5     5.0  ...       622.0  Hidupkan Lampu dan Pompa nutrisi TDS\n",
              "1    5.7     5.0  ...       557.0  Hidupkan Lampu dan Pompa nutrisi TDS\n",
              "2    6.0     5.0  ...       491.0  Hidupkan Lampu dan Pompa nutrisi TDS\n",
              "3    6.5     5.0  ...     12000.0               Tidak melakukan apa-apa\n",
              "10   NaN     5.0  ...       219.0                        Hidupkan Lampu\n",
              "..   ...     ...  ...         ...                                   ...\n",
              "611  4.6     5.0  ...        47.0                        Hidupkan Lampu\n",
              "612  2.1     5.0  ...        18.0  Hidupkan Lampu dan Pompa nutrisi TDS\n",
              "613  3.2     5.0  ...        19.0                        Hidupkan Lampu\n",
              "614  1.4     5.0  ...         3.0                        Hidupkan Lampu\n",
              "615  5.0     5.0  ...        19.0                        Hidupkan Lampu\n",
              "\n",
              "[590 rows x 7 columns]"
            ]
          },
          "metadata": {},
          "execution_count": 14
        }
      ]
    },
    {
      "cell_type": "markdown",
      "metadata": {
        "id": "W5Ka60uYa9Vv"
      },
      "source": [
        "## 3. Handle Missing Value"
      ]
    },
    {
      "cell_type": "code",
      "metadata": {
        "colab": {
          "base_uri": "https://localhost:8080/",
          "height": 266
        },
        "id": "auG91NePwcbm",
        "outputId": "afae0b54-ac3b-442b-f232-aea2c0ba15ff"
      },
      "source": [
        "#Melihat presentase missing value tiap kolom\n",
        "missing_data = pd.DataFrame({'total_missing': data.isna().sum(), 'perc_missing': (data.isna().sum()/616)*100})\n",
        "missing_data"
      ],
      "execution_count": 15,
      "outputs": [
        {
          "output_type": "execute_result",
          "data": {
            "text/html": [
              "<div>\n",
              "<style scoped>\n",
              "    .dataframe tbody tr th:only-of-type {\n",
              "        vertical-align: middle;\n",
              "    }\n",
              "\n",
              "    .dataframe tbody tr th {\n",
              "        vertical-align: top;\n",
              "    }\n",
              "\n",
              "    .dataframe thead th {\n",
              "        text-align: right;\n",
              "    }\n",
              "</style>\n",
              "<table border=\"1\" class=\"dataframe\">\n",
              "  <thead>\n",
              "    <tr style=\"text-align: right;\">\n",
              "      <th></th>\n",
              "      <th>total_missing</th>\n",
              "      <th>perc_missing</th>\n",
              "    </tr>\n",
              "  </thead>\n",
              "  <tbody>\n",
              "    <tr>\n",
              "      <th>PH</th>\n",
              "      <td>16</td>\n",
              "      <td>2.597403</td>\n",
              "    </tr>\n",
              "    <tr>\n",
              "      <th>cahaya</th>\n",
              "      <td>26</td>\n",
              "      <td>4.220779</td>\n",
              "    </tr>\n",
              "    <tr>\n",
              "      <th>intensitas_air</th>\n",
              "      <td>0</td>\n",
              "      <td>0.000000</td>\n",
              "    </tr>\n",
              "    <tr>\n",
              "      <th>suhu</th>\n",
              "      <td>27</td>\n",
              "      <td>4.383117</td>\n",
              "    </tr>\n",
              "    <tr>\n",
              "      <th>PPM</th>\n",
              "      <td>5</td>\n",
              "      <td>0.811688</td>\n",
              "    </tr>\n",
              "    <tr>\n",
              "      <th>tinggi_air</th>\n",
              "      <td>0</td>\n",
              "      <td>0.000000</td>\n",
              "    </tr>\n",
              "    <tr>\n",
              "      <th>aksi</th>\n",
              "      <td>0</td>\n",
              "      <td>0.000000</td>\n",
              "    </tr>\n",
              "  </tbody>\n",
              "</table>\n",
              "</div>"
            ],
            "text/plain": [
              "                total_missing  perc_missing\n",
              "PH                         16      2.597403\n",
              "cahaya                     26      4.220779\n",
              "intensitas_air              0      0.000000\n",
              "suhu                       27      4.383117\n",
              "PPM                         5      0.811688\n",
              "tinggi_air                  0      0.000000\n",
              "aksi                        0      0.000000"
            ]
          },
          "metadata": {},
          "execution_count": 15
        }
      ]
    },
    {
      "cell_type": "code",
      "metadata": {
        "id": "mj3yjpP39RaG"
      },
      "source": [
        "#Isi Code\n",
        "from sklearn.impute import SimpleImputer\n",
        "import numpy as np\n",
        "\n",
        "imputer = SimpleImputer(missing_values = np.nan ,strategy = 'median')\n",
        "\n",
        "\n",
        "# Fit imputer kedalam data X untuk kolom Age (index ke-1) dan Salary (index ke-2).\n",
        "imputer = imputer.fit(data2_encode[['PH','suhu','PPM']])\n",
        "\n",
        "#Replace missing value dengan mean pada kolom tersebut\n",
        "data2_encode[['PH','suhu','PPM']] = imputer.transform(data2_encode[['PH','suhu','PPM']])\n"
      ],
      "execution_count": 16,
      "outputs": []
    },
    {
      "cell_type": "code",
      "metadata": {
        "id": "8YZO-Zz_87Pj",
        "colab": {
          "base_uri": "https://localhost:8080/",
          "height": 419
        },
        "outputId": "ec4eea33-01fb-4d68-be38-c2793a46f5f2"
      },
      "source": [
        "data2_encode"
      ],
      "execution_count": 17,
      "outputs": [
        {
          "output_type": "execute_result",
          "data": {
            "text/html": [
              "<div>\n",
              "<style scoped>\n",
              "    .dataframe tbody tr th:only-of-type {\n",
              "        vertical-align: middle;\n",
              "    }\n",
              "\n",
              "    .dataframe tbody tr th {\n",
              "        vertical-align: top;\n",
              "    }\n",
              "\n",
              "    .dataframe thead th {\n",
              "        text-align: right;\n",
              "    }\n",
              "</style>\n",
              "<table border=\"1\" class=\"dataframe\">\n",
              "  <thead>\n",
              "    <tr style=\"text-align: right;\">\n",
              "      <th></th>\n",
              "      <th>PH</th>\n",
              "      <th>cahaya</th>\n",
              "      <th>intensitas_air</th>\n",
              "      <th>suhu</th>\n",
              "      <th>PPM</th>\n",
              "      <th>tinggi_air</th>\n",
              "      <th>aksi</th>\n",
              "    </tr>\n",
              "  </thead>\n",
              "  <tbody>\n",
              "    <tr>\n",
              "      <th>0</th>\n",
              "      <td>6.5</td>\n",
              "      <td>5.0</td>\n",
              "      <td>4.0</td>\n",
              "      <td>27.0</td>\n",
              "      <td>188.0</td>\n",
              "      <td>622.0</td>\n",
              "      <td>Hidupkan Lampu dan Pompa nutrisi TDS</td>\n",
              "    </tr>\n",
              "    <tr>\n",
              "      <th>1</th>\n",
              "      <td>5.7</td>\n",
              "      <td>5.0</td>\n",
              "      <td>4.0</td>\n",
              "      <td>26.9</td>\n",
              "      <td>79.0</td>\n",
              "      <td>557.0</td>\n",
              "      <td>Hidupkan Lampu dan Pompa nutrisi TDS</td>\n",
              "    </tr>\n",
              "    <tr>\n",
              "      <th>2</th>\n",
              "      <td>6.0</td>\n",
              "      <td>5.0</td>\n",
              "      <td>4.0</td>\n",
              "      <td>27.0</td>\n",
              "      <td>11.0</td>\n",
              "      <td>491.0</td>\n",
              "      <td>Hidupkan Lampu dan Pompa nutrisi TDS</td>\n",
              "    </tr>\n",
              "    <tr>\n",
              "      <th>3</th>\n",
              "      <td>6.5</td>\n",
              "      <td>5.0</td>\n",
              "      <td>4.0</td>\n",
              "      <td>27.1</td>\n",
              "      <td>345.0</td>\n",
              "      <td>12000.0</td>\n",
              "      <td>Tidak melakukan apa-apa</td>\n",
              "    </tr>\n",
              "    <tr>\n",
              "      <th>10</th>\n",
              "      <td>6.5</td>\n",
              "      <td>5.0</td>\n",
              "      <td>4.0</td>\n",
              "      <td>26.5</td>\n",
              "      <td>994.0</td>\n",
              "      <td>219.0</td>\n",
              "      <td>Hidupkan Lampu</td>\n",
              "    </tr>\n",
              "    <tr>\n",
              "      <th>...</th>\n",
              "      <td>...</td>\n",
              "      <td>...</td>\n",
              "      <td>...</td>\n",
              "      <td>...</td>\n",
              "      <td>...</td>\n",
              "      <td>...</td>\n",
              "      <td>...</td>\n",
              "    </tr>\n",
              "    <tr>\n",
              "      <th>611</th>\n",
              "      <td>4.6</td>\n",
              "      <td>5.0</td>\n",
              "      <td>1.0</td>\n",
              "      <td>25.3</td>\n",
              "      <td>904.0</td>\n",
              "      <td>47.0</td>\n",
              "      <td>Hidupkan Lampu</td>\n",
              "    </tr>\n",
              "    <tr>\n",
              "      <th>612</th>\n",
              "      <td>2.1</td>\n",
              "      <td>5.0</td>\n",
              "      <td>1.0</td>\n",
              "      <td>25.0</td>\n",
              "      <td>388.0</td>\n",
              "      <td>18.0</td>\n",
              "      <td>Hidupkan Lampu dan Pompa nutrisi TDS</td>\n",
              "    </tr>\n",
              "    <tr>\n",
              "      <th>613</th>\n",
              "      <td>3.2</td>\n",
              "      <td>5.0</td>\n",
              "      <td>1.0</td>\n",
              "      <td>25.3</td>\n",
              "      <td>793.0</td>\n",
              "      <td>19.0</td>\n",
              "      <td>Hidupkan Lampu</td>\n",
              "    </tr>\n",
              "    <tr>\n",
              "      <th>614</th>\n",
              "      <td>1.4</td>\n",
              "      <td>5.0</td>\n",
              "      <td>1.0</td>\n",
              "      <td>25.4</td>\n",
              "      <td>1052.0</td>\n",
              "      <td>3.0</td>\n",
              "      <td>Hidupkan Lampu</td>\n",
              "    </tr>\n",
              "    <tr>\n",
              "      <th>615</th>\n",
              "      <td>5.0</td>\n",
              "      <td>5.0</td>\n",
              "      <td>1.0</td>\n",
              "      <td>25.3</td>\n",
              "      <td>977.0</td>\n",
              "      <td>19.0</td>\n",
              "      <td>Hidupkan Lampu</td>\n",
              "    </tr>\n",
              "  </tbody>\n",
              "</table>\n",
              "<p>590 rows × 7 columns</p>\n",
              "</div>"
            ],
            "text/plain": [
              "      PH  cahaya  ...  tinggi_air                                  aksi\n",
              "0    6.5     5.0  ...       622.0  Hidupkan Lampu dan Pompa nutrisi TDS\n",
              "1    5.7     5.0  ...       557.0  Hidupkan Lampu dan Pompa nutrisi TDS\n",
              "2    6.0     5.0  ...       491.0  Hidupkan Lampu dan Pompa nutrisi TDS\n",
              "3    6.5     5.0  ...     12000.0               Tidak melakukan apa-apa\n",
              "10   6.5     5.0  ...       219.0                        Hidupkan Lampu\n",
              "..   ...     ...  ...         ...                                   ...\n",
              "611  4.6     5.0  ...        47.0                        Hidupkan Lampu\n",
              "612  2.1     5.0  ...        18.0  Hidupkan Lampu dan Pompa nutrisi TDS\n",
              "613  3.2     5.0  ...        19.0                        Hidupkan Lampu\n",
              "614  1.4     5.0  ...         3.0                        Hidupkan Lampu\n",
              "615  5.0     5.0  ...        19.0                        Hidupkan Lampu\n",
              "\n",
              "[590 rows x 7 columns]"
            ]
          },
          "metadata": {},
          "execution_count": 17
        }
      ]
    },
    {
      "cell_type": "code",
      "metadata": {
        "id": "Lg1zXKsi9Gjd",
        "colab": {
          "base_uri": "https://localhost:8080/"
        },
        "outputId": "74acdac8-e71a-4726-af37-0909ed63f59a"
      },
      "source": [
        "data2_encode.isna().sum()"
      ],
      "execution_count": 18,
      "outputs": [
        {
          "output_type": "execute_result",
          "data": {
            "text/plain": [
              "PH                0\n",
              "cahaya            0\n",
              "intensitas_air    0\n",
              "suhu              0\n",
              "PPM               0\n",
              "tinggi_air        0\n",
              "aksi              0\n",
              "dtype: int64"
            ]
          },
          "metadata": {},
          "execution_count": 18
        }
      ]
    },
    {
      "cell_type": "code",
      "metadata": {
        "id": "Ksmxdkj9_1Km",
        "colab": {
          "base_uri": "https://localhost:8080/"
        },
        "outputId": "f7d8b322-5fa1-459f-83dc-feb37424ec2b"
      },
      "source": [
        "data2_encode.info()"
      ],
      "execution_count": 19,
      "outputs": [
        {
          "output_type": "stream",
          "name": "stdout",
          "text": [
            "<class 'pandas.core.frame.DataFrame'>\n",
            "Int64Index: 590 entries, 0 to 615\n",
            "Data columns (total 7 columns):\n",
            " #   Column          Non-Null Count  Dtype  \n",
            "---  ------          --------------  -----  \n",
            " 0   PH              590 non-null    float64\n",
            " 1   cahaya          590 non-null    float64\n",
            " 2   intensitas_air  590 non-null    float64\n",
            " 3   suhu            590 non-null    float64\n",
            " 4   PPM             590 non-null    float64\n",
            " 5   tinggi_air      590 non-null    float64\n",
            " 6   aksi            590 non-null    object \n",
            "dtypes: float64(6), object(1)\n",
            "memory usage: 36.9+ KB\n"
          ]
        }
      ]
    },
    {
      "cell_type": "markdown",
      "metadata": {
        "id": "GELQ5uyda9Vw"
      },
      "source": [
        "## 4. Detect outliers dan handling (bisa dihapus atau diganti nilainya dengan mean/modus/median)"
      ]
    },
    {
      "cell_type": "code",
      "metadata": {
        "id": "vlUcLIt-C1uu",
        "colab": {
          "base_uri": "https://localhost:8080/",
          "height": 297
        },
        "outputId": "0ca684fc-73c9-42d5-ccf1-55d8c7c91fe4"
      },
      "source": [
        "data2_encode.describe()"
      ],
      "execution_count": 20,
      "outputs": [
        {
          "output_type": "execute_result",
          "data": {
            "text/html": [
              "<div>\n",
              "<style scoped>\n",
              "    .dataframe tbody tr th:only-of-type {\n",
              "        vertical-align: middle;\n",
              "    }\n",
              "\n",
              "    .dataframe tbody tr th {\n",
              "        vertical-align: top;\n",
              "    }\n",
              "\n",
              "    .dataframe thead th {\n",
              "        text-align: right;\n",
              "    }\n",
              "</style>\n",
              "<table border=\"1\" class=\"dataframe\">\n",
              "  <thead>\n",
              "    <tr style=\"text-align: right;\">\n",
              "      <th></th>\n",
              "      <th>PH</th>\n",
              "      <th>cahaya</th>\n",
              "      <th>intensitas_air</th>\n",
              "      <th>suhu</th>\n",
              "      <th>PPM</th>\n",
              "      <th>tinggi_air</th>\n",
              "    </tr>\n",
              "  </thead>\n",
              "  <tbody>\n",
              "    <tr>\n",
              "      <th>count</th>\n",
              "      <td>590.000000</td>\n",
              "      <td>590.000000</td>\n",
              "      <td>590.000000</td>\n",
              "      <td>590.000000</td>\n",
              "      <td>590.000000</td>\n",
              "      <td>590.000000</td>\n",
              "    </tr>\n",
              "    <tr>\n",
              "      <th>mean</th>\n",
              "      <td>6.636610</td>\n",
              "      <td>5.488136</td>\n",
              "      <td>2.489831</td>\n",
              "      <td>29.324746</td>\n",
              "      <td>1037.313559</td>\n",
              "      <td>288.252542</td>\n",
              "    </tr>\n",
              "    <tr>\n",
              "      <th>std</th>\n",
              "      <td>2.976293</td>\n",
              "      <td>0.500283</td>\n",
              "      <td>1.099034</td>\n",
              "      <td>14.910422</td>\n",
              "      <td>631.358165</td>\n",
              "      <td>634.984586</td>\n",
              "    </tr>\n",
              "    <tr>\n",
              "      <th>min</th>\n",
              "      <td>0.000000</td>\n",
              "      <td>5.000000</td>\n",
              "      <td>1.000000</td>\n",
              "      <td>-300.000000</td>\n",
              "      <td>1.000000</td>\n",
              "      <td>0.000000</td>\n",
              "    </tr>\n",
              "    <tr>\n",
              "      <th>25%</th>\n",
              "      <td>5.600000</td>\n",
              "      <td>5.000000</td>\n",
              "      <td>2.000000</td>\n",
              "      <td>27.100000</td>\n",
              "      <td>497.750000</td>\n",
              "      <td>50.000000</td>\n",
              "    </tr>\n",
              "    <tr>\n",
              "      <th>50%</th>\n",
              "      <td>6.500000</td>\n",
              "      <td>5.000000</td>\n",
              "      <td>2.000000</td>\n",
              "      <td>29.900000</td>\n",
              "      <td>994.000000</td>\n",
              "      <td>226.500000</td>\n",
              "    </tr>\n",
              "    <tr>\n",
              "      <th>75%</th>\n",
              "      <td>7.500000</td>\n",
              "      <td>6.000000</td>\n",
              "      <td>3.000000</td>\n",
              "      <td>33.000000</td>\n",
              "      <td>1603.750000</td>\n",
              "      <td>430.500000</td>\n",
              "    </tr>\n",
              "    <tr>\n",
              "      <th>max</th>\n",
              "      <td>14.000000</td>\n",
              "      <td>6.000000</td>\n",
              "      <td>4.000000</td>\n",
              "      <td>40.600000</td>\n",
              "      <td>2149.000000</td>\n",
              "      <td>12000.000000</td>\n",
              "    </tr>\n",
              "  </tbody>\n",
              "</table>\n",
              "</div>"
            ],
            "text/plain": [
              "               PH      cahaya  ...          PPM    tinggi_air\n",
              "count  590.000000  590.000000  ...   590.000000    590.000000\n",
              "mean     6.636610    5.488136  ...  1037.313559    288.252542\n",
              "std      2.976293    0.500283  ...   631.358165    634.984586\n",
              "min      0.000000    5.000000  ...     1.000000      0.000000\n",
              "25%      5.600000    5.000000  ...   497.750000     50.000000\n",
              "50%      6.500000    5.000000  ...   994.000000    226.500000\n",
              "75%      7.500000    6.000000  ...  1603.750000    430.500000\n",
              "max     14.000000    6.000000  ...  2149.000000  12000.000000\n",
              "\n",
              "[8 rows x 6 columns]"
            ]
          },
          "metadata": {},
          "execution_count": 20
        }
      ]
    },
    {
      "cell_type": "code",
      "metadata": {
        "id": "szqSHIG1ApXC",
        "colab": {
          "base_uri": "https://localhost:8080/",
          "height": 450
        },
        "outputId": "46d8108e-7681-4f2b-cf3c-e099ceebfc1d"
      },
      "source": [
        "#Isi Code\n",
        "\n",
        "num_cols = ['PH', 'cahaya', 'intensitas_air', 'suhu', 'PPM', 'tinggi_air']\n",
        "plt.figure(figsize=(15,7))\n",
        "data2_encode[num_cols].boxplot()\n",
        "plt.title(\"Numerical variables in Titanic dataset\", fontsize=20)\n",
        "plt.show()"
      ],
      "execution_count": 21,
      "outputs": [
        {
          "output_type": "display_data",
          "data": {
            "image/png": "[encoded data removed]",
            "text/plain": [
              "<Figure size 1080x504 with 1 Axes>"
            ]
          },
          "metadata": {
            "needs_background": "light"
          }
        }
      ]
    },
    {
      "cell_type": "code",
      "metadata": {
        "id": "c5CrQb7uGWTB",
        "colab": {
          "base_uri": "https://localhost:8080/"
        },
        "outputId": "7c95d69d-5b10-48b6-d914-b709ac984672"
      },
      "source": [
        "import numpy as np\n",
        "outliers = []\n",
        "TA = np.asarray(data2[['tinggi_air']], dtype='float64')\n",
        "def detect_outliers_zscore(data):\n",
        "    thres = 3\n",
        "    mean = np.mean(data)\n",
        "    std = np.std(data)\n",
        "    # print(mean, std)\n",
        "    for i in data:\n",
        "        z_score = (i-mean)/std\n",
        "        if (np.abs(z_score) > thres):\n",
        "            outliers.append(i)\n",
        "    return outliers# Driver code\n",
        "sample_outliers = detect_outliers_zscore(TA)\n",
        "print(\"Outliers from Z-scores method: \", sample_outliers)"
      ],
      "execution_count": 22,
      "outputs": [
        {
          "output_type": "stream",
          "name": "stdout",
          "text": [
            "Outliers from Z-scores method:  [array([12000.]), array([9000.])]\n"
          ]
        }
      ]
    },
    {
      "cell_type": "code",
      "metadata": {
        "colab": {
          "base_uri": "https://localhost:8080/",
          "height": 419
        },
        "id": "VGTBWQsWl6kG",
        "outputId": "d1302606-fe8b-4b1c-d979-1f0fbe9e1c96"
      },
      "source": [
        "data2_encode.iloc[:,:6]"
      ],
      "execution_count": 23,
      "outputs": [
        {
          "output_type": "execute_result",
          "data": {
            "text/html": [
              "<div>\n",
              "<style scoped>\n",
              "    .dataframe tbody tr th:only-of-type {\n",
              "        vertical-align: middle;\n",
              "    }\n",
              "\n",
              "    .dataframe tbody tr th {\n",
              "        vertical-align: top;\n",
              "    }\n",
              "\n",
              "    .dataframe thead th {\n",
              "        text-align: right;\n",
              "    }\n",
              "</style>\n",
              "<table border=\"1\" class=\"dataframe\">\n",
              "  <thead>\n",
              "    <tr style=\"text-align: right;\">\n",
              "      <th></th>\n",
              "      <th>PH</th>\n",
              "      <th>cahaya</th>\n",
              "      <th>intensitas_air</th>\n",
              "      <th>suhu</th>\n",
              "      <th>PPM</th>\n",
              "      <th>tinggi_air</th>\n",
              "    </tr>\n",
              "  </thead>\n",
              "  <tbody>\n",
              "    <tr>\n",
              "      <th>0</th>\n",
              "      <td>6.5</td>\n",
              "      <td>5.0</td>\n",
              "      <td>4.0</td>\n",
              "      <td>27.0</td>\n",
              "      <td>188.0</td>\n",
              "      <td>622.0</td>\n",
              "    </tr>\n",
              "    <tr>\n",
              "      <th>1</th>\n",
              "      <td>5.7</td>\n",
              "      <td>5.0</td>\n",
              "      <td>4.0</td>\n",
              "      <td>26.9</td>\n",
              "      <td>79.0</td>\n",
              "      <td>557.0</td>\n",
              "    </tr>\n",
              "    <tr>\n",
              "      <th>2</th>\n",
              "      <td>6.0</td>\n",
              "      <td>5.0</td>\n",
              "      <td>4.0</td>\n",
              "      <td>27.0</td>\n",
              "      <td>11.0</td>\n",
              "      <td>491.0</td>\n",
              "    </tr>\n",
              "    <tr>\n",
              "      <th>3</th>\n",
              "      <td>6.5</td>\n",
              "      <td>5.0</td>\n",
              "      <td>4.0</td>\n",
              "      <td>27.1</td>\n",
              "      <td>345.0</td>\n",
              "      <td>12000.0</td>\n",
              "    </tr>\n",
              "    <tr>\n",
              "      <th>10</th>\n",
              "      <td>6.5</td>\n",
              "      <td>5.0</td>\n",
              "      <td>4.0</td>\n",
              "      <td>26.5</td>\n",
              "      <td>994.0</td>\n",
              "      <td>219.0</td>\n",
              "    </tr>\n",
              "    <tr>\n",
              "      <th>...</th>\n",
              "      <td>...</td>\n",
              "      <td>...</td>\n",
              "      <td>...</td>\n",
              "      <td>...</td>\n",
              "      <td>...</td>\n",
              "      <td>...</td>\n",
              "    </tr>\n",
              "    <tr>\n",
              "      <th>611</th>\n",
              "      <td>4.6</td>\n",
              "      <td>5.0</td>\n",
              "      <td>1.0</td>\n",
              "      <td>25.3</td>\n",
              "      <td>904.0</td>\n",
              "      <td>47.0</td>\n",
              "    </tr>\n",
              "    <tr>\n",
              "      <th>612</th>\n",
              "      <td>2.1</td>\n",
              "      <td>5.0</td>\n",
              "      <td>1.0</td>\n",
              "      <td>25.0</td>\n",
              "      <td>388.0</td>\n",
              "      <td>18.0</td>\n",
              "    </tr>\n",
              "    <tr>\n",
              "      <th>613</th>\n",
              "      <td>3.2</td>\n",
              "      <td>5.0</td>\n",
              "      <td>1.0</td>\n",
              "      <td>25.3</td>\n",
              "      <td>793.0</td>\n",
              "      <td>19.0</td>\n",
              "    </tr>\n",
              "    <tr>\n",
              "      <th>614</th>\n",
              "      <td>1.4</td>\n",
              "      <td>5.0</td>\n",
              "      <td>1.0</td>\n",
              "      <td>25.4</td>\n",
              "      <td>1052.0</td>\n",
              "      <td>3.0</td>\n",
              "    </tr>\n",
              "    <tr>\n",
              "      <th>615</th>\n",
              "      <td>5.0</td>\n",
              "      <td>5.0</td>\n",
              "      <td>1.0</td>\n",
              "      <td>25.3</td>\n",
              "      <td>977.0</td>\n",
              "      <td>19.0</td>\n",
              "    </tr>\n",
              "  </tbody>\n",
              "</table>\n",
              "<p>590 rows × 6 columns</p>\n",
              "</div>"
            ],
            "text/plain": [
              "      PH  cahaya  intensitas_air  suhu     PPM  tinggi_air\n",
              "0    6.5     5.0             4.0  27.0   188.0       622.0\n",
              "1    5.7     5.0             4.0  26.9    79.0       557.0\n",
              "2    6.0     5.0             4.0  27.0    11.0       491.0\n",
              "3    6.5     5.0             4.0  27.1   345.0     12000.0\n",
              "10   6.5     5.0             4.0  26.5   994.0       219.0\n",
              "..   ...     ...             ...   ...     ...         ...\n",
              "611  4.6     5.0             1.0  25.3   904.0        47.0\n",
              "612  2.1     5.0             1.0  25.0   388.0        18.0\n",
              "613  3.2     5.0             1.0  25.3   793.0        19.0\n",
              "614  1.4     5.0             1.0  25.4  1052.0         3.0\n",
              "615  5.0     5.0             1.0  25.3   977.0        19.0\n",
              "\n",
              "[590 rows x 6 columns]"
            ]
          },
          "metadata": {},
          "execution_count": 23
        }
      ]
    },
    {
      "cell_type": "code",
      "metadata": {
        "id": "gr9viudkwCmG",
        "colab": {
          "base_uri": "https://localhost:8080/",
          "height": 419
        },
        "outputId": "7f2da55d-ae96-4084-cd49-97e0ee87fd32"
      },
      "source": [
        "from scipy import stats\n",
        "\n",
        "z_scores = stats.zscore(data2_encode.iloc[:,:6])\n",
        "\n",
        "abs_z_scores = np.abs(z_scores)\n",
        "filtered_entries = (abs_z_scores < 3).all(axis=1)\n",
        "data2_encode = data2_encode[filtered_entries]\n",
        "\n",
        "data2_encode"
      ],
      "execution_count": 24,
      "outputs": [
        {
          "output_type": "execute_result",
          "data": {
            "text/html": [
              "<div>\n",
              "<style scoped>\n",
              "    .dataframe tbody tr th:only-of-type {\n",
              "        vertical-align: middle;\n",
              "    }\n",
              "\n",
              "    .dataframe tbody tr th {\n",
              "        vertical-align: top;\n",
              "    }\n",
              "\n",
              "    .dataframe thead th {\n",
              "        text-align: right;\n",
              "    }\n",
              "</style>\n",
              "<table border=\"1\" class=\"dataframe\">\n",
              "  <thead>\n",
              "    <tr style=\"text-align: right;\">\n",
              "      <th></th>\n",
              "      <th>PH</th>\n",
              "      <th>cahaya</th>\n",
              "      <th>intensitas_air</th>\n",
              "      <th>suhu</th>\n",
              "      <th>PPM</th>\n",
              "      <th>tinggi_air</th>\n",
              "      <th>aksi</th>\n",
              "    </tr>\n",
              "  </thead>\n",
              "  <tbody>\n",
              "    <tr>\n",
              "      <th>0</th>\n",
              "      <td>6.5</td>\n",
              "      <td>5.0</td>\n",
              "      <td>4.0</td>\n",
              "      <td>27.0</td>\n",
              "      <td>188.0</td>\n",
              "      <td>622.0</td>\n",
              "      <td>Hidupkan Lampu dan Pompa nutrisi TDS</td>\n",
              "    </tr>\n",
              "    <tr>\n",
              "      <th>1</th>\n",
              "      <td>5.7</td>\n",
              "      <td>5.0</td>\n",
              "      <td>4.0</td>\n",
              "      <td>26.9</td>\n",
              "      <td>79.0</td>\n",
              "      <td>557.0</td>\n",
              "      <td>Hidupkan Lampu dan Pompa nutrisi TDS</td>\n",
              "    </tr>\n",
              "    <tr>\n",
              "      <th>2</th>\n",
              "      <td>6.0</td>\n",
              "      <td>5.0</td>\n",
              "      <td>4.0</td>\n",
              "      <td>27.0</td>\n",
              "      <td>11.0</td>\n",
              "      <td>491.0</td>\n",
              "      <td>Hidupkan Lampu dan Pompa nutrisi TDS</td>\n",
              "    </tr>\n",
              "    <tr>\n",
              "      <th>10</th>\n",
              "      <td>6.5</td>\n",
              "      <td>5.0</td>\n",
              "      <td>4.0</td>\n",
              "      <td>26.5</td>\n",
              "      <td>994.0</td>\n",
              "      <td>219.0</td>\n",
              "      <td>Hidupkan Lampu</td>\n",
              "    </tr>\n",
              "    <tr>\n",
              "      <th>11</th>\n",
              "      <td>6.5</td>\n",
              "      <td>5.0</td>\n",
              "      <td>4.0</td>\n",
              "      <td>29.9</td>\n",
              "      <td>1604.0</td>\n",
              "      <td>103.0</td>\n",
              "      <td>Hidupkan Lampu</td>\n",
              "    </tr>\n",
              "    <tr>\n",
              "      <th>...</th>\n",
              "      <td>...</td>\n",
              "      <td>...</td>\n",
              "      <td>...</td>\n",
              "      <td>...</td>\n",
              "      <td>...</td>\n",
              "      <td>...</td>\n",
              "      <td>...</td>\n",
              "    </tr>\n",
              "    <tr>\n",
              "      <th>611</th>\n",
              "      <td>4.6</td>\n",
              "      <td>5.0</td>\n",
              "      <td>1.0</td>\n",
              "      <td>25.3</td>\n",
              "      <td>904.0</td>\n",
              "      <td>47.0</td>\n",
              "      <td>Hidupkan Lampu</td>\n",
              "    </tr>\n",
              "    <tr>\n",
              "      <th>612</th>\n",
              "      <td>2.1</td>\n",
              "      <td>5.0</td>\n",
              "      <td>1.0</td>\n",
              "      <td>25.0</td>\n",
              "      <td>388.0</td>\n",
              "      <td>18.0</td>\n",
              "      <td>Hidupkan Lampu dan Pompa nutrisi TDS</td>\n",
              "    </tr>\n",
              "    <tr>\n",
              "      <th>613</th>\n",
              "      <td>3.2</td>\n",
              "      <td>5.0</td>\n",
              "      <td>1.0</td>\n",
              "      <td>25.3</td>\n",
              "      <td>793.0</td>\n",
              "      <td>19.0</td>\n",
              "      <td>Hidupkan Lampu</td>\n",
              "    </tr>\n",
              "    <tr>\n",
              "      <th>614</th>\n",
              "      <td>1.4</td>\n",
              "      <td>5.0</td>\n",
              "      <td>1.0</td>\n",
              "      <td>25.4</td>\n",
              "      <td>1052.0</td>\n",
              "      <td>3.0</td>\n",
              "      <td>Hidupkan Lampu</td>\n",
              "    </tr>\n",
              "    <tr>\n",
              "      <th>615</th>\n",
              "      <td>5.0</td>\n",
              "      <td>5.0</td>\n",
              "      <td>1.0</td>\n",
              "      <td>25.3</td>\n",
              "      <td>977.0</td>\n",
              "      <td>19.0</td>\n",
              "      <td>Hidupkan Lampu</td>\n",
              "    </tr>\n",
              "  </tbody>\n",
              "</table>\n",
              "<p>586 rows × 7 columns</p>\n",
              "</div>"
            ],
            "text/plain": [
              "      PH  cahaya  ...  tinggi_air                                  aksi\n",
              "0    6.5     5.0  ...       622.0  Hidupkan Lampu dan Pompa nutrisi TDS\n",
              "1    5.7     5.0  ...       557.0  Hidupkan Lampu dan Pompa nutrisi TDS\n",
              "2    6.0     5.0  ...       491.0  Hidupkan Lampu dan Pompa nutrisi TDS\n",
              "10   6.5     5.0  ...       219.0                        Hidupkan Lampu\n",
              "11   6.5     5.0  ...       103.0                        Hidupkan Lampu\n",
              "..   ...     ...  ...         ...                                   ...\n",
              "611  4.6     5.0  ...        47.0                        Hidupkan Lampu\n",
              "612  2.1     5.0  ...        18.0  Hidupkan Lampu dan Pompa nutrisi TDS\n",
              "613  3.2     5.0  ...        19.0                        Hidupkan Lampu\n",
              "614  1.4     5.0  ...         3.0                        Hidupkan Lampu\n",
              "615  5.0     5.0  ...        19.0                        Hidupkan Lampu\n",
              "\n",
              "[586 rows x 7 columns]"
            ]
          },
          "metadata": {},
          "execution_count": 24
        }
      ]
    },
    {
      "cell_type": "code",
      "metadata": {
        "colab": {
          "base_uri": "https://localhost:8080/"
        },
        "id": "YKqEpJPHLsLd",
        "outputId": "a6901347-60e5-4a8f-b337-d3dc7770f1e8"
      },
      "source": [
        "data2_encode.info()"
      ],
      "execution_count": 25,
      "outputs": [
        {
          "output_type": "stream",
          "name": "stdout",
          "text": [
            "<class 'pandas.core.frame.DataFrame'>\n",
            "Int64Index: 586 entries, 0 to 615\n",
            "Data columns (total 7 columns):\n",
            " #   Column          Non-Null Count  Dtype  \n",
            "---  ------          --------------  -----  \n",
            " 0   PH              586 non-null    float64\n",
            " 1   cahaya          586 non-null    float64\n",
            " 2   intensitas_air  586 non-null    float64\n",
            " 3   suhu            586 non-null    float64\n",
            " 4   PPM             586 non-null    float64\n",
            " 5   tinggi_air      586 non-null    float64\n",
            " 6   aksi            586 non-null    object \n",
            "dtypes: float64(6), object(1)\n",
            "memory usage: 36.6+ KB\n"
          ]
        }
      ]
    },
    {
      "cell_type": "code",
      "metadata": {
        "colab": {
          "base_uri": "https://localhost:8080/",
          "height": 450
        },
        "id": "XW3RWYuuhH0J",
        "outputId": "d7f14985-81c8-4dea-d2ad-d44f86b4eab1"
      },
      "source": [
        "num_cols = ['PH', 'cahaya', 'intensitas_air', 'suhu', 'PPM', 'tinggi_air']\n",
        "plt.figure(figsize=(15,7))\n",
        "data2_encode[num_cols].boxplot()\n",
        "plt.title(\"Numerical variables in Titanic dataset\", fontsize=20)\n",
        "plt.show()"
      ],
      "execution_count": 26,
      "outputs": [
        {
          "output_type": "display_data",
          "data": {
            "image/png": "[encoded data removed]",
            "text/plain": [
              "<Figure size 1080x504 with 1 Axes>"
            ]
          },
          "metadata": {
            "needs_background": "light"
          }
        }
      ]
    },
    {
      "cell_type": "code",
      "metadata": {
        "id": "QDPY6ShI7I2R"
      },
      "source": [
        ""
      ],
      "execution_count": 26,
      "outputs": []
    },
    {
      "cell_type": "markdown",
      "metadata": {
        "id": "EFQ0YfYLa9Vy"
      },
      "source": [
        "## 5. Pisahkan data feature dengan label"
      ]
    },
    {
      "cell_type": "code",
      "metadata": {
        "id": "Jjxt06KTa9Vy",
        "colab": {
          "base_uri": "https://localhost:8080/",
          "height": 419
        },
        "outputId": "11f3919e-5ee9-44a6-d5fb-8138d04f49cd"
      },
      "source": [
        "#Isi Code\n",
        "# Data Feature\n",
        "X = data2_encode.iloc[:, :-1]\n",
        "X"
      ],
      "execution_count": 27,
      "outputs": [
        {
          "output_type": "execute_result",
          "data": {
            "text/html": [
              "<div>\n",
              "<style scoped>\n",
              "    .dataframe tbody tr th:only-of-type {\n",
              "        vertical-align: middle;\n",
              "    }\n",
              "\n",
              "    .dataframe tbody tr th {\n",
              "        vertical-align: top;\n",
              "    }\n",
              "\n",
              "    .dataframe thead th {\n",
              "        text-align: right;\n",
              "    }\n",
              "</style>\n",
              "<table border=\"1\" class=\"dataframe\">\n",
              "  <thead>\n",
              "    <tr style=\"text-align: right;\">\n",
              "      <th></th>\n",
              "      <th>PH</th>\n",
              "      <th>cahaya</th>\n",
              "      <th>intensitas_air</th>\n",
              "      <th>suhu</th>\n",
              "      <th>PPM</th>\n",
              "      <th>tinggi_air</th>\n",
              "    </tr>\n",
              "  </thead>\n",
              "  <tbody>\n",
              "    <tr>\n",
              "      <th>0</th>\n",
              "      <td>6.5</td>\n",
              "      <td>5.0</td>\n",
              "      <td>4.0</td>\n",
              "      <td>27.0</td>\n",
              "      <td>188.0</td>\n",
              "      <td>622.0</td>\n",
              "    </tr>\n",
              "    <tr>\n",
              "      <th>1</th>\n",
              "      <td>5.7</td>\n",
              "      <td>5.0</td>\n",
              "      <td>4.0</td>\n",
              "      <td>26.9</td>\n",
              "      <td>79.0</td>\n",
              "      <td>557.0</td>\n",
              "    </tr>\n",
              "    <tr>\n",
              "      <th>2</th>\n",
              "      <td>6.0</td>\n",
              "      <td>5.0</td>\n",
              "      <td>4.0</td>\n",
              "      <td>27.0</td>\n",
              "      <td>11.0</td>\n",
              "      <td>491.0</td>\n",
              "    </tr>\n",
              "    <tr>\n",
              "      <th>10</th>\n",
              "      <td>6.5</td>\n",
              "      <td>5.0</td>\n",
              "      <td>4.0</td>\n",
              "      <td>26.5</td>\n",
              "      <td>994.0</td>\n",
              "      <td>219.0</td>\n",
              "    </tr>\n",
              "    <tr>\n",
              "      <th>11</th>\n",
              "      <td>6.5</td>\n",
              "      <td>5.0</td>\n",
              "      <td>4.0</td>\n",
              "      <td>29.9</td>\n",
              "      <td>1604.0</td>\n",
              "      <td>103.0</td>\n",
              "    </tr>\n",
              "    <tr>\n",
              "      <th>...</th>\n",
              "      <td>...</td>\n",
              "      <td>...</td>\n",
              "      <td>...</td>\n",
              "      <td>...</td>\n",
              "      <td>...</td>\n",
              "      <td>...</td>\n",
              "    </tr>\n",
              "    <tr>\n",
              "      <th>611</th>\n",
              "      <td>4.6</td>\n",
              "      <td>5.0</td>\n",
              "      <td>1.0</td>\n",
              "      <td>25.3</td>\n",
              "      <td>904.0</td>\n",
              "      <td>47.0</td>\n",
              "    </tr>\n",
              "    <tr>\n",
              "      <th>612</th>\n",
              "      <td>2.1</td>\n",
              "      <td>5.0</td>\n",
              "      <td>1.0</td>\n",
              "      <td>25.0</td>\n",
              "      <td>388.0</td>\n",
              "      <td>18.0</td>\n",
              "    </tr>\n",
              "    <tr>\n",
              "      <th>613</th>\n",
              "      <td>3.2</td>\n",
              "      <td>5.0</td>\n",
              "      <td>1.0</td>\n",
              "      <td>25.3</td>\n",
              "      <td>793.0</td>\n",
              "      <td>19.0</td>\n",
              "    </tr>\n",
              "    <tr>\n",
              "      <th>614</th>\n",
              "      <td>1.4</td>\n",
              "      <td>5.0</td>\n",
              "      <td>1.0</td>\n",
              "      <td>25.4</td>\n",
              "      <td>1052.0</td>\n",
              "      <td>3.0</td>\n",
              "    </tr>\n",
              "    <tr>\n",
              "      <th>615</th>\n",
              "      <td>5.0</td>\n",
              "      <td>5.0</td>\n",
              "      <td>1.0</td>\n",
              "      <td>25.3</td>\n",
              "      <td>977.0</td>\n",
              "      <td>19.0</td>\n",
              "    </tr>\n",
              "  </tbody>\n",
              "</table>\n",
              "<p>586 rows × 6 columns</p>\n",
              "</div>"
            ],
            "text/plain": [
              "      PH  cahaya  intensitas_air  suhu     PPM  tinggi_air\n",
              "0    6.5     5.0             4.0  27.0   188.0       622.0\n",
              "1    5.7     5.0             4.0  26.9    79.0       557.0\n",
              "2    6.0     5.0             4.0  27.0    11.0       491.0\n",
              "10   6.5     5.0             4.0  26.5   994.0       219.0\n",
              "11   6.5     5.0             4.0  29.9  1604.0       103.0\n",
              "..   ...     ...             ...   ...     ...         ...\n",
              "611  4.6     5.0             1.0  25.3   904.0        47.0\n",
              "612  2.1     5.0             1.0  25.0   388.0        18.0\n",
              "613  3.2     5.0             1.0  25.3   793.0        19.0\n",
              "614  1.4     5.0             1.0  25.4  1052.0         3.0\n",
              "615  5.0     5.0             1.0  25.3   977.0        19.0\n",
              "\n",
              "[586 rows x 6 columns]"
            ]
          },
          "metadata": {},
          "execution_count": 27
        }
      ]
    },
    {
      "cell_type": "code",
      "metadata": {
        "colab": {
          "base_uri": "https://localhost:8080/"
        },
        "id": "vnvqqvSSon0a",
        "outputId": "4939f914-cb6f-4d4c-9bd6-515f69027083"
      },
      "source": [
        "# Label\n",
        "Y = data2_encode.iloc[:, -1]\n",
        "Y"
      ],
      "execution_count": 28,
      "outputs": [
        {
          "output_type": "execute_result",
          "data": {
            "text/plain": [
              "0      Hidupkan Lampu dan Pompa nutrisi TDS\n",
              "1      Hidupkan Lampu dan Pompa nutrisi TDS\n",
              "2      Hidupkan Lampu dan Pompa nutrisi TDS\n",
              "10                           Hidupkan Lampu\n",
              "11                           Hidupkan Lampu\n",
              "                       ...                 \n",
              "611                          Hidupkan Lampu\n",
              "612    Hidupkan Lampu dan Pompa nutrisi TDS\n",
              "613                          Hidupkan Lampu\n",
              "614                          Hidupkan Lampu\n",
              "615                          Hidupkan Lampu\n",
              "Name: aksi, Length: 586, dtype: object"
            ]
          },
          "metadata": {},
          "execution_count": 28
        }
      ]
    },
    {
      "cell_type": "markdown",
      "metadata": {
        "id": "YCGKwPFra9Vz"
      },
      "source": [
        "## 6. Check Imbalanced Dataset, jika imbalanced, gunakan smote"
      ]
    },
    {
      "cell_type": "code",
      "metadata": {
        "colab": {
          "base_uri": "https://localhost:8080/",
          "height": 173
        },
        "id": "s6qdjeJdr0dd",
        "outputId": "b06d31c4-cd4f-4d7d-fbfc-625a652c9991"
      },
      "source": [
        "from collections import Counter\n",
        "\n",
        "train = Counter(Y)\n",
        "train = pd.DataFrame.from_dict(train, orient='index')\n",
        "train.sort_index()"
      ],
      "execution_count": 29,
      "outputs": [
        {
          "output_type": "execute_result",
          "data": {
            "text/html": [
              "<div>\n",
              "<style scoped>\n",
              "    .dataframe tbody tr th:only-of-type {\n",
              "        vertical-align: middle;\n",
              "    }\n",
              "\n",
              "    .dataframe tbody tr th {\n",
              "        vertical-align: top;\n",
              "    }\n",
              "\n",
              "    .dataframe thead th {\n",
              "        text-align: right;\n",
              "    }\n",
              "</style>\n",
              "<table border=\"1\" class=\"dataframe\">\n",
              "  <thead>\n",
              "    <tr style=\"text-align: right;\">\n",
              "      <th></th>\n",
              "      <th>0</th>\n",
              "    </tr>\n",
              "  </thead>\n",
              "  <tbody>\n",
              "    <tr>\n",
              "      <th>Hidupkan Lampu</th>\n",
              "      <td>88</td>\n",
              "    </tr>\n",
              "    <tr>\n",
              "      <th>Hidupkan Lampu dan Pompa nutrisi TDS</th>\n",
              "      <td>39</td>\n",
              "    </tr>\n",
              "    <tr>\n",
              "      <th>Hidupkan Pompa nutrisi TDS</th>\n",
              "      <td>12</td>\n",
              "    </tr>\n",
              "    <tr>\n",
              "      <th>Tidak melakukan apa-apa</th>\n",
              "      <td>447</td>\n",
              "    </tr>\n",
              "  </tbody>\n",
              "</table>\n",
              "</div>"
            ],
            "text/plain": [
              "                                        0\n",
              "Hidupkan Lampu                         88\n",
              "Hidupkan Lampu dan Pompa nutrisi TDS   39\n",
              "Hidupkan Pompa nutrisi TDS             12\n",
              "Tidak melakukan apa-apa               447"
            ]
          },
          "metadata": {},
          "execution_count": 29
        }
      ]
    },
    {
      "cell_type": "code",
      "metadata": {
        "id": "5YI-izdXa9V0"
      },
      "source": [
        "# !pip install imbalanced-learn"
      ],
      "execution_count": 30,
      "outputs": []
    },
    {
      "cell_type": "code",
      "metadata": {
        "id": "DIfkA5_da9V0",
        "colab": {
          "base_uri": "https://localhost:8080/",
          "height": 261
        },
        "outputId": "9ea99a78-31e2-407c-8f3f-70136f1ef538"
      },
      "source": [
        "#Isi Code\n",
        "from imblearn.over_sampling import SMOTE\n",
        "import warnings\n",
        "warnings.filterwarnings(\"ignore\")\n",
        "\n",
        "over_sampler = SMOTE(k_neighbors=7)\n",
        "X_res, Y_res = over_sampler.fit_resample(X, Y)\n",
        "df_res = Counter(Y_res)\n",
        "df_res = pd.DataFrame.from_dict(df_res, orient='index')\n",
        "df_res.sort_index()"
      ],
      "execution_count": 31,
      "outputs": [
        {
          "output_type": "stream",
          "name": "stderr",
          "text": [
            "/usr/local/lib/python3.7/dist-packages/sklearn/externals/six.py:31: FutureWarning: The module is deprecated in version 0.21 and will be removed in version 0.23 since we've dropped support for Python 2.7. Please rely on the official version of six (https://pypi.org/project/six/).\n",
            "  \"(https://pypi.org/project/six/).\", FutureWarning)\n",
            "/usr/local/lib/python3.7/dist-packages/sklearn/utils/deprecation.py:144: FutureWarning: The sklearn.neighbors.base module is  deprecated in version 0.22 and will be removed in version 0.24. The corresponding classes / functions should instead be imported from sklearn.neighbors. Anything that cannot be imported from sklearn.neighbors is now part of the private API.\n",
            "  warnings.warn(message, FutureWarning)\n"
          ]
        },
        {
          "output_type": "execute_result",
          "data": {
            "text/html": [
              "<div>\n",
              "<style scoped>\n",
              "    .dataframe tbody tr th:only-of-type {\n",
              "        vertical-align: middle;\n",
              "    }\n",
              "\n",
              "    .dataframe tbody tr th {\n",
              "        vertical-align: top;\n",
              "    }\n",
              "\n",
              "    .dataframe thead th {\n",
              "        text-align: right;\n",
              "    }\n",
              "</style>\n",
              "<table border=\"1\" class=\"dataframe\">\n",
              "  <thead>\n",
              "    <tr style=\"text-align: right;\">\n",
              "      <th></th>\n",
              "      <th>0</th>\n",
              "    </tr>\n",
              "  </thead>\n",
              "  <tbody>\n",
              "    <tr>\n",
              "      <th>Hidupkan Lampu</th>\n",
              "      <td>447</td>\n",
              "    </tr>\n",
              "    <tr>\n",
              "      <th>Hidupkan Lampu dan Pompa nutrisi TDS</th>\n",
              "      <td>447</td>\n",
              "    </tr>\n",
              "    <tr>\n",
              "      <th>Hidupkan Pompa nutrisi TDS</th>\n",
              "      <td>447</td>\n",
              "    </tr>\n",
              "    <tr>\n",
              "      <th>Tidak melakukan apa-apa</th>\n",
              "      <td>447</td>\n",
              "    </tr>\n",
              "  </tbody>\n",
              "</table>\n",
              "</div>"
            ],
            "text/plain": [
              "                                        0\n",
              "Hidupkan Lampu                        447\n",
              "Hidupkan Lampu dan Pompa nutrisi TDS  447\n",
              "Hidupkan Pompa nutrisi TDS            447\n",
              "Tidak melakukan apa-apa               447"
            ]
          },
          "metadata": {},
          "execution_count": 31
        }
      ]
    },
    {
      "cell_type": "markdown",
      "metadata": {
        "id": "2gLiWKVza9V1"
      },
      "source": [
        "## 7. Visualisasikan Data sehingga kita bisa mengetahui sebuah informasi"
      ]
    },
    {
      "cell_type": "code",
      "metadata": {
        "id": "hJMzN-gMa9V2",
        "colab": {
          "base_uri": "https://localhost:8080/",
          "height": 608
        },
        "outputId": "73e4cf72-0eb8-4a34-aca0-3cc813ad4136"
      },
      "source": [
        "#Isi Code\n",
        "hist = data2_encode.hist(figsize=(20,10), layout=(2,3), bins=50, color=\"darkturquoise\")"
      ],
      "execution_count": 32,
      "outputs": [
        {
          "output_type": "display_data",
          "data": {
            "image/png": "[encoded data removed]",
            "text/plain": [
              "<Figure size 1440x720 with 6 Axes>"
            ]
          },
          "metadata": {
            "needs_background": "light"
          }
        }
      ]
    },
    {
      "cell_type": "code",
      "metadata": {
        "id": "FaMLEiNqxZaI",
        "colab": {
          "base_uri": "https://localhost:8080/",
          "height": 297
        },
        "outputId": "f07bbf75-165c-40b4-c467-b6101b538ed8"
      },
      "source": [
        "data2_encode.describe()"
      ],
      "execution_count": 33,
      "outputs": [
        {
          "output_type": "execute_result",
          "data": {
            "text/html": [
              "<div>\n",
              "<style scoped>\n",
              "    .dataframe tbody tr th:only-of-type {\n",
              "        vertical-align: middle;\n",
              "    }\n",
              "\n",
              "    .dataframe tbody tr th {\n",
              "        vertical-align: top;\n",
              "    }\n",
              "\n",
              "    .dataframe thead th {\n",
              "        text-align: right;\n",
              "    }\n",
              "</style>\n",
              "<table border=\"1\" class=\"dataframe\">\n",
              "  <thead>\n",
              "    <tr style=\"text-align: right;\">\n",
              "      <th></th>\n",
              "      <th>PH</th>\n",
              "      <th>cahaya</th>\n",
              "      <th>intensitas_air</th>\n",
              "      <th>suhu</th>\n",
              "      <th>PPM</th>\n",
              "      <th>tinggi_air</th>\n",
              "    </tr>\n",
              "  </thead>\n",
              "  <tbody>\n",
              "    <tr>\n",
              "      <th>count</th>\n",
              "      <td>586.000000</td>\n",
              "      <td>586.000000</td>\n",
              "      <td>586.000000</td>\n",
              "      <td>586.000000</td>\n",
              "      <td>586.000000</td>\n",
              "      <td>586.000000</td>\n",
              "    </tr>\n",
              "    <tr>\n",
              "      <th>mean</th>\n",
              "      <td>6.639932</td>\n",
              "      <td>5.486348</td>\n",
              "      <td>2.482935</td>\n",
              "      <td>30.112628</td>\n",
              "      <td>1035.460751</td>\n",
              "      <td>252.634812</td>\n",
              "    </tr>\n",
              "    <tr>\n",
              "      <th>std</th>\n",
              "      <td>2.986032</td>\n",
              "      <td>0.500241</td>\n",
              "      <td>1.098818</td>\n",
              "      <td>3.037601</td>\n",
              "      <td>631.173683</td>\n",
              "      <td>200.680772</td>\n",
              "    </tr>\n",
              "    <tr>\n",
              "      <th>min</th>\n",
              "      <td>0.000000</td>\n",
              "      <td>5.000000</td>\n",
              "      <td>1.000000</td>\n",
              "      <td>25.000000</td>\n",
              "      <td>1.000000</td>\n",
              "      <td>0.000000</td>\n",
              "    </tr>\n",
              "    <tr>\n",
              "      <th>25%</th>\n",
              "      <td>5.600000</td>\n",
              "      <td>5.000000</td>\n",
              "      <td>2.000000</td>\n",
              "      <td>27.100000</td>\n",
              "      <td>497.750000</td>\n",
              "      <td>50.000000</td>\n",
              "    </tr>\n",
              "    <tr>\n",
              "      <th>50%</th>\n",
              "      <td>6.500000</td>\n",
              "      <td>5.000000</td>\n",
              "      <td>2.000000</td>\n",
              "      <td>29.900000</td>\n",
              "      <td>992.500000</td>\n",
              "      <td>222.500000</td>\n",
              "    </tr>\n",
              "    <tr>\n",
              "      <th>75%</th>\n",
              "      <td>7.500000</td>\n",
              "      <td>6.000000</td>\n",
              "      <td>3.000000</td>\n",
              "      <td>33.000000</td>\n",
              "      <td>1603.750000</td>\n",
              "      <td>429.000000</td>\n",
              "    </tr>\n",
              "    <tr>\n",
              "      <th>max</th>\n",
              "      <td>14.000000</td>\n",
              "      <td>6.000000</td>\n",
              "      <td>4.000000</td>\n",
              "      <td>40.600000</td>\n",
              "      <td>2149.000000</td>\n",
              "      <td>629.000000</td>\n",
              "    </tr>\n",
              "  </tbody>\n",
              "</table>\n",
              "</div>"
            ],
            "text/plain": [
              "               PH      cahaya  ...          PPM  tinggi_air\n",
              "count  586.000000  586.000000  ...   586.000000  586.000000\n",
              "mean     6.639932    5.486348  ...  1035.460751  252.634812\n",
              "std      2.986032    0.500241  ...   631.173683  200.680772\n",
              "min      0.000000    5.000000  ...     1.000000    0.000000\n",
              "25%      5.600000    5.000000  ...   497.750000   50.000000\n",
              "50%      6.500000    5.000000  ...   992.500000  222.500000\n",
              "75%      7.500000    6.000000  ...  1603.750000  429.000000\n",
              "max     14.000000    6.000000  ...  2149.000000  629.000000\n",
              "\n",
              "[8 rows x 6 columns]"
            ]
          },
          "metadata": {},
          "execution_count": 33
        }
      ]
    },
    {
      "cell_type": "markdown",
      "metadata": {
        "id": "byMOPkmra9V2"
      },
      "source": [
        "## 8. Lakukan Normalization menggunakan MinMaxScaler atau Standardization menggunakan StandarScaler"
      ]
    },
    {
      "cell_type": "code",
      "metadata": {
        "id": "i0XxulQra9V3",
        "colab": {
          "base_uri": "https://localhost:8080/"
        },
        "outputId": "ca5f93d1-7e0e-41c3-80d4-9d8fc4f3548c"
      },
      "source": [
        "#Isi Kode\n",
        "from sklearn.preprocessing import MinMaxScaler\n",
        "\n",
        "scaler =  MinMaxScaler()\n",
        "X_scaled = scaler.fit_transform(X_res.astype(float))\n",
        "print(len(X_scaled), len(X_res))"
      ],
      "execution_count": 34,
      "outputs": [
        {
          "output_type": "stream",
          "name": "stdout",
          "text": [
            "1788 1788\n"
          ]
        }
      ]
    },
    {
      "cell_type": "code",
      "metadata": {
        "colab": {
          "base_uri": "https://localhost:8080/"
        },
        "id": "sVomyz4uZMi_",
        "outputId": "a01aad8f-f10b-4461-f2ce-77f0b1b34fdf"
      },
      "source": [
        "from sklearn import preprocessing\n",
        "\n",
        "standard_scaler = preprocessing.StandardScaler()\n",
        "X_std = preprocessing.StandardScaler().fit(X_res).transform(X_res.astype(float))\n",
        "print(len(X_std), len(X_res), len(Y_res))"
      ],
      "execution_count": 35,
      "outputs": [
        {
          "output_type": "stream",
          "name": "stdout",
          "text": [
            "1788 1788 1788\n"
          ]
        }
      ]
    },
    {
      "cell_type": "markdown",
      "metadata": {
        "id": "FJpwBxZfa9V3"
      },
      "source": [
        "## 9. Buat model ANN"
      ]
    },
    {
      "cell_type": "code",
      "metadata": {
        "id": "g5o_R7WbJXJp"
      },
      "source": [
        "from sklearn.preprocessing import LabelEncoder\n",
        "from sklearn.model_selection import train_test_split"
      ],
      "execution_count": 36,
      "outputs": []
    },
    {
      "cell_type": "code",
      "metadata": {
        "id": "1Zo0ODA8a9V4",
        "colab": {
          "base_uri": "https://localhost:8080/"
        },
        "outputId": "603eeb87-ce8d-48f1-d82a-9f82f6dd5418"
      },
      "source": [
        "#Isi Code\n",
        "\n",
        "# encode string menjadi integer\n",
        "y = LabelEncoder().fit_transform(Y_res)\n",
        "\n",
        "# split dataset menjadi 80% data training dan 20% data testing\n",
        "X_train_ANN, X_test_ANN, y_train_ANN, y_test_ANN = train_test_split(X_std, y, test_size=0.2, random_state=4)\n",
        "print('Train set:', X_train_ANN.shape,  y_train_ANN.shape)\n",
        "print('Test set:', X_test_ANN.shape,  y_test_ANN.shape)\n",
        "\n",
        "\n",
        "# memperoleh banyaknya jumlah fitur pada input\n",
        "n_features = X_train_ANN.shape[1]"
      ],
      "execution_count": 37,
      "outputs": [
        {
          "output_type": "stream",
          "name": "stdout",
          "text": [
            "Train set: (1430, 6) (1430,)\n",
            "Test set: (358, 6) (358,)\n"
          ]
        }
      ]
    },
    {
      "cell_type": "code",
      "metadata": {
        "colab": {
          "base_uri": "https://localhost:8080/"
        },
        "id": "laDoovc8JvTL",
        "outputId": "50ce2423-cf02-49a3-b953-835687e48fb7"
      },
      "source": [
        "y"
      ],
      "execution_count": 38,
      "outputs": [
        {
          "output_type": "execute_result",
          "data": {
            "text/plain": [
              "array([1, 1, 1, ..., 2, 2, 2])"
            ]
          },
          "metadata": {},
          "execution_count": 38
        }
      ]
    },
    {
      "cell_type": "code",
      "metadata": {
        "id": "6B8kqU-RJbmA"
      },
      "source": [
        "from tensorflow.keras.layers import Dense, Dropout, BatchNormalization\n",
        "from tensorflow.keras import Sequential\n",
        "from tensorflow.keras.optimizers import SGD"
      ],
      "execution_count": 39,
      "outputs": []
    },
    {
      "cell_type": "code",
      "metadata": {
        "id": "MZHGSlcZLyTh"
      },
      "source": [
        "# from tensorflow.keras.optimizers import Adam\n",
        "# from tensorflow.keras.losses import MeanSquaredError"
      ],
      "execution_count": 40,
      "outputs": []
    },
    {
      "cell_type": "code",
      "metadata": {
        "id": "uJ8B5Eu9EYsL"
      },
      "source": [
        "# # define model\n",
        "# model = Sequential()\n",
        "# model.add(Dense(16, input_shape=(n_features,)))\n",
        "# model.add(Dropout(0.5))\n",
        "# model.add(BatchNormalization())\n",
        "# model.add(Dense(32, activation = 'relu'))\n",
        "# model.add(Dense(32, activation = 'relu'))\n",
        "# model.add(Dropout(0.15))\n",
        "# model.add(Dense(28))\n",
        "# model.add(Dense(10))\n",
        "# model.add(BatchNormalization())\n",
        "# model.add(Dense(6))\n",
        "# model.add(Dense(1, activation='sigmoid'))\n",
        "\n",
        "# # compile model \n",
        "# model.compile(loss='mean_squared_error', optimizer='adam', metrics=['accuracy'])\n",
        "\n",
        "# # fit model \n",
        "# history = model.fit(X_train_ANN, y_train_ANN, epochs=100, batch_size=10, verbose=1, validation_split=0.2)"
      ],
      "execution_count": 41,
      "outputs": []
    },
    {
      "cell_type": "code",
      "metadata": {
        "id": "t2hCSBr0S9ML"
      },
      "source": [
        "# # define model \n",
        "# model = Sequential()\n",
        "# model.add(Dense(16, activation='relu', input_shape=(n_features, )))\n",
        "# model.add(Dense(8, activation='relu'))\n",
        "# model.add(Dense(8, activation='relu'))\n",
        "# model.add(Dense(1, activation='sigmoid'))\n",
        "\n",
        "# # compile model \n",
        "# model.compile(loss='mean_squared_error', optimizer='adam', metrics=['accuracy'])\n",
        "\n",
        "# # fit model \n",
        "# history = model.fit(X_train_ANN, y_train_ANN, epochs=100, batch_size=10, validation_split=0.2, verbose=2)"
      ],
      "execution_count": 42,
      "outputs": []
    },
    {
      "cell_type": "code",
      "metadata": {
        "colab": {
          "base_uri": "https://localhost:8080/"
        },
        "id": "jZ4QO2hxeL33",
        "outputId": "04d96f3f-8de9-468f-ae89-bd204fa40d1d"
      },
      "source": [
        "model = Sequential()\n",
        "model.add(Dense(32, activation='relu', input_shape=(n_features, )))\n",
        "model.add(Dense(10, activation='relu', kernel_initializer='uniform'))\n",
        "model.add(Dropout(0.1))\n",
        "model.add(Dense(1, activation='relu'))\n",
        "sdg = SGD(lr=0.001, momentum=0.9)\n",
        "model.compile(loss='mean_absolute_error', optimizer=sdg, metrics=['accuracy'])\n",
        "history = model.fit(X_train_ANN, y_train_ANN, epochs=100, batch_size=10, validation_split=0.2, verbose=2)"
      ],
      "execution_count": 43,
      "outputs": [
        {
          "output_type": "stream",
          "name": "stdout",
          "text": [
            "Epoch 1/100\n",
            "115/115 - 1s - loss: 0.9819 - accuracy: 0.2981 - val_loss: 0.4475 - val_accuracy: 0.4196\n",
            "Epoch 2/100\n",
            "115/115 - 0s - loss: 0.5075 - accuracy: 0.4205 - val_loss: 0.3677 - val_accuracy: 0.4476\n",
            "Epoch 3/100\n",
            "115/115 - 0s - loss: 0.4662 - accuracy: 0.4388 - val_loss: 0.3551 - val_accuracy: 0.4685\n",
            "Epoch 4/100\n",
            "115/115 - 0s - loss: 0.4456 - accuracy: 0.4493 - val_loss: 0.3329 - val_accuracy: 0.4720\n",
            "Epoch 5/100\n",
            "115/115 - 0s - loss: 0.4267 - accuracy: 0.4563 - val_loss: 0.3153 - val_accuracy: 0.4685\n",
            "Epoch 6/100\n",
            "115/115 - 0s - loss: 0.4174 - accuracy: 0.4493 - val_loss: 0.2999 - val_accuracy: 0.4685\n",
            "Epoch 7/100\n",
            "115/115 - 0s - loss: 0.4144 - accuracy: 0.4484 - val_loss: 0.2901 - val_accuracy: 0.4650\n",
            "Epoch 8/100\n",
            "115/115 - 0s - loss: 0.3879 - accuracy: 0.4598 - val_loss: 0.2823 - val_accuracy: 0.4685\n",
            "Epoch 9/100\n",
            "115/115 - 0s - loss: 0.3898 - accuracy: 0.4510 - val_loss: 0.3034 - val_accuracy: 0.4720\n",
            "Epoch 10/100\n",
            "115/115 - 0s - loss: 0.3791 - accuracy: 0.4598 - val_loss: 0.3014 - val_accuracy: 0.4685\n",
            "Epoch 11/100\n",
            "115/115 - 0s - loss: 0.3661 - accuracy: 0.4607 - val_loss: 0.2667 - val_accuracy: 0.4685\n",
            "Epoch 12/100\n",
            "115/115 - 0s - loss: 0.3568 - accuracy: 0.4510 - val_loss: 0.2775 - val_accuracy: 0.4720\n",
            "Epoch 13/100\n",
            "115/115 - 0s - loss: 0.3410 - accuracy: 0.4703 - val_loss: 0.2526 - val_accuracy: 0.4755\n",
            "Epoch 14/100\n",
            "115/115 - 0s - loss: 0.3321 - accuracy: 0.4712 - val_loss: 0.2665 - val_accuracy: 0.4720\n",
            "Epoch 15/100\n",
            "115/115 - 0s - loss: 0.3382 - accuracy: 0.4563 - val_loss: 0.2398 - val_accuracy: 0.4685\n",
            "Epoch 16/100\n",
            "115/115 - 0s - loss: 0.3287 - accuracy: 0.4580 - val_loss: 0.2423 - val_accuracy: 0.4755\n",
            "Epoch 17/100\n",
            "115/115 - 0s - loss: 0.3198 - accuracy: 0.4659 - val_loss: 0.2382 - val_accuracy: 0.4755\n",
            "Epoch 18/100\n",
            "115/115 - 0s - loss: 0.3153 - accuracy: 0.4580 - val_loss: 0.2464 - val_accuracy: 0.4755\n",
            "Epoch 19/100\n",
            "115/115 - 0s - loss: 0.3004 - accuracy: 0.4659 - val_loss: 0.2444 - val_accuracy: 0.4790\n",
            "Epoch 20/100\n",
            "115/115 - 0s - loss: 0.2957 - accuracy: 0.4589 - val_loss: 0.2195 - val_accuracy: 0.4790\n",
            "Epoch 21/100\n",
            "115/115 - 0s - loss: 0.2773 - accuracy: 0.4685 - val_loss: 0.2239 - val_accuracy: 0.4755\n",
            "Epoch 22/100\n",
            "115/115 - 0s - loss: 0.2684 - accuracy: 0.4650 - val_loss: 0.2110 - val_accuracy: 0.4650\n",
            "Epoch 23/100\n",
            "115/115 - 0s - loss: 0.2679 - accuracy: 0.4598 - val_loss: 0.2101 - val_accuracy: 0.4790\n",
            "Epoch 24/100\n",
            "115/115 - 0s - loss: 0.2621 - accuracy: 0.4668 - val_loss: 0.2131 - val_accuracy: 0.4790\n",
            "Epoch 25/100\n",
            "115/115 - 0s - loss: 0.2674 - accuracy: 0.4642 - val_loss: 0.1994 - val_accuracy: 0.4790\n",
            "Epoch 26/100\n",
            "115/115 - 0s - loss: 0.2629 - accuracy: 0.4598 - val_loss: 0.1960 - val_accuracy: 0.4860\n",
            "Epoch 27/100\n",
            "115/115 - 0s - loss: 0.2566 - accuracy: 0.4694 - val_loss: 0.2063 - val_accuracy: 0.4790\n",
            "Epoch 28/100\n",
            "115/115 - 0s - loss: 0.2538 - accuracy: 0.4624 - val_loss: 0.1965 - val_accuracy: 0.4860\n",
            "Epoch 29/100\n",
            "115/115 - 0s - loss: 0.2482 - accuracy: 0.4650 - val_loss: 0.1843 - val_accuracy: 0.4860\n",
            "Epoch 30/100\n",
            "115/115 - 0s - loss: 0.2586 - accuracy: 0.4659 - val_loss: 0.1889 - val_accuracy: 0.4790\n",
            "Epoch 31/100\n",
            "115/115 - 0s - loss: 0.2494 - accuracy: 0.4589 - val_loss: 0.1812 - val_accuracy: 0.4895\n",
            "Epoch 32/100\n",
            "115/115 - 0s - loss: 0.2470 - accuracy: 0.4747 - val_loss: 0.1857 - val_accuracy: 0.4895\n",
            "Epoch 33/100\n",
            "115/115 - 0s - loss: 0.2419 - accuracy: 0.4703 - val_loss: 0.1839 - val_accuracy: 0.4755\n",
            "Epoch 34/100\n",
            "115/115 - 0s - loss: 0.2409 - accuracy: 0.4659 - val_loss: 0.1817 - val_accuracy: 0.4895\n",
            "Epoch 35/100\n",
            "115/115 - 0s - loss: 0.2326 - accuracy: 0.4712 - val_loss: 0.1968 - val_accuracy: 0.4790\n",
            "Epoch 36/100\n",
            "115/115 - 0s - loss: 0.2435 - accuracy: 0.4650 - val_loss: 0.1743 - val_accuracy: 0.4825\n",
            "Epoch 37/100\n",
            "115/115 - 0s - loss: 0.2520 - accuracy: 0.4624 - val_loss: 0.1783 - val_accuracy: 0.4825\n",
            "Epoch 38/100\n",
            "115/115 - 0s - loss: 0.2363 - accuracy: 0.4685 - val_loss: 0.1792 - val_accuracy: 0.4825\n",
            "Epoch 39/100\n",
            "115/115 - 0s - loss: 0.2315 - accuracy: 0.4677 - val_loss: 0.1833 - val_accuracy: 0.4860\n",
            "Epoch 40/100\n",
            "115/115 - 0s - loss: 0.2383 - accuracy: 0.4712 - val_loss: 0.1852 - val_accuracy: 0.4895\n",
            "Epoch 41/100\n",
            "115/115 - 0s - loss: 0.2360 - accuracy: 0.4668 - val_loss: 0.1762 - val_accuracy: 0.4860\n",
            "Epoch 42/100\n",
            "115/115 - 0s - loss: 0.2257 - accuracy: 0.4712 - val_loss: 0.1785 - val_accuracy: 0.4895\n",
            "Epoch 43/100\n",
            "115/115 - 0s - loss: 0.2298 - accuracy: 0.4747 - val_loss: 0.1662 - val_accuracy: 0.4860\n",
            "Epoch 44/100\n",
            "115/115 - 0s - loss: 0.2279 - accuracy: 0.4755 - val_loss: 0.1847 - val_accuracy: 0.4895\n",
            "Epoch 45/100\n",
            "115/115 - 0s - loss: 0.2251 - accuracy: 0.4712 - val_loss: 0.1877 - val_accuracy: 0.4860\n",
            "Epoch 46/100\n",
            "115/115 - 0s - loss: 0.2325 - accuracy: 0.4729 - val_loss: 0.1710 - val_accuracy: 0.4860\n",
            "Epoch 47/100\n",
            "115/115 - 0s - loss: 0.2317 - accuracy: 0.4694 - val_loss: 0.1632 - val_accuracy: 0.4895\n",
            "Epoch 48/100\n",
            "115/115 - 0s - loss: 0.2292 - accuracy: 0.4659 - val_loss: 0.1707 - val_accuracy: 0.4895\n",
            "Epoch 49/100\n",
            "115/115 - 0s - loss: 0.2240 - accuracy: 0.4773 - val_loss: 0.1876 - val_accuracy: 0.4860\n",
            "Epoch 50/100\n",
            "115/115 - 0s - loss: 0.2193 - accuracy: 0.4773 - val_loss: 0.1737 - val_accuracy: 0.4860\n",
            "Epoch 51/100\n",
            "115/115 - 0s - loss: 0.2216 - accuracy: 0.4738 - val_loss: 0.1753 - val_accuracy: 0.4895\n",
            "Epoch 52/100\n",
            "115/115 - 0s - loss: 0.2194 - accuracy: 0.4747 - val_loss: 0.1742 - val_accuracy: 0.4860\n",
            "Epoch 53/100\n",
            "115/115 - 0s - loss: 0.2192 - accuracy: 0.4712 - val_loss: 0.1762 - val_accuracy: 0.4860\n",
            "Epoch 54/100\n",
            "115/115 - 0s - loss: 0.2192 - accuracy: 0.4747 - val_loss: 0.1704 - val_accuracy: 0.4860\n",
            "Epoch 55/100\n",
            "115/115 - 0s - loss: 0.2187 - accuracy: 0.4738 - val_loss: 0.1799 - val_accuracy: 0.4860\n",
            "Epoch 56/100\n",
            "115/115 - 0s - loss: 0.2180 - accuracy: 0.4755 - val_loss: 0.1816 - val_accuracy: 0.4860\n",
            "Epoch 57/100\n",
            "115/115 - 0s - loss: 0.2187 - accuracy: 0.4799 - val_loss: 0.1822 - val_accuracy: 0.4895\n",
            "Epoch 58/100\n",
            "115/115 - 0s - loss: 0.2180 - accuracy: 0.4764 - val_loss: 0.1664 - val_accuracy: 0.4860\n",
            "Epoch 59/100\n",
            "115/115 - 0s - loss: 0.2167 - accuracy: 0.4677 - val_loss: 0.1653 - val_accuracy: 0.4895\n",
            "Epoch 60/100\n",
            "115/115 - 0s - loss: 0.2145 - accuracy: 0.4781 - val_loss: 0.1734 - val_accuracy: 0.4895\n",
            "Epoch 61/100\n",
            "115/115 - 0s - loss: 0.2075 - accuracy: 0.4747 - val_loss: 0.1727 - val_accuracy: 0.4860\n",
            "Epoch 62/100\n",
            "115/115 - 0s - loss: 0.2255 - accuracy: 0.4694 - val_loss: 0.1610 - val_accuracy: 0.4895\n",
            "Epoch 63/100\n",
            "115/115 - 0s - loss: 0.2100 - accuracy: 0.4764 - val_loss: 0.1670 - val_accuracy: 0.4895\n",
            "Epoch 64/100\n",
            "115/115 - 0s - loss: 0.2081 - accuracy: 0.4729 - val_loss: 0.1604 - val_accuracy: 0.4860\n",
            "Epoch 65/100\n",
            "115/115 - 0s - loss: 0.2119 - accuracy: 0.4720 - val_loss: 0.1673 - val_accuracy: 0.4860\n",
            "Epoch 66/100\n",
            "115/115 - 0s - loss: 0.2142 - accuracy: 0.4703 - val_loss: 0.1628 - val_accuracy: 0.4895\n",
            "Epoch 67/100\n",
            "115/115 - 0s - loss: 0.1975 - accuracy: 0.4816 - val_loss: 0.1511 - val_accuracy: 0.4860\n",
            "Epoch 68/100\n",
            "115/115 - 0s - loss: 0.1985 - accuracy: 0.4781 - val_loss: 0.1608 - val_accuracy: 0.4860\n",
            "Epoch 69/100\n",
            "115/115 - 0s - loss: 0.2109 - accuracy: 0.4712 - val_loss: 0.1523 - val_accuracy: 0.4895\n",
            "Epoch 70/100\n",
            "115/115 - 0s - loss: 0.2045 - accuracy: 0.4703 - val_loss: 0.1569 - val_accuracy: 0.4895\n",
            "Epoch 71/100\n",
            "115/115 - 0s - loss: 0.2060 - accuracy: 0.4712 - val_loss: 0.1589 - val_accuracy: 0.4895\n",
            "Epoch 72/100\n",
            "115/115 - 0s - loss: 0.1963 - accuracy: 0.4703 - val_loss: 0.1498 - val_accuracy: 0.4825\n",
            "Epoch 73/100\n",
            "115/115 - 0s - loss: 0.2060 - accuracy: 0.4624 - val_loss: 0.1643 - val_accuracy: 0.4825\n",
            "Epoch 74/100\n",
            "115/115 - 0s - loss: 0.2089 - accuracy: 0.4659 - val_loss: 0.1610 - val_accuracy: 0.4790\n",
            "Epoch 75/100\n",
            "115/115 - 0s - loss: 0.1931 - accuracy: 0.4677 - val_loss: 0.1548 - val_accuracy: 0.4825\n",
            "Epoch 76/100\n",
            "115/115 - 0s - loss: 0.1978 - accuracy: 0.4642 - val_loss: 0.1511 - val_accuracy: 0.4825\n",
            "Epoch 77/100\n",
            "115/115 - 0s - loss: 0.1875 - accuracy: 0.4685 - val_loss: 0.1529 - val_accuracy: 0.4790\n",
            "Epoch 78/100\n",
            "115/115 - 0s - loss: 0.1970 - accuracy: 0.4685 - val_loss: 0.1563 - val_accuracy: 0.4825\n",
            "Epoch 79/100\n",
            "115/115 - 0s - loss: 0.1765 - accuracy: 0.4694 - val_loss: 0.1480 - val_accuracy: 0.4790\n",
            "Epoch 80/100\n",
            "115/115 - 0s - loss: 0.1817 - accuracy: 0.4694 - val_loss: 0.1439 - val_accuracy: 0.4790\n",
            "Epoch 81/100\n",
            "115/115 - 0s - loss: 0.1866 - accuracy: 0.4642 - val_loss: 0.1494 - val_accuracy: 0.4860\n",
            "Epoch 82/100\n",
            "115/115 - 0s - loss: 0.1748 - accuracy: 0.4747 - val_loss: 0.1301 - val_accuracy: 0.4825\n",
            "Epoch 83/100\n",
            "115/115 - 0s - loss: 0.1926 - accuracy: 0.4624 - val_loss: 0.1354 - val_accuracy: 0.4860\n",
            "Epoch 84/100\n",
            "115/115 - 0s - loss: 0.1753 - accuracy: 0.4677 - val_loss: 0.1292 - val_accuracy: 0.4860\n",
            "Epoch 85/100\n",
            "115/115 - 0s - loss: 0.1866 - accuracy: 0.4598 - val_loss: 0.1422 - val_accuracy: 0.4860\n",
            "Epoch 86/100\n",
            "115/115 - 0s - loss: 0.1755 - accuracy: 0.4677 - val_loss: 0.1387 - val_accuracy: 0.4790\n",
            "Epoch 87/100\n",
            "115/115 - 0s - loss: 0.1868 - accuracy: 0.4607 - val_loss: 0.1359 - val_accuracy: 0.4860\n",
            "Epoch 88/100\n",
            "115/115 - 0s - loss: 0.1718 - accuracy: 0.4694 - val_loss: 0.1322 - val_accuracy: 0.4860\n",
            "Epoch 89/100\n",
            "115/115 - 0s - loss: 0.1648 - accuracy: 0.4720 - val_loss: 0.1269 - val_accuracy: 0.4860\n",
            "Epoch 90/100\n",
            "115/115 - 0s - loss: 0.1694 - accuracy: 0.4677 - val_loss: 0.1393 - val_accuracy: 0.4825\n",
            "Epoch 91/100\n",
            "115/115 - 0s - loss: 0.1724 - accuracy: 0.4685 - val_loss: 0.1317 - val_accuracy: 0.4895\n",
            "Epoch 92/100\n",
            "115/115 - 0s - loss: 0.1781 - accuracy: 0.4633 - val_loss: 0.1215 - val_accuracy: 0.4860\n",
            "Epoch 93/100\n",
            "115/115 - 0s - loss: 0.1759 - accuracy: 0.4633 - val_loss: 0.1272 - val_accuracy: 0.4860\n",
            "Epoch 94/100\n",
            "115/115 - 0s - loss: 0.1641 - accuracy: 0.4729 - val_loss: 0.1297 - val_accuracy: 0.4860\n",
            "Epoch 95/100\n",
            "115/115 - 0s - loss: 0.1722 - accuracy: 0.4668 - val_loss: 0.1298 - val_accuracy: 0.4895\n",
            "Epoch 96/100\n",
            "115/115 - 0s - loss: 0.1680 - accuracy: 0.4668 - val_loss: 0.1222 - val_accuracy: 0.4895\n",
            "Epoch 97/100\n",
            "115/115 - 0s - loss: 0.1753 - accuracy: 0.4694 - val_loss: 0.1371 - val_accuracy: 0.4860\n",
            "Epoch 98/100\n",
            "115/115 - 0s - loss: 0.1750 - accuracy: 0.4633 - val_loss: 0.1343 - val_accuracy: 0.4860\n",
            "Epoch 99/100\n",
            "115/115 - 0s - loss: 0.1653 - accuracy: 0.4694 - val_loss: 0.1232 - val_accuracy: 0.4895\n",
            "Epoch 100/100\n",
            "115/115 - 0s - loss: 0.1601 - accuracy: 0.4685 - val_loss: 0.1386 - val_accuracy: 0.4895\n"
          ]
        }
      ]
    },
    {
      "cell_type": "code",
      "metadata": {
        "colab": {
          "base_uri": "https://localhost:8080/"
        },
        "id": "Q5A7PlKtSkE8",
        "outputId": "b8a35d96-76e1-4af9-85d6-91fd33527379"
      },
      "source": [
        "model.summary()"
      ],
      "execution_count": 44,
      "outputs": [
        {
          "output_type": "stream",
          "name": "stdout",
          "text": [
            "Model: \"sequential\"\n",
            "_________________________________________________________________\n",
            "Layer (type)                 Output Shape              Param #   \n",
            "=================================================================\n",
            "dense (Dense)                (None, 32)                224       \n",
            "_________________________________________________________________\n",
            "dense_1 (Dense)              (None, 10)                330       \n",
            "_________________________________________________________________\n",
            "dropout (Dropout)            (None, 10)                0         \n",
            "_________________________________________________________________\n",
            "dense_2 (Dense)              (None, 1)                 11        \n",
            "=================================================================\n",
            "Total params: 565\n",
            "Trainable params: 565\n",
            "Non-trainable params: 0\n",
            "_________________________________________________________________\n"
          ]
        }
      ]
    },
    {
      "cell_type": "code",
      "metadata": {
        "id": "iv-hLLV_IreO"
      },
      "source": [
        "# Contoh model architecture plot\n",
        "from tensorflow.keras.utils import plot_model"
      ],
      "execution_count": 45,
      "outputs": []
    },
    {
      "cell_type": "code",
      "metadata": {
        "colab": {
          "base_uri": "https://localhost:8080/",
          "height": 533
        },
        "id": "cLhJjMY3FBPe",
        "outputId": "97972ede-d807-4366-b9ca-f02a97a24779"
      },
      "source": [
        "# summarize model 1\n",
        "plot_model(model, 'model_summary.png', show_shapes=True)"
      ],
      "execution_count": 46,
      "outputs": [
        {
          "output_type": "execute_result",
          "data": {
            "image/png": "[encoded data removed]",
            "text/plain": [
              "<IPython.core.display.Image object>"
            ]
          },
          "metadata": {},
          "execution_count": 46
        }
      ]
    },
    {
      "cell_type": "code",
      "metadata": {
        "colab": {
          "base_uri": "https://localhost:8080/"
        },
        "id": "qG3fy-IYF74r",
        "outputId": "490826c8-6a7d-4c56-d046-d7651a8a0854"
      },
      "source": [
        "model.evaluate(X_test_ANN, y_test_ANN, verbose=1)"
      ],
      "execution_count": 47,
      "outputs": [
        {
          "output_type": "stream",
          "name": "stdout",
          "text": [
            "12/12 [==============================] - 0s 1ms/step - loss: 0.1402 - accuracy: 0.5196\n"
          ]
        },
        {
          "output_type": "execute_result",
          "data": {
            "text/plain": [
              "[0.14015118777751923, 0.5195530652999878]"
            ]
          },
          "metadata": {},
          "execution_count": 47
        }
      ]
    },
    {
      "cell_type": "code",
      "metadata": {
        "id": "iiC5BS1_FSY9"
      },
      "source": [
        "from matplotlib import pyplot\n",
        "# plot learning curves"
      ],
      "execution_count": 48,
      "outputs": []
    },
    {
      "cell_type": "code",
      "metadata": {
        "colab": {
          "base_uri": "https://localhost:8080/",
          "height": 295
        },
        "id": "PWC0aYGQE6Sy",
        "outputId": "36efa4ee-3835-4228-f5f5-63ac9a708711"
      },
      "source": [
        "pyplot.title('Learning Curves')\n",
        "pyplot.xlabel('Epoch')\n",
        "pyplot.ylabel('Accuracy')\n",
        "pyplot.plot(history.history['accuracy'], label='train')\n",
        "pyplot.plot(history.history['val_accuracy'], label='val')\n",
        "pyplot.legend()\n",
        "pyplot.show()"
      ],
      "execution_count": 49,
      "outputs": [
        {
          "output_type": "display_data",
          "data": {
            "image/png": "[encoded data removed]",
            "text/plain": [
              "<Figure size 432x288 with 1 Axes>"
            ]
          },
          "metadata": {
            "needs_background": "light"
          }
        }
      ]
    },
    {
      "cell_type": "code",
      "metadata": {
        "colab": {
          "base_uri": "https://localhost:8080/",
          "height": 295
        },
        "id": "M8HdDsCzFKZr",
        "outputId": "dc42a9ff-fbb3-442d-db08-8b5efd1d1cc1"
      },
      "source": [
        "pyplot.title('Learning Curves')\n",
        "pyplot.xlabel('Epoch')\n",
        "pyplot.ylabel('Loss function')\n",
        "pyplot.plot(history.history['loss'], label='train')\n",
        "pyplot.plot(history.history['val_loss'], label='val')\n",
        "pyplot.legend()\n",
        "pyplot.show()"
      ],
      "execution_count": 50,
      "outputs": [
        {
          "output_type": "display_data",
          "data": {
            "image/png": "[encoded data removed]",
            "text/plain": [
              "<Figure size 432x288 with 1 Axes>"
            ]
          },
          "metadata": {
            "needs_background": "light"
          }
        }
      ]
    },
    {
      "cell_type": "markdown",
      "metadata": {
        "id": "ZVuY2QdwW6dO"
      },
      "source": [
        "## 10. Build Model KNN"
      ]
    },
    {
      "cell_type": "code",
      "metadata": {
        "id": "Myhdcwq1IoAu"
      },
      "source": [
        "#Isi Code\n",
        "import sklearn.metrics as metrics\n",
        "from sklearn.neighbors import KNeighborsClassifier\n",
        "from sklearn.model_selection import train_test_split"
      ],
      "execution_count": 51,
      "outputs": []
    },
    {
      "cell_type": "code",
      "metadata": {
        "colab": {
          "base_uri": "https://localhost:8080/"
        },
        "id": "lMdwF4EprnvP",
        "outputId": "cf191e15-48aa-43c8-dc35-49a8fac0b70c"
      },
      "source": [
        "X_train, X_test, Y_train, Y_test = train_test_split(X_scaled, Y_res, test_size=0.2, random_state=4)\n",
        "print ('Train set:', X_train.shape,  Y_train.shape)\n",
        "print ('Test set:', X_test.shape,  Y_test.shape)"
      ],
      "execution_count": 52,
      "outputs": [
        {
          "output_type": "stream",
          "name": "stdout",
          "text": [
            "Train set: (1430, 6) (1430,)\n",
            "Test set: (358, 6) (358,)\n"
          ]
        }
      ]
    },
    {
      "cell_type": "code",
      "metadata": {
        "id": "Dks_OpdeW9fY"
      },
      "source": [
        "#Isi Code\n",
        "from sklearn.neighbors import KNeighborsClassifier\n",
        "import sklearn.metrics as metrics"
      ],
      "execution_count": 53,
      "outputs": []
    },
    {
      "cell_type": "code",
      "metadata": {
        "colab": {
          "base_uri": "https://localhost:8080/"
        },
        "id": "e49w2ecXy4EI",
        "outputId": "e8d0cb08-846c-4ae5-e7a0-fb944a65d7dd"
      },
      "source": [
        "Ks = 50\n",
        "mean_acc_norm = np.zeros((Ks))\n",
        "\n",
        "for n in range(1,Ks+1):\n",
        "    \n",
        "    #Train Model and Predict  \n",
        "    neigh = KNeighborsClassifier(n_neighbors = n).fit(X_train,Y_train) #buat model\n",
        "    yhat_1 = neigh.predict(X_test) #memprediksi\n",
        "    mean_acc_norm[n-1] = metrics.accuracy_score(Y_test, yhat_1)\n",
        "\n",
        "print( \"The best accuracy was with\", max(mean_acc_norm))"
      ],
      "execution_count": 54,
      "outputs": [
        {
          "output_type": "stream",
          "name": "stdout",
          "text": [
            "The best accuracy was with 0.9720670391061452\n"
          ]
        }
      ]
    },
    {
      "cell_type": "code",
      "metadata": {
        "colab": {
          "base_uri": "https://localhost:8080/",
          "height": 334
        },
        "id": "dLpUSfJD-dYU",
        "outputId": "9b2e5a35-d214-41b3-ca92-c2648961cb41"
      },
      "source": [
        "Ks = 50\n",
        "mean_acc2 =  []\n",
        "mean_acc3 = []\n",
        "\n",
        "for n in range(1,Ks+1):\n",
        "    \n",
        "    #Train Model and Predict  \n",
        "    neigh = KNeighborsClassifier(n_neighbors = n).fit(X_train, Y_train) #buat model\n",
        "    yhat2 = neigh.predict(X_train) #memprediksi\n",
        "    acc2 = metrics.accuracy_score(Y_train, yhat2)\n",
        "    mean_acc2.append(acc2)\n",
        "\n",
        "    #Train Model and Predict  \n",
        "    yhat3 = neigh.predict(X_test) #memprediksi\n",
        "    acc3 = metrics.accuracy_score(Y_test, yhat3)\n",
        "    mean_acc3.append(acc3)\n",
        "\n",
        "\n",
        "# plot of train and test scores vs tree depth\n",
        "fig = plt.figure(figsize =(10, 5))\n",
        "plt.plot(range(1,Ks+1),mean_acc2, '-o', label='Train')\n",
        "plt.plot(range(1,Ks+1),mean_acc3, '-o', label='Test')\n",
        "plt.ylabel('Accuracy ')\n",
        "plt.xlabel('Number of Nabors (K)')\n",
        "plt.legend()\n",
        "plt.show()"
      ],
      "execution_count": 55,
      "outputs": [
        {
          "output_type": "display_data",
          "data": {
            "image/png": "[encoded data removed]",
            "text/plain": [
              "<Figure size 720x360 with 1 Axes>"
            ]
          },
          "metadata": {
            "needs_background": "light"
          }
        }
      ]
    },
    {
      "cell_type": "code",
      "metadata": {
        "colab": {
          "base_uri": "https://localhost:8080/"
        },
        "id": "dZ-iY6FflPv9",
        "outputId": "eb9f258b-f733-425e-e384-4512608a752b"
      },
      "source": [
        "X_train2, X_test2, Y_train2, Y_test2 = train_test_split(X_std, Y_res, test_size=0.2, random_state=4)\n",
        "print ('Train set:', X_train2.shape,  Y_train2.shape)\n",
        "print ('Test set:', X_test2.shape,  Y_test2.shape)"
      ],
      "execution_count": 56,
      "outputs": [
        {
          "output_type": "stream",
          "name": "stdout",
          "text": [
            "Train set: (1430, 6) (1430,)\n",
            "Test set: (358, 6) (358,)\n"
          ]
        }
      ]
    },
    {
      "cell_type": "code",
      "metadata": {
        "colab": {
          "base_uri": "https://localhost:8080/"
        },
        "id": "76k57x30zH0t",
        "outputId": "2ef03a62-fb5b-4167-b13a-b1be4de23577"
      },
      "source": [
        "Ks = 50\n",
        "mean_acc_norm2 = np.zeros((Ks))\n",
        "\n",
        "for n in range(1,Ks+1):\n",
        "    \n",
        "    #Train Model and Predict  \n",
        "    neigh2 = KNeighborsClassifier(n_neighbors = n).fit(X_train2,Y_train2) #buat model\n",
        "    yhat_2 = neigh2.predict(X_test2) #memprediksi\n",
        "    mean_acc_norm2[n-1] = metrics.accuracy_score(Y_test2, yhat_2)\n",
        "\n",
        "print( \"The best accuracy was with\", max(mean_acc_norm2))"
      ],
      "execution_count": 57,
      "outputs": [
        {
          "output_type": "stream",
          "name": "stdout",
          "text": [
            "The best accuracy was with 0.9692737430167597\n"
          ]
        }
      ]
    },
    {
      "cell_type": "code",
      "metadata": {
        "colab": {
          "base_uri": "https://localhost:8080/",
          "height": 334
        },
        "id": "CLVguSHhzZqH",
        "outputId": "b9d942e0-6f98-4aea-f60d-8bf68dbb7029"
      },
      "source": [
        "Ks = 50\n",
        "mean_acc4 =  []\n",
        "mean_acc5 = []\n",
        "\n",
        "for n in range(1,Ks+1):\n",
        "    \n",
        "    #Train Model and Predict  \n",
        "    neigh = KNeighborsClassifier(n_neighbors = n).fit(X_train2, Y_train2) #buat model\n",
        "    yhat4 = neigh.predict(X_train2) #memprediksi\n",
        "    acc4 = metrics.accuracy_score(Y_train2, yhat4)\n",
        "    mean_acc4.append(acc4)\n",
        "\n",
        "    #Train Model and Predict  \n",
        "    yhat5 = neigh.predict(X_test2) #memprediksi\n",
        "    acc5 = metrics.accuracy_score(Y_test2, yhat5)\n",
        "    mean_acc5.append(acc5)\n",
        "\n",
        "\n",
        "# plot of train and test scores vs tree depth\n",
        "fig = plt.figure(figsize =(10, 5))\n",
        "plt.plot(range(1,Ks+1),mean_acc4, '-o', label='Train')\n",
        "plt.plot(range(1,Ks+1),mean_acc5, '-o', label='Test')\n",
        "plt.ylabel('Accuracy ')\n",
        "plt.xlabel('Number of Nabors (K)')\n",
        "plt.legend()\n",
        "plt.show()"
      ],
      "execution_count": 58,
      "outputs": [
        {
          "output_type": "display_data",
          "data": {
            "image/png": "[encoded data removed]",
            "text/plain": [
              "<Figure size 720x360 with 1 Axes>"
            ]
          },
          "metadata": {
            "needs_background": "light"
          }
        }
      ]
    }
  ]
}